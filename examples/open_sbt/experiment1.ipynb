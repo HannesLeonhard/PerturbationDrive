{
 "cells": [
  {
   "cell_type": "markdown",
   "metadata": {},
   "source": [
    "### Notebook to run initial experiments on perturbation drive framework using OpenSBT with the NSGAI2 algorithm"
   ]
  },
  {
   "cell_type": "code",
   "execution_count": 1,
   "metadata": {},
   "outputs": [
    {
     "data": {
      "text/plain": [
       "'/Users/hannesleonhard/Documents/BachelorWInfo/Robustness-SDC/PerturbationDrive'"
      ]
     },
     "execution_count": 1,
     "metadata": {},
     "output_type": "execute_result"
    }
   ],
   "source": [
    "# change working directory to the '/Users/hannesleonhard/Documents/BachelorWInfo/Robustness-SDC/PerturbationDrive/'\n",
    "import os\n",
    "os.chdir('/Users/hannesleonhard/Documents/BachelorWInfo/Robustness-SDC/PerturbationDrive/')\n",
    "os.getcwd()"
   ]
  },
  {
   "cell_type": "code",
   "execution_count": 2,
   "metadata": {},
   "outputs": [
    {
     "name": "stderr",
     "output_type": "stream",
     "text": [
      "/Users/hannesleonhard/micromamba/envs/donkey_opensbt/lib/python3.9/site-packages/tensorflow_addons/utils/tfa_eol_msg.py:23: UserWarning: \n",
      "\n",
      "TensorFlow Addons (TFA) has ended development and introduction of new features.\n",
      "TFA has entered a minimal maintenance and release mode until a planned end of life in May 2024.\n",
      "Please modify downstream libraries to take dependencies from other repositories in our TensorFlow community (e.g. Keras, Keras-CV, and Keras-NLP). \n",
      "\n",
      "For more information see: https://github.com/tensorflow/addons/issues/2807 \n",
      "\n",
      "  warnings.warn(\n",
      "/Users/hannesleonhard/micromamba/envs/donkey_opensbt/lib/python3.9/site-packages/tensorflow_addons/utils/ensure_tf_install.py:53: UserWarning: Tensorflow Addons supports using Python ops for all Tensorflow versions above or equal to 2.13.0 and strictly below 2.16.0 (nightly versions are not supported). \n",
      " The versions of TensorFlow you are currently using is 2.9.2 and is not supported. \n",
      "Some things might work, some things might not.\n",
      "If you were to encounter a bug, do not file an issue.\n",
      "If you want to make sure you're using a tested and supported configuration, either change the TensorFlow version or the TensorFlow Addons's version. \n",
      "You can find the compatibility matrix in TensorFlow Addon's readme:\n",
      "https://github.com/tensorflow/addons\n",
      "  warnings.warn(\n"
     ]
    },
    {
     "name": "stdout",
     "output_type": "stream",
     "text": [
      "pygame 2.5.2 (SDL 2.28.3, Python 3.9.18)\n",
      "Hello from the pygame community. https://www.pygame.org/contribute.html\n"
     ]
    },
    {
     "name": "stderr",
     "output_type": "stream",
     "text": [
      "\n"
     ]
    }
   ],
   "source": [
    "# import libraries\n",
    "# related to open_sbt\n",
    "from problem.adas_problem import ADASProblem\n",
    "from evaluation.fitness import *\n",
    "from evaluation.critical import *\n",
    "from algorithm.nsga2_optimizer import NsgaIIOptimizer\n",
    "from experiment.search_configuration import DefaultSearchConfiguration\n",
    "\n",
    "from utils import log_utils\n",
    "import argparse\n",
    "from typing import List, Dict, Any, Union\n",
    "import traceback\n",
    "\n",
    "from examples.self_driving_sandbox_donkey.sdsandbox_simulator import SDSandboxSimulator\n",
    "from examples.models.example_agent import ExampleAgent\n",
    "from examples.open_sbt.criticality import FitnessFunction, Criticality\n",
    "from examples.open_sbt.sdsandbox_open_sbt import SDSandBox_OpenSBTWrapper\n",
    "\n",
    "# related to perturbation drive\n",
    "from perturbationdrive import (\n",
    "    PerturbationDrive,\n",
    "    RandomRoadGenerator,\n",
    ")"
   ]
  },
  {
   "cell_type": "markdown",
   "metadata": {},
   "source": [
    "Set up experiment\n",
    "\n",
    "- There are a total of 9 waypoints\n",
    "- The segment length between two waypoints is in the range of [15;35]\n",
    "- The angle between two connection waypoints is in the range of [-20;20]\n",
    "- All perturbation functions are used\n",
    "- In 30 different runs, 6 scenarios each are run, resulting in a total of 180 total scenario simulations"
   ]
  },
  {
   "cell_type": "code",
   "execution_count": 3,
   "metadata": {},
   "outputs": [
    {
     "name": "stderr",
     "output_type": "stream",
     "text": [
      "2024-01-18 10:21:20,322 INFO     Logging setup. Writing to file:  ./log.txt\n",
      "2024-01-18 10:21:20,331 INFO     Running evaluation number 1\n"
     ]
    },
    {
     "name": "stdout",
     "output_type": "stream",
     "text": [
      "\n",
      "Compiled modules for significant speedup can not be used!\n",
      "https://pymoo.org/installation.html#installation\n",
      "\n",
      "To disable this warning:\n",
      "from pymoo.config import Config\n",
      "Config.warnings['not_compiled'] = False\n",
      "\n",
      "Using model: generated_dave_v5\n",
      "INFO:DonkeyProcess:This is the launch string /Users/hannesleonhard/Documents/BachelorWInfo/Robustness-SDC/PerturbationDrive/./examples/self_driving_sandbox_donkey/sim/donkey-sim.app/Contents/MacOS/Simulator\n"
     ]
    },
    {
     "name": "stderr",
     "output_type": "stream",
     "text": [
      "2024-01-18 10:21:20,520 INFO     This is the launch string /Users/hannesleonhard/Documents/BachelorWInfo/Robustness-SDC/PerturbationDrive/./examples/self_driving_sandbox_donkey/sim/donkey-sim.app/Contents/MacOS/Simulator\n"
     ]
    },
    {
     "name": "stdout",
     "output_type": "stream",
     "text": [
      "[UnityMemory] Configuration Parameters - Can be set up in boot.config\n",
      "    \"memorysetup-bucket-allocator-granularity=16\"\n",
      "    \"memorysetup-bucket-allocator-bucket-count=8\"\n",
      "    \"memorysetup-bucket-allocator-block-size=4194304\"\n",
      "    \"memorysetup-bucket-allocator-block-count=1\"\n",
      "    \"memorysetup-main-allocator-block-size=16777216\"\n",
      "    \"memorysetup-thread-allocator-block-size=16777216\"\n",
      "    \"memorysetup-gfx-main-allocator-block-size=16777216\"\n",
      "    \"memorysetup-gfx-thread-allocator-block-size=16777216\"\n",
      "    \"memorysetup-cache-allocator-block-size=4194304\"\n",
      "    \"memorysetup-typetree-allocator-block-size=2097152\"\n",
      "    \"memorysetup-profiler-bucket-allocator-granularity=16\"\n",
      "    \"memorysetup-profiler-bucket-allocator-bucket-count=8\"\n",
      "    \"memorysetup-profiler-bucket-allocator-block-size=4194304\"\n",
      "    \"memorysetup-profiler-bucket-allocator-block-count=1\"\n",
      "    \"memorysetup-profiler-allocator-block-size=16777216\"\n",
      "    \"memorysetup-profiler-editor-allocator-block-size=1048576\"\n",
      "    \"memorysetup-temp-allocator-size-main=4194304\"\n",
      "    \"memorysetup-job-temp-allocator-block-size=2097152\"\n",
      "    \"memorysetup-job-temp-allocator-block-size-background=1048576\"\n",
      "    \"memorysetup-job-temp-allocator-reduction-small-platforms=262144\"\n",
      "    \"memorysetup-allocator-temp-initial-block-size-main=262144\"\n",
      "    \"memorysetup-allocator-temp-initial-block-size-worker=262144\"\n",
      "    \"memorysetup-temp-allocator-size-background-worker=32768\"\n",
      "    \"memorysetup-temp-allocator-size-job-worker=262144\"\n",
      "    \"memorysetup-temp-allocator-size-preload-manager=262144\"\n",
      "    \"memorysetup-temp-allocator-size-nav-mesh-worker=65536\"\n",
      "    \"memorysetup-temp-allocator-size-audio-worker=65536\"\n",
      "    \"memorysetup-temp-allocator-size-cloud-worker=32768\"\n",
      "    \"memorysetup-temp-allocator-size-gfx=262144\"\n",
      "INFO:DonkeyProcess:donkey subprocess started\n"
     ]
    },
    {
     "name": "stderr",
     "output_type": "stream",
     "text": [
      "2024-01-18 10:21:40,539 INFO     donkey subprocess started\n"
     ]
    },
    {
     "name": "stdout",
     "output_type": "stream",
     "text": [
      "INFO:SDSandBoxSimulator:Waiting for inital obs\n"
     ]
    },
    {
     "name": "stderr",
     "output_type": "stream",
     "text": [
      "2024-01-18 10:21:41,388 INFO     Waiting for inital obs\n"
     ]
    },
    {
     "name": "stdout",
     "output_type": "stream",
     "text": [
      "INFO:SDSandBoxSimulator:Waiting for inital obs\n"
     ]
    },
    {
     "name": "stderr",
     "output_type": "stream",
     "text": [
      "2024-01-18 10:21:41,430 INFO     Waiting for inital obs\n"
     ]
    },
    {
     "name": "stdout",
     "output_type": "stream",
     "text": [
      "INFO:SDSandBoxSimulator:Waiting for inital obs\n"
     ]
    },
    {
     "name": "stderr",
     "output_type": "stream",
     "text": [
      "2024-01-18 10:21:41,470 INFO     Waiting for inital obs\n"
     ]
    },
    {
     "name": "stdout",
     "output_type": "stream",
     "text": [
      "INFO:SDSandBoxSimulator:Waiting for inital obs\n"
     ]
    },
    {
     "name": "stderr",
     "output_type": "stream",
     "text": [
      "2024-01-18 10:21:41,512 INFO     Waiting for inital obs\n"
     ]
    },
    {
     "name": "stdout",
     "output_type": "stream",
     "text": [
      "INFO:SDSandBoxSimulator:Waiting for inital obs\n"
     ]
    },
    {
     "name": "stderr",
     "output_type": "stream",
     "text": [
      "2024-01-18 10:21:41,554 INFO     Waiting for inital obs\n"
     ]
    },
    {
     "name": "stdout",
     "output_type": "stream",
     "text": [
      "INFO:SDSandBoxSimulator:Waiting for inital obs\n"
     ]
    },
    {
     "name": "stderr",
     "output_type": "stream",
     "text": [
      "2024-01-18 10:21:41,596 INFO     Waiting for inital obs\n"
     ]
    },
    {
     "name": "stdout",
     "output_type": "stream",
     "text": [
      "INFO:SDSandBoxSimulator:Waiting for inital obs\n"
     ]
    },
    {
     "name": "stderr",
     "output_type": "stream",
     "text": [
      "2024-01-18 10:21:41,638 INFO     Waiting for inital obs\n"
     ]
    },
    {
     "name": "stdout",
     "output_type": "stream",
     "text": [
      "INFO:SDSandBoxSimulator:Waiting for inital obs\n"
     ]
    },
    {
     "name": "stderr",
     "output_type": "stream",
     "text": [
      "2024-01-18 10:21:41,680 INFO     Waiting for inital obs\n"
     ]
    },
    {
     "name": "stdout",
     "output_type": "stream",
     "text": [
      "INFO:SDSandBoxSimulator:Waiting for inital obs\n"
     ]
    },
    {
     "name": "stderr",
     "output_type": "stream",
     "text": [
      "2024-01-18 10:21:41,722 INFO     Waiting for inital obs\n"
     ]
    },
    {
     "name": "stdout",
     "output_type": "stream",
     "text": [
      "INFO:DonkeySimMsgHandler:DonkeySimMsgHandler: ----- Car Created With Data {'msg_type': 'car_loaded'} -----\n"
     ]
    },
    {
     "name": "stderr",
     "output_type": "stream",
     "text": [
      "2024-01-18 10:21:41,741 INFO     DonkeySimMsgHandler: ----- Car Created With Data {'msg_type': 'car_loaded'} -----\n"
     ]
    },
    {
     "name": "stdout",
     "output_type": "stream",
     "text": [
      "INFO:SDSandBoxSimulator:Waiting for inital obs\n"
     ]
    },
    {
     "name": "stderr",
     "output_type": "stream",
     "text": [
      "2024-01-18 10:21:41,764 INFO     Waiting for inital obs\n"
     ]
    },
    {
     "name": "stdout",
     "output_type": "stream",
     "text": [
      "INFO:SDSandBoxSimulator:Waiting for inital obs\n"
     ]
    },
    {
     "name": "stderr",
     "output_type": "stream",
     "text": [
      "2024-01-18 10:21:41,811 INFO     Waiting for inital obs\n"
     ]
    },
    {
     "name": "stdout",
     "output_type": "stream",
     "text": [
      "INFO:SDSandBoxSimulator:Waiting for inital obs\n"
     ]
    },
    {
     "name": "stderr",
     "output_type": "stream",
     "text": [
      "2024-01-18 10:21:41,857 INFO     Waiting for inital obs\n",
      "2024-01-18 10:21:41,911 INFO     Exception during simulation ocurred: \n"
     ]
    },
    {
     "name": "stdout",
     "output_type": "stream",
     "text": [
      "Started Road Generation\n",
      "Road Instance 0, angle: 0, 25: [(47.99980999999999, 24.96891, 0.5995989, 4.0), (47.99981, 49.96891, 0.5995989, 4.0), (48.436120160932084, 74.96510237890979, 0.5995989, 4.0)]\n",
      "Road Instance 1, angle: -11, 25: [(47.99980999999999, 24.96891, 0.5995989, 4.0), (47.99981, 49.96891, 0.5995989, 4.0), (48.436120160932084, 74.96510237890979, 0.5995989, 4.0), (53.63391243137607, 99.41879239725493, 0.5995989, 4.0)]\n",
      "Road Instance 2, angle: 4, 25: [(47.99980999999999, 24.96891, 0.5995989, 4.0), (47.99981, 49.96891, 0.5995989, 4.0), (48.436120160932084, 74.96510237890979, 0.5995989, 4.0), (53.63391243137607, 99.41879239725493, 0.5995989, 4.0), (57.11323995537771, 124.1754941157942, 0.5995989, 4.0)]\n",
      "Road Instance 3, angle: 16, 25: [(47.99980999999999, 24.96891, 0.5995989, 4.0), (47.99981, 49.96891, 0.5995989, 4.0), (48.436120160932084, 74.96510237890979, 0.5995989, 4.0), (53.63391243137607, 99.41879239725493, 0.5995989, 4.0), (57.11323995537771, 124.1754941157942, 0.5995989, 4.0), (53.633912431376075, 148.93219583433344, 0.5995989, 4.0)]\n",
      "Road Instance 4, angle: 18, 25: [(47.99980999999999, 24.96891, 0.5995989, 4.0), (47.99981, 49.96891, 0.5995989, 4.0), (48.436120160932084, 74.96510237890979, 0.5995989, 4.0), (53.63391243137607, 99.41879239725493, 0.5995989, 4.0), (57.11323995537771, 124.1754941157942, 0.5995989, 4.0), (53.633912431376075, 148.93219583433344, 0.5995989, 4.0), (42.67463376164913, 171.40204699181263, 0.5995989, 4.0)]\n",
      "Road Instance 5, angle: 14, 25: [(47.99980999999999, 24.96891, 0.5995989, 4.0), (47.99981, 49.96891, 0.5995989, 4.0), (48.436120160932084, 74.96510237890979, 0.5995989, 4.0), (53.63391243137607, 99.41879239725493, 0.5995989, 4.0), (57.11323995537771, 124.1754941157942, 0.5995989, 4.0), (53.633912431376075, 148.93219583433344, 0.5995989, 4.0), (42.67463376164913, 171.40204699181263, 0.5995989, 4.0), (26.604943519485648, 190.5531580697871, 0.5995989, 4.0)]\n",
      "finished road generation\n"
     ]
    },
    {
     "ename": "KeyError",
     "evalue": "15",
     "output_type": "error",
     "traceback": [
      "\u001b[0;31m---------------------------------------------------------------------------\u001b[0m",
      "\u001b[0;31mKeyError\u001b[0m                                  Traceback (most recent call last)",
      "Cell \u001b[0;32mIn[3], line 41\u001b[0m\n\u001b[1;32m     39\u001b[0m optimizer \u001b[38;5;241m=\u001b[39m NsgaIIOptimizer(problem\u001b[38;5;241m=\u001b[39mproblem, config\u001b[38;5;241m=\u001b[39mconfig)\n\u001b[1;32m     40\u001b[0m \u001b[38;5;66;03m# Run search\u001b[39;00m\n\u001b[0;32m---> 41\u001b[0m res \u001b[38;5;241m=\u001b[39m \u001b[43moptimizer\u001b[49m\u001b[38;5;241;43m.\u001b[39;49m\u001b[43mrun\u001b[49m\u001b[43m(\u001b[49m\u001b[43m)\u001b[49m\n",
      "File \u001b[0;32m~/micromamba/envs/donkey_opensbt/lib/python3.9/site-packages/algorithm/optimizer.py:20\u001b[0m, in \u001b[0;36mOptimizer.run\u001b[0;34m(self)\u001b[0m\n\u001b[1;32m     19\u001b[0m \u001b[38;5;28;01mdef\u001b[39;00m \u001b[38;5;21mrun\u001b[39m(\u001b[38;5;28mself\u001b[39m) \u001b[38;5;241m-\u001b[39m\u001b[38;5;241m>\u001b[39m SimulationResult:\n\u001b[0;32m---> 20\u001b[0m     \u001b[38;5;28;01mreturn\u001b[39;00m \u001b[43mminimize\u001b[49m\u001b[43m(\u001b[49m\u001b[38;5;28;43mself\u001b[39;49m\u001b[38;5;241;43m.\u001b[39;49m\u001b[43mproblem\u001b[49m\u001b[43m,\u001b[49m\n\u001b[1;32m     21\u001b[0m \u001b[43m            \u001b[49m\u001b[38;5;28;43mself\u001b[39;49m\u001b[38;5;241;43m.\u001b[39;49m\u001b[43malgorithm\u001b[49m\u001b[43m,\u001b[49m\n\u001b[1;32m     22\u001b[0m \u001b[43m            \u001b[49m\u001b[38;5;28;43mself\u001b[39;49m\u001b[38;5;241;43m.\u001b[39;49m\u001b[43mtermination\u001b[49m\u001b[43m,\u001b[49m\n\u001b[1;32m     23\u001b[0m \u001b[43m            \u001b[49m\u001b[43msave_history\u001b[49m\u001b[38;5;241;43m=\u001b[39;49m\u001b[38;5;28;43mself\u001b[39;49m\u001b[38;5;241;43m.\u001b[39;49m\u001b[43msave_history\u001b[49m\u001b[43m,\u001b[49m\n\u001b[1;32m     24\u001b[0m \u001b[43m            \u001b[49m\u001b[43mverbose\u001b[49m\u001b[38;5;241;43m=\u001b[39;49m\u001b[38;5;28;43;01mTrue\u001b[39;49;00m\u001b[43m)\u001b[49m\n",
      "File \u001b[0;32m~/micromamba/envs/donkey_opensbt/lib/python3.9/site-packages/pymoo/optimize.py:67\u001b[0m, in \u001b[0;36mminimize\u001b[0;34m(problem, algorithm, termination, copy_algorithm, copy_termination, **kwargs)\u001b[0m\n\u001b[1;32m     64\u001b[0m     algorithm\u001b[38;5;241m.\u001b[39msetup(problem, \u001b[38;5;241m*\u001b[39m\u001b[38;5;241m*\u001b[39mkwargs)\n\u001b[1;32m     66\u001b[0m \u001b[38;5;66;03m# actually execute the algorithm\u001b[39;00m\n\u001b[0;32m---> 67\u001b[0m res \u001b[38;5;241m=\u001b[39m \u001b[43malgorithm\u001b[49m\u001b[38;5;241;43m.\u001b[39;49m\u001b[43mrun\u001b[49m\u001b[43m(\u001b[49m\u001b[43m)\u001b[49m\n\u001b[1;32m     69\u001b[0m \u001b[38;5;66;03m# store the deep copied algorithm in the result object\u001b[39;00m\n\u001b[1;32m     70\u001b[0m res\u001b[38;5;241m.\u001b[39malgorithm \u001b[38;5;241m=\u001b[39m algorithm\n",
      "File \u001b[0;32m~/micromamba/envs/donkey_opensbt/lib/python3.9/site-packages/pymoo/core/algorithm.py:141\u001b[0m, in \u001b[0;36mAlgorithm.run\u001b[0;34m(self)\u001b[0m\n\u001b[1;32m    139\u001b[0m \u001b[38;5;28;01mdef\u001b[39;00m \u001b[38;5;21mrun\u001b[39m(\u001b[38;5;28mself\u001b[39m):\n\u001b[1;32m    140\u001b[0m     \u001b[38;5;28;01mwhile\u001b[39;00m \u001b[38;5;28mself\u001b[39m\u001b[38;5;241m.\u001b[39mhas_next():\n\u001b[0;32m--> 141\u001b[0m         \u001b[38;5;28;43mself\u001b[39;49m\u001b[38;5;241;43m.\u001b[39;49m\u001b[43mnext\u001b[49m\u001b[43m(\u001b[49m\u001b[43m)\u001b[49m\n\u001b[1;32m    142\u001b[0m     \u001b[38;5;28;01mreturn\u001b[39;00m \u001b[38;5;28mself\u001b[39m\u001b[38;5;241m.\u001b[39mresult()\n",
      "File \u001b[0;32m~/micromamba/envs/donkey_opensbt/lib/python3.9/site-packages/pymoo/core/algorithm.py:161\u001b[0m, in \u001b[0;36mAlgorithm.next\u001b[0;34m(self)\u001b[0m\n\u001b[1;32m    159\u001b[0m \u001b[38;5;66;03m# call the advance with them after evaluation\u001b[39;00m\n\u001b[1;32m    160\u001b[0m \u001b[38;5;28;01mif\u001b[39;00m infills \u001b[38;5;129;01mis\u001b[39;00m \u001b[38;5;129;01mnot\u001b[39;00m \u001b[38;5;28;01mNone\u001b[39;00m:\n\u001b[0;32m--> 161\u001b[0m     \u001b[38;5;28;43mself\u001b[39;49m\u001b[38;5;241;43m.\u001b[39;49m\u001b[43mevaluator\u001b[49m\u001b[38;5;241;43m.\u001b[39;49m\u001b[43meval\u001b[49m\u001b[43m(\u001b[49m\u001b[38;5;28;43mself\u001b[39;49m\u001b[38;5;241;43m.\u001b[39;49m\u001b[43mproblem\u001b[49m\u001b[43m,\u001b[49m\u001b[43m \u001b[49m\u001b[43minfills\u001b[49m\u001b[43m,\u001b[49m\u001b[43m \u001b[49m\u001b[43malgorithm\u001b[49m\u001b[38;5;241;43m=\u001b[39;49m\u001b[38;5;28;43mself\u001b[39;49m\u001b[43m)\u001b[49m\n\u001b[1;32m    162\u001b[0m     \u001b[38;5;28mself\u001b[39m\u001b[38;5;241m.\u001b[39madvance(infills\u001b[38;5;241m=\u001b[39minfills)\n\u001b[1;32m    164\u001b[0m \u001b[38;5;66;03m# if the algorithm does not follow the infill-advance scheme just call advance\u001b[39;00m\n\u001b[1;32m    165\u001b[0m \u001b[38;5;28;01melse\u001b[39;00m:\n",
      "File \u001b[0;32m~/micromamba/envs/donkey_opensbt/lib/python3.9/site-packages/pymoo/core/evaluator.py:69\u001b[0m, in \u001b[0;36mEvaluator.eval\u001b[0;34m(self, problem, pop, skip_already_evaluated, evaluate_values_of, count_evals, **kwargs)\u001b[0m\n\u001b[1;32m     65\u001b[0m \u001b[38;5;66;03m# evaluate the solutions (if there are any)\u001b[39;00m\n\u001b[1;32m     66\u001b[0m \u001b[38;5;28;01mif\u001b[39;00m \u001b[38;5;28mlen\u001b[39m(I) \u001b[38;5;241m>\u001b[39m \u001b[38;5;241m0\u001b[39m:\n\u001b[1;32m     67\u001b[0m \n\u001b[1;32m     68\u001b[0m     \u001b[38;5;66;03m# do the actual evaluation - call the sub-function to set the corresponding values to the population\u001b[39;00m\n\u001b[0;32m---> 69\u001b[0m     \u001b[38;5;28;43mself\u001b[39;49m\u001b[38;5;241;43m.\u001b[39;49m\u001b[43m_eval\u001b[49m\u001b[43m(\u001b[49m\u001b[43mproblem\u001b[49m\u001b[43m,\u001b[49m\u001b[43m \u001b[49m\u001b[43mpop\u001b[49m\u001b[43m[\u001b[49m\u001b[43mI\u001b[49m\u001b[43m]\u001b[49m\u001b[43m,\u001b[49m\u001b[43m \u001b[49m\u001b[43mevaluate_values_of\u001b[49m\u001b[43m,\u001b[49m\u001b[43m \u001b[49m\u001b[38;5;241;43m*\u001b[39;49m\u001b[38;5;241;43m*\u001b[39;49m\u001b[43mkwargs\u001b[49m\u001b[43m)\u001b[49m\n\u001b[1;32m     71\u001b[0m \u001b[38;5;66;03m# update the function evaluation counter\u001b[39;00m\n\u001b[1;32m     72\u001b[0m \u001b[38;5;28;01mif\u001b[39;00m count_evals:\n",
      "File \u001b[0;32m~/micromamba/envs/donkey_opensbt/lib/python3.9/site-packages/pymoo/core/evaluator.py:90\u001b[0m, in \u001b[0;36mEvaluator._eval\u001b[0;34m(self, problem, pop, evaluate_values_of, **kwargs)\u001b[0m\n\u001b[1;32m     87\u001b[0m X \u001b[38;5;241m=\u001b[39m pop\u001b[38;5;241m.\u001b[39mget(\u001b[38;5;124m\"\u001b[39m\u001b[38;5;124mX\u001b[39m\u001b[38;5;124m\"\u001b[39m)\n\u001b[1;32m     89\u001b[0m \u001b[38;5;66;03m# call the problem to evaluate the solutions\u001b[39;00m\n\u001b[0;32m---> 90\u001b[0m out \u001b[38;5;241m=\u001b[39m \u001b[43mproblem\u001b[49m\u001b[38;5;241;43m.\u001b[39;49m\u001b[43mevaluate\u001b[49m\u001b[43m(\u001b[49m\u001b[43mX\u001b[49m\u001b[43m,\u001b[49m\u001b[43m \u001b[49m\u001b[43mreturn_values_of\u001b[49m\u001b[38;5;241;43m=\u001b[39;49m\u001b[43mevaluate_values_of\u001b[49m\u001b[43m,\u001b[49m\u001b[43m \u001b[49m\u001b[43mreturn_as_dictionary\u001b[49m\u001b[38;5;241;43m=\u001b[39;49m\u001b[38;5;28;43;01mTrue\u001b[39;49;00m\u001b[43m,\u001b[49m\u001b[43m \u001b[49m\u001b[38;5;241;43m*\u001b[39;49m\u001b[38;5;241;43m*\u001b[39;49m\u001b[43mkwargs\u001b[49m\u001b[43m)\u001b[49m\n\u001b[1;32m     92\u001b[0m \u001b[38;5;66;03m# for each of the attributes set it to the problem\u001b[39;00m\n\u001b[1;32m     93\u001b[0m \u001b[38;5;28;01mfor\u001b[39;00m key, val \u001b[38;5;129;01min\u001b[39;00m out\u001b[38;5;241m.\u001b[39mitems():\n",
      "File \u001b[0;32m~/micromamba/envs/donkey_opensbt/lib/python3.9/site-packages/pymoo/core/problem.py:187\u001b[0m, in \u001b[0;36mProblem.evaluate\u001b[0;34m(self, X, return_values_of, return_as_dictionary, *args, **kwargs)\u001b[0m\n\u001b[1;32m    184\u001b[0m     only_single_value \u001b[38;5;241m=\u001b[39m \u001b[38;5;129;01mnot\u001b[39;00m (\u001b[38;5;28misinstance\u001b[39m(X, \u001b[38;5;28mlist\u001b[39m) \u001b[38;5;129;01mor\u001b[39;00m \u001b[38;5;28misinstance\u001b[39m(X, np\u001b[38;5;241m.\u001b[39mndarray))\n\u001b[1;32m    186\u001b[0m \u001b[38;5;66;03m# this is where the actual evaluation takes place\u001b[39;00m\n\u001b[0;32m--> 187\u001b[0m _out \u001b[38;5;241m=\u001b[39m \u001b[38;5;28;43mself\u001b[39;49m\u001b[38;5;241;43m.\u001b[39;49m\u001b[43mdo\u001b[49m\u001b[43m(\u001b[49m\u001b[43mX\u001b[49m\u001b[43m,\u001b[49m\u001b[43m \u001b[49m\u001b[43mreturn_values_of\u001b[49m\u001b[43m,\u001b[49m\u001b[43m \u001b[49m\u001b[38;5;241;43m*\u001b[39;49m\u001b[43margs\u001b[49m\u001b[43m,\u001b[49m\u001b[43m \u001b[49m\u001b[38;5;241;43m*\u001b[39;49m\u001b[38;5;241;43m*\u001b[39;49m\u001b[43mkwargs\u001b[49m\u001b[43m)\u001b[49m\n\u001b[1;32m    189\u001b[0m out \u001b[38;5;241m=\u001b[39m {}\n\u001b[1;32m    190\u001b[0m \u001b[38;5;28;01mfor\u001b[39;00m k, v \u001b[38;5;129;01min\u001b[39;00m _out\u001b[38;5;241m.\u001b[39mitems():\n\u001b[1;32m    191\u001b[0m \n\u001b[1;32m    192\u001b[0m     \u001b[38;5;66;03m# copy it to a numpy array (it might be one of jax at this point)\u001b[39;00m\n",
      "File \u001b[0;32m~/micromamba/envs/donkey_opensbt/lib/python3.9/site-packages/pymoo/core/problem.py:229\u001b[0m, in \u001b[0;36mProblem.do\u001b[0;34m(self, X, return_values_of, *args, **kwargs)\u001b[0m\n\u001b[1;32m    227\u001b[0m     \u001b[38;5;28mself\u001b[39m\u001b[38;5;241m.\u001b[39m_evaluate_elementwise(X, out, \u001b[38;5;241m*\u001b[39margs, \u001b[38;5;241m*\u001b[39m\u001b[38;5;241m*\u001b[39mkwargs)\n\u001b[1;32m    228\u001b[0m \u001b[38;5;28;01melse\u001b[39;00m:\n\u001b[0;32m--> 229\u001b[0m     \u001b[38;5;28;43mself\u001b[39;49m\u001b[38;5;241;43m.\u001b[39;49m\u001b[43m_evaluate_vectorized\u001b[49m\u001b[43m(\u001b[49m\u001b[43mX\u001b[49m\u001b[43m,\u001b[49m\u001b[43m \u001b[49m\u001b[43mout\u001b[49m\u001b[43m,\u001b[49m\u001b[43m \u001b[49m\u001b[38;5;241;43m*\u001b[39;49m\u001b[43margs\u001b[49m\u001b[43m,\u001b[49m\u001b[43m \u001b[49m\u001b[38;5;241;43m*\u001b[39;49m\u001b[38;5;241;43m*\u001b[39;49m\u001b[43mkwargs\u001b[49m\u001b[43m)\u001b[49m\n\u001b[1;32m    231\u001b[0m \u001b[38;5;66;03m# finally format the output dictionary\u001b[39;00m\n\u001b[1;32m    232\u001b[0m out \u001b[38;5;241m=\u001b[39m \u001b[38;5;28mself\u001b[39m\u001b[38;5;241m.\u001b[39m_format_dict(out, \u001b[38;5;28mlen\u001b[39m(X), return_values_of)\n",
      "File \u001b[0;32m~/micromamba/envs/donkey_opensbt/lib/python3.9/site-packages/pymoo/core/problem.py:237\u001b[0m, in \u001b[0;36mProblem._evaluate_vectorized\u001b[0;34m(self, X, out, *args, **kwargs)\u001b[0m\n\u001b[1;32m    236\u001b[0m \u001b[38;5;28;01mdef\u001b[39;00m \u001b[38;5;21m_evaluate_vectorized\u001b[39m(\u001b[38;5;28mself\u001b[39m, X, out, \u001b[38;5;241m*\u001b[39margs, \u001b[38;5;241m*\u001b[39m\u001b[38;5;241m*\u001b[39mkwargs):\n\u001b[0;32m--> 237\u001b[0m     \u001b[38;5;28;43mself\u001b[39;49m\u001b[38;5;241;43m.\u001b[39;49m\u001b[43m_evaluate\u001b[49m\u001b[43m(\u001b[49m\u001b[43mX\u001b[49m\u001b[43m,\u001b[49m\u001b[43m \u001b[49m\u001b[43mout\u001b[49m\u001b[43m,\u001b[49m\u001b[43m \u001b[49m\u001b[38;5;241;43m*\u001b[39;49m\u001b[43margs\u001b[49m\u001b[43m,\u001b[49m\u001b[43m \u001b[49m\u001b[38;5;241;43m*\u001b[39;49m\u001b[38;5;241;43m*\u001b[39;49m\u001b[43mkwargs\u001b[49m\u001b[43m)\u001b[49m\n",
      "File \u001b[0;32m~/micromamba/envs/donkey_opensbt/lib/python3.9/site-packages/problem/adas_problem.py:93\u001b[0m, in \u001b[0;36mADASProblem._evaluate\u001b[0;34m(self, x, out, *args, **kwargs)\u001b[0m\n\u001b[1;32m     91\u001b[0m     log\u001b[38;5;241m.\u001b[39minfo(\u001b[38;5;124m\"\u001b[39m\u001b[38;5;124mException during simulation ocurred: \u001b[39m\u001b[38;5;124m\"\u001b[39m)\n\u001b[1;32m     92\u001b[0m     \u001b[38;5;66;03m# TODO handle exception, terminate, so that results are stored\u001b[39;00m\n\u001b[0;32m---> 93\u001b[0m     \u001b[38;5;28;01mraise\u001b[39;00m e\n\u001b[1;32m     94\u001b[0m out[\u001b[38;5;124m\"\u001b[39m\u001b[38;5;124mSO\u001b[39m\u001b[38;5;124m\"\u001b[39m] \u001b[38;5;241m=\u001b[39m []\n\u001b[1;32m     95\u001b[0m vector_list \u001b[38;5;241m=\u001b[39m []\n",
      "File \u001b[0;32m~/micromamba/envs/donkey_opensbt/lib/python3.9/site-packages/problem/adas_problem.py:88\u001b[0m, in \u001b[0;36mADASProblem._evaluate\u001b[0;34m(self, x, out, *args, **kwargs)\u001b[0m\n\u001b[1;32m     86\u001b[0m log\u001b[38;5;241m.\u001b[39minfo(\u001b[38;5;124mf\u001b[39m\u001b[38;5;124m\"\u001b[39m\u001b[38;5;124mRunning evaluation number \u001b[39m\u001b[38;5;132;01m{\u001b[39;00m\u001b[38;5;28mself\u001b[39m\u001b[38;5;241m.\u001b[39mcounter\u001b[38;5;132;01m}\u001b[39;00m\u001b[38;5;124m\"\u001b[39m)\n\u001b[1;32m     87\u001b[0m \u001b[38;5;28;01mtry\u001b[39;00m:\n\u001b[0;32m---> 88\u001b[0m     simout_list \u001b[38;5;241m=\u001b[39m \u001b[38;5;28;43mself\u001b[39;49m\u001b[38;5;241;43m.\u001b[39;49m\u001b[43msimulate_function\u001b[49m\u001b[43m(\u001b[49m\u001b[43mx\u001b[49m\u001b[43m,\u001b[49m\u001b[43m \u001b[49m\u001b[38;5;28;43mself\u001b[39;49m\u001b[38;5;241;43m.\u001b[39;49m\u001b[43msimulation_variables\u001b[49m\u001b[43m,\u001b[49m\u001b[43m \u001b[49m\u001b[38;5;28;43mself\u001b[39;49m\u001b[38;5;241;43m.\u001b[39;49m\u001b[43mscenario_path\u001b[49m\u001b[43m,\u001b[49m\u001b[43m \u001b[49m\u001b[43msim_time\u001b[49m\u001b[38;5;241;43m=\u001b[39;49m\u001b[38;5;28;43mself\u001b[39;49m\u001b[38;5;241;43m.\u001b[39;49m\u001b[43msimulation_time\u001b[49m\u001b[43m,\u001b[49m\n\u001b[1;32m     89\u001b[0m \u001b[43m                                         \u001b[49m\u001b[43mtime_step\u001b[49m\u001b[38;5;241;43m=\u001b[39;49m\u001b[38;5;28;43mself\u001b[39;49m\u001b[38;5;241;43m.\u001b[39;49m\u001b[43msampling_time\u001b[49m\u001b[43m,\u001b[49m\u001b[43m \u001b[49m\u001b[43mdo_visualize\u001b[49m\u001b[38;5;241;43m=\u001b[39;49m\u001b[38;5;28;43mself\u001b[39;49m\u001b[38;5;241;43m.\u001b[39;49m\u001b[43mdo_visualize\u001b[49m\u001b[43m)\u001b[49m\n\u001b[1;32m     90\u001b[0m \u001b[38;5;28;01mexcept\u001b[39;00m \u001b[38;5;167;01mException\u001b[39;00m \u001b[38;5;28;01mas\u001b[39;00m e:\n\u001b[1;32m     91\u001b[0m     log\u001b[38;5;241m.\u001b[39minfo(\u001b[38;5;124m\"\u001b[39m\u001b[38;5;124mException during simulation ocurred: \u001b[39m\u001b[38;5;124m\"\u001b[39m)\n",
      "File \u001b[0;32m~/Documents/BachelorWInfo/Robustness-SDC/PerturbationDrive/examples/open_sbt/sdsandbox_open_sbt.py:52\u001b[0m, in \u001b[0;36mSDSandBox_OpenSBTWrapper.simulate\u001b[0;34m(list_individuals, variable_names, scenario_path, sim_time, time_step, do_visualize)\u001b[0m\n\u001b[1;32m     49\u001b[0m starting_pos \u001b[38;5;241m=\u001b[39m benchmarking_obj\u001b[38;5;241m.\u001b[39msimulator\u001b[38;5;241m.\u001b[39minitial_pos\n\u001b[1;32m     51\u001b[0m \u001b[38;5;66;03m# create all scenarios\u001b[39;00m\n\u001b[0;32m---> 52\u001b[0m scenarios: List[Scenario] \u001b[38;5;241m=\u001b[39m [\n\u001b[1;32m     53\u001b[0m     individualToScenario(\n\u001b[1;32m     54\u001b[0m         individual\u001b[38;5;241m=\u001b[39mind,\n\u001b[1;32m     55\u001b[0m         variable_names\u001b[38;5;241m=\u001b[39mvariable_names,\n\u001b[1;32m     56\u001b[0m         road_generator\u001b[38;5;241m=\u001b[39mroad_generator,\n\u001b[1;32m     57\u001b[0m         starting_pos\u001b[38;5;241m=\u001b[39mstarting_pos,\n\u001b[1;32m     58\u001b[0m     )\n\u001b[1;32m     59\u001b[0m     \u001b[38;5;28;01mfor\u001b[39;00m ind \u001b[38;5;129;01min\u001b[39;00m list_individuals\n\u001b[1;32m     60\u001b[0m ]\n\u001b[1;32m     62\u001b[0m \u001b[38;5;66;03m# run the individualts\u001b[39;00m\n\u001b[1;32m     63\u001b[0m outcomes: List[ScenarioOutcome] \u001b[38;5;241m=\u001b[39m benchmarking_obj\u001b[38;5;241m.\u001b[39msimulate_scenarios(\n\u001b[1;32m     64\u001b[0m     scenarios\u001b[38;5;241m=\u001b[39mscenarios,\n\u001b[1;32m     65\u001b[0m     attention_map\u001b[38;5;241m=\u001b[39m{},\n\u001b[0;32m   (...)\u001b[0m\n\u001b[1;32m     68\u001b[0m     image_size\u001b[38;5;241m=\u001b[39m(\u001b[38;5;241m240\u001b[39m, \u001b[38;5;241m320\u001b[39m),\n\u001b[1;32m     69\u001b[0m )\n",
      "File \u001b[0;32m~/Documents/BachelorWInfo/Robustness-SDC/PerturbationDrive/examples/open_sbt/sdsandbox_open_sbt.py:53\u001b[0m, in \u001b[0;36m<listcomp>\u001b[0;34m(.0)\u001b[0m\n\u001b[1;32m     49\u001b[0m starting_pos \u001b[38;5;241m=\u001b[39m benchmarking_obj\u001b[38;5;241m.\u001b[39msimulator\u001b[38;5;241m.\u001b[39minitial_pos\n\u001b[1;32m     51\u001b[0m \u001b[38;5;66;03m# create all scenarios\u001b[39;00m\n\u001b[1;32m     52\u001b[0m scenarios: List[Scenario] \u001b[38;5;241m=\u001b[39m [\n\u001b[0;32m---> 53\u001b[0m     \u001b[43mindividualToScenario\u001b[49m\u001b[43m(\u001b[49m\n\u001b[1;32m     54\u001b[0m \u001b[43m        \u001b[49m\u001b[43mindividual\u001b[49m\u001b[38;5;241;43m=\u001b[39;49m\u001b[43mind\u001b[49m\u001b[43m,\u001b[49m\n\u001b[1;32m     55\u001b[0m \u001b[43m        \u001b[49m\u001b[43mvariable_names\u001b[49m\u001b[38;5;241;43m=\u001b[39;49m\u001b[43mvariable_names\u001b[49m\u001b[43m,\u001b[49m\n\u001b[1;32m     56\u001b[0m \u001b[43m        \u001b[49m\u001b[43mroad_generator\u001b[49m\u001b[38;5;241;43m=\u001b[39;49m\u001b[43mroad_generator\u001b[49m\u001b[43m,\u001b[49m\n\u001b[1;32m     57\u001b[0m \u001b[43m        \u001b[49m\u001b[43mstarting_pos\u001b[49m\u001b[38;5;241;43m=\u001b[39;49m\u001b[43mstarting_pos\u001b[49m\u001b[43m,\u001b[49m\n\u001b[1;32m     58\u001b[0m \u001b[43m    \u001b[49m\u001b[43m)\u001b[49m\n\u001b[1;32m     59\u001b[0m     \u001b[38;5;28;01mfor\u001b[39;00m ind \u001b[38;5;129;01min\u001b[39;00m list_individuals\n\u001b[1;32m     60\u001b[0m ]\n\u001b[1;32m     62\u001b[0m \u001b[38;5;66;03m# run the individualts\u001b[39;00m\n\u001b[1;32m     63\u001b[0m outcomes: List[ScenarioOutcome] \u001b[38;5;241m=\u001b[39m benchmarking_obj\u001b[38;5;241m.\u001b[39msimulate_scenarios(\n\u001b[1;32m     64\u001b[0m     scenarios\u001b[38;5;241m=\u001b[39mscenarios,\n\u001b[1;32m     65\u001b[0m     attention_map\u001b[38;5;241m=\u001b[39m{},\n\u001b[0;32m   (...)\u001b[0m\n\u001b[1;32m     68\u001b[0m     image_size\u001b[38;5;241m=\u001b[39m(\u001b[38;5;241m240\u001b[39m, \u001b[38;5;241m320\u001b[39m),\n\u001b[1;32m     69\u001b[0m )\n",
      "File \u001b[0;32m~/Documents/BachelorWInfo/Robustness-SDC/PerturbationDrive/examples/open_sbt/utils_open_sbt.py:60\u001b[0m, in \u001b[0;36mindividualToScenario\u001b[0;34m(individual, variable_names, road_generator, starting_pos)\u001b[0m\n\u001b[1;32m     57\u001b[0m \u001b[38;5;28;01mif\u001b[39;00m perturbation_function_int \u001b[38;5;241m>\u001b[39m \u001b[38;5;241m0\u001b[39m \u001b[38;5;129;01mand\u001b[39;00m perturbation_function_int \u001b[38;5;241m<\u001b[39m\u001b[38;5;241m=\u001b[39m amount_keys:\n\u001b[1;32m     58\u001b[0m     perturbation_function \u001b[38;5;241m=\u001b[39m function_mapping[\u001b[38;5;28mstr\u001b[39m(perturbation_function_int)]\n\u001b[1;32m     59\u001b[0m     \u001b[38;5;28mprint\u001b[39m(\n\u001b[0;32m---> 60\u001b[0m         \u001b[38;5;124mf\u001b[39m\u001b[38;5;124m\"\u001b[39m\u001b[38;5;124mIndividualToScenario: Function is \u001b[39m\u001b[38;5;132;01m{\u001b[39;00mfunction_mapping[perturbation_function_int]\u001b[38;5;132;01m}\u001b[39;00m\u001b[38;5;124m/\u001b[39m\u001b[38;5;132;01m{\u001b[39;00mperturbation_function\u001b[38;5;132;01m}\u001b[39;00m\u001b[38;5;124m\"\u001b[39m\n\u001b[1;32m     61\u001b[0m     )\n\u001b[1;32m     62\u001b[0m \u001b[38;5;28;01melse\u001b[39;00m:\n\u001b[1;32m     63\u001b[0m     perturbation_function \u001b[38;5;241m=\u001b[39m function_mapping[\u001b[38;5;124m\"\u001b[39m\u001b[38;5;124m1\u001b[39m\u001b[38;5;124m\"\u001b[39m]\n",
      "\u001b[0;31mKeyError\u001b[0m: 15"
     ]
    },
    {
     "name": "stdout",
     "output_type": "stream",
     "text": [
      "fps 18.43\n",
      "fps 19.71\n",
      "fps 19.66\n",
      "fps 17.23\n",
      "fps 19.66\n",
      "fps 19.69\n",
      "fps 19.67\n",
      "fps 19.73\n",
      "fps 19.67\n",
      "fps 19.72\n",
      "fps 16.78\n",
      "fps 19.69\n",
      "fps 19.67\n",
      "fps 19.67\n",
      "fps 19.69\n",
      "fps 19.67\n",
      "fps 19.68\n",
      "fps 19.63\n",
      "fps 19.70\n",
      "fps 19.71\n",
      "fps 19.66\n",
      "fps 19.69\n",
      "fps 19.68\n",
      "fps 19.66\n",
      "fps 19.71\n",
      "fps 19.68\n",
      "fps 19.69\n",
      "fps 19.72\n",
      "fps 19.68\n",
      "fps 19.68\n",
      "fps 19.74\n",
      "fps 19.70\n",
      "fps 19.69\n",
      "fps 19.68\n",
      "fps 19.73\n",
      "fps 19.69\n",
      "fps 19.68\n",
      "fps 19.69\n",
      "fps 19.68\n",
      "fps 19.69\n",
      "fps 19.70\n",
      "fps 19.72\n",
      "fps 17.58\n",
      "fps 19.74\n",
      "fps 19.72\n",
      "fps 19.71\n",
      "fps 19.76\n",
      "fps 19.75\n",
      "fps 19.71\n",
      "fps 19.73\n",
      "fps 19.69\n",
      "fps 19.67\n",
      "fps 19.25\n",
      "fps 19.72\n",
      "fps 19.77\n",
      "fps 17.86\n",
      "fps 19.11\n",
      "fps 18.46\n",
      "fps 19.66\n",
      "fps 19.66\n",
      "fps 19.76\n"
     ]
    }
   ],
   "source": [
    "# set up fitness and criticality functions\n",
    "fitness_function = FitnessFunction(max_xte=2.0)\n",
    "critical_function = Criticality(max_xte=2.0)\n",
    "\n",
    "# use all perturbations for this experiment\n",
    "problem = ADASProblem(\n",
    "    problem_name=\"SDSandbox_Variant1\",\n",
    "    scenario_path=\"\",\n",
    "    xl=[-20, -20, -20, -20, -20, -20, 15, 15, 15, 15, 15, 15, 0, 1],\n",
    "    xu=[20, 20, 20, 20, 20, 20, 35, 35, 35, 35, 35, 35, 4, 49],\n",
    "    simulation_variables=[\n",
    "        \"angle1\",\n",
    "        \"angle2\",\n",
    "        \"angle3\",\n",
    "        \"angle4\",\n",
    "        \"angle5\",\n",
    "        \"angle6\",\n",
    "        \"segment1\",\n",
    "        \"segment2\",\n",
    "        \"segment3\",\n",
    "        \"segment4\",\n",
    "        \"segment5\",\n",
    "        \"segment6\",\n",
    "        \"perturbation_scale\",\n",
    "        \"perturbation_function\",\n",
    "    ],\n",
    "    fitness_function=fitness_function,\n",
    "    critical_function=critical_function,\n",
    "    simulate_function=SDSandBox_OpenSBTWrapper.simulate,\n",
    "    simulation_time=30,\n",
    "    sampling_time=0.25,\n",
    ")\n",
    "log_utils.setup_logging(\"./log.txt\")\n",
    "# Set search configuration\n",
    "config = DefaultSearchConfiguration()\n",
    "config.n_generations = 30\n",
    "config.population_size = 6\n",
    "# Instantiate search algorithm\n",
    "optimizer = NsgaIIOptimizer(problem=problem, config=config)\n",
    "# Run search\n",
    "res = optimizer.run()"
   ]
  },
  {
   "cell_type": "code",
   "execution_count": null,
   "metadata": {},
   "outputs": [],
   "source": []
  }
 ],
 "metadata": {
  "kernelspec": {
   "display_name": "Python 3",
   "language": "python",
   "name": "python3"
  },
  "language_info": {
   "codemirror_mode": {
    "name": "ipython",
    "version": 3
   },
   "file_extension": ".py",
   "mimetype": "text/x-python",
   "name": "python",
   "nbconvert_exporter": "python",
   "pygments_lexer": "ipython3",
   "version": "3.9.18"
  }
 },
 "nbformat": 4,
 "nbformat_minor": 2
}
