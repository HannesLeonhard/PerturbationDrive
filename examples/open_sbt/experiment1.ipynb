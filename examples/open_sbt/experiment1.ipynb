{
 "cells": [
  {
   "cell_type": "markdown",
   "metadata": {},
   "source": [
    "### Notebook to run initial experiments on perturbation drive framework using OpenSBT with the NSGAI2 algorithm"
   ]
  },
  {
   "cell_type": "code",
   "execution_count": 1,
   "metadata": {},
   "outputs": [
    {
     "data": {
      "text/plain": [
       "'/Users/hannesleonhard/Documents/BachelorWInfo/Robustness-SDC/PerturbationDrive'"
      ]
     },
     "execution_count": 1,
     "metadata": {},
     "output_type": "execute_result"
    }
   ],
   "source": [
    "# change working directory to the '/Users/hannesleonhard/Documents/BachelorWInfo/Robustness-SDC/PerturbationDrive/'\n",
    "import os\n",
    "os.chdir('/Users/hannesleonhard/Documents/BachelorWInfo/Robustness-SDC/PerturbationDrive/')\n",
    "os.getcwd()"
   ]
  },
  {
   "cell_type": "code",
   "execution_count": 2,
   "metadata": {},
   "outputs": [
    {
     "name": "stderr",
     "output_type": "stream",
     "text": [
      "/Users/hannesleonhard/micromamba/envs/donkey_opensbt/lib/python3.9/site-packages/tensorflow_addons/utils/tfa_eol_msg.py:23: UserWarning: \n",
      "\n",
      "TensorFlow Addons (TFA) has ended development and introduction of new features.\n",
      "TFA has entered a minimal maintenance and release mode until a planned end of life in May 2024.\n",
      "Please modify downstream libraries to take dependencies from other repositories in our TensorFlow community (e.g. Keras, Keras-CV, and Keras-NLP). \n",
      "\n",
      "For more information see: https://github.com/tensorflow/addons/issues/2807 \n",
      "\n",
      "  warnings.warn(\n",
      "/Users/hannesleonhard/micromamba/envs/donkey_opensbt/lib/python3.9/site-packages/tensorflow_addons/utils/ensure_tf_install.py:53: UserWarning: Tensorflow Addons supports using Python ops for all Tensorflow versions above or equal to 2.13.0 and strictly below 2.16.0 (nightly versions are not supported). \n",
      " The versions of TensorFlow you are currently using is 2.9.2 and is not supported. \n",
      "Some things might work, some things might not.\n",
      "If you were to encounter a bug, do not file an issue.\n",
      "If you want to make sure you're using a tested and supported configuration, either change the TensorFlow version or the TensorFlow Addons's version. \n",
      "You can find the compatibility matrix in TensorFlow Addon's readme:\n",
      "https://github.com/tensorflow/addons\n",
      "  warnings.warn(\n"
     ]
    },
    {
     "name": "stdout",
     "output_type": "stream",
     "text": [
      "pygame 2.5.2 (SDL 2.28.3, Python 3.9.18)\n",
      "Hello from the pygame community. https://www.pygame.org/contribute.html\n"
     ]
    },
    {
     "name": "stderr",
     "output_type": "stream",
     "text": [
      "\n"
     ]
    }
   ],
   "source": [
    "# import libraries\n",
    "# related to open_sbt\n",
    "from problem.adas_problem import ADASProblem\n",
    "from evaluation.fitness import *\n",
    "from evaluation.critical import *\n",
    "from algorithm.nsga2_optimizer import NsgaIIOptimizer\n",
    "from experiment.search_configuration import DefaultSearchConfiguration\n",
    "\n",
    "from utils import log_utils\n",
    "import argparse\n",
    "from typing import List, Dict, Any, Union\n",
    "import traceback\n",
    "\n",
    "from examples.self_driving_sandbox_donkey.sdsandbox_simulator import SDSandboxSimulator\n",
    "from examples.models.example_agent import ExampleAgent\n",
    "from examples.open_sbt.criticality import FitnessFunction, Criticality\n",
    "from examples.open_sbt.sdsandbox_open_sbt import SDSandBox_OpenSBTWrapper\n",
    "\n",
    "# related to perturbation drive\n",
    "from perturbationdrive import (\n",
    "    PerturbationDrive,\n",
    "    RandomRoadGenerator,\n",
    ")"
   ]
  },
  {
   "cell_type": "markdown",
   "metadata": {},
   "source": [
    "Set up experiment\n",
    "\n",
    "- There are a total of 9 waypoints\n",
    "- The segment length between two waypoints is in the range of [15;35]\n",
    "- The angle between two connection waypoints is in the range of [-20;20]\n",
    "- All perturbation functions are used\n",
    "- In 30 different runs, 6 scenarios each are run, resulting in a total of 180 total scenario simulations"
   ]
  },
  {
   "cell_type": "code",
   "execution_count": 3,
   "metadata": {},
   "outputs": [
    {
     "name": "stderr",
     "output_type": "stream",
     "text": [
      "2024-01-18 10:28:20,627 INFO     Logging setup. Writing to file:  ./log.txt\n",
      "2024-01-18 10:28:20,634 INFO     Running evaluation number 1\n"
     ]
    },
    {
     "name": "stdout",
     "output_type": "stream",
     "text": [
      "\n",
      "Compiled modules for significant speedup can not be used!\n",
      "https://pymoo.org/installation.html#installation\n",
      "\n",
      "To disable this warning:\n",
      "from pymoo.config import Config\n",
      "Config.warnings['not_compiled'] = False\n",
      "\n",
      "Using model: generated_dave_v5\n",
      "INFO:DonkeyProcess:This is the launch string /Users/hannesleonhard/Documents/BachelorWInfo/Robustness-SDC/PerturbationDrive/./examples/self_driving_sandbox_donkey/sim/donkey-sim.app/Contents/MacOS/Simulator\n"
     ]
    },
    {
     "name": "stderr",
     "output_type": "stream",
     "text": [
      "2024-01-18 10:28:20,826 INFO     This is the launch string /Users/hannesleonhard/Documents/BachelorWInfo/Robustness-SDC/PerturbationDrive/./examples/self_driving_sandbox_donkey/sim/donkey-sim.app/Contents/MacOS/Simulator\n"
     ]
    },
    {
     "name": "stdout",
     "output_type": "stream",
     "text": [
      "[UnityMemory] Configuration Parameters - Can be set up in boot.config\n",
      "    \"memorysetup-bucket-allocator-granularity=16\"\n",
      "    \"memorysetup-bucket-allocator-bucket-count=8\"\n",
      "    \"memorysetup-bucket-allocator-block-size=4194304\"\n",
      "    \"memorysetup-bucket-allocator-block-count=1\"\n",
      "    \"memorysetup-main-allocator-block-size=16777216\"\n",
      "    \"memorysetup-thread-allocator-block-size=16777216\"\n",
      "    \"memorysetup-gfx-main-allocator-block-size=16777216\"\n",
      "    \"memorysetup-gfx-thread-allocator-block-size=16777216\"\n",
      "    \"memorysetup-cache-allocator-block-size=4194304\"\n",
      "    \"memorysetup-typetree-allocator-block-size=2097152\"\n",
      "    \"memorysetup-profiler-bucket-allocator-granularity=16\"\n",
      "    \"memorysetup-profiler-bucket-allocator-bucket-count=8\"\n",
      "    \"memorysetup-profiler-bucket-allocator-block-size=4194304\"\n",
      "    \"memorysetup-profiler-bucket-allocator-block-count=1\"\n",
      "    \"memorysetup-profiler-allocator-block-size=16777216\"\n",
      "    \"memorysetup-profiler-editor-allocator-block-size=1048576\"\n",
      "    \"memorysetup-temp-allocator-size-main=4194304\"\n",
      "    \"memorysetup-job-temp-allocator-block-size=2097152\"\n",
      "    \"memorysetup-job-temp-allocator-block-size-background=1048576\"\n",
      "    \"memorysetup-job-temp-allocator-reduction-small-platforms=262144\"\n",
      "    \"memorysetup-allocator-temp-initial-block-size-main=262144\"\n",
      "    \"memorysetup-allocator-temp-initial-block-size-worker=262144\"\n",
      "    \"memorysetup-temp-allocator-size-background-worker=32768\"\n",
      "    \"memorysetup-temp-allocator-size-job-worker=262144\"\n",
      "    \"memorysetup-temp-allocator-size-preload-manager=262144\"\n",
      "    \"memorysetup-temp-allocator-size-nav-mesh-worker=65536\"\n",
      "    \"memorysetup-temp-allocator-size-audio-worker=65536\"\n",
      "    \"memorysetup-temp-allocator-size-cloud-worker=32768\"\n",
      "    \"memorysetup-temp-allocator-size-gfx=262144\"\n",
      "INFO:DonkeyProcess:donkey subprocess started\n"
     ]
    },
    {
     "name": "stderr",
     "output_type": "stream",
     "text": [
      "2024-01-18 10:28:40,842 INFO     donkey subprocess started\n"
     ]
    },
    {
     "name": "stdout",
     "output_type": "stream",
     "text": [
      "INFO:SDSandBoxSimulator:Waiting for inital obs\n"
     ]
    },
    {
     "name": "stderr",
     "output_type": "stream",
     "text": [
      "2024-01-18 10:28:41,751 INFO     Waiting for inital obs\n"
     ]
    },
    {
     "name": "stdout",
     "output_type": "stream",
     "text": [
      "INFO:SDSandBoxSimulator:Waiting for inital obs\n"
     ]
    },
    {
     "name": "stderr",
     "output_type": "stream",
     "text": [
      "2024-01-18 10:28:41,793 INFO     Waiting for inital obs\n"
     ]
    },
    {
     "name": "stdout",
     "output_type": "stream",
     "text": [
      "INFO:SDSandBoxSimulator:Waiting for inital obs\n"
     ]
    },
    {
     "name": "stderr",
     "output_type": "stream",
     "text": [
      "2024-01-18 10:28:41,835 INFO     Waiting for inital obs\n"
     ]
    },
    {
     "name": "stdout",
     "output_type": "stream",
     "text": [
      "INFO:SDSandBoxSimulator:Waiting for inital obs\n"
     ]
    },
    {
     "name": "stderr",
     "output_type": "stream",
     "text": [
      "2024-01-18 10:28:41,877 INFO     Waiting for inital obs\n"
     ]
    },
    {
     "name": "stdout",
     "output_type": "stream",
     "text": [
      "INFO:SDSandBoxSimulator:Waiting for inital obs\n"
     ]
    },
    {
     "name": "stderr",
     "output_type": "stream",
     "text": [
      "2024-01-18 10:28:41,919 INFO     Waiting for inital obs\n"
     ]
    },
    {
     "name": "stdout",
     "output_type": "stream",
     "text": [
      "INFO:SDSandBoxSimulator:Waiting for inital obs\n"
     ]
    },
    {
     "name": "stderr",
     "output_type": "stream",
     "text": [
      "2024-01-18 10:28:41,960 INFO     Waiting for inital obs\n"
     ]
    },
    {
     "name": "stdout",
     "output_type": "stream",
     "text": [
      "INFO:SDSandBoxSimulator:Waiting for inital obs\n"
     ]
    },
    {
     "name": "stderr",
     "output_type": "stream",
     "text": [
      "2024-01-18 10:28:42,001 INFO     Waiting for inital obs\n"
     ]
    },
    {
     "name": "stdout",
     "output_type": "stream",
     "text": [
      "INFO:SDSandBoxSimulator:Waiting for inital obs\n"
     ]
    },
    {
     "name": "stderr",
     "output_type": "stream",
     "text": [
      "2024-01-18 10:28:42,043 INFO     Waiting for inital obs\n"
     ]
    },
    {
     "name": "stdout",
     "output_type": "stream",
     "text": [
      "INFO:SDSandBoxSimulator:Waiting for inital obs\n"
     ]
    },
    {
     "name": "stderr",
     "output_type": "stream",
     "text": [
      "2024-01-18 10:28:42,085 INFO     Waiting for inital obs\n"
     ]
    },
    {
     "name": "stdout",
     "output_type": "stream",
     "text": [
      "INFO:DonkeySimMsgHandler:DonkeySimMsgHandler: ----- Car Created With Data {'msg_type': 'car_loaded'} -----\n"
     ]
    },
    {
     "name": "stderr",
     "output_type": "stream",
     "text": [
      "2024-01-18 10:28:42,116 INFO     DonkeySimMsgHandler: ----- Car Created With Data {'msg_type': 'car_loaded'} -----\n"
     ]
    },
    {
     "name": "stdout",
     "output_type": "stream",
     "text": [
      "INFO:SDSandBoxSimulator:Waiting for inital obs\n"
     ]
    },
    {
     "name": "stderr",
     "output_type": "stream",
     "text": [
      "2024-01-18 10:28:42,127 INFO     Waiting for inital obs\n"
     ]
    },
    {
     "name": "stdout",
     "output_type": "stream",
     "text": [
      "INFO:SDSandBoxSimulator:Waiting for inital obs\n"
     ]
    },
    {
     "name": "stderr",
     "output_type": "stream",
     "text": [
      "2024-01-18 10:28:42,168 INFO     Waiting for inital obs\n"
     ]
    },
    {
     "name": "stdout",
     "output_type": "stream",
     "text": [
      "Segment lengths are None\n",
      "Started Road Generation\n",
      "Road Instance 0, angle: -7, 25: [(47.999979999999994, 24.96965, 0.6099315, 4.0), (47.99998, 49.96965, 0.6099315, 4.0), (51.47930752400164, 74.72635171853926, 0.6099315, 4.0)]\n",
      "Road Instance 1, angle: 0, 25: [(47.999979999999994, 24.96965, 0.6099315, 4.0), (47.99998, 49.96965, 0.6099315, 4.0), (51.47930752400164, 74.72635171853926, 0.6099315, 4.0), (54.95863504800328, 99.48305343707852, 0.6099315, 4.0)]\n",
      "Road Instance 2, angle: 7, 25: [(47.999979999999994, 24.96965, 0.6099315, 4.0), (47.99998, 49.96965, 0.6099315, 4.0), (51.47930752400164, 74.72635171853926, 0.6099315, 4.0), (54.95863504800328, 99.48305343707852, 0.6099315, 4.0), (55.39494520893537, 124.4792458159883, 0.6099315, 4.0)]\n",
      "Road Instance 3, angle: -6, 25: [(47.999979999999994, 24.96965, 0.6099315, 4.0), (47.99998, 49.96965, 0.6099315, 4.0), (51.47930752400164, 74.72635171853926, 0.6099315, 4.0), (54.95863504800328, 99.48305343707852, 0.6099315, 4.0), (55.39494520893537, 124.4792458159883, 0.6099315, 4.0), (58.44167879406405, 149.29289960702135, 0.6099315, 4.0)]\n",
      "Road Instance 4, angle: -8, 25: [(47.999979999999994, 24.96965, 0.6099315, 4.0), (47.99998, 49.96965, 0.6099315, 4.0), (51.47930752400164, 74.72635171853926, 0.6099315, 4.0), (54.95863504800328, 99.48305343707852, 0.6099315, 4.0), (55.39494520893537, 124.4792458159883, 0.6099315, 4.0), (58.44167879406405, 149.29289960702135, 0.6099315, 4.0), (64.91215492162708, 173.44104526424806, 0.6099315, 4.0)]\n",
      "Road Instance 5, angle: -16, 25: [(47.999979999999994, 24.96965, 0.6099315, 4.0), (47.99998, 49.96965, 0.6099315, 4.0), (51.47930752400164, 74.72635171853926, 0.6099315, 4.0), (54.95863504800328, 99.48305343707852, 0.6099315, 4.0), (55.39494520893537, 124.4792458159883, 0.6099315, 4.0), (58.44167879406405, 149.29289960702135, 0.6099315, 4.0), (64.91215492162708, 173.44104526424806, 0.6099315, 4.0), (78.1601365274572, 194.64224766815872, 0.6099315, 4.0)]\n",
      "finished road generation\n",
      "IndividualToScenario: Function is canny_edges_mapping/canny_edges_mapping\n",
      "Segment lengths are None\n",
      "Started Road Generation\n",
      "Road Instance 0, angle: -9, 25: [(47.999979999999994, 24.96965, 0.6099315, 4.0), (47.99998, 49.96965, 0.6099315, 4.0), (52.34118444167326, 74.5898438253052, 0.6099315, 4.0)]\n",
      "Road Instance 1, angle: 14, 25: [(47.999979999999994, 24.96965, 0.6099315, 4.0), (47.99998, 49.96965, 0.6099315, 4.0), (52.34118444167326, 74.5898438253052, 0.6099315, 4.0), (51.032785535599665, 99.55558219416955, 0.6099315, 4.0)]\n",
      "Road Instance 2, angle: 14, 25: [(47.999979999999994, 24.96965, 0.6099315, 4.0), (47.99998, 49.96965, 0.6099315, 4.0), (52.34118444167326, 74.5898438253052, 0.6099315, 4.0), (51.032785535599665, 99.55558219416955, 0.6099315, 4.0), (43.723492917531246, 123.46320109324543, 0.6099315, 4.0)]\n",
      "Road Instance 3, angle: 11, 25: [(47.999979999999994, 24.96965, 0.6099315, 4.0), (47.99998, 49.96965, 0.6099315, 4.0), (52.34118444167326, 74.5898438253052, 0.6099315, 4.0), (51.032785535599665, 99.55558219416955, 0.6099315, 4.0), (43.723492917531246, 123.46320109324543, 0.6099315, 4.0), (31.986703847883973, 145.5368909147186, 0.6099315, 4.0)]\n",
      "Road Instance 4, angle: -8, 25: [(47.999979999999994, 24.96965, 0.6099315, 4.0), (47.99998, 49.96965, 0.6099315, 4.0), (52.34118444167326, 74.5898438253052, 0.6099315, 4.0), (51.032785535599665, 99.55558219416955, 0.6099315, 4.0), (43.723492917531246, 123.46320109324543, 0.6099315, 4.0), (31.986703847883973, 145.5368909147186, 0.6099315, 4.0), (23.436200264742254, 169.02920643436633, 0.6099315, 4.0)]\n",
      "Road Instance 5, angle: 10, 25: [(47.999979999999994, 24.96965, 0.6099315, 4.0), (47.99998, 49.96965, 0.6099315, 4.0), (52.34118444167326, 74.5898438253052, 0.6099315, 4.0), (51.032785535599665, 99.55558219416955, 0.6099315, 4.0), (43.723492917531246, 123.46320109324543, 0.6099315, 4.0), (31.986703847883973, 145.5368909147186, 0.6099315, 4.0), (23.436200264742254, 169.02920643436633, 0.6099315, 4.0), (10.936200264742258, 190.6798415289773, 0.6099315, 4.0)]\n",
      "finished road generation\n",
      "IndividualToScenario: Function is dynamic_object_overlay/dynamic_object_overlay\n",
      "Segment lengths are None\n",
      "Started Road Generation\n",
      "Road Instance 0, angle: 6, 25: [(47.999979999999994, 24.96965, 0.6099315, 4.0), (47.99998, 49.96965, 0.6099315, 4.0), (45.821086431308544, 74.87451745229365, 0.6099315, 4.0)]\n",
      "Road Instance 1, angle: 4, 25: [(47.999979999999994, 24.96965, 0.6099315, 4.0), (47.99998, 49.96965, 0.6099315, 4.0), (45.821086431308544, 74.87451745229365, 0.6099315, 4.0), (41.910224805302775, 99.56672596717209, 0.6099315, 4.0)]\n",
      "Road Instance 2, angle: -6, 25: [(47.999979999999994, 24.96965, 0.6099315, 4.0), (47.99998, 49.96965, 0.6099315, 4.0), (45.821086431308544, 74.87451745229365, 0.6099315, 4.0), (41.910224805302775, 99.56672596717209, 0.6099315, 4.0), (40.601825899229176, 124.53246433603644, 0.6099315, 4.0)]\n",
      "Road Instance 3, angle: -7, 25: [(47.999979999999994, 24.96965, 0.6099315, 4.0), (47.99998, 49.96965, 0.6099315, 4.0), (45.821086431308544, 74.87451745229365, 0.6099315, 4.0), (41.910224805302775, 99.56672596717209, 0.6099315, 4.0), (40.601825899229176, 124.53246433603644, 0.6099315, 4.0), (42.345737742832306, 149.47156559253204, 0.6099315, 4.0)]\n",
      "Road Instance 4, angle: 0, 25: [(47.999979999999994, 24.96965, 0.6099315, 4.0), (47.99998, 49.96965, 0.6099315, 4.0), (45.821086431308544, 74.87451745229365, 0.6099315, 4.0), (41.910224805302775, 99.56672596717209, 0.6099315, 4.0), (40.601825899229176, 124.53246433603644, 0.6099315, 4.0), (42.345737742832306, 149.47156559253204, 0.6099315, 4.0), (44.089649586435435, 174.41066684902765, 0.6099315, 4.0)]\n",
      "Road Instance 5, angle: 9, 25: [(47.999979999999994, 24.96965, 0.6099315, 4.0), (47.99998, 49.96965, 0.6099315, 4.0), (45.821086431308544, 74.87451745229365, 0.6099315, 4.0), (41.910224805302775, 99.56672596717209, 0.6099315, 4.0), (40.601825899229176, 124.53246433603644, 0.6099315, 4.0), (42.345737742832306, 149.47156559253204, 0.6099315, 4.0), (44.089649586435435, 174.41066684902765, 0.6099315, 4.0), (41.91075601774398, 199.3155343013213, 0.6099315, 4.0)]\n",
      "finished road generation\n",
      "IndividualToScenario: Function is speckle_noise_filter/speckle_noise_filter\n",
      "Segment lengths are None\n",
      "Started Road Generation\n",
      "Road Instance 0, angle: -12, 25: [(47.999979999999994, 24.96965, 0.6099315, 4.0), (47.99998, 49.96965, 0.6099315, 4.0), (53.62375635859662, 74.32890161963088, 0.6099315, 4.0)]\n",
      "Road Instance 1, angle: 8, 25: [(47.999979999999994, 24.96965, 0.6099315, 4.0), (47.99998, 49.96965, 0.6099315, 4.0), (53.62375635859662, 74.32890161963088, 0.6099315, 4.0), (55.80264992728807, 99.23376907192453, 0.6099315, 4.0)]\n",
      "Road Instance 2, angle: 0, 25: [(47.999979999999994, 24.96965, 0.6099315, 4.0), (47.99998, 49.96965, 0.6099315, 4.0), (53.62375635859662, 74.32890161963088, 0.6099315, 4.0), (55.80264992728807, 99.23376907192453, 0.6099315, 4.0), (57.98154349597952, 124.13863652421817, 0.6099315, 4.0)]\n",
      "Road Instance 3, angle: 11, 25: [(47.999979999999994, 24.96965, 0.6099315, 4.0), (47.99998, 49.96965, 0.6099315, 4.0), (53.62375635859662, 74.32890161963088, 0.6099315, 4.0), (55.80264992728807, 99.23376907192453, 0.6099315, 4.0), (57.98154349597952, 124.13863652421817, 0.6099315, 4.0), (55.368331914288184, 149.001683908425, 0.6099315, 4.0)]\n",
      "Road Instance 4, angle: 17, 25: [(47.999979999999994, 24.96965, 0.6099315, 4.0), (47.99998, 49.96965, 0.6099315, 4.0), (53.62375635859662, 74.32890161963088, 0.6099315, 4.0), (55.80264992728807, 99.23376907192453, 0.6099315, 4.0), (57.98154349597952, 124.13863652421817, 0.6099315, 4.0), (55.368331914288184, 149.001683908425, 0.6099315, 4.0), (45.60005370205634, 172.01430524473602, 0.6099315, 4.0)]\n",
      "Road Instance 5, angle: -12, 25: [(47.999979999999994, 24.96965, 0.6099315, 4.0), (47.99998, 49.96965, 0.6099315, 4.0), (53.62375635859662, 74.32890161963088, 0.6099315, 4.0), (55.80264992728807, 99.23376907192453, 0.6099315, 4.0), (57.98154349597952, 124.13863652421817, 0.6099315, 4.0), (55.368331914288184, 149.001683908425, 0.6099315, 4.0), (45.60005370205634, 172.01430524473602, 0.6099315, 4.0), (40.82982881764272, 196.55498483092762, 0.6099315, 4.0)]\n",
      "finished road generation\n",
      "IndividualToScenario: Function is the_scream/the_scream\n",
      "Segment lengths are None\n",
      "Started Road Generation\n",
      "Road Instance 0, angle: 9, 25: [(47.999979999999994, 24.96965, 0.6099315, 4.0), (47.99998, 49.96965, 0.6099315, 4.0), (44.52065247599837, 74.72635171853926, 0.6099315, 4.0)]\n",
      "Road Instance 1, angle: 1, 25: [(47.999979999999994, 24.96965, 0.6099315, 4.0), (47.99998, 49.96965, 0.6099315, 4.0), (44.52065247599837, 74.72635171853926, 0.6099315, 4.0), (40.6097908499926, 99.41856023341771, 0.6099315, 4.0)]\n",
      "Road Instance 2, angle: -16, 25: [(47.999979999999994, 24.96965, 0.6099315, 4.0), (47.99998, 49.96965, 0.6099315, 4.0), (44.52065247599837, 74.72635171853926, 0.6099315, 4.0), (40.6097908499926, 99.41856023341771, 0.6099315, 4.0), (43.656524435121284, 124.23221402445076, 0.6099315, 4.0)]\n",
      "Road Instance 3, angle: 9, 25: [(47.999979999999994, 24.96965, 0.6099315, 4.0), (47.99998, 49.96965, 0.6099315, 4.0), (44.52065247599837, 74.72635171853926, 0.6099315, 4.0), (40.6097908499926, 99.41856023341771, 0.6099315, 4.0), (43.656524435121284, 124.23221402445076, 0.6099315, 4.0), (42.78403701755876, 149.21698469992816, 0.6099315, 4.0)]\n",
      "Road Instance 4, angle: 3, 25: [(47.999979999999994, 24.96965, 0.6099315, 4.0), (47.99998, 49.96965, 0.6099315, 4.0), (44.52065247599837, 74.72635171853926, 0.6099315, 4.0), (40.6097908499926, 99.41856023341771, 0.6099315, 4.0), (43.656524435121284, 124.23221402445076, 0.6099315, 4.0), (42.78403701755876, 149.21698469992816, 0.6099315, 4.0), (40.6051434488673, 174.1218521522218, 0.6099315, 4.0)]\n",
      "Road Instance 5, angle: -2, 25: [(47.999979999999994, 24.96965, 0.6099315, 4.0), (47.99998, 49.96965, 0.6099315, 4.0), (44.52065247599837, 74.72635171853926, 0.6099315, 4.0), (40.6097908499926, 99.41856023341771, 0.6099315, 4.0), (43.656524435121284, 124.23221402445076, 0.6099315, 4.0), (42.78403701755876, 149.21698469992816, 0.6099315, 4.0), (40.6051434488673, 174.1218521522218, 0.6099315, 4.0), (39.296744542793704, 199.08759052108616, 0.6099315, 4.0)]\n",
      "finished road generation\n",
      "IndividualToScenario: Function is scale_image/scale_image\n",
      "Segment lengths are None\n",
      "Started Road Generation\n",
      "Road Instance 0, angle: -4, 25: [(47.999979999999994, 24.96965, 0.6099315, 4.0), (47.99998, 49.96965, 0.6099315, 4.0), (50.17887356869146, 74.87451745229365, 0.6099315, 4.0)]\n",
      "Road Instance 1, angle: 3, 25: [(47.999979999999994, 24.96965, 0.6099315, 4.0), (47.99998, 49.96965, 0.6099315, 4.0), (50.17887356869146, 74.87451745229365, 0.6099315, 4.0), (51.48727247476506, 99.840255821158, 0.6099315, 4.0)]\n",
      "Road Instance 2, angle: 12, 25: [(47.999979999999994, 24.96965, 0.6099315, 4.0), (47.99998, 49.96965, 0.6099315, 4.0), (50.17887356869146, 74.87451745229365, 0.6099315, 4.0), (51.48727247476506, 99.840255821158, 0.6099315, 4.0), (47.57641084875929, 124.53246433603644, 0.6099315, 4.0)]\n",
      "Road Instance 3, angle: -15, 25: [(47.999979999999994, 24.96965, 0.6099315, 4.0), (47.99998, 49.96965, 0.6099315, 4.0), (50.17887356869146, 74.87451745229365, 0.6099315, 4.0), (51.48727247476506, 99.840255821158, 0.6099315, 4.0), (47.57641084875929, 124.53246433603644, 0.6099315, 4.0), (50.189622430450626, 149.39551172024326, 0.6099315, 4.0)]\n",
      "Road Instance 4, angle: -16, 25: [(47.999979999999994, 24.96965, 0.6099315, 4.0), (47.99998, 49.96965, 0.6099315, 4.0), (50.17887356869146, 74.87451745229365, 0.6099315, 4.0), (51.48727247476506, 99.840255821158, 0.6099315, 4.0), (47.57641084875929, 124.53246433603644, 0.6099315, 4.0), (50.189622430450626, 149.39551172024326, 0.6099315, 4.0), (59.95790064268247, 172.40813305655428, 0.6099315, 4.0)]\n",
      "Road Instance 5, angle: 10, 25: [(47.999979999999994, 24.96965, 0.6099315, 4.0), (47.99998, 49.96965, 0.6099315, 4.0), (50.17887356869146, 74.87451745229365, 0.6099315, 4.0), (51.48727247476506, 99.840255821158, 0.6099315, 4.0), (47.57641084875929, 124.53246433603644, 0.6099315, 4.0), (50.189622430450626, 149.39551172024326, 0.6099315, 4.0), (59.95790064268247, 172.40813305655428, 0.6099315, 4.0), (65.58167700127909, 196.76738467618515, 0.6099315, 4.0)]\n",
      "finished road generation\n",
      "IndividualToScenario: Function is fog_filter/fog_filter\n",
      "Loading Neural Style Transfer the_scream from perturbationdrive/NeuralStyleTransfer/models/instance_norm/the_scream.t7\n",
      "----- Finished Perturbation-Controller set up -----\n",
      "INFO:SDSandBoxSimulator:Reset the scenario\n"
     ]
    },
    {
     "name": "stderr",
     "output_type": "stream",
     "text": [
      "2024-01-18 10:28:44,488 INFO     Reset the scenario\n"
     ]
    },
    {
     "name": "stdout",
     "output_type": "stream",
     "text": [
      "fps 18.49\n",
      "fps 17.54\n",
      "fps 19.71\n",
      "fps 19.71\n",
      "SDSandBox: Finished scenario\n",
      "fps 17.58\n",
      "INFO:SDSandBoxSimulator:Reset the scenario\n"
     ]
    },
    {
     "name": "stderr",
     "output_type": "stream",
     "text": [
      "2024-01-18 10:29:09,716 INFO     Reset the scenario\n"
     ]
    },
    {
     "name": "stdout",
     "output_type": "stream",
     "text": [
      "fps 19.75\n",
      "fps 17.05\n",
      "fps 19.49\n",
      "fps 19.70\n",
      "fps 19.68\n",
      "SDSandBox: Finished scenario\n",
      "fps 19.68\n",
      "INFO:SDSandBoxSimulator:Reset the scenario\n"
     ]
    },
    {
     "name": "stderr",
     "output_type": "stream",
     "text": [
      "2024-01-18 10:29:41,466 INFO     Reset the scenario\n"
     ]
    },
    {
     "name": "stdout",
     "output_type": "stream",
     "text": [
      "fps 19.70\n",
      "fps 19.69\n",
      "fps 19.71\n",
      "fps 19.65\n",
      "fps 19.70\n",
      "fps 19.70\n",
      "fps 18.59\n",
      "fps 19.91\n",
      "fps 19.72\n",
      "fps 19.69\n",
      "fps 19.70\n",
      "fps 19.71\n",
      "fps 19.70\n",
      "fps 19.72\n",
      "fps 19.71\n",
      "fps 19.72\n",
      "fps 19.70\n",
      "INFO:SDSandBoxSimulator:SDSandBox: Done\n"
     ]
    },
    {
     "name": "stderr",
     "output_type": "stream",
     "text": [
      "2024-01-18 10:31:11,257 INFO     SDSandBox: Done\n"
     ]
    },
    {
     "name": "stdout",
     "output_type": "stream",
     "text": [
      "SDSandBox: Finished scenario\n",
      "fps 19.71\n",
      "INFO:SDSandBoxSimulator:Reset the scenario\n"
     ]
    },
    {
     "name": "stderr",
     "output_type": "stream",
     "text": [
      "2024-01-18 10:31:14,298 INFO     Reset the scenario\n",
      "/Users/hannesleonhard/Documents/BachelorWInfo/Robustness-SDC/PerturbationDrive/perturbationdrive/imageperturbations.py:180: RuntimeWarning: invalid value encountered in cast\n",
      "  styled = self.neuralStyleModels.transferStyle(image, \"the_scream\").astype(\n"
     ]
    },
    {
     "name": "stdout",
     "output_type": "stream",
     "text": [
      "fps 19.68\n",
      "fps 19.64\n",
      "fps 19.65\n",
      "fps 19.65\n",
      "SDSandBox: Finished scenario\n",
      "INFO:SDSandBoxSimulator:Reset the scenario\n"
     ]
    },
    {
     "name": "stderr",
     "output_type": "stream",
     "text": [
      "2024-01-18 10:31:36,608 INFO     Reset the scenario\n"
     ]
    },
    {
     "name": "stdout",
     "output_type": "stream",
     "text": [
      "fps 19.63\n",
      "fps 19.73\n",
      "fps 19.71\n",
      "fps 19.70\n",
      "fps 19.75\n",
      "fps 19.69\n",
      "fps 19.70\n",
      "fps 19.70\n",
      "fps 19.69\n",
      "fps 19.72\n",
      "fps 19.71\n",
      "fps 19.73\n",
      "fps 19.70\n",
      "fps 19.69\n",
      "fps 19.33\n",
      "fps 19.71\n",
      "fps 19.71\n",
      "INFO:SDSandBoxSimulator:SDSandBox: Done\n"
     ]
    },
    {
     "name": "stderr",
     "output_type": "stream",
     "text": [
      "2024-01-18 10:33:01,845 INFO     SDSandBox: Done\n"
     ]
    },
    {
     "name": "stdout",
     "output_type": "stream",
     "text": [
      "SDSandBox: Finished scenario\n",
      "fps 19.68\n",
      "INFO:SDSandBoxSimulator:Reset the scenario\n"
     ]
    },
    {
     "name": "stderr",
     "output_type": "stream",
     "text": [
      "2024-01-18 10:33:05,104 INFO     Reset the scenario\n"
     ]
    },
    {
     "name": "stdout",
     "output_type": "stream",
     "text": [
      "fps 19.71\n",
      "fps 19.71\n",
      "fps 19.69\n",
      "fps 19.70\n",
      "fps 19.70\n",
      "fps 19.70\n",
      "fps 19.69\n",
      "fps 19.71\n",
      "fps 19.70\n",
      "INFO:SDSandBoxSimulator:SDSandBox: Done\n"
     ]
    },
    {
     "name": "stderr",
     "output_type": "stream",
     "text": [
      "2024-01-18 10:33:51,387 INFO     SDSandBox: Done\n"
     ]
    },
    {
     "name": "stdout",
     "output_type": "stream",
     "text": [
      "SDSandBox: Finished scenario\n",
      "INFO:DonkeySimMsgHandler:DonkeySimMsgHandler: +++++ Warning: Donkey Sim Disconnected +++++\n"
     ]
    },
    {
     "name": "stderr",
     "output_type": "stream",
     "text": [
      "2024-01-18 10:33:53,924 INFO     DonkeySimMsgHandler: +++++ Warning: Donkey Sim Disconnected +++++\n"
     ]
    },
    {
     "name": "stdout",
     "output_type": "stream",
     "text": [
      "INFO:DonkeyProcess:Closing donkey sim subprocess\n"
     ]
    },
    {
     "name": "stderr",
     "output_type": "stream",
     "text": [
      "2024-01-18 10:33:53,926 INFO     Closing donkey sim subprocess\n",
      "2024-01-18 10:33:54,103 INFO     Running evaluation number 2\n"
     ]
    },
    {
     "name": "stdout",
     "output_type": "stream",
     "text": [
      "==========================================================\n",
      "n_gen  |  n_eval  | n_nds  |      eps      |   indicator  \n",
      "==========================================================\n",
      "     1 |        6 |      1 |             - |             -\n",
      "Using model: generated_dave_v5\n",
      "INFO:DonkeyProcess:This is the launch string /Users/hannesleonhard/Documents/BachelorWInfo/Robustness-SDC/PerturbationDrive/./examples/self_driving_sandbox_donkey/sim/donkey-sim.app/Contents/MacOS/Simulator\n"
     ]
    },
    {
     "name": "stderr",
     "output_type": "stream",
     "text": [
      "2024-01-18 10:33:54,303 INFO     This is the launch string /Users/hannesleonhard/Documents/BachelorWInfo/Robustness-SDC/PerturbationDrive/./examples/self_driving_sandbox_donkey/sim/donkey-sim.app/Contents/MacOS/Simulator\n"
     ]
    },
    {
     "name": "stdout",
     "output_type": "stream",
     "text": [
      "[UnityMemory] Configuration Parameters - Can be set up in boot.config\n",
      "    \"memorysetup-bucket-allocator-granularity=16\"\n",
      "    \"memorysetup-bucket-allocator-bucket-count=8\"\n",
      "    \"memorysetup-bucket-allocator-block-size=4194304\"\n",
      "    \"memorysetup-bucket-allocator-block-count=1\"\n",
      "    \"memorysetup-main-allocator-block-size=16777216\"\n",
      "    \"memorysetup-thread-allocator-block-size=16777216\"\n",
      "    \"memorysetup-gfx-main-allocator-block-size=16777216\"\n",
      "    \"memorysetup-gfx-thread-allocator-block-size=16777216\"\n",
      "    \"memorysetup-cache-allocator-block-size=4194304\"\n",
      "    \"memorysetup-typetree-allocator-block-size=2097152\"\n",
      "    \"memorysetup-profiler-bucket-allocator-granularity=16\"\n",
      "    \"memorysetup-profiler-bucket-allocator-bucket-count=8\"\n",
      "    \"memorysetup-profiler-bucket-allocator-block-size=4194304\"\n",
      "    \"memorysetup-profiler-bucket-allocator-block-count=1\"\n",
      "    \"memorysetup-profiler-allocator-block-size=16777216\"\n",
      "    \"memorysetup-profiler-editor-allocator-block-size=1048576\"\n",
      "    \"memorysetup-temp-allocator-size-main=4194304\"\n",
      "    \"memorysetup-job-temp-allocator-block-size=2097152\"\n",
      "    \"memorysetup-job-temp-allocator-block-size-background=1048576\"\n",
      "    \"memorysetup-job-temp-allocator-reduction-small-platforms=262144\"\n",
      "    \"memorysetup-allocator-temp-initial-block-size-main=262144\"\n",
      "    \"memorysetup-allocator-temp-initial-block-size-worker=262144\"\n",
      "    \"memorysetup-temp-allocator-size-background-worker=32768\"\n",
      "    \"memorysetup-temp-allocator-size-job-worker=262144\"\n",
      "    \"memorysetup-temp-allocator-size-preload-manager=262144\"\n",
      "    \"memorysetup-temp-allocator-size-nav-mesh-worker=65536\"\n",
      "    \"memorysetup-temp-allocator-size-audio-worker=65536\"\n",
      "    \"memorysetup-temp-allocator-size-cloud-worker=32768\"\n",
      "    \"memorysetup-temp-allocator-size-gfx=262144\"\n",
      "INFO:DonkeyProcess:donkey subprocess started\n"
     ]
    },
    {
     "name": "stderr",
     "output_type": "stream",
     "text": [
      "2024-01-18 10:34:14,329 INFO     donkey subprocess started\n"
     ]
    },
    {
     "name": "stdout",
     "output_type": "stream",
     "text": [
      "INFO:SDSandBoxSimulator:Waiting for inital obs\n"
     ]
    },
    {
     "name": "stderr",
     "output_type": "stream",
     "text": [
      "2024-01-18 10:34:14,384 INFO     Waiting for inital obs\n"
     ]
    },
    {
     "name": "stdout",
     "output_type": "stream",
     "text": [
      "INFO:SDSandBoxSimulator:Waiting for inital obs\n"
     ]
    },
    {
     "name": "stderr",
     "output_type": "stream",
     "text": [
      "2024-01-18 10:34:14,426 INFO     Waiting for inital obs\n"
     ]
    },
    {
     "name": "stdout",
     "output_type": "stream",
     "text": [
      "INFO:SDSandBoxSimulator:Waiting for inital obs\n"
     ]
    },
    {
     "name": "stderr",
     "output_type": "stream",
     "text": [
      "2024-01-18 10:34:14,468 INFO     Waiting for inital obs\n"
     ]
    },
    {
     "name": "stdout",
     "output_type": "stream",
     "text": [
      "INFO:SDSandBoxSimulator:Waiting for inital obs\n"
     ]
    },
    {
     "name": "stderr",
     "output_type": "stream",
     "text": [
      "2024-01-18 10:34:14,510 INFO     Waiting for inital obs\n"
     ]
    },
    {
     "name": "stdout",
     "output_type": "stream",
     "text": [
      "INFO:SDSandBoxSimulator:Waiting for inital obs\n"
     ]
    },
    {
     "name": "stderr",
     "output_type": "stream",
     "text": [
      "2024-01-18 10:34:14,552 INFO     Waiting for inital obs\n"
     ]
    },
    {
     "name": "stdout",
     "output_type": "stream",
     "text": [
      "INFO:SDSandBoxSimulator:Waiting for inital obs\n"
     ]
    },
    {
     "name": "stderr",
     "output_type": "stream",
     "text": [
      "2024-01-18 10:34:14,594 INFO     Waiting for inital obs\n"
     ]
    },
    {
     "name": "stdout",
     "output_type": "stream",
     "text": [
      "INFO:SDSandBoxSimulator:Waiting for inital obs\n"
     ]
    },
    {
     "name": "stderr",
     "output_type": "stream",
     "text": [
      "2024-01-18 10:34:14,636 INFO     Waiting for inital obs\n"
     ]
    },
    {
     "name": "stdout",
     "output_type": "stream",
     "text": [
      "INFO:SDSandBoxSimulator:Waiting for inital obs\n"
     ]
    },
    {
     "name": "stderr",
     "output_type": "stream",
     "text": [
      "2024-01-18 10:34:14,677 INFO     Waiting for inital obs\n"
     ]
    },
    {
     "name": "stdout",
     "output_type": "stream",
     "text": [
      "INFO:DonkeySimMsgHandler:DonkeySimMsgHandler: ----- Car Created With Data {'msg_type': 'car_loaded'} -----\n",
      "INFO:SDSandBoxSimulator:Waiting for inital obs\n"
     ]
    },
    {
     "name": "stderr",
     "output_type": "stream",
     "text": [
      "2024-01-18 10:34:14,729 INFO     Waiting for inital obs\n",
      "2024-01-18 10:34:14,719 INFO     DonkeySimMsgHandler: ----- Car Created With Data {'msg_type': 'car_loaded'} -----\n"
     ]
    },
    {
     "name": "stdout",
     "output_type": "stream",
     "text": [
      "INFO:SDSandBoxSimulator:Waiting for inital obs\n"
     ]
    },
    {
     "name": "stderr",
     "output_type": "stream",
     "text": [
      "2024-01-18 10:34:14,781 INFO     Waiting for inital obs\n"
     ]
    },
    {
     "name": "stdout",
     "output_type": "stream",
     "text": [
      "Segment lengths are None\n",
      "Started Road Generation\n",
      "Road Instance 0, angle: -4, 25: [(47.999939999999995, 24.969459999999998, 0.6074528, 4.0), (47.99994, 49.96946, 0.6074528, 4.0), (50.17883356869146, 74.87432745229364, 0.6074528, 4.0)]\n",
      "Road Instance 1, angle: 3, 25: [(47.999939999999995, 24.969459999999998, 0.6074528, 4.0), (47.99994, 49.96946, 0.6074528, 4.0), (50.17883356869146, 74.87432745229364, 0.6074528, 4.0), (51.48723247476506, 99.84006582115799, 0.6074528, 4.0)]\n",
      "Road Instance 2, angle: 12, 25: [(47.999939999999995, 24.969459999999998, 0.6074528, 4.0), (47.99994, 49.96946, 0.6074528, 4.0), (50.17883356869146, 74.87432745229364, 0.6074528, 4.0), (51.48723247476506, 99.84006582115799, 0.6074528, 4.0), (47.57637084875929, 124.53227433603644, 0.6074528, 4.0)]\n",
      "Road Instance 3, angle: -15, 25: [(47.999939999999995, 24.969459999999998, 0.6074528, 4.0), (47.99994, 49.96946, 0.6074528, 4.0), (50.17883356869146, 74.87432745229364, 0.6074528, 4.0), (51.48723247476506, 99.84006582115799, 0.6074528, 4.0), (47.57637084875929, 124.53227433603644, 0.6074528, 4.0), (50.18958243045063, 149.39532172024326, 0.6074528, 4.0)]\n",
      "Road Instance 4, angle: -17, 25: [(47.999939999999995, 24.969459999999998, 0.6074528, 4.0), (47.99994, 49.96946, 0.6074528, 4.0), (50.17883356869146, 74.87432745229364, 0.6074528, 4.0), (51.48723247476506, 99.84006582115799, 0.6074528, 4.0), (47.57637084875929, 124.53227433603644, 0.6074528, 4.0), (50.18958243045063, 149.39532172024326, 0.6074528, 4.0), (60.357998507345634, 172.2339581613083, 0.6074528, 4.0)]\n",
      "Road Instance 5, angle: 10, 25: [(47.999939999999995, 24.969459999999998, 0.6074528, 4.0), (47.99994, 49.96946, 0.6074528, 4.0), (50.17883356869146, 74.87432745229364, 0.6074528, 4.0), (51.48723247476506, 99.84006582115799, 0.6074528, 4.0), (47.57637084875929, 124.53227433603644, 0.6074528, 4.0), (50.18958243045063, 149.39532172024326, 0.6074528, 4.0), (60.357998507345634, 172.2339581613083, 0.6074528, 4.0), (66.40604589733732, 196.49135131820822, 0.6074528, 4.0)]\n",
      "finished road generation\n",
      "IndividualToScenario: Function is fog_filter/fog_filter\n",
      "Segment lengths are None\n",
      "Started Road Generation\n",
      "Road Instance 0, angle: -12, 25: [(47.999939999999995, 24.969459999999998, 0.6074528, 4.0), (47.99994, 49.96946, 0.6074528, 4.0), (53.623716358596624, 74.32871161963088, 0.6074528, 4.0)]\n",
      "Road Instance 1, angle: 8, 25: [(47.999939999999995, 24.969459999999998, 0.6074528, 4.0), (47.99994, 49.96946, 0.6074528, 4.0), (53.623716358596624, 74.32871161963088, 0.6074528, 4.0), (55.802609927288074, 99.23357907192452, 0.6074528, 4.0)]\n",
      "Road Instance 2, angle: 0, 25: [(47.999939999999995, 24.969459999999998, 0.6074528, 4.0), (47.99994, 49.96946, 0.6074528, 4.0), (53.623716358596624, 74.32871161963088, 0.6074528, 4.0), (55.802609927288074, 99.23357907192452, 0.6074528, 4.0), (57.981503495979524, 124.13844652421817, 0.6074528, 4.0)]\n",
      "Road Instance 3, angle: 11, 25: [(47.999939999999995, 24.969459999999998, 0.6074528, 4.0), (47.99994, 49.96946, 0.6074528, 4.0), (53.623716358596624, 74.32871161963088, 0.6074528, 4.0), (55.802609927288074, 99.23357907192452, 0.6074528, 4.0), (57.981503495979524, 124.13844652421817, 0.6074528, 4.0), (55.368291914288186, 149.001493908425, 0.6074528, 4.0)]\n",
      "Road Instance 4, angle: 18, 25: [(47.999939999999995, 24.969459999999998, 0.6074528, 4.0), (47.99994, 49.96946, 0.6074528, 4.0), (53.623716358596624, 74.32871161963088, 0.6074528, 4.0), (55.802609927288074, 99.23357907192452, 0.6074528, 4.0), (57.981503495979524, 124.13844652421817, 0.6074528, 4.0), (55.368291914288186, 149.001493908425, 0.6074528, 4.0), (45.19987583739318, 171.84013034949004, 0.6074528, 4.0)]\n",
      "Road Instance 5, angle: -12, 25: [(47.999939999999995, 24.969459999999998, 0.6074528, 4.0), (47.99994, 49.96946, 0.6074528, 4.0), (53.623716358596624, 74.32871161963088, 0.6074528, 4.0), (55.802609927288074, 99.23357907192452, 0.6074528, 4.0), (57.981503495979524, 124.13844652421817, 0.6074528, 4.0), (55.368291914288186, 149.001493908425, 0.6074528, 4.0), (45.19987583739318, 171.84013034949004, 0.6074528, 4.0), (40.002083566949196, 196.29382036783517, 0.6074528, 4.0)]\n",
      "finished road generation\n",
      "IndividualToScenario: Function is the_scream/the_scream\n",
      "Segment lengths are None\n",
      "Started Road Generation\n",
      "Road Instance 0, angle: -9, 25: [(47.999939999999995, 24.969459999999998, 0.6074528, 4.0), (47.99994, 49.96946, 0.6074528, 4.0), (52.341144441673265, 74.58965382530519, 0.6074528, 4.0)]\n",
      "Road Instance 1, angle: 0, 25: [(47.999939999999995, 24.969459999999998, 0.6074528, 4.0), (47.99994, 49.96946, 0.6074528, 4.0), (52.341144441673265, 74.58965382530519, 0.6074528, 4.0), (57.11136932608689, 99.13033341149679, 0.6074528, 4.0)]\n",
      "Road Instance 2, angle: 14, 25: [(47.999939999999995, 24.969459999999998, 0.6074528, 4.0), (47.99994, 49.96946, 0.6074528, 4.0), (52.341144441673265, 74.58965382530519, 0.6074528, 4.0), (57.11136932608689, 99.13033341149679, 0.6074528, 4.0), (55.80297042001329, 124.09607178036114, 0.6074528, 4.0)]\n",
      "Road Instance 3, angle: -6, 25: [(47.999939999999995, 24.969459999999998, 0.6074528, 4.0), (47.99994, 49.96946, 0.6074528, 4.0), (52.341144441673265, 74.58965382530519, 0.6074528, 4.0), (57.11136932608689, 99.13033341149679, 0.6074528, 4.0), (55.80297042001329, 124.09607178036114, 0.6074528, 4.0), (57.11136932608689, 149.0618101492255, 0.6074528, 4.0)]\n",
      "Road Instance 4, angle: -8, 25: [(47.999939999999995, 24.969459999999998, 0.6074528, 4.0), (47.99994, 49.96946, 0.6074528, 4.0), (52.341144441673265, 74.58965382530519, 0.6074528, 4.0), (57.11136932608689, 99.13033341149679, 0.6074528, 4.0), (55.80297042001329, 124.09607178036114, 0.6074528, 4.0), (57.11136932608689, 149.0618101492255, 0.6074528, 4.0), (61.88159421050051, 173.6024897354171, 0.6074528, 4.0)]\n",
      "Road Instance 5, angle: -16, 25: [(47.999939999999995, 24.969459999999998, 0.6074528, 4.0), (47.99994, 49.96946, 0.6074528, 4.0), (52.341144441673265, 74.58965382530519, 0.6074528, 4.0), (57.11136932608689, 99.13033341149679, 0.6074528, 4.0), (55.80297042001329, 124.09607178036114, 0.6074528, 4.0), (57.11136932608689, 149.0618101492255, 0.6074528, 4.0), (61.88159421050051, 173.6024897354171, 0.6074528, 4.0), (73.23135670398918, 195.8776528401263, 0.6074528, 4.0)]\n",
      "finished road generation\n",
      "IndividualToScenario: Function is dynamic_object_overlay/dynamic_object_overlay\n",
      "Segment lengths are None\n",
      "Started Road Generation\n",
      "Road Instance 0, angle: -7, 25: [(47.999939999999995, 24.969459999999998, 0.6074528, 4.0), (47.99994, 49.96946, 0.6074528, 4.0), (51.47926752400164, 74.72616171853926, 0.6074528, 4.0)]\n",
      "Road Instance 1, angle: 14, 25: [(47.999939999999995, 24.969459999999998, 0.6074528, 4.0), (47.99994, 49.96946, 0.6074528, 4.0), (51.47926752400164, 74.72616171853926, 0.6074528, 4.0), (48.866055942310304, 99.5892091027461, 0.6074528, 4.0)]\n",
      "Road Instance 2, angle: 7, 25: [(47.999939999999995, 24.969459999999998, 0.6074528, 4.0), (47.99994, 49.96946, 0.6074528, 4.0), (51.47926752400164, 74.72616171853926, 0.6074528, 4.0), (48.866055942310304, 99.5892091027461, 0.6074528, 4.0), (43.24227958371368, 123.94846072237698, 0.6074528, 4.0)]\n",
      "Road Instance 3, angle: 11, 25: [(47.999939999999995, 24.969459999999998, 0.6074528, 4.0), (47.99994, 49.96946, 0.6074528, 4.0), (51.47926752400164, 74.72616171853926, 0.6074528, 4.0), (48.866055942310304, 99.5892091027461, 0.6074528, 4.0), (43.24227958371368, 123.94846072237698, 0.6074528, 4.0), (33.47400137148183, 146.961082058688, 0.6074528, 4.0)]\n",
      "Road Instance 4, angle: -8, 25: [(47.999939999999995, 24.969459999999998, 0.6074528, 4.0), (47.99994, 49.96946, 0.6074528, 4.0), (51.47926752400164, 74.72616171853926, 0.6074528, 4.0), (48.866055942310304, 99.5892091027461, 0.6074528, 4.0), (43.24227958371368, 123.94846072237698, 0.6074528, 4.0), (33.47400137148183, 146.961082058688, 0.6074528, 4.0), (27.003525243918812, 171.1092277159147, 0.6074528, 4.0)]\n",
      "Road Instance 5, angle: 10, 25: [(47.999939999999995, 24.969459999999998, 0.6074528, 4.0), (47.99994, 49.96946, 0.6074528, 4.0), (51.47926752400164, 74.72616171853926, 0.6074528, 4.0), (48.866055942310304, 99.5892091027461, 0.6074528, 4.0), (43.24227958371368, 123.94846072237698, 0.6074528, 4.0), (33.47400137148183, 146.961082058688, 0.6074528, 4.0), (27.003525243918812, 171.1092277159147, 0.6074528, 4.0), (16.43806870040133, 193.76692239183095, 0.6074528, 4.0)]\n",
      "finished road generation\n",
      "IndividualToScenario: Function is canny_edges_mapping/canny_edges_mapping\n",
      "Segment lengths are None\n",
      "Started Road Generation\n",
      "Road Instance 0, angle: -7, 25: [(47.999939999999995, 24.969459999999998, 0.6074528, 4.0), (47.99994, 49.96946, 0.6074528, 4.0), (51.47926752400164, 74.72616171853926, 0.6074528, 4.0)]\n",
      "Road Instance 1, angle: 0, 25: [(47.999939999999995, 24.969459999999998, 0.6074528, 4.0), (47.99994, 49.96946, 0.6074528, 4.0), (51.47926752400164, 74.72616171853926, 0.6074528, 4.0), (54.95859504800328, 99.48286343707852, 0.6074528, 4.0)]\n",
      "Road Instance 2, angle: 7, 25: [(47.999939999999995, 24.969459999999998, 0.6074528, 4.0), (47.99994, 49.96946, 0.6074528, 4.0), (51.47926752400164, 74.72616171853926, 0.6074528, 4.0), (54.95859504800328, 99.48286343707852, 0.6074528, 4.0), (55.39490520893537, 124.4790558159883, 0.6074528, 4.0)]\n",
      "Road Instance 3, angle: -6, 25: [(47.999939999999995, 24.969459999999998, 0.6074528, 4.0), (47.99994, 49.96946, 0.6074528, 4.0), (51.47926752400164, 74.72616171853926, 0.6074528, 4.0), (54.95859504800328, 99.48286343707852, 0.6074528, 4.0), (55.39490520893537, 124.4790558159883, 0.6074528, 4.0), (58.441638794064055, 149.29270960702135, 0.6074528, 4.0)]\n",
      "Road Instance 4, angle: -8, 25: [(47.999939999999995, 24.969459999999998, 0.6074528, 4.0), (47.99994, 49.96946, 0.6074528, 4.0), (51.47926752400164, 74.72616171853926, 0.6074528, 4.0), (54.95859504800328, 99.48286343707852, 0.6074528, 4.0), (55.39490520893537, 124.4790558159883, 0.6074528, 4.0), (58.441638794064055, 149.29270960702135, 0.6074528, 4.0), (64.91211492162708, 173.44085526424806, 0.6074528, 4.0)]\n",
      "Road Instance 5, angle: -16, 25: [(47.999939999999995, 24.969459999999998, 0.6074528, 4.0), (47.99994, 49.96946, 0.6074528, 4.0), (51.47926752400164, 74.72616171853926, 0.6074528, 4.0), (54.95859504800328, 99.48286343707852, 0.6074528, 4.0), (55.39490520893537, 124.4790558159883, 0.6074528, 4.0), (58.441638794064055, 149.29270960702135, 0.6074528, 4.0), (64.91211492162708, 173.44085526424806, 0.6074528, 4.0), (78.1600965274572, 194.6420576681587, 0.6074528, 4.0)]\n",
      "finished road generation\n",
      "IndividualToScenario: Function is false_color_filter/false_color_filter\n",
      "Segment lengths are None\n",
      "Started Road Generation\n",
      "Road Instance 0, angle: -9, 25: [(47.999939999999995, 24.969459999999998, 0.6074528, 4.0), (47.99994, 49.96946, 0.6074528, 4.0), (52.341144441673265, 74.58965382530519, 0.6074528, 4.0)]\n",
      "Road Instance 1, angle: 14, 25: [(47.999939999999995, 24.969459999999998, 0.6074528, 4.0), (47.99994, 49.96946, 0.6074528, 4.0), (52.341144441673265, 74.58965382530519, 0.6074528, 4.0), (51.032745535599666, 99.55539219416954, 0.6074528, 4.0)]\n",
      "Road Instance 2, angle: 15, 25: [(47.999939999999995, 24.969459999999998, 0.6074528, 4.0), (47.99994, 49.96946, 0.6074528, 4.0), (52.341144441673265, 74.58965382530519, 0.6074528, 4.0), (51.032745535599666, 99.55539219416954, 0.6074528, 4.0), (43.307320676225984, 123.33180510154838, 0.6074528, 4.0)]\n",
      "Road Instance 3, angle: -6, 25: [(47.999939999999995, 24.969459999999998, 0.6074528, 4.0), (47.99994, 49.96946, 0.6074528, 4.0), (52.341144441673265, 74.58965382530519, 0.6074528, 4.0), (51.032745535599666, 99.55539219416954, 0.6074528, 4.0), (43.307320676225984, 123.33180510154838, 0.6074528, 4.0), (38.109528405782, 147.78549511989354, 0.6074528, 4.0)]\n",
      "Road Instance 4, angle: -8, 25: [(47.999939999999995, 24.969459999999998, 0.6074528, 4.0), (47.99994, 49.96946, 0.6074528, 4.0), (52.341144441673265, 74.58965382530519, 0.6074528, 4.0), (51.032745535599666, 99.55539219416954, 0.6074528, 4.0), (43.307320676225984, 123.33180510154838, 0.6074528, 4.0), (38.109528405782, 147.78549511989354, 0.6074528, 4.0), (36.8011294997084, 172.7512334887579, 0.6074528, 4.0)]\n",
      "Road Instance 5, angle: 9, 25: [(47.999939999999995, 24.969459999999998, 0.6074528, 4.0), (47.99994, 49.96946, 0.6074528, 4.0), (52.341144441673265, 74.58965382530519, 0.6074528, 4.0), (51.032745535599666, 99.55539219416954, 0.6074528, 4.0), (43.307320676225984, 123.33180510154838, 0.6074528, 4.0), (38.109528405782, 147.78549511989354, 0.6074528, 4.0), (36.8011294997084, 172.7512334887579, 0.6074528, 4.0), (31.60333722926442, 197.20492350710305, 0.6074528, 4.0)]\n",
      "finished road generation\n",
      "IndividualToScenario: Function is zigzag_mapping/zigzag_mapping\n",
      "Loading Neural Style Transfer the_scream from perturbationdrive/NeuralStyleTransfer/models/instance_norm/the_scream.t7\n",
      "----- Finished Perturbation-Controller set up -----\n",
      "INFO:SDSandBoxSimulator:Reset the scenario\n"
     ]
    },
    {
     "name": "stderr",
     "output_type": "stream",
     "text": [
      "2024-01-18 10:34:17,247 INFO     Reset the scenario\n"
     ]
    },
    {
     "name": "stdout",
     "output_type": "stream",
     "text": [
      "fps 18.53\n",
      "fps 19.73\n",
      "fps 19.72\n",
      "fps 19.72\n",
      "fps 19.71\n",
      "fps 19.73\n",
      "fps 19.72\n",
      "Exception: [Errno 54] Connection reset by peer\n",
      "CRITICAL:DonkeySimMsgHandler:DonkeySimMsgHandler: +++++ Warning: Donkey Sim Aborted +++++\n"
     ]
    },
    {
     "name": "stderr",
     "output_type": "stream",
     "text": [
      "2024-01-18 10:34:53,971 CRITICAL DonkeySimMsgHandler: +++++ Warning: Donkey Sim Aborted +++++\n"
     ]
    },
    {
     "name": "stdout",
     "output_type": "stream",
     "text": [
      "INFO:DonkeySimMsgHandler:DonkeySimMsgHandler: +++++ Warning: Donkey Sim Message Stoped +++++\n"
     ]
    },
    {
     "name": "stderr",
     "output_type": "stream",
     "text": [
      "2024-01-18 10:34:53,973 INFO     DonkeySimMsgHandler: +++++ Warning: Donkey Sim Message Stoped +++++\n"
     ]
    },
    {
     "name": "stdout",
     "output_type": "stream",
     "text": [
      "fps 19.71\n",
      "fps 19.72\n",
      "INFO:SDSandBoxSimulator:SDSandBox: Done\n"
     ]
    },
    {
     "name": "stderr",
     "output_type": "stream",
     "text": [
      "2024-01-18 10:35:03,420 INFO     SDSandBox: Done\n"
     ]
    },
    {
     "name": "stdout",
     "output_type": "stream",
     "text": [
      "SDSandBox: Finished scenario\n",
      "fps 19.66\n",
      "INFO:SDSandBoxSimulator:Reset the scenario\n"
     ]
    },
    {
     "name": "stderr",
     "output_type": "stream",
     "text": [
      "2024-01-18 10:35:05,938 INFO     Reset the scenario\n"
     ]
    },
    {
     "name": "stdout",
     "output_type": "stream",
     "text": [
      "fps 19.71\n",
      "fps 19.67\n",
      "fps 19.63\n",
      "fps 19.59\n",
      "SDSandBox: Finished scenario\n",
      "INFO:SDSandBoxSimulator:Reset the scenario\n"
     ]
    },
    {
     "name": "stderr",
     "output_type": "stream",
     "text": [
      "2024-01-18 10:35:28,446 INFO     Reset the scenario\n"
     ]
    },
    {
     "name": "stdout",
     "output_type": "stream",
     "text": [
      "fps 19.65\n",
      "fps 19.71\n",
      "fps 19.72\n",
      "fps 19.72\n",
      "fps 19.71\n",
      "fps 19.72\n",
      "SDSandBox: Finished scenario\n",
      "INFO:SDSandBoxSimulator:Reset the scenario\n"
     ]
    },
    {
     "name": "stderr",
     "output_type": "stream",
     "text": [
      "2024-01-18 10:36:00,711 INFO     Reset the scenario\n"
     ]
    },
    {
     "name": "stdout",
     "output_type": "stream",
     "text": [
      "fps 19.67\n",
      "fps 19.74\n",
      "fps 19.74\n",
      "fps 19.68\n",
      "SDSandBox: Finished scenario\n",
      "fps 19.68\n",
      "INFO:SDSandBoxSimulator:Reset the scenario\n"
     ]
    },
    {
     "name": "stderr",
     "output_type": "stream",
     "text": [
      "2024-01-18 10:36:23,038 INFO     Reset the scenario\n"
     ]
    },
    {
     "name": "stdout",
     "output_type": "stream",
     "text": [
      "fps 19.74\n",
      "fps 19.70\n",
      "fps 19.73\n",
      "fps 19.70\n",
      "fps 19.70\n",
      "fps 19.72\n",
      "fps 19.69\n",
      "INFO:SDSandBoxSimulator:SDSandBox: Done\n"
     ]
    },
    {
     "name": "stderr",
     "output_type": "stream",
     "text": [
      "2024-01-18 10:36:59,287 INFO     SDSandBox: Done\n"
     ]
    },
    {
     "name": "stdout",
     "output_type": "stream",
     "text": [
      "SDSandBox: Finished scenario\n",
      "INFO:SDSandBoxSimulator:Reset the scenario\n"
     ]
    },
    {
     "name": "stderr",
     "output_type": "stream",
     "text": [
      "2024-01-18 10:37:01,813 INFO     Reset the scenario\n"
     ]
    },
    {
     "name": "stdout",
     "output_type": "stream",
     "text": [
      "fps 19.68\n",
      "fps 19.74\n",
      "fps 19.70\n",
      "fps 19.72\n",
      "fps 19.71\n",
      "fps 19.72\n",
      "SDSandBox: Finished scenario\n",
      "fps 19.66\n",
      "INFO:DonkeySimMsgHandler:DonkeySimMsgHandler: +++++ Warning: Donkey Sim Disconnected +++++\n"
     ]
    },
    {
     "name": "stderr",
     "output_type": "stream",
     "text": [
      "2024-01-18 10:37:32,946 INFO     DonkeySimMsgHandler: +++++ Warning: Donkey Sim Disconnected +++++\n"
     ]
    },
    {
     "name": "stdout",
     "output_type": "stream",
     "text": [
      "INFO:DonkeyProcess:Closing donkey sim subprocess\n"
     ]
    },
    {
     "name": "stderr",
     "output_type": "stream",
     "text": [
      "2024-01-18 10:37:32,949 INFO     Closing donkey sim subprocess\n",
      "2024-01-18 10:37:33,068 INFO     Running evaluation number 3\n"
     ]
    },
    {
     "name": "stdout",
     "output_type": "stream",
     "text": [
      "     2 |       12 |      2 |  1.0000000000 |         ideal\n",
      "Using model: generated_dave_v5\n",
      "INFO:DonkeyProcess:This is the launch string /Users/hannesleonhard/Documents/BachelorWInfo/Robustness-SDC/PerturbationDrive/./examples/self_driving_sandbox_donkey/sim/donkey-sim.app/Contents/MacOS/Simulator\n"
     ]
    },
    {
     "name": "stderr",
     "output_type": "stream",
     "text": [
      "2024-01-18 10:37:33,251 INFO     This is the launch string /Users/hannesleonhard/Documents/BachelorWInfo/Robustness-SDC/PerturbationDrive/./examples/self_driving_sandbox_donkey/sim/donkey-sim.app/Contents/MacOS/Simulator\n"
     ]
    },
    {
     "name": "stdout",
     "output_type": "stream",
     "text": [
      "[UnityMemory] Configuration Parameters - Can be set up in boot.config\n",
      "    \"memorysetup-bucket-allocator-granularity=16\"\n",
      "    \"memorysetup-bucket-allocator-bucket-count=8\"\n",
      "    \"memorysetup-bucket-allocator-block-size=4194304\"\n",
      "    \"memorysetup-bucket-allocator-block-count=1\"\n",
      "    \"memorysetup-main-allocator-block-size=16777216\"\n",
      "    \"memorysetup-thread-allocator-block-size=16777216\"\n",
      "    \"memorysetup-gfx-main-allocator-block-size=16777216\"\n",
      "    \"memorysetup-gfx-thread-allocator-block-size=16777216\"\n",
      "    \"memorysetup-cache-allocator-block-size=4194304\"\n",
      "    \"memorysetup-typetree-allocator-block-size=2097152\"\n",
      "    \"memorysetup-profiler-bucket-allocator-granularity=16\"\n",
      "    \"memorysetup-profiler-bucket-allocator-bucket-count=8\"\n",
      "    \"memorysetup-profiler-bucket-allocator-block-size=4194304\"\n",
      "    \"memorysetup-profiler-bucket-allocator-block-count=1\"\n",
      "    \"memorysetup-profiler-allocator-block-size=16777216\"\n",
      "    \"memorysetup-profiler-editor-allocator-block-size=1048576\"\n",
      "    \"memorysetup-temp-allocator-size-main=4194304\"\n",
      "    \"memorysetup-job-temp-allocator-block-size=2097152\"\n",
      "    \"memorysetup-job-temp-allocator-block-size-background=1048576\"\n",
      "    \"memorysetup-job-temp-allocator-reduction-small-platforms=262144\"\n",
      "    \"memorysetup-allocator-temp-initial-block-size-main=262144\"\n",
      "    \"memorysetup-allocator-temp-initial-block-size-worker=262144\"\n",
      "    \"memorysetup-temp-allocator-size-background-worker=32768\"\n",
      "    \"memorysetup-temp-allocator-size-job-worker=262144\"\n",
      "    \"memorysetup-temp-allocator-size-preload-manager=262144\"\n",
      "    \"memorysetup-temp-allocator-size-nav-mesh-worker=65536\"\n",
      "    \"memorysetup-temp-allocator-size-audio-worker=65536\"\n",
      "    \"memorysetup-temp-allocator-size-cloud-worker=32768\"\n",
      "    \"memorysetup-temp-allocator-size-gfx=262144\"\n",
      "INFO:DonkeyProcess:donkey subprocess started\n"
     ]
    },
    {
     "name": "stderr",
     "output_type": "stream",
     "text": [
      "2024-01-18 10:37:53,265 INFO     donkey subprocess started\n"
     ]
    },
    {
     "name": "stdout",
     "output_type": "stream",
     "text": [
      "INFO:SDSandBoxSimulator:Waiting for inital obs\n"
     ]
    },
    {
     "name": "stderr",
     "output_type": "stream",
     "text": [
      "2024-01-18 10:37:53,324 INFO     Waiting for inital obs\n"
     ]
    },
    {
     "name": "stdout",
     "output_type": "stream",
     "text": [
      "INFO:SDSandBoxSimulator:Waiting for inital obs\n"
     ]
    },
    {
     "name": "stderr",
     "output_type": "stream",
     "text": [
      "2024-01-18 10:37:53,367 INFO     Waiting for inital obs\n"
     ]
    },
    {
     "name": "stdout",
     "output_type": "stream",
     "text": [
      "INFO:SDSandBoxSimulator:Waiting for inital obs\n"
     ]
    },
    {
     "name": "stderr",
     "output_type": "stream",
     "text": [
      "2024-01-18 10:37:53,409 INFO     Waiting for inital obs\n"
     ]
    },
    {
     "name": "stdout",
     "output_type": "stream",
     "text": [
      "INFO:SDSandBoxSimulator:Waiting for inital obs\n"
     ]
    },
    {
     "name": "stderr",
     "output_type": "stream",
     "text": [
      "2024-01-18 10:37:53,450 INFO     Waiting for inital obs\n"
     ]
    },
    {
     "name": "stdout",
     "output_type": "stream",
     "text": [
      "INFO:SDSandBoxSimulator:Waiting for inital obs\n"
     ]
    },
    {
     "name": "stderr",
     "output_type": "stream",
     "text": [
      "2024-01-18 10:37:53,492 INFO     Waiting for inital obs\n"
     ]
    },
    {
     "name": "stdout",
     "output_type": "stream",
     "text": [
      "INFO:SDSandBoxSimulator:Waiting for inital obs\n"
     ]
    },
    {
     "name": "stderr",
     "output_type": "stream",
     "text": [
      "2024-01-18 10:37:53,537 INFO     Waiting for inital obs\n"
     ]
    },
    {
     "name": "stdout",
     "output_type": "stream",
     "text": [
      "INFO:SDSandBoxSimulator:Waiting for inital obs\n"
     ]
    },
    {
     "name": "stderr",
     "output_type": "stream",
     "text": [
      "2024-01-18 10:37:53,579 INFO     Waiting for inital obs\n"
     ]
    },
    {
     "name": "stdout",
     "output_type": "stream",
     "text": [
      "INFO:SDSandBoxSimulator:Waiting for inital obs\n"
     ]
    },
    {
     "name": "stderr",
     "output_type": "stream",
     "text": [
      "2024-01-18 10:37:53,621 INFO     Waiting for inital obs\n"
     ]
    },
    {
     "name": "stdout",
     "output_type": "stream",
     "text": [
      "INFO:SDSandBoxSimulator:Waiting for inital obs\n"
     ]
    },
    {
     "name": "stderr",
     "output_type": "stream",
     "text": [
      "2024-01-18 10:37:53,662 INFO     Waiting for inital obs\n"
     ]
    },
    {
     "name": "stdout",
     "output_type": "stream",
     "text": [
      "INFO:DonkeySimMsgHandler:DonkeySimMsgHandler: ----- Car Created With Data {'msg_type': 'car_loaded'} -----\n"
     ]
    },
    {
     "name": "stderr",
     "output_type": "stream",
     "text": [
      "2024-01-18 10:37:53,690 INFO     DonkeySimMsgHandler: ----- Car Created With Data {'msg_type': 'car_loaded'} -----\n"
     ]
    },
    {
     "name": "stdout",
     "output_type": "stream",
     "text": [
      "INFO:SDSandBoxSimulator:Waiting for inital obs\n"
     ]
    },
    {
     "name": "stderr",
     "output_type": "stream",
     "text": [
      "2024-01-18 10:37:53,704 INFO     Waiting for inital obs\n"
     ]
    },
    {
     "name": "stdout",
     "output_type": "stream",
     "text": [
      "INFO:SDSandBoxSimulator:Waiting for inital obs\n"
     ]
    },
    {
     "name": "stderr",
     "output_type": "stream",
     "text": [
      "2024-01-18 10:37:53,746 INFO     Waiting for inital obs\n"
     ]
    },
    {
     "name": "stdout",
     "output_type": "stream",
     "text": [
      "Segment lengths are None\n",
      "Started Road Generation\n",
      "Road Instance 0, angle: -9, 25: [(47.999939999999995, 24.969459999999998, 0.6074528, 4.0), (47.99994, 49.96946, 0.6074528, 4.0), (52.341144441673265, 74.58965382530519, 0.6074528, 4.0)]\n",
      "Road Instance 1, angle: 14, 25: [(47.999939999999995, 24.969459999999998, 0.6074528, 4.0), (47.99994, 49.96946, 0.6074528, 4.0), (52.341144441673265, 74.58965382530519, 0.6074528, 4.0), (51.032745535599666, 99.55539219416954, 0.6074528, 4.0)]\n",
      "Road Instance 2, angle: 14, 25: [(47.999939999999995, 24.969459999999998, 0.6074528, 4.0), (47.99994, 49.96946, 0.6074528, 4.0), (52.341144441673265, 74.58965382530519, 0.6074528, 4.0), (51.032745535599666, 99.55539219416954, 0.6074528, 4.0), (43.72345291753125, 123.46301109324543, 0.6074528, 4.0)]\n",
      "Road Instance 3, angle: -6, 25: [(47.999939999999995, 24.969459999999998, 0.6074528, 4.0), (47.99994, 49.96946, 0.6074528, 4.0), (52.341144441673265, 74.58965382530519, 0.6074528, 4.0), (51.032745535599666, 99.55539219416954, 0.6074528, 4.0), (43.72345291753125, 123.46301109324543, 0.6074528, 4.0), (38.953228033117625, 148.00369067943703, 0.6074528, 4.0)]\n",
      "Road Instance 4, angle: -8, 25: [(47.999939999999995, 24.969459999999998, 0.6074528, 4.0), (47.99994, 49.96946, 0.6074528, 4.0), (52.341144441673265, 74.58965382530519, 0.6074528, 4.0), (51.032745535599666, 99.55539219416954, 0.6074528, 4.0), (43.72345291753125, 123.46301109324543, 0.6074528, 4.0), (38.953228033117625, 148.00369067943703, 0.6074528, 4.0), (37.64482912704403, 172.96942904830138, 0.6074528, 4.0)]\n",
      "Road Instance 5, angle: 9, 25: [(47.999939999999995, 24.969459999999998, 0.6074528, 4.0), (47.99994, 49.96946, 0.6074528, 4.0), (52.341144441673265, 74.58965382530519, 0.6074528, 4.0), (51.032745535599666, 99.55539219416954, 0.6074528, 4.0), (43.72345291753125, 123.46301109324543, 0.6074528, 4.0), (38.953228033117625, 148.00369067943703, 0.6074528, 4.0), (37.64482912704403, 172.96942904830138, 0.6074528, 4.0), (32.44703685660004, 197.4231190666465, 0.6074528, 4.0)]\n",
      "finished road generation\n",
      "IndividualToScenario: Function is zigzag_mapping/zigzag_mapping\n",
      "Segment lengths are None\n",
      "Started Road Generation\n",
      "Road Instance 0, angle: -7, 25: [(47.999939999999995, 24.969459999999998, 0.6074528, 4.0), (47.99994, 49.96946, 0.6074528, 4.0), (51.47926752400164, 74.72616171853926, 0.6074528, 4.0)]\n",
      "Road Instance 1, angle: 14, 25: [(47.999939999999995, 24.969459999999998, 0.6074528, 4.0), (47.99994, 49.96946, 0.6074528, 4.0), (51.47926752400164, 74.72616171853926, 0.6074528, 4.0), (48.866055942310304, 99.5892091027461, 0.6074528, 4.0)]\n",
      "Road Instance 2, angle: 7, 25: [(47.999939999999995, 24.969459999999998, 0.6074528, 4.0), (47.99994, 49.96946, 0.6074528, 4.0), (51.47926752400164, 74.72616171853926, 0.6074528, 4.0), (48.866055942310304, 99.5892091027461, 0.6074528, 4.0), (43.24227958371368, 123.94846072237698, 0.6074528, 4.0)]\n",
      "Road Instance 3, angle: 11, 25: [(47.999939999999995, 24.969459999999998, 0.6074528, 4.0), (47.99994, 49.96946, 0.6074528, 4.0), (51.47926752400164, 74.72616171853926, 0.6074528, 4.0), (48.866055942310304, 99.5892091027461, 0.6074528, 4.0), (43.24227958371368, 123.94846072237698, 0.6074528, 4.0), (33.47400137148183, 146.961082058688, 0.6074528, 4.0)]\n",
      "Road Instance 4, angle: -8, 25: [(47.999939999999995, 24.969459999999998, 0.6074528, 4.0), (47.99994, 49.96946, 0.6074528, 4.0), (51.47926752400164, 74.72616171853926, 0.6074528, 4.0), (48.866055942310304, 99.5892091027461, 0.6074528, 4.0), (43.24227958371368, 123.94846072237698, 0.6074528, 4.0), (33.47400137148183, 146.961082058688, 0.6074528, 4.0), (27.003525243918812, 171.1092277159147, 0.6074528, 4.0)]\n",
      "Road Instance 5, angle: 10, 25: [(47.999939999999995, 24.969459999999998, 0.6074528, 4.0), (47.99994, 49.96946, 0.6074528, 4.0), (51.47926752400164, 74.72616171853926, 0.6074528, 4.0), (48.866055942310304, 99.5892091027461, 0.6074528, 4.0), (43.24227958371368, 123.94846072237698, 0.6074528, 4.0), (33.47400137148183, 146.961082058688, 0.6074528, 4.0), (27.003525243918812, 171.1092277159147, 0.6074528, 4.0), (16.43806870040133, 193.76692239183095, 0.6074528, 4.0)]\n",
      "finished road generation\n",
      "IndividualToScenario: Function is canny_edges_mapping/canny_edges_mapping\n",
      "Segment lengths are None\n",
      "Started Road Generation\n",
      "Road Instance 0, angle: -9, 25: [(47.999939999999995, 24.969459999999998, 0.6074528, 4.0), (47.99994, 49.96946, 0.6074528, 4.0), (52.341144441673265, 74.58965382530519, 0.6074528, 4.0)]\n",
      "Road Instance 1, angle: 14, 25: [(47.999939999999995, 24.969459999999998, 0.6074528, 4.0), (47.99994, 49.96946, 0.6074528, 4.0), (52.341144441673265, 74.58965382530519, 0.6074528, 4.0), (51.032745535599666, 99.55539219416954, 0.6074528, 4.0)]\n",
      "Road Instance 2, angle: 15, 25: [(47.999939999999995, 24.969459999999998, 0.6074528, 4.0), (47.99994, 49.96946, 0.6074528, 4.0), (52.341144441673265, 74.58965382530519, 0.6074528, 4.0), (51.032745535599666, 99.55539219416954, 0.6074528, 4.0), (43.307320676225984, 123.33180510154838, 0.6074528, 4.0)]\n",
      "Road Instance 3, angle: 11, 25: [(47.999939999999995, 24.969459999999998, 0.6074528, 4.0), (47.99994, 49.96946, 0.6074528, 4.0), (52.341144441673265, 74.58965382530519, 0.6074528, 4.0), (51.032745535599666, 99.55539219416954, 0.6074528, 4.0), (43.307320676225984, 123.33180510154838, 0.6074528, 4.0), (31.18708017006756, 145.19729778003327, 0.6074528, 4.0)]\n",
      "Road Instance 4, angle: -8, 25: [(47.999939999999995, 24.969459999999998, 0.6074528, 4.0), (47.99994, 49.96946, 0.6074528, 4.0), (52.341144441673265, 74.58965382530519, 0.6074528, 4.0), (51.032745535599666, 99.55539219416954, 0.6074528, 4.0), (43.307320676225984, 123.33180510154838, 0.6074528, 4.0), (31.18708017006756, 145.19729778003327, 0.6074528, 4.0), (22.22788143143505, 168.53680844246333, 0.6074528, 4.0)]\n",
      "Road Instance 5, angle: 10, 25: [(47.999939999999995, 24.969459999999998, 0.6074528, 4.0), (47.99994, 49.96946, 0.6074528, 4.0), (52.341144441673265, 74.58965382530519, 0.6074528, 4.0), (51.032745535599666, 99.55539219416954, 0.6074528, 4.0), (43.307320676225984, 123.33180510154838, 0.6074528, 4.0), (31.18708017006756, 145.19729778003327, 0.6074528, 4.0), (22.22788143143505, 168.53680844246333, 0.6074528, 4.0), (9.727881431435055, 190.1874435370743, 0.6074528, 4.0)]\n",
      "finished road generation\n",
      "IndividualToScenario: Function is dynamic_object_overlay/dynamic_object_overlay\n",
      "Segment lengths are None\n",
      "Started Road Generation\n",
      "Road Instance 0, angle: -9, 25: [(47.999939999999995, 24.969459999999998, 0.6074528, 4.0), (47.99994, 49.96946, 0.6074528, 4.0), (52.341144441673265, 74.58965382530519, 0.6074528, 4.0)]\n",
      "Road Instance 1, angle: 14, 25: [(47.999939999999995, 24.969459999999998, 0.6074528, 4.0), (47.99994, 49.96946, 0.6074528, 4.0), (52.341144441673265, 74.58965382530519, 0.6074528, 4.0), (51.032745535599666, 99.55539219416954, 0.6074528, 4.0)]\n",
      "Road Instance 2, angle: 14, 25: [(47.999939999999995, 24.969459999999998, 0.6074528, 4.0), (47.99994, 49.96946, 0.6074528, 4.0), (52.341144441673265, 74.58965382530519, 0.6074528, 4.0), (51.032745535599666, 99.55539219416954, 0.6074528, 4.0), (43.72345291753125, 123.46301109324543, 0.6074528, 4.0)]\n",
      "Road Instance 3, angle: 11, 25: [(47.999939999999995, 24.969459999999998, 0.6074528, 4.0), (47.99994, 49.96946, 0.6074528, 4.0), (52.341144441673265, 74.58965382530519, 0.6074528, 4.0), (51.032745535599666, 99.55539219416954, 0.6074528, 4.0), (43.72345291753125, 123.46301109324543, 0.6074528, 4.0), (31.986663847883975, 145.5367009147186, 0.6074528, 4.0)]\n",
      "Road Instance 4, angle: -8, 25: [(47.999939999999995, 24.969459999999998, 0.6074528, 4.0), (47.99994, 49.96946, 0.6074528, 4.0), (52.341144441673265, 74.58965382530519, 0.6074528, 4.0), (51.032745535599666, 99.55539219416954, 0.6074528, 4.0), (43.72345291753125, 123.46301109324543, 0.6074528, 4.0), (31.986663847883975, 145.5367009147186, 0.6074528, 4.0), (23.436160264742256, 169.02901643436633, 0.6074528, 4.0)]\n",
      "Road Instance 5, angle: 10, 25: [(47.999939999999995, 24.969459999999998, 0.6074528, 4.0), (47.99994, 49.96946, 0.6074528, 4.0), (52.341144441673265, 74.58965382530519, 0.6074528, 4.0), (51.032745535599666, 99.55539219416954, 0.6074528, 4.0), (43.72345291753125, 123.46301109324543, 0.6074528, 4.0), (31.986663847883975, 145.5367009147186, 0.6074528, 4.0), (23.436160264742256, 169.02901643436633, 0.6074528, 4.0), (10.93616026474226, 190.6796515289773, 0.6074528, 4.0)]\n",
      "finished road generation\n",
      "IndividualToScenario: Function is dynamic_object_overlay/dynamic_object_overlay\n",
      "Segment lengths are None\n",
      "Started Road Generation\n",
      "Road Instance 0, angle: -9, 25: [(47.999939999999995, 24.969459999999998, 0.6074528, 4.0), (47.99994, 49.96946, 0.6074528, 4.0), (52.341144441673265, 74.58965382530519, 0.6074528, 4.0)]\n",
      "Road Instance 1, angle: 0, 25: [(47.999939999999995, 24.969459999999998, 0.6074528, 4.0), (47.99994, 49.96946, 0.6074528, 4.0), (52.341144441673265, 74.58965382530519, 0.6074528, 4.0), (57.11136932608689, 99.13033341149679, 0.6074528, 4.0)]\n",
      "Road Instance 2, angle: 14, 25: [(47.999939999999995, 24.969459999999998, 0.6074528, 4.0), (47.99994, 49.96946, 0.6074528, 4.0), (52.341144441673265, 74.58965382530519, 0.6074528, 4.0), (57.11136932608689, 99.13033341149679, 0.6074528, 4.0), (55.80297042001329, 124.09607178036114, 0.6074528, 4.0)]\n",
      "Road Instance 3, angle: -6, 25: [(47.999939999999995, 24.969459999999998, 0.6074528, 4.0), (47.99994, 49.96946, 0.6074528, 4.0), (52.341144441673265, 74.58965382530519, 0.6074528, 4.0), (57.11136932608689, 99.13033341149679, 0.6074528, 4.0), (55.80297042001329, 124.09607178036114, 0.6074528, 4.0), (57.11136932608689, 149.0618101492255, 0.6074528, 4.0)]\n",
      "Road Instance 4, angle: -8, 25: [(47.999939999999995, 24.969459999999998, 0.6074528, 4.0), (47.99994, 49.96946, 0.6074528, 4.0), (52.341144441673265, 74.58965382530519, 0.6074528, 4.0), (57.11136932608689, 99.13033341149679, 0.6074528, 4.0), (55.80297042001329, 124.09607178036114, 0.6074528, 4.0), (57.11136932608689, 149.0618101492255, 0.6074528, 4.0), (61.88159421050051, 173.6024897354171, 0.6074528, 4.0)]\n",
      "Road Instance 5, angle: 10, 25: [(47.999939999999995, 24.969459999999998, 0.6074528, 4.0), (47.99994, 49.96946, 0.6074528, 4.0), (52.341144441673265, 74.58965382530519, 0.6074528, 4.0), (57.11136932608689, 99.13033341149679, 0.6074528, 4.0), (55.80297042001329, 124.09607178036114, 0.6074528, 4.0), (57.11136932608689, 149.0618101492255, 0.6074528, 4.0), (61.88159421050051, 173.6024897354171, 0.6074528, 4.0), (62.3179043714326, 198.5986821143269, 0.6074528, 4.0)]\n",
      "finished road generation\n",
      "IndividualToScenario: Function is dynamic_object_overlay/dynamic_object_overlay\n",
      "Segment lengths are None\n",
      "Started Road Generation\n",
      "Road Instance 0, angle: -9, 25: [(47.999939999999995, 24.969459999999998, 0.6074528, 4.0), (47.99994, 49.96946, 0.6074528, 4.0), (52.341144441673265, 74.58965382530519, 0.6074528, 4.0)]\n",
      "Road Instance 1, angle: 14, 25: [(47.999939999999995, 24.969459999999998, 0.6074528, 4.0), (47.99994, 49.96946, 0.6074528, 4.0), (52.341144441673265, 74.58965382530519, 0.6074528, 4.0), (51.032745535599666, 99.55539219416954, 0.6074528, 4.0)]\n",
      "Road Instance 2, angle: 14, 25: [(47.999939999999995, 24.969459999999998, 0.6074528, 4.0), (47.99994, 49.96946, 0.6074528, 4.0), (52.341144441673265, 74.58965382530519, 0.6074528, 4.0), (51.032745535599666, 99.55539219416954, 0.6074528, 4.0), (43.72345291753125, 123.46301109324543, 0.6074528, 4.0)]\n",
      "Road Instance 3, angle: 12, 25: [(47.999939999999995, 24.969459999999998, 0.6074528, 4.0), (47.99994, 49.96946, 0.6074528, 4.0), (52.341144441673265, 74.58965382530519, 0.6074528, 4.0), (51.032745535599666, 99.55539219416954, 0.6074528, 4.0), (43.72345291753125, 123.46301109324543, 0.6074528, 4.0), (31.603212411372823, 145.3285037717303, 0.6074528, 4.0)]\n",
      "Road Instance 4, angle: -8, 25: [(47.999939999999995, 24.969459999999998, 0.6074528, 4.0), (47.99994, 49.96946, 0.6074528, 4.0), (52.341144441673265, 74.58965382530519, 0.6074528, 4.0), (51.032745535599666, 99.55539219416954, 0.6074528, 4.0), (43.72345291753125, 123.46301109324543, 0.6074528, 4.0), (31.603212411372823, 145.3285037717303, 0.6074528, 4.0), (22.644013672740314, 168.66801443416034, 0.6074528, 4.0)]\n",
      "Road Instance 5, angle: -17, 25: [(47.999939999999995, 24.969459999999998, 0.6074528, 4.0), (47.99994, 49.96946, 0.6074528, 4.0), (52.341144441673265, 74.58965382530519, 0.6074528, 4.0), (51.032745535599666, 99.55539219416954, 0.6074528, 4.0), (43.72345291753125, 123.46301109324543, 0.6074528, 4.0), (31.603212411372823, 145.3285037717303, 0.6074528, 4.0), (22.644013672740314, 168.66801443416034, 0.6074528, 4.0), (20.90010182913718, 193.60711569065595, 0.6074528, 4.0)]\n",
      "finished road generation\n",
      "IndividualToScenario: Function is dynamic_object_overlay/dynamic_object_overlay\n",
      "----- Finished Perturbation-Controller set up -----\n",
      "INFO:SDSandBoxSimulator:Reset the scenario\n"
     ]
    },
    {
     "name": "stderr",
     "output_type": "stream",
     "text": [
      "2024-01-18 10:37:55,629 INFO     Reset the scenario\n"
     ]
    },
    {
     "name": "stdout",
     "output_type": "stream",
     "text": [
      "fps 18.47\n",
      "fps 19.73\n",
      "fps 19.72\n",
      "fps 19.73\n",
      "fps 19.74\n",
      "fps 19.16\n",
      "fps 18.70\n",
      "SDSandBox: Finished scenario\n",
      "Exception: [Errno 54] Connection reset by peer\n",
      "CRITICAL:DonkeySimMsgHandler:DonkeySimMsgHandler: +++++ Warning: Donkey Sim Aborted +++++\n"
     ]
    },
    {
     "name": "stderr",
     "output_type": "stream",
     "text": [
      "2024-01-18 10:38:32,953 CRITICAL DonkeySimMsgHandler: +++++ Warning: Donkey Sim Aborted +++++\n"
     ]
    },
    {
     "name": "stdout",
     "output_type": "stream",
     "text": [
      "INFO:DonkeySimMsgHandler:DonkeySimMsgHandler: +++++ Warning: Donkey Sim Message Stoped +++++\n"
     ]
    },
    {
     "name": "stderr",
     "output_type": "stream",
     "text": [
      "2024-01-18 10:38:32,961 INFO     DonkeySimMsgHandler: +++++ Warning: Donkey Sim Message Stoped +++++\n"
     ]
    },
    {
     "name": "stdout",
     "output_type": "stream",
     "text": [
      "INFO:SDSandBoxSimulator:Reset the scenario\n"
     ]
    },
    {
     "name": "stderr",
     "output_type": "stream",
     "text": [
      "2024-01-18 10:38:33,271 INFO     Reset the scenario\n"
     ]
    },
    {
     "name": "stdout",
     "output_type": "stream",
     "text": [
      "fps 19.71\n",
      "fps 19.73\n",
      "fps 19.76\n",
      "fps 19.72\n",
      "SDSandBox: Finished scenario\n",
      "fps 19.69\n",
      "INFO:SDSandBoxSimulator:Reset the scenario\n"
     ]
    },
    {
     "name": "stderr",
     "output_type": "stream",
     "text": [
      "2024-01-18 10:38:56,448 INFO     Reset the scenario\n"
     ]
    },
    {
     "name": "stdout",
     "output_type": "stream",
     "text": [
      "fps 19.75\n",
      "fps 19.70\n",
      "fps 19.73\n",
      "fps 19.70\n",
      "fps 19.70\n",
      "fps 19.70\n",
      "fps 19.71\n",
      "SDSandBox: Finished scenario\n",
      "INFO:SDSandBoxSimulator:Reset the scenario\n"
     ]
    },
    {
     "name": "stderr",
     "output_type": "stream",
     "text": [
      "2024-01-18 10:39:33,317 INFO     Reset the scenario\n"
     ]
    },
    {
     "name": "stdout",
     "output_type": "stream",
     "text": [
      "fps 19.69\n",
      "fps 19.71\n",
      "fps 19.72\n",
      "fps 19.71\n",
      "fps 19.72\n",
      "fps 19.70\n",
      "SDSandBox: Finished scenario\n",
      "fps 19.69\n",
      "INFO:SDSandBoxSimulator:Reset the scenario\n"
     ]
    },
    {
     "name": "stderr",
     "output_type": "stream",
     "text": [
      "2024-01-18 10:40:06,943 INFO     Reset the scenario\n"
     ]
    },
    {
     "name": "stdout",
     "output_type": "stream",
     "text": [
      "fps 19.74\n",
      "fps 19.71\n",
      "fps 19.69\n",
      "fps 19.71\n",
      "fps 19.71\n",
      "SDSandBox: Finished scenario\n",
      "fps 19.69\n",
      "INFO:SDSandBoxSimulator:Reset the scenario\n"
     ]
    },
    {
     "name": "stderr",
     "output_type": "stream",
     "text": [
      "2024-01-18 10:40:38,687 INFO     Reset the scenario\n"
     ]
    },
    {
     "name": "stdout",
     "output_type": "stream",
     "text": [
      "fps 19.71\n",
      "fps 19.69\n",
      "fps 19.74\n",
      "fps 19.71\n",
      "fps 19.71\n",
      "SDSandBox: Finished scenario\n",
      "fps 19.65\n",
      "INFO:DonkeySimMsgHandler:DonkeySimMsgHandler: +++++ Warning: Donkey Sim Disconnected +++++\n"
     ]
    },
    {
     "name": "stderr",
     "output_type": "stream",
     "text": [
      "2024-01-18 10:41:08,250 INFO     DonkeySimMsgHandler: +++++ Warning: Donkey Sim Disconnected +++++\n"
     ]
    },
    {
     "name": "stdout",
     "output_type": "stream",
     "text": [
      "INFO:DonkeyProcess:Closing donkey sim subprocess\n"
     ]
    },
    {
     "name": "stderr",
     "output_type": "stream",
     "text": [
      "2024-01-18 10:41:08,254 INFO     Closing donkey sim subprocess\n",
      "2024-01-18 10:41:08,363 INFO     Running evaluation number 4\n"
     ]
    },
    {
     "name": "stdout",
     "output_type": "stream",
     "text": [
      "     3 |       18 |      5 |  0.4365582740 |         ideal\n",
      "Using model: generated_dave_v5\n",
      "INFO:DonkeyProcess:This is the launch string /Users/hannesleonhard/Documents/BachelorWInfo/Robustness-SDC/PerturbationDrive/./examples/self_driving_sandbox_donkey/sim/donkey-sim.app/Contents/MacOS/Simulator\n"
     ]
    },
    {
     "name": "stderr",
     "output_type": "stream",
     "text": [
      "2024-01-18 10:41:08,593 INFO     This is the launch string /Users/hannesleonhard/Documents/BachelorWInfo/Robustness-SDC/PerturbationDrive/./examples/self_driving_sandbox_donkey/sim/donkey-sim.app/Contents/MacOS/Simulator\n"
     ]
    },
    {
     "name": "stdout",
     "output_type": "stream",
     "text": [
      "[UnityMemory] Configuration Parameters - Can be set up in boot.config\n",
      "    \"memorysetup-bucket-allocator-granularity=16\"\n",
      "    \"memorysetup-bucket-allocator-bucket-count=8\"\n",
      "    \"memorysetup-bucket-allocator-block-size=4194304\"\n",
      "    \"memorysetup-bucket-allocator-block-count=1\"\n",
      "    \"memorysetup-main-allocator-block-size=16777216\"\n",
      "    \"memorysetup-thread-allocator-block-size=16777216\"\n",
      "    \"memorysetup-gfx-main-allocator-block-size=16777216\"\n",
      "    \"memorysetup-gfx-thread-allocator-block-size=16777216\"\n",
      "    \"memorysetup-cache-allocator-block-size=4194304\"\n",
      "    \"memorysetup-typetree-allocator-block-size=2097152\"\n",
      "    \"memorysetup-profiler-bucket-allocator-granularity=16\"\n",
      "    \"memorysetup-profiler-bucket-allocator-bucket-count=8\"\n",
      "    \"memorysetup-profiler-bucket-allocator-block-size=4194304\"\n",
      "    \"memorysetup-profiler-bucket-allocator-block-count=1\"\n",
      "    \"memorysetup-profiler-allocator-block-size=16777216\"\n",
      "    \"memorysetup-profiler-editor-allocator-block-size=1048576\"\n",
      "    \"memorysetup-temp-allocator-size-main=4194304\"\n",
      "    \"memorysetup-job-temp-allocator-block-size=2097152\"\n",
      "    \"memorysetup-job-temp-allocator-block-size-background=1048576\"\n",
      "    \"memorysetup-job-temp-allocator-reduction-small-platforms=262144\"\n",
      "    \"memorysetup-allocator-temp-initial-block-size-main=262144\"\n",
      "    \"memorysetup-allocator-temp-initial-block-size-worker=262144\"\n",
      "    \"memorysetup-temp-allocator-size-background-worker=32768\"\n",
      "    \"memorysetup-temp-allocator-size-job-worker=262144\"\n",
      "    \"memorysetup-temp-allocator-size-preload-manager=262144\"\n",
      "    \"memorysetup-temp-allocator-size-nav-mesh-worker=65536\"\n",
      "    \"memorysetup-temp-allocator-size-audio-worker=65536\"\n",
      "    \"memorysetup-temp-allocator-size-cloud-worker=32768\"\n",
      "    \"memorysetup-temp-allocator-size-gfx=262144\"\n",
      "INFO:DonkeyProcess:donkey subprocess started\n"
     ]
    },
    {
     "name": "stderr",
     "output_type": "stream",
     "text": [
      "2024-01-18 10:41:28,612 INFO     donkey subprocess started\n"
     ]
    },
    {
     "name": "stdout",
     "output_type": "stream",
     "text": [
      "INFO:SDSandBoxSimulator:Waiting for inital obs\n"
     ]
    },
    {
     "name": "stderr",
     "output_type": "stream",
     "text": [
      "2024-01-18 10:41:28,857 INFO     Waiting for inital obs\n"
     ]
    },
    {
     "name": "stdout",
     "output_type": "stream",
     "text": [
      "INFO:SDSandBoxSimulator:Waiting for inital obs\n"
     ]
    },
    {
     "name": "stderr",
     "output_type": "stream",
     "text": [
      "2024-01-18 10:41:28,899 INFO     Waiting for inital obs\n"
     ]
    },
    {
     "name": "stdout",
     "output_type": "stream",
     "text": [
      "INFO:SDSandBoxSimulator:Waiting for inital obs\n"
     ]
    },
    {
     "name": "stderr",
     "output_type": "stream",
     "text": [
      "2024-01-18 10:41:28,941 INFO     Waiting for inital obs\n"
     ]
    },
    {
     "name": "stdout",
     "output_type": "stream",
     "text": [
      "INFO:SDSandBoxSimulator:Waiting for inital obs\n"
     ]
    },
    {
     "name": "stderr",
     "output_type": "stream",
     "text": [
      "2024-01-18 10:41:28,983 INFO     Waiting for inital obs\n"
     ]
    },
    {
     "name": "stdout",
     "output_type": "stream",
     "text": [
      "INFO:SDSandBoxSimulator:Waiting for inital obs\n"
     ]
    },
    {
     "name": "stderr",
     "output_type": "stream",
     "text": [
      "2024-01-18 10:41:29,025 INFO     Waiting for inital obs\n"
     ]
    },
    {
     "name": "stdout",
     "output_type": "stream",
     "text": [
      "INFO:SDSandBoxSimulator:Waiting for inital obs\n"
     ]
    },
    {
     "name": "stderr",
     "output_type": "stream",
     "text": [
      "2024-01-18 10:41:29,067 INFO     Waiting for inital obs\n"
     ]
    },
    {
     "name": "stdout",
     "output_type": "stream",
     "text": [
      "INFO:SDSandBoxSimulator:Waiting for inital obs\n"
     ]
    },
    {
     "name": "stderr",
     "output_type": "stream",
     "text": [
      "2024-01-18 10:41:29,109 INFO     Waiting for inital obs\n"
     ]
    },
    {
     "name": "stdout",
     "output_type": "stream",
     "text": [
      "INFO:SDSandBoxSimulator:Waiting for inital obs\n"
     ]
    },
    {
     "name": "stderr",
     "output_type": "stream",
     "text": [
      "2024-01-18 10:41:29,150 INFO     Waiting for inital obs\n"
     ]
    },
    {
     "name": "stdout",
     "output_type": "stream",
     "text": [
      "INFO:DonkeySimMsgHandler:DonkeySimMsgHandler: ----- Car Created With Data {'msg_type': 'car_loaded'} -----\n"
     ]
    },
    {
     "name": "stderr",
     "output_type": "stream",
     "text": [
      "2024-01-18 10:41:29,172 INFO     DonkeySimMsgHandler: ----- Car Created With Data {'msg_type': 'car_loaded'} -----\n"
     ]
    },
    {
     "name": "stdout",
     "output_type": "stream",
     "text": [
      "INFO:SDSandBoxSimulator:Waiting for inital obs\n"
     ]
    },
    {
     "name": "stderr",
     "output_type": "stream",
     "text": [
      "2024-01-18 10:41:29,192 INFO     Waiting for inital obs\n"
     ]
    },
    {
     "name": "stdout",
     "output_type": "stream",
     "text": [
      "INFO:SDSandBoxSimulator:Waiting for inital obs\n"
     ]
    },
    {
     "name": "stderr",
     "output_type": "stream",
     "text": [
      "2024-01-18 10:41:29,234 INFO     Waiting for inital obs\n"
     ]
    },
    {
     "name": "stdout",
     "output_type": "stream",
     "text": [
      "Segment lengths are None\n",
      "Started Road Generation\n",
      "Road Instance 0, angle: -9, 25: [(47.999939999999995, 24.969459999999998, 0.6074528, 4.0), (47.99994, 49.96946, 0.6074528, 4.0), (52.341144441673265, 74.58965382530519, 0.6074528, 4.0)]\n",
      "Road Instance 1, angle: 14, 25: [(47.999939999999995, 24.969459999999998, 0.6074528, 4.0), (47.99994, 49.96946, 0.6074528, 4.0), (52.341144441673265, 74.58965382530519, 0.6074528, 4.0), (51.032745535599666, 99.55539219416954, 0.6074528, 4.0)]\n",
      "Road Instance 2, angle: 14, 25: [(47.999939999999995, 24.969459999999998, 0.6074528, 4.0), (47.99994, 49.96946, 0.6074528, 4.0), (52.341144441673265, 74.58965382530519, 0.6074528, 4.0), (51.032745535599666, 99.55539219416954, 0.6074528, 4.0), (43.72345291753125, 123.46301109324543, 0.6074528, 4.0)]\n",
      "Road Instance 3, angle: 12, 25: [(47.999939999999995, 24.969459999999998, 0.6074528, 4.0), (47.99994, 49.96946, 0.6074528, 4.0), (52.341144441673265, 74.58965382530519, 0.6074528, 4.0), (51.032745535599666, 99.55539219416954, 0.6074528, 4.0), (43.72345291753125, 123.46301109324543, 0.6074528, 4.0), (31.603212411372823, 145.3285037717303, 0.6074528, 4.0)]\n",
      "Road Instance 4, angle: -8, 25: [(47.999939999999995, 24.969459999999998, 0.6074528, 4.0), (47.99994, 49.96946, 0.6074528, 4.0), (52.341144441673265, 74.58965382530519, 0.6074528, 4.0), (51.032745535599666, 99.55539219416954, 0.6074528, 4.0), (43.72345291753125, 123.46301109324543, 0.6074528, 4.0), (31.603212411372823, 145.3285037717303, 0.6074528, 4.0), (22.644013672740314, 168.66801443416034, 0.6074528, 4.0)]\n",
      "Road Instance 5, angle: -17, 25: [(47.999939999999995, 24.969459999999998, 0.6074528, 4.0), (47.99994, 49.96946, 0.6074528, 4.0), (52.341144441673265, 74.58965382530519, 0.6074528, 4.0), (51.032745535599666, 99.55539219416954, 0.6074528, 4.0), (43.72345291753125, 123.46301109324543, 0.6074528, 4.0), (31.603212411372823, 145.3285037717303, 0.6074528, 4.0), (22.644013672740314, 168.66801443416034, 0.6074528, 4.0), (20.90010182913718, 193.60711569065595, 0.6074528, 4.0)]\n",
      "finished road generation\n",
      "IndividualToScenario: Function is dynamic_object_overlay/dynamic_object_overlay\n",
      "Segment lengths are None\n",
      "Started Road Generation\n",
      "Road Instance 0, angle: -9, 25: [(47.999939999999995, 24.969459999999998, 0.6074528, 4.0), (47.99994, 49.96946, 0.6074528, 4.0), (52.341144441673265, 74.58965382530519, 0.6074528, 4.0)]\n",
      "Road Instance 1, angle: 14, 25: [(47.999939999999995, 24.969459999999998, 0.6074528, 4.0), (47.99994, 49.96946, 0.6074528, 4.0), (52.341144441673265, 74.58965382530519, 0.6074528, 4.0), (51.032745535599666, 99.55539219416954, 0.6074528, 4.0)]\n",
      "Road Instance 2, angle: 15, 25: [(47.999939999999995, 24.969459999999998, 0.6074528, 4.0), (47.99994, 49.96946, 0.6074528, 4.0), (52.341144441673265, 74.58965382530519, 0.6074528, 4.0), (51.032745535599666, 99.55539219416954, 0.6074528, 4.0), (43.307320676225984, 123.33180510154838, 0.6074528, 4.0)]\n",
      "Road Instance 3, angle: 11, 25: [(47.999939999999995, 24.969459999999998, 0.6074528, 4.0), (47.99994, 49.96946, 0.6074528, 4.0), (52.341144441673265, 74.58965382530519, 0.6074528, 4.0), (51.032745535599666, 99.55539219416954, 0.6074528, 4.0), (43.307320676225984, 123.33180510154838, 0.6074528, 4.0), (31.18708017006756, 145.19729778003327, 0.6074528, 4.0)]\n",
      "Road Instance 4, angle: -8, 25: [(47.999939999999995, 24.969459999999998, 0.6074528, 4.0), (47.99994, 49.96946, 0.6074528, 4.0), (52.341144441673265, 74.58965382530519, 0.6074528, 4.0), (51.032745535599666, 99.55539219416954, 0.6074528, 4.0), (43.307320676225984, 123.33180510154838, 0.6074528, 4.0), (31.18708017006756, 145.19729778003327, 0.6074528, 4.0), (22.22788143143505, 168.53680844246333, 0.6074528, 4.0)]\n",
      "Road Instance 5, angle: 10, 25: [(47.999939999999995, 24.969459999999998, 0.6074528, 4.0), (47.99994, 49.96946, 0.6074528, 4.0), (52.341144441673265, 74.58965382530519, 0.6074528, 4.0), (51.032745535599666, 99.55539219416954, 0.6074528, 4.0), (43.307320676225984, 123.33180510154838, 0.6074528, 4.0), (31.18708017006756, 145.19729778003327, 0.6074528, 4.0), (22.22788143143505, 168.53680844246333, 0.6074528, 4.0), (9.727881431435055, 190.1874435370743, 0.6074528, 4.0)]\n",
      "finished road generation\n",
      "IndividualToScenario: Function is dynamic_object_overlay/dynamic_object_overlay\n",
      "Segment lengths are None\n",
      "Started Road Generation\n",
      "Road Instance 0, angle: -9, 25: [(47.999939999999995, 24.969459999999998, 0.6074528, 4.0), (47.99994, 49.96946, 0.6074528, 4.0), (52.341144441673265, 74.58965382530519, 0.6074528, 4.0)]\n",
      "Road Instance 1, angle: 14, 25: [(47.999939999999995, 24.969459999999998, 0.6074528, 4.0), (47.99994, 49.96946, 0.6074528, 4.0), (52.341144441673265, 74.58965382530519, 0.6074528, 4.0), (51.032745535599666, 99.55539219416954, 0.6074528, 4.0)]\n",
      "Road Instance 2, angle: 15, 25: [(47.999939999999995, 24.969459999999998, 0.6074528, 4.0), (47.99994, 49.96946, 0.6074528, 4.0), (52.341144441673265, 74.58965382530519, 0.6074528, 4.0), (51.032745535599666, 99.55539219416954, 0.6074528, 4.0), (43.307320676225984, 123.33180510154838, 0.6074528, 4.0)]\n",
      "Road Instance 3, angle: -7, 25: [(47.999939999999995, 24.969459999999998, 0.6074528, 4.0), (47.99994, 49.96946, 0.6074528, 4.0), (52.341144441673265, 74.58965382530519, 0.6074528, 4.0), (51.032745535599666, 99.55539219416954, 0.6074528, 4.0), (43.307320676225984, 123.33180510154838, 0.6074528, 4.0), (38.53709579181236, 147.87248468773998, 0.6074528, 4.0)]\n",
      "Road Instance 4, angle: -8, 25: [(47.999939999999995, 24.969459999999998, 0.6074528, 4.0), (47.99994, 49.96946, 0.6074528, 4.0), (52.341144441673265, 74.58965382530519, 0.6074528, 4.0), (51.032745535599666, 99.55539219416954, 0.6074528, 4.0), (43.307320676225984, 123.33180510154838, 0.6074528, 4.0), (38.53709579181236, 147.87248468773998, 0.6074528, 4.0), (37.22869688573876, 172.83822305660433, 0.6074528, 4.0)]\n",
      "Road Instance 5, angle: 9, 25: [(47.999939999999995, 24.969459999999998, 0.6074528, 4.0), (47.99994, 49.96946, 0.6074528, 4.0), (52.341144441673265, 74.58965382530519, 0.6074528, 4.0), (51.032745535599666, 99.55539219416954, 0.6074528, 4.0), (43.307320676225984, 123.33180510154838, 0.6074528, 4.0), (38.53709579181236, 147.87248468773998, 0.6074528, 4.0), (37.22869688573876, 172.83822305660433, 0.6074528, 4.0), (32.03090461529478, 197.2919130749495, 0.6074528, 4.0)]\n",
      "finished road generation\n",
      "IndividualToScenario: Function is zigzag_mapping/zigzag_mapping\n",
      "Segment lengths are None\n",
      "Started Road Generation\n",
      "Road Instance 0, angle: -9, 25: [(47.999939999999995, 24.969459999999998, 0.6074528, 4.0), (47.99994, 49.96946, 0.6074528, 4.0), (52.341144441673265, 74.58965382530519, 0.6074528, 4.0)]\n",
      "Road Instance 1, angle: 14, 25: [(47.999939999999995, 24.969459999999998, 0.6074528, 4.0), (47.99994, 49.96946, 0.6074528, 4.0), (52.341144441673265, 74.58965382530519, 0.6074528, 4.0), (51.032745535599666, 99.55539219416954, 0.6074528, 4.0)]\n",
      "Road Instance 2, angle: 14, 25: [(47.999939999999995, 24.969459999999998, 0.6074528, 4.0), (47.99994, 49.96946, 0.6074528, 4.0), (52.341144441673265, 74.58965382530519, 0.6074528, 4.0), (51.032745535599666, 99.55539219416954, 0.6074528, 4.0), (43.72345291753125, 123.46301109324543, 0.6074528, 4.0)]\n",
      "Road Instance 3, angle: 12, 25: [(47.999939999999995, 24.969459999999998, 0.6074528, 4.0), (47.99994, 49.96946, 0.6074528, 4.0), (52.341144441673265, 74.58965382530519, 0.6074528, 4.0), (51.032745535599666, 99.55539219416954, 0.6074528, 4.0), (43.72345291753125, 123.46301109324543, 0.6074528, 4.0), (31.603212411372823, 145.3285037717303, 0.6074528, 4.0)]\n",
      "Road Instance 4, angle: -8, 25: [(47.999939999999995, 24.969459999999998, 0.6074528, 4.0), (47.99994, 49.96946, 0.6074528, 4.0), (52.341144441673265, 74.58965382530519, 0.6074528, 4.0), (51.032745535599666, 99.55539219416954, 0.6074528, 4.0), (43.72345291753125, 123.46301109324543, 0.6074528, 4.0), (31.603212411372823, 145.3285037717303, 0.6074528, 4.0), (22.644013672740314, 168.66801443416034, 0.6074528, 4.0)]\n",
      "Road Instance 5, angle: 10, 25: [(47.999939999999995, 24.969459999999998, 0.6074528, 4.0), (47.99994, 49.96946, 0.6074528, 4.0), (52.341144441673265, 74.58965382530519, 0.6074528, 4.0), (51.032745535599666, 99.55539219416954, 0.6074528, 4.0), (43.72345291753125, 123.46301109324543, 0.6074528, 4.0), (31.603212411372823, 145.3285037717303, 0.6074528, 4.0), (22.644013672740314, 168.66801443416034, 0.6074528, 4.0), (9.768061799988958, 190.09719695171316, 0.6074528, 4.0)]\n",
      "finished road generation\n",
      "IndividualToScenario: Function is object_overlay/object_overlay\n",
      "Segment lengths are None\n",
      "Started Road Generation\n",
      "Road Instance 0, angle: -9, 25: [(47.999939999999995, 24.969459999999998, 0.6074528, 4.0), (47.99994, 49.96946, 0.6074528, 4.0), (52.341144441673265, 74.58965382530519, 0.6074528, 4.0)]\n",
      "Road Instance 1, angle: 14, 25: [(47.999939999999995, 24.969459999999998, 0.6074528, 4.0), (47.99994, 49.96946, 0.6074528, 4.0), (52.341144441673265, 74.58965382530519, 0.6074528, 4.0), (51.032745535599666, 99.55539219416954, 0.6074528, 4.0)]\n",
      "Road Instance 2, angle: 15, 25: [(47.999939999999995, 24.969459999999998, 0.6074528, 4.0), (47.99994, 49.96946, 0.6074528, 4.0), (52.341144441673265, 74.58965382530519, 0.6074528, 4.0), (51.032745535599666, 99.55539219416954, 0.6074528, 4.0), (43.307320676225984, 123.33180510154838, 0.6074528, 4.0)]\n",
      "Road Instance 3, angle: 13, 25: [(47.999939999999995, 24.969459999999998, 0.6074528, 4.0), (47.99994, 49.96946, 0.6074528, 4.0), (52.341144441673265, 74.58965382530519, 0.6074528, 4.0), (51.032745535599666, 99.55539219416954, 0.6074528, 4.0), (43.307320676225984, 123.33180510154838, 0.6074528, 4.0), (30.431368803474626, 144.7609876191012, 0.6074528, 4.0)]\n",
      "Road Instance 4, angle: -8, 25: [(47.999939999999995, 24.969459999999998, 0.6074528, 4.0), (47.99994, 49.96946, 0.6074528, 4.0), (52.341144441673265, 74.58965382530519, 0.6074528, 4.0), (51.032745535599666, 99.55539219416954, 0.6074528, 4.0), (43.307320676225984, 123.33180510154838, 0.6074528, 4.0), (30.431368803474626, 144.7609876191012, 0.6074528, 4.0), (20.66309059124278, 167.77360895541221, 0.6074528, 4.0)]\n",
      "Road Instance 5, angle: 10, 25: [(47.999939999999995, 24.969459999999998, 0.6074528, 4.0), (47.99994, 49.96946, 0.6074528, 4.0), (52.341144441673265, 74.58965382530519, 0.6074528, 4.0), (51.032745535599666, 99.55539219416954, 0.6074528, 4.0), (43.307320676225984, 123.33180510154838, 0.6074528, 4.0), (30.431368803474626, 144.7609876191012, 0.6074528, 4.0), (20.66309059124278, 167.77360895541221, 0.6074528, 4.0), (7.047114715867101, 188.7403731540478, 0.6074528, 4.0)]\n",
      "finished road generation\n",
      "IndividualToScenario: Function is dynamic_object_overlay/dynamic_object_overlay\n",
      "Segment lengths are None\n",
      "Started Road Generation\n",
      "Road Instance 0, angle: -9, 25: [(47.999939999999995, 24.969459999999998, 0.6074528, 4.0), (47.99994, 49.96946, 0.6074528, 4.0), (52.341144441673265, 74.58965382530519, 0.6074528, 4.0)]\n",
      "Road Instance 1, angle: 14, 25: [(47.999939999999995, 24.969459999999998, 0.6074528, 4.0), (47.99994, 49.96946, 0.6074528, 4.0), (52.341144441673265, 74.58965382530519, 0.6074528, 4.0), (51.032745535599666, 99.55539219416954, 0.6074528, 4.0)]\n",
      "Road Instance 2, angle: 15, 25: [(47.999939999999995, 24.969459999999998, 0.6074528, 4.0), (47.99994, 49.96946, 0.6074528, 4.0), (52.341144441673265, 74.58965382530519, 0.6074528, 4.0), (51.032745535599666, 99.55539219416954, 0.6074528, 4.0), (43.307320676225984, 123.33180510154838, 0.6074528, 4.0)]\n",
      "Road Instance 3, angle: -6, 25: [(47.999939999999995, 24.969459999999998, 0.6074528, 4.0), (47.99994, 49.96946, 0.6074528, 4.0), (52.341144441673265, 74.58965382530519, 0.6074528, 4.0), (51.032745535599666, 99.55539219416954, 0.6074528, 4.0), (43.307320676225984, 123.33180510154838, 0.6074528, 4.0), (38.109528405782, 147.78549511989354, 0.6074528, 4.0)]\n",
      "Road Instance 4, angle: -8, 25: [(47.999939999999995, 24.969459999999998, 0.6074528, 4.0), (47.99994, 49.96946, 0.6074528, 4.0), (52.341144441673265, 74.58965382530519, 0.6074528, 4.0), (51.032745535599666, 99.55539219416954, 0.6074528, 4.0), (43.307320676225984, 123.33180510154838, 0.6074528, 4.0), (38.109528405782, 147.78549511989354, 0.6074528, 4.0), (36.8011294997084, 172.7512334887579, 0.6074528, 4.0)]\n",
      "Road Instance 5, angle: 9, 25: [(47.999939999999995, 24.969459999999998, 0.6074528, 4.0), (47.99994, 49.96946, 0.6074528, 4.0), (52.341144441673265, 74.58965382530519, 0.6074528, 4.0), (51.032745535599666, 99.55539219416954, 0.6074528, 4.0), (43.307320676225984, 123.33180510154838, 0.6074528, 4.0), (38.109528405782, 147.78549511989354, 0.6074528, 4.0), (36.8011294997084, 172.7512334887579, 0.6074528, 4.0), (31.60333722926442, 197.20492350710305, 0.6074528, 4.0)]\n",
      "finished road generation\n",
      "IndividualToScenario: Function is zigzag_mapping/zigzag_mapping\n",
      "----- Finished Perturbation-Controller set up -----\n",
      "INFO:SDSandBoxSimulator:Reset the scenario\n"
     ]
    },
    {
     "name": "stderr",
     "output_type": "stream",
     "text": [
      "2024-01-18 10:41:31,255 INFO     Reset the scenario\n"
     ]
    },
    {
     "name": "stdout",
     "output_type": "stream",
     "text": [
      "fps 18.66\n",
      "fps 19.72\n",
      "fps 19.75\n",
      "fps 19.76\n",
      "fps 19.76\n",
      "fps 19.71\n",
      "SDSandBox: Finished scenario\n",
      "INFO:SDSandBoxSimulator:Reset the scenario\n"
     ]
    },
    {
     "name": "stderr",
     "output_type": "stream",
     "text": [
      "2024-01-18 10:42:02,438 INFO     Reset the scenario\n"
     ]
    },
    {
     "name": "stdout",
     "output_type": "stream",
     "text": [
      "fps 19.73\n",
      "Exception: [Errno 54] Connection reset by peer\n",
      "CRITICAL:DonkeySimMsgHandler:DonkeySimMsgHandler: +++++ Warning: Donkey Sim Aborted +++++\n"
     ]
    },
    {
     "name": "stderr",
     "output_type": "stream",
     "text": [
      "2024-01-18 10:42:08,257 CRITICAL DonkeySimMsgHandler: +++++ Warning: Donkey Sim Aborted +++++\n"
     ]
    },
    {
     "name": "stdout",
     "output_type": "stream",
     "text": [
      "INFO:DonkeySimMsgHandler:DonkeySimMsgHandler: +++++ Warning: Donkey Sim Message Stoped +++++\n"
     ]
    },
    {
     "name": "stderr",
     "output_type": "stream",
     "text": [
      "2024-01-18 10:42:08,260 INFO     DonkeySimMsgHandler: +++++ Warning: Donkey Sim Message Stoped +++++\n"
     ]
    },
    {
     "name": "stdout",
     "output_type": "stream",
     "text": [
      "fps 19.71\n",
      "fps 19.71\n",
      "fps 19.73\n",
      "fps 19.71\n",
      "fps 19.71\n",
      "fps 19.74\n",
      "SDSandBox: Finished scenario\n",
      "INFO:SDSandBoxSimulator:Reset the scenario\n"
     ]
    },
    {
     "name": "stderr",
     "output_type": "stream",
     "text": [
      "2024-01-18 10:42:38,338 INFO     Reset the scenario\n"
     ]
    },
    {
     "name": "stdout",
     "output_type": "stream",
     "text": [
      "fps 19.69\n",
      "fps 19.76\n",
      "fps 19.72\n",
      "fps 19.10\n",
      "fps 19.74\n",
      "fps 19.71\n",
      "fps 19.75\n",
      "SDSandBox: Finished scenario\n",
      "INFO:SDSandBoxSimulator:Reset the scenario\n"
     ]
    },
    {
     "name": "stderr",
     "output_type": "stream",
     "text": [
      "2024-01-18 10:43:14,056 INFO     Reset the scenario\n"
     ]
    },
    {
     "name": "stdout",
     "output_type": "stream",
     "text": [
      "fps 17.55\n",
      "fps 19.70\n",
      "fps 19.71\n",
      "fps 18.06\n",
      "SDSandBox: Finished scenario\n",
      "INFO:SDSandBoxSimulator:Reset the scenario\n"
     ]
    },
    {
     "name": "stderr",
     "output_type": "stream",
     "text": [
      "2024-01-18 10:43:36,962 INFO     Reset the scenario\n"
     ]
    },
    {
     "name": "stdout",
     "output_type": "stream",
     "text": [
      "fps 19.67\n",
      "fps 19.74\n",
      "fps 19.73\n",
      "fps 19.71\n",
      "fps 19.71\n",
      "fps 19.71\n",
      "fps 19.71\n",
      "SDSandBox: Finished scenario\n",
      "fps 19.67\n",
      "INFO:SDSandBoxSimulator:Reset the scenario\n"
     ]
    },
    {
     "name": "stderr",
     "output_type": "stream",
     "text": [
      "2024-01-18 10:44:12,725 INFO     Reset the scenario\n"
     ]
    },
    {
     "name": "stdout",
     "output_type": "stream",
     "text": [
      "fps 19.74\n",
      "fps 19.70\n",
      "fps 19.71\n",
      "fps 19.72\n",
      "fps 19.71\n",
      "fps 19.72\n",
      "fps 19.70\n",
      "SDSandBox: Finished scenario\n",
      "INFO:DonkeySimMsgHandler:DonkeySimMsgHandler: +++++ Warning: Donkey Sim Disconnected +++++\n"
     ]
    },
    {
     "name": "stderr",
     "output_type": "stream",
     "text": [
      "2024-01-18 10:44:51,682 INFO     DonkeySimMsgHandler: +++++ Warning: Donkey Sim Disconnected +++++\n"
     ]
    },
    {
     "name": "stdout",
     "output_type": "stream",
     "text": [
      "INFO:DonkeyProcess:Closing donkey sim subprocess\n"
     ]
    },
    {
     "name": "stderr",
     "output_type": "stream",
     "text": [
      "2024-01-18 10:44:51,685 INFO     Closing donkey sim subprocess\n",
      "2024-01-18 10:44:51,833 INFO     Running evaluation number 5\n"
     ]
    },
    {
     "name": "stdout",
     "output_type": "stream",
     "text": [
      "     4 |       24 |      3 |  0.1941112845 |         ideal\n",
      "Using model: generated_dave_v5\n",
      "INFO:DonkeyProcess:This is the launch string /Users/hannesleonhard/Documents/BachelorWInfo/Robustness-SDC/PerturbationDrive/./examples/self_driving_sandbox_donkey/sim/donkey-sim.app/Contents/MacOS/Simulator\n"
     ]
    },
    {
     "name": "stderr",
     "output_type": "stream",
     "text": [
      "2024-01-18 10:44:52,034 INFO     This is the launch string /Users/hannesleonhard/Documents/BachelorWInfo/Robustness-SDC/PerturbationDrive/./examples/self_driving_sandbox_donkey/sim/donkey-sim.app/Contents/MacOS/Simulator\n"
     ]
    },
    {
     "name": "stdout",
     "output_type": "stream",
     "text": [
      "[UnityMemory] Configuration Parameters - Can be set up in boot.config\n",
      "    \"memorysetup-bucket-allocator-granularity=16\"\n",
      "    \"memorysetup-bucket-allocator-bucket-count=8\"\n",
      "    \"memorysetup-bucket-allocator-block-size=4194304\"\n",
      "    \"memorysetup-bucket-allocator-block-count=1\"\n",
      "    \"memorysetup-main-allocator-block-size=16777216\"\n",
      "    \"memorysetup-thread-allocator-block-size=16777216\"\n",
      "    \"memorysetup-gfx-main-allocator-block-size=16777216\"\n",
      "    \"memorysetup-gfx-thread-allocator-block-size=16777216\"\n",
      "    \"memorysetup-cache-allocator-block-size=4194304\"\n",
      "    \"memorysetup-typetree-allocator-block-size=2097152\"\n",
      "    \"memorysetup-profiler-bucket-allocator-granularity=16\"\n",
      "    \"memorysetup-profiler-bucket-allocator-bucket-count=8\"\n",
      "    \"memorysetup-profiler-bucket-allocator-block-size=4194304\"\n",
      "    \"memorysetup-profiler-bucket-allocator-block-count=1\"\n",
      "    \"memorysetup-profiler-allocator-block-size=16777216\"\n",
      "    \"memorysetup-profiler-editor-allocator-block-size=1048576\"\n",
      "    \"memorysetup-temp-allocator-size-main=4194304\"\n",
      "    \"memorysetup-job-temp-allocator-block-size=2097152\"\n",
      "    \"memorysetup-job-temp-allocator-block-size-background=1048576\"\n",
      "    \"memorysetup-job-temp-allocator-reduction-small-platforms=262144\"\n",
      "    \"memorysetup-allocator-temp-initial-block-size-main=262144\"\n",
      "    \"memorysetup-allocator-temp-initial-block-size-worker=262144\"\n",
      "    \"memorysetup-temp-allocator-size-background-worker=32768\"\n",
      "    \"memorysetup-temp-allocator-size-job-worker=262144\"\n",
      "    \"memorysetup-temp-allocator-size-preload-manager=262144\"\n",
      "    \"memorysetup-temp-allocator-size-nav-mesh-worker=65536\"\n",
      "    \"memorysetup-temp-allocator-size-audio-worker=65536\"\n",
      "    \"memorysetup-temp-allocator-size-cloud-worker=32768\"\n",
      "    \"memorysetup-temp-allocator-size-gfx=262144\"\n",
      "INFO:DonkeyProcess:donkey subprocess started\n"
     ]
    },
    {
     "name": "stderr",
     "output_type": "stream",
     "text": [
      "2024-01-18 10:45:12,049 INFO     donkey subprocess started\n"
     ]
    },
    {
     "name": "stdout",
     "output_type": "stream",
     "text": [
      "INFO:SDSandBoxSimulator:Waiting for inital obs\n"
     ]
    },
    {
     "name": "stderr",
     "output_type": "stream",
     "text": [
      "2024-01-18 10:45:12,120 INFO     Waiting for inital obs\n"
     ]
    },
    {
     "name": "stdout",
     "output_type": "stream",
     "text": [
      "INFO:SDSandBoxSimulator:Waiting for inital obs\n"
     ]
    },
    {
     "name": "stderr",
     "output_type": "stream",
     "text": [
      "2024-01-18 10:45:12,166 INFO     Waiting for inital obs\n"
     ]
    },
    {
     "name": "stdout",
     "output_type": "stream",
     "text": [
      "INFO:SDSandBoxSimulator:Waiting for inital obs\n"
     ]
    },
    {
     "name": "stderr",
     "output_type": "stream",
     "text": [
      "2024-01-18 10:45:12,209 INFO     Waiting for inital obs\n"
     ]
    },
    {
     "name": "stdout",
     "output_type": "stream",
     "text": [
      "INFO:SDSandBoxSimulator:Waiting for inital obs\n"
     ]
    },
    {
     "name": "stderr",
     "output_type": "stream",
     "text": [
      "2024-01-18 10:45:12,253 INFO     Waiting for inital obs\n"
     ]
    },
    {
     "name": "stdout",
     "output_type": "stream",
     "text": [
      "INFO:SDSandBoxSimulator:Waiting for inital obs\n"
     ]
    },
    {
     "name": "stderr",
     "output_type": "stream",
     "text": [
      "2024-01-18 10:45:12,294 INFO     Waiting for inital obs\n"
     ]
    },
    {
     "name": "stdout",
     "output_type": "stream",
     "text": [
      "INFO:SDSandBoxSimulator:Waiting for inital obs\n"
     ]
    },
    {
     "name": "stderr",
     "output_type": "stream",
     "text": [
      "2024-01-18 10:45:12,337 INFO     Waiting for inital obs\n"
     ]
    },
    {
     "name": "stdout",
     "output_type": "stream",
     "text": [
      "INFO:SDSandBoxSimulator:Waiting for inital obs\n"
     ]
    },
    {
     "name": "stderr",
     "output_type": "stream",
     "text": [
      "2024-01-18 10:45:12,378 INFO     Waiting for inital obs\n"
     ]
    },
    {
     "name": "stdout",
     "output_type": "stream",
     "text": [
      "INFO:SDSandBoxSimulator:Waiting for inital obs\n"
     ]
    },
    {
     "name": "stderr",
     "output_type": "stream",
     "text": [
      "2024-01-18 10:45:12,420 INFO     Waiting for inital obs\n"
     ]
    },
    {
     "name": "stdout",
     "output_type": "stream",
     "text": [
      "INFO:SDSandBoxSimulator:Waiting for inital obs\n"
     ]
    },
    {
     "name": "stderr",
     "output_type": "stream",
     "text": [
      "2024-01-18 10:45:12,462 INFO     Waiting for inital obs\n"
     ]
    },
    {
     "name": "stdout",
     "output_type": "stream",
     "text": [
      "INFO:DonkeySimMsgHandler:DonkeySimMsgHandler: ----- Car Created With Data {'msg_type': 'car_loaded'} -----\n"
     ]
    },
    {
     "name": "stderr",
     "output_type": "stream",
     "text": [
      "2024-01-18 10:45:12,487 INFO     DonkeySimMsgHandler: ----- Car Created With Data {'msg_type': 'car_loaded'} -----\n"
     ]
    },
    {
     "name": "stdout",
     "output_type": "stream",
     "text": [
      "INFO:SDSandBoxSimulator:Waiting for inital obs\n"
     ]
    },
    {
     "name": "stderr",
     "output_type": "stream",
     "text": [
      "2024-01-18 10:45:12,504 INFO     Waiting for inital obs\n"
     ]
    },
    {
     "name": "stdout",
     "output_type": "stream",
     "text": [
      "INFO:SDSandBoxSimulator:Waiting for inital obs\n"
     ]
    },
    {
     "name": "stderr",
     "output_type": "stream",
     "text": [
      "2024-01-18 10:45:12,545 INFO     Waiting for inital obs\n"
     ]
    },
    {
     "name": "stdout",
     "output_type": "stream",
     "text": [
      "Segment lengths are None\n",
      "Started Road Generation\n",
      "Road Instance 0, angle: -9, 25: [(47.999939999999995, 24.969459999999998, 0.6074528, 4.0), (47.99994, 49.96946, 0.6074528, 4.0), (52.341144441673265, 74.58965382530519, 0.6074528, 4.0)]\n",
      "Road Instance 1, angle: 14, 25: [(47.999939999999995, 24.969459999999998, 0.6074528, 4.0), (47.99994, 49.96946, 0.6074528, 4.0), (52.341144441673265, 74.58965382530519, 0.6074528, 4.0), (51.032745535599666, 99.55539219416954, 0.6074528, 4.0)]\n",
      "Road Instance 2, angle: 15, 25: [(47.999939999999995, 24.969459999999998, 0.6074528, 4.0), (47.99994, 49.96946, 0.6074528, 4.0), (52.341144441673265, 74.58965382530519, 0.6074528, 4.0), (51.032745535599666, 99.55539219416954, 0.6074528, 4.0), (43.307320676225984, 123.33180510154838, 0.6074528, 4.0)]\n",
      "Road Instance 3, angle: -6, 25: [(47.999939999999995, 24.969459999999998, 0.6074528, 4.0), (47.99994, 49.96946, 0.6074528, 4.0), (52.341144441673265, 74.58965382530519, 0.6074528, 4.0), (51.032745535599666, 99.55539219416954, 0.6074528, 4.0), (43.307320676225984, 123.33180510154838, 0.6074528, 4.0), (38.109528405782, 147.78549511989354, 0.6074528, 4.0)]\n",
      "Road Instance 4, angle: -8, 25: [(47.999939999999995, 24.969459999999998, 0.6074528, 4.0), (47.99994, 49.96946, 0.6074528, 4.0), (52.341144441673265, 74.58965382530519, 0.6074528, 4.0), (51.032745535599666, 99.55539219416954, 0.6074528, 4.0), (43.307320676225984, 123.33180510154838, 0.6074528, 4.0), (38.109528405782, 147.78549511989354, 0.6074528, 4.0), (36.8011294997084, 172.7512334887579, 0.6074528, 4.0)]\n",
      "Road Instance 5, angle: 10, 25: [(47.999939999999995, 24.969459999999998, 0.6074528, 4.0), (47.99994, 49.96946, 0.6074528, 4.0), (52.341144441673265, 74.58965382530519, 0.6074528, 4.0), (51.032745535599666, 99.55539219416954, 0.6074528, 4.0), (43.307320676225984, 123.33180510154838, 0.6074528, 4.0), (38.109528405782, 147.78549511989354, 0.6074528, 4.0), (36.8011294997084, 172.7512334887579, 0.6074528, 4.0), (31.177353141111777, 197.1104851083888, 0.6074528, 4.0)]\n",
      "finished road generation\n",
      "IndividualToScenario: Function is dynamic_object_overlay/dynamic_object_overlay\n",
      "Segment lengths are None\n",
      "Started Road Generation\n",
      "Road Instance 0, angle: -9, 25: [(47.999939999999995, 24.969459999999998, 0.6074528, 4.0), (47.99994, 49.96946, 0.6074528, 4.0), (52.341144441673265, 74.58965382530519, 0.6074528, 4.0)]\n",
      "Road Instance 1, angle: 14, 25: [(47.999939999999995, 24.969459999999998, 0.6074528, 4.0), (47.99994, 49.96946, 0.6074528, 4.0), (52.341144441673265, 74.58965382530519, 0.6074528, 4.0), (51.032745535599666, 99.55539219416954, 0.6074528, 4.0)]\n",
      "Road Instance 2, angle: 15, 25: [(47.999939999999995, 24.969459999999998, 0.6074528, 4.0), (47.99994, 49.96946, 0.6074528, 4.0), (52.341144441673265, 74.58965382530519, 0.6074528, 4.0), (51.032745535599666, 99.55539219416954, 0.6074528, 4.0), (43.307320676225984, 123.33180510154838, 0.6074528, 4.0)]\n",
      "Road Instance 3, angle: 12, 25: [(47.999939999999995, 24.969459999999998, 0.6074528, 4.0), (47.99994, 49.96946, 0.6074528, 4.0), (52.341144441673265, 74.58965382530519, 0.6074528, 4.0), (51.032745535599666, 99.55539219416954, 0.6074528, 4.0), (43.307320676225984, 123.33180510154838, 0.6074528, 4.0), (30.807320676225988, 144.98244019615936, 0.6074528, 4.0)]\n",
      "Road Instance 4, angle: -8, 25: [(47.999939999999995, 24.969459999999998, 0.6074528, 4.0), (47.99994, 49.96946, 0.6074528, 4.0), (52.341144441673265, 74.58965382530519, 0.6074528, 4.0), (51.032745535599666, 99.55539219416954, 0.6074528, 4.0), (43.307320676225984, 123.33180510154838, 0.6074528, 4.0), (30.807320676225988, 144.98244019615936, 0.6074528, 4.0), (21.848121937593483, 168.3219508585894, 0.6074528, 4.0)]\n",
      "Road Instance 5, angle: 9, 25: [(47.999939999999995, 24.969459999999998, 0.6074528, 4.0), (47.99994, 49.96946, 0.6074528, 4.0), (52.341144441673265, 74.58965382530519, 0.6074528, 4.0), (51.032745535599666, 99.55539219416954, 0.6074528, 4.0), (43.307320676225984, 123.33180510154838, 0.6074528, 4.0), (30.807320676225988, 144.98244019615936, 0.6074528, 4.0), (21.848121937593483, 168.3219508585894, 0.6074528, 4.0), (9.348121937593486, 189.97258595320037, 0.6074528, 4.0)]\n",
      "finished road generation\n",
      "IndividualToScenario: Function is zigzag_mapping/zigzag_mapping\n",
      "Segment lengths are None\n",
      "Started Road Generation\n",
      "Road Instance 0, angle: -9, 25: [(47.999939999999995, 24.969459999999998, 0.6074528, 4.0), (47.99994, 49.96946, 0.6074528, 4.0), (52.341144441673265, 74.58965382530519, 0.6074528, 4.0)]\n",
      "Road Instance 1, angle: 14, 25: [(47.999939999999995, 24.969459999999998, 0.6074528, 4.0), (47.99994, 49.96946, 0.6074528, 4.0), (52.341144441673265, 74.58965382530519, 0.6074528, 4.0), (51.032745535599666, 99.55539219416954, 0.6074528, 4.0)]\n",
      "Road Instance 2, angle: 14, 25: [(47.999939999999995, 24.969459999999998, 0.6074528, 4.0), (47.99994, 49.96946, 0.6074528, 4.0), (52.341144441673265, 74.58965382530519, 0.6074528, 4.0), (51.032745535599666, 99.55539219416954, 0.6074528, 4.0), (43.72345291753125, 123.46301109324543, 0.6074528, 4.0)]\n",
      "Road Instance 3, angle: -6, 25: [(47.999939999999995, 24.969459999999998, 0.6074528, 4.0), (47.99994, 49.96946, 0.6074528, 4.0), (52.341144441673265, 74.58965382530519, 0.6074528, 4.0), (51.032745535599666, 99.55539219416954, 0.6074528, 4.0), (43.72345291753125, 123.46301109324543, 0.6074528, 4.0), (38.953228033117625, 148.00369067943703, 0.6074528, 4.0)]\n",
      "Road Instance 4, angle: -8, 25: [(47.999939999999995, 24.969459999999998, 0.6074528, 4.0), (47.99994, 49.96946, 0.6074528, 4.0), (52.341144441673265, 74.58965382530519, 0.6074528, 4.0), (51.032745535599666, 99.55539219416954, 0.6074528, 4.0), (43.72345291753125, 123.46301109324543, 0.6074528, 4.0), (38.953228033117625, 148.00369067943703, 0.6074528, 4.0), (37.64482912704403, 172.96942904830138, 0.6074528, 4.0)]\n",
      "Road Instance 5, angle: 8, 25: [(47.999939999999995, 24.969459999999998, 0.6074528, 4.0), (47.99994, 49.96946, 0.6074528, 4.0), (52.341144441673265, 74.58965382530519, 0.6074528, 4.0), (51.032745535599666, 99.55539219416954, 0.6074528, 4.0), (43.72345291753125, 123.46301109324543, 0.6074528, 4.0), (38.953228033117625, 148.00369067943703, 0.6074528, 4.0), (37.64482912704403, 172.96942904830138, 0.6074528, 4.0), (32.874604242630404, 197.51010863449298, 0.6074528, 4.0)]\n",
      "finished road generation\n",
      "IndividualToScenario: Function is dynamic_object_overlay/dynamic_object_overlay\n",
      "Segment lengths are None\n",
      "Started Road Generation\n",
      "Road Instance 0, angle: -9, 25: [(47.999939999999995, 24.969459999999998, 0.6074528, 4.0), (47.99994, 49.96946, 0.6074528, 4.0), (52.341144441673265, 74.58965382530519, 0.6074528, 4.0)]\n",
      "Road Instance 1, angle: 14, 25: [(47.999939999999995, 24.969459999999998, 0.6074528, 4.0), (47.99994, 49.96946, 0.6074528, 4.0), (52.341144441673265, 74.58965382530519, 0.6074528, 4.0), (51.032745535599666, 99.55539219416954, 0.6074528, 4.0)]\n",
      "Road Instance 2, angle: 14, 25: [(47.999939999999995, 24.969459999999998, 0.6074528, 4.0), (47.99994, 49.96946, 0.6074528, 4.0), (52.341144441673265, 74.58965382530519, 0.6074528, 4.0), (51.032745535599666, 99.55539219416954, 0.6074528, 4.0), (43.72345291753125, 123.46301109324543, 0.6074528, 4.0)]\n",
      "Road Instance 3, angle: 12, 25: [(47.999939999999995, 24.969459999999998, 0.6074528, 4.0), (47.99994, 49.96946, 0.6074528, 4.0), (52.341144441673265, 74.58965382530519, 0.6074528, 4.0), (51.032745535599666, 99.55539219416954, 0.6074528, 4.0), (43.72345291753125, 123.46301109324543, 0.6074528, 4.0), (31.603212411372823, 145.3285037717303, 0.6074528, 4.0)]\n",
      "Road Instance 4, angle: -8, 25: [(47.999939999999995, 24.969459999999998, 0.6074528, 4.0), (47.99994, 49.96946, 0.6074528, 4.0), (52.341144441673265, 74.58965382530519, 0.6074528, 4.0), (51.032745535599666, 99.55539219416954, 0.6074528, 4.0), (43.72345291753125, 123.46301109324543, 0.6074528, 4.0), (31.603212411372823, 145.3285037717303, 0.6074528, 4.0), (22.644013672740314, 168.66801443416034, 0.6074528, 4.0)]\n",
      "Road Instance 5, angle: -15, 25: [(47.999939999999995, 24.969459999999998, 0.6074528, 4.0), (47.99994, 49.96946, 0.6074528, 4.0), (52.341144441673265, 74.58965382530519, 0.6074528, 4.0), (51.032745535599666, 99.55539219416954, 0.6074528, 4.0), (43.72345291753125, 123.46301109324543, 0.6074528, 4.0), (31.603212411372823, 145.3285037717303, 0.6074528, 4.0), (22.644013672740314, 168.66801443416034, 0.6074528, 4.0), (20.030802091048976, 193.53106181836716, 0.6074528, 4.0)]\n",
      "finished road generation\n",
      "IndividualToScenario: Function is zigzag_mapping/zigzag_mapping\n",
      "Segment lengths are None\n",
      "Started Road Generation\n",
      "Road Instance 0, angle: -9, 25: [(47.999939999999995, 24.969459999999998, 0.6074528, 4.0), (47.99994, 49.96946, 0.6074528, 4.0), (52.341144441673265, 74.58965382530519, 0.6074528, 4.0)]\n",
      "Road Instance 1, angle: 14, 25: [(47.999939999999995, 24.969459999999998, 0.6074528, 4.0), (47.99994, 49.96946, 0.6074528, 4.0), (52.341144441673265, 74.58965382530519, 0.6074528, 4.0), (51.032745535599666, 99.55539219416954, 0.6074528, 4.0)]\n",
      "Road Instance 2, angle: 14, 25: [(47.999939999999995, 24.969459999999998, 0.6074528, 4.0), (47.99994, 49.96946, 0.6074528, 4.0), (52.341144441673265, 74.58965382530519, 0.6074528, 4.0), (51.032745535599666, 99.55539219416954, 0.6074528, 4.0), (43.72345291753125, 123.46301109324543, 0.6074528, 4.0)]\n",
      "Road Instance 3, angle: 12, 25: [(47.999939999999995, 24.969459999999998, 0.6074528, 4.0), (47.99994, 49.96946, 0.6074528, 4.0), (52.341144441673265, 74.58965382530519, 0.6074528, 4.0), (51.032745535599666, 99.55539219416954, 0.6074528, 4.0), (43.72345291753125, 123.46301109324543, 0.6074528, 4.0), (31.603212411372823, 145.3285037717303, 0.6074528, 4.0)]\n",
      "Road Instance 4, angle: -8, 25: [(47.999939999999995, 24.969459999999998, 0.6074528, 4.0), (47.99994, 49.96946, 0.6074528, 4.0), (52.341144441673265, 74.58965382530519, 0.6074528, 4.0), (51.032745535599666, 99.55539219416954, 0.6074528, 4.0), (43.72345291753125, 123.46301109324543, 0.6074528, 4.0), (31.603212411372823, 145.3285037717303, 0.6074528, 4.0), (22.644013672740314, 168.66801443416034, 0.6074528, 4.0)]\n",
      "Road Instance 5, angle: -16, 25: [(47.999939999999995, 24.969459999999998, 0.6074528, 4.0), (47.99994, 49.96946, 0.6074528, 4.0), (52.341144441673265, 74.58965382530519, 0.6074528, 4.0), (51.032745535599666, 99.55539219416954, 0.6074528, 4.0), (43.72345291753125, 123.46301109324543, 0.6074528, 4.0), (31.603212411372823, 145.3285037717303, 0.6074528, 4.0), (22.644013672740314, 168.66801443416034, 0.6074528, 4.0), (20.465120104048857, 193.57288188645398, 0.6074528, 4.0)]\n",
      "finished road generation\n",
      "IndividualToScenario: Function is dynamic_object_overlay/dynamic_object_overlay\n",
      "Segment lengths are None\n",
      "Started Road Generation\n",
      "Road Instance 0, angle: -9, 25: [(47.999939999999995, 24.969459999999998, 0.6074528, 4.0), (47.99994, 49.96946, 0.6074528, 4.0), (52.341144441673265, 74.58965382530519, 0.6074528, 4.0)]\n",
      "Road Instance 1, angle: 14, 25: [(47.999939999999995, 24.969459999999998, 0.6074528, 4.0), (47.99994, 49.96946, 0.6074528, 4.0), (52.341144441673265, 74.58965382530519, 0.6074528, 4.0), (51.032745535599666, 99.55539219416954, 0.6074528, 4.0)]\n",
      "Road Instance 2, angle: 14, 25: [(47.999939999999995, 24.969459999999998, 0.6074528, 4.0), (47.99994, 49.96946, 0.6074528, 4.0), (52.341144441673265, 74.58965382530519, 0.6074528, 4.0), (51.032745535599666, 99.55539219416954, 0.6074528, 4.0), (43.72345291753125, 123.46301109324543, 0.6074528, 4.0)]\n",
      "Road Instance 3, angle: 11, 25: [(47.999939999999995, 24.969459999999998, 0.6074528, 4.0), (47.99994, 49.96946, 0.6074528, 4.0), (52.341144441673265, 74.58965382530519, 0.6074528, 4.0), (51.032745535599666, 99.55539219416954, 0.6074528, 4.0), (43.72345291753125, 123.46301109324543, 0.6074528, 4.0), (31.986663847883975, 145.5367009147186, 0.6074528, 4.0)]\n",
      "Road Instance 4, angle: -8, 25: [(47.999939999999995, 24.969459999999998, 0.6074528, 4.0), (47.99994, 49.96946, 0.6074528, 4.0), (52.341144441673265, 74.58965382530519, 0.6074528, 4.0), (51.032745535599666, 99.55539219416954, 0.6074528, 4.0), (43.72345291753125, 123.46301109324543, 0.6074528, 4.0), (31.986663847883975, 145.5367009147186, 0.6074528, 4.0), (23.436160264742256, 169.02901643436633, 0.6074528, 4.0)]\n",
      "Road Instance 5, angle: 9, 25: [(47.999939999999995, 24.969459999999998, 0.6074528, 4.0), (47.99994, 49.96946, 0.6074528, 4.0), (52.341144441673265, 74.58965382530519, 0.6074528, 4.0), (51.032745535599666, 99.55539219416954, 0.6074528, 4.0), (43.72345291753125, 123.46301109324543, 0.6074528, 4.0), (31.986663847883975, 145.5367009147186, 0.6074528, 4.0), (23.436160264742256, 169.02901643436633, 0.6074528, 4.0), (11.315919758583831, 190.8945091128512, 0.6074528, 4.0)]\n",
      "finished road generation\n",
      "IndividualToScenario: Function is dynamic_object_overlay/dynamic_object_overlay\n",
      "----- Finished Perturbation-Controller set up -----\n",
      "INFO:SDSandBoxSimulator:Reset the scenario\n"
     ]
    },
    {
     "name": "stderr",
     "output_type": "stream",
     "text": [
      "2024-01-18 10:45:14,407 INFO     Reset the scenario\n"
     ]
    },
    {
     "name": "stdout",
     "output_type": "stream",
     "text": [
      "fps 18.47\n",
      "fps 19.73\n",
      "fps 19.71\n",
      "fps 19.74\n",
      "fps 19.72\n",
      "fps 19.73\n",
      "fps 19.76\n",
      "SDSandBox: Finished scenario\n",
      "INFO:SDSandBoxSimulator:Reset the scenario\n"
     ]
    },
    {
     "name": "stderr",
     "output_type": "stream",
     "text": [
      "2024-01-18 10:45:50,849 INFO     Reset the scenario\n"
     ]
    },
    {
     "name": "stdout",
     "output_type": "stream",
     "text": [
      "Exception: [Errno 54] Connection reset by peer\n",
      "CRITICAL:DonkeySimMsgHandler:DonkeySimMsgHandler: +++++ Warning: Donkey Sim Aborted +++++\n"
     ]
    },
    {
     "name": "stderr",
     "output_type": "stream",
     "text": [
      "2024-01-18 10:45:51,719 CRITICAL DonkeySimMsgHandler: +++++ Warning: Donkey Sim Aborted +++++\n"
     ]
    },
    {
     "name": "stdout",
     "output_type": "stream",
     "text": [
      "INFO:DonkeySimMsgHandler:DonkeySimMsgHandler: +++++ Warning: Donkey Sim Message Stoped +++++\n"
     ]
    },
    {
     "name": "stderr",
     "output_type": "stream",
     "text": [
      "2024-01-18 10:45:51,724 INFO     DonkeySimMsgHandler: +++++ Warning: Donkey Sim Message Stoped +++++\n"
     ]
    },
    {
     "name": "stdout",
     "output_type": "stream",
     "text": [
      "fps 19.71\n",
      "fps 17.48\n",
      "fps 19.69\n",
      "fps 19.71\n",
      "fps 19.72\n",
      "fps 19.71\n",
      "fps 19.71\n",
      "SDSandBox: Finished scenario\n",
      "INFO:SDSandBoxSimulator:Reset the scenario\n"
     ]
    },
    {
     "name": "stderr",
     "output_type": "stream",
     "text": [
      "2024-01-18 10:46:26,628 INFO     Reset the scenario\n"
     ]
    },
    {
     "name": "stdout",
     "output_type": "stream",
     "text": [
      "fps 19.71\n",
      "fps 19.71\n",
      "fps 19.72\n",
      "fps 19.71\n",
      "fps 19.72\n",
      "fps 19.72\n",
      "SDSandBox: Finished scenario\n",
      "INFO:SDSandBoxSimulator:Reset the scenario\n"
     ]
    },
    {
     "name": "stderr",
     "output_type": "stream",
     "text": [
      "2024-01-18 10:46:57,303 INFO     Reset the scenario\n"
     ]
    },
    {
     "name": "stdout",
     "output_type": "stream",
     "text": [
      "fps 19.69\n",
      "fps 19.72\n",
      "fps 19.73\n",
      "fps 19.72\n",
      "fps 19.70\n",
      "SDSandBox: Finished scenario\n",
      "fps 19.66\n",
      "INFO:SDSandBoxSimulator:Reset the scenario\n"
     ]
    },
    {
     "name": "stderr",
     "output_type": "stream",
     "text": [
      "2024-01-18 10:47:26,604 INFO     Reset the scenario\n"
     ]
    },
    {
     "name": "stdout",
     "output_type": "stream",
     "text": [
      "fps 19.75\n",
      "fps 19.68\n",
      "fps 19.70\n",
      "fps 19.71\n",
      "fps 19.71\n",
      "fps 19.72\n",
      "SDSandBox: Finished scenario\n",
      "INFO:SDSandBoxSimulator:Reset the scenario\n"
     ]
    },
    {
     "name": "stderr",
     "output_type": "stream",
     "text": [
      "2024-01-18 10:47:58,639 INFO     Reset the scenario\n"
     ]
    },
    {
     "name": "stdout",
     "output_type": "stream",
     "text": [
      "fps 19.68\n",
      "fps 19.76\n",
      "fps 19.72\n",
      "fps 19.71\n",
      "fps 19.70\n",
      "fps 19.70\n",
      "SDSandBox: Finished scenario\n",
      "INFO:DonkeySimMsgHandler:DonkeySimMsgHandler: +++++ Warning: Donkey Sim Disconnected +++++\n"
     ]
    },
    {
     "name": "stderr",
     "output_type": "stream",
     "text": [
      "2024-01-18 10:48:29,846 INFO     DonkeySimMsgHandler: +++++ Warning: Donkey Sim Disconnected +++++\n"
     ]
    },
    {
     "name": "stdout",
     "output_type": "stream",
     "text": [
      "INFO:DonkeyProcess:Closing donkey sim subprocess\n"
     ]
    },
    {
     "name": "stderr",
     "output_type": "stream",
     "text": [
      "2024-01-18 10:48:29,849 INFO     Closing donkey sim subprocess\n",
      "2024-01-18 10:48:29,956 INFO     Running evaluation number 6\n"
     ]
    },
    {
     "name": "stdout",
     "output_type": "stream",
     "text": [
      "     5 |       30 |      3 |  0.000000E+00 |             f\n",
      "Using model: generated_dave_v5\n",
      "INFO:DonkeyProcess:This is the launch string /Users/hannesleonhard/Documents/BachelorWInfo/Robustness-SDC/PerturbationDrive/./examples/self_driving_sandbox_donkey/sim/donkey-sim.app/Contents/MacOS/Simulator\n"
     ]
    },
    {
     "name": "stderr",
     "output_type": "stream",
     "text": [
      "2024-01-18 10:48:30,161 INFO     This is the launch string /Users/hannesleonhard/Documents/BachelorWInfo/Robustness-SDC/PerturbationDrive/./examples/self_driving_sandbox_donkey/sim/donkey-sim.app/Contents/MacOS/Simulator\n"
     ]
    },
    {
     "name": "stdout",
     "output_type": "stream",
     "text": [
      "[UnityMemory] Configuration Parameters - Can be set up in boot.config\n",
      "    \"memorysetup-bucket-allocator-granularity=16\"\n",
      "    \"memorysetup-bucket-allocator-bucket-count=8\"\n",
      "    \"memorysetup-bucket-allocator-block-size=4194304\"\n",
      "    \"memorysetup-bucket-allocator-block-count=1\"\n",
      "    \"memorysetup-main-allocator-block-size=16777216\"\n",
      "    \"memorysetup-thread-allocator-block-size=16777216\"\n",
      "    \"memorysetup-gfx-main-allocator-block-size=16777216\"\n",
      "    \"memorysetup-gfx-thread-allocator-block-size=16777216\"\n",
      "    \"memorysetup-cache-allocator-block-size=4194304\"\n",
      "    \"memorysetup-typetree-allocator-block-size=2097152\"\n",
      "    \"memorysetup-profiler-bucket-allocator-granularity=16\"\n",
      "    \"memorysetup-profiler-bucket-allocator-bucket-count=8\"\n",
      "    \"memorysetup-profiler-bucket-allocator-block-size=4194304\"\n",
      "    \"memorysetup-profiler-bucket-allocator-block-count=1\"\n",
      "    \"memorysetup-profiler-allocator-block-size=16777216\"\n",
      "    \"memorysetup-profiler-editor-allocator-block-size=1048576\"\n",
      "    \"memorysetup-temp-allocator-size-main=4194304\"\n",
      "    \"memorysetup-job-temp-allocator-block-size=2097152\"\n",
      "    \"memorysetup-job-temp-allocator-block-size-background=1048576\"\n",
      "    \"memorysetup-job-temp-allocator-reduction-small-platforms=262144\"\n",
      "    \"memorysetup-allocator-temp-initial-block-size-main=262144\"\n",
      "    \"memorysetup-allocator-temp-initial-block-size-worker=262144\"\n",
      "    \"memorysetup-temp-allocator-size-background-worker=32768\"\n",
      "    \"memorysetup-temp-allocator-size-job-worker=262144\"\n",
      "    \"memorysetup-temp-allocator-size-preload-manager=262144\"\n",
      "    \"memorysetup-temp-allocator-size-nav-mesh-worker=65536\"\n",
      "    \"memorysetup-temp-allocator-size-audio-worker=65536\"\n",
      "    \"memorysetup-temp-allocator-size-cloud-worker=32768\"\n",
      "    \"memorysetup-temp-allocator-size-gfx=262144\"\n",
      "INFO:DonkeyProcess:donkey subprocess started\n"
     ]
    },
    {
     "name": "stderr",
     "output_type": "stream",
     "text": [
      "2024-01-18 10:48:50,177 INFO     donkey subprocess started\n"
     ]
    },
    {
     "name": "stdout",
     "output_type": "stream",
     "text": [
      "INFO:SDSandBoxSimulator:Waiting for inital obs\n"
     ]
    },
    {
     "name": "stderr",
     "output_type": "stream",
     "text": [
      "2024-01-18 10:48:50,232 INFO     Waiting for inital obs\n"
     ]
    },
    {
     "name": "stdout",
     "output_type": "stream",
     "text": [
      "INFO:SDSandBoxSimulator:Waiting for inital obs\n"
     ]
    },
    {
     "name": "stderr",
     "output_type": "stream",
     "text": [
      "2024-01-18 10:48:50,274 INFO     Waiting for inital obs\n"
     ]
    },
    {
     "name": "stdout",
     "output_type": "stream",
     "text": [
      "INFO:SDSandBoxSimulator:Waiting for inital obs\n"
     ]
    },
    {
     "name": "stderr",
     "output_type": "stream",
     "text": [
      "2024-01-18 10:48:50,316 INFO     Waiting for inital obs\n"
     ]
    },
    {
     "name": "stdout",
     "output_type": "stream",
     "text": [
      "INFO:SDSandBoxSimulator:Waiting for inital obs\n"
     ]
    },
    {
     "name": "stderr",
     "output_type": "stream",
     "text": [
      "2024-01-18 10:48:50,357 INFO     Waiting for inital obs\n"
     ]
    },
    {
     "name": "stdout",
     "output_type": "stream",
     "text": [
      "INFO:SDSandBoxSimulator:Waiting for inital obs\n"
     ]
    },
    {
     "name": "stderr",
     "output_type": "stream",
     "text": [
      "2024-01-18 10:48:50,400 INFO     Waiting for inital obs\n"
     ]
    },
    {
     "name": "stdout",
     "output_type": "stream",
     "text": [
      "INFO:SDSandBoxSimulator:Waiting for inital obs\n"
     ]
    },
    {
     "name": "stderr",
     "output_type": "stream",
     "text": [
      "2024-01-18 10:48:50,442 INFO     Waiting for inital obs\n"
     ]
    },
    {
     "name": "stdout",
     "output_type": "stream",
     "text": [
      "INFO:SDSandBoxSimulator:Waiting for inital obs\n"
     ]
    },
    {
     "name": "stderr",
     "output_type": "stream",
     "text": [
      "2024-01-18 10:48:50,483 INFO     Waiting for inital obs\n"
     ]
    },
    {
     "name": "stdout",
     "output_type": "stream",
     "text": [
      "INFO:SDSandBoxSimulator:Waiting for inital obs\n"
     ]
    },
    {
     "name": "stderr",
     "output_type": "stream",
     "text": [
      "2024-01-18 10:48:50,525 INFO     Waiting for inital obs\n"
     ]
    },
    {
     "name": "stdout",
     "output_type": "stream",
     "text": [
      "INFO:DonkeySimMsgHandler:DonkeySimMsgHandler: ----- Car Created With Data {'msg_type': 'car_loaded'} -----\n"
     ]
    },
    {
     "name": "stderr",
     "output_type": "stream",
     "text": [
      "2024-01-18 10:48:50,558 INFO     DonkeySimMsgHandler: ----- Car Created With Data {'msg_type': 'car_loaded'} -----\n"
     ]
    },
    {
     "name": "stdout",
     "output_type": "stream",
     "text": [
      "INFO:SDSandBoxSimulator:Waiting for inital obs\n"
     ]
    },
    {
     "name": "stderr",
     "output_type": "stream",
     "text": [
      "2024-01-18 10:48:50,569 INFO     Waiting for inital obs\n"
     ]
    },
    {
     "name": "stdout",
     "output_type": "stream",
     "text": [
      "INFO:SDSandBoxSimulator:Waiting for inital obs\n"
     ]
    },
    {
     "name": "stderr",
     "output_type": "stream",
     "text": [
      "2024-01-18 10:48:50,611 INFO     Waiting for inital obs\n"
     ]
    },
    {
     "name": "stdout",
     "output_type": "stream",
     "text": [
      "Segment lengths are None\n",
      "Started Road Generation\n",
      "Road Instance 0, angle: -9, 25: [(47.999979999999994, 24.96965, 0.6099315, 4.0), (47.99998, 49.96965, 0.6099315, 4.0), (52.34118444167326, 74.5898438253052, 0.6099315, 4.0)]\n",
      "Road Instance 1, angle: 14, 25: [(47.999979999999994, 24.96965, 0.6099315, 4.0), (47.99998, 49.96965, 0.6099315, 4.0), (52.34118444167326, 74.5898438253052, 0.6099315, 4.0), (51.032785535599665, 99.55558219416955, 0.6099315, 4.0)]\n",
      "Road Instance 2, angle: 15, 25: [(47.999979999999994, 24.96965, 0.6099315, 4.0), (47.99998, 49.96965, 0.6099315, 4.0), (52.34118444167326, 74.5898438253052, 0.6099315, 4.0), (51.032785535599665, 99.55558219416955, 0.6099315, 4.0), (43.30736067622598, 123.33199510154839, 0.6099315, 4.0)]\n",
      "Road Instance 3, angle: -5, 25: [(47.999979999999994, 24.96965, 0.6099315, 4.0), (47.99998, 49.96965, 0.6099315, 4.0), (52.34118444167326, 74.5898438253052, 0.6099315, 4.0), (51.032785535599665, 99.55558219416955, 0.6099315, 4.0), (43.30736067622598, 123.33199510154839, 0.6099315, 4.0), (37.683584317629354, 147.69124672117925, 0.6099315, 4.0)]\n",
      "Road Instance 4, angle: -8, 25: [(47.999979999999994, 24.96965, 0.6099315, 4.0), (47.99998, 49.96965, 0.6099315, 4.0), (52.34118444167326, 74.5898438253052, 0.6099315, 4.0), (51.032785535599665, 99.55558219416955, 0.6099315, 4.0), (43.30736067622598, 123.33199510154839, 0.6099315, 4.0), (37.683584317629354, 147.69124672117925, 0.6099315, 4.0), (35.5046907489379, 172.5961141734729, 0.6099315, 4.0)]\n",
      "Road Instance 5, angle: 10, 25: [(47.999979999999994, 24.96965, 0.6099315, 4.0), (47.99998, 49.96965, 0.6099315, 4.0), (52.34118444167326, 74.5898438253052, 0.6099315, 4.0), (51.032785535599665, 99.55558219416955, 0.6099315, 4.0), (43.30736067622598, 123.33199510154839, 0.6099315, 4.0), (37.683584317629354, 147.69124672117925, 0.6099315, 4.0), (35.5046907489379, 172.5961141734729, 0.6099315, 4.0), (29.034214621374876, 196.7442598306996, 0.6099315, 4.0)]\n",
      "finished road generation\n",
      "IndividualToScenario: Function is dynamic_object_overlay/dynamic_object_overlay\n",
      "Segment lengths are None\n",
      "Started Road Generation\n",
      "Road Instance 0, angle: -9, 25: [(47.999979999999994, 24.96965, 0.6099315, 4.0), (47.99998, 49.96965, 0.6099315, 4.0), (52.34118444167326, 74.5898438253052, 0.6099315, 4.0)]\n",
      "Road Instance 1, angle: 14, 25: [(47.999979999999994, 24.96965, 0.6099315, 4.0), (47.99998, 49.96965, 0.6099315, 4.0), (52.34118444167326, 74.5898438253052, 0.6099315, 4.0), (51.032785535599665, 99.55558219416955, 0.6099315, 4.0)]\n",
      "Road Instance 2, angle: 14, 25: [(47.999979999999994, 24.96965, 0.6099315, 4.0), (47.99998, 49.96965, 0.6099315, 4.0), (52.34118444167326, 74.5898438253052, 0.6099315, 4.0), (51.032785535599665, 99.55558219416955, 0.6099315, 4.0), (43.723492917531246, 123.46320109324543, 0.6099315, 4.0)]\n",
      "Road Instance 3, angle: 12, 25: [(47.999979999999994, 24.96965, 0.6099315, 4.0), (47.99998, 49.96965, 0.6099315, 4.0), (52.34118444167326, 74.5898438253052, 0.6099315, 4.0), (51.032785535599665, 99.55558219416955, 0.6099315, 4.0), (43.723492917531246, 123.46320109324543, 0.6099315, 4.0), (31.60325241137282, 145.32869377173031, 0.6099315, 4.0)]\n",
      "Road Instance 4, angle: -8, 25: [(47.999979999999994, 24.96965, 0.6099315, 4.0), (47.99998, 49.96965, 0.6099315, 4.0), (52.34118444167326, 74.5898438253052, 0.6099315, 4.0), (51.032785535599665, 99.55558219416955, 0.6099315, 4.0), (43.723492917531246, 123.46320109324543, 0.6099315, 4.0), (31.60325241137282, 145.32869377173031, 0.6099315, 4.0), (22.644053672740313, 168.66820443416037, 0.6099315, 4.0)]\n",
      "Road Instance 5, angle: 10, 25: [(47.999979999999994, 24.96965, 0.6099315, 4.0), (47.99998, 49.96965, 0.6099315, 4.0), (52.34118444167326, 74.5898438253052, 0.6099315, 4.0), (51.032785535599665, 99.55558219416955, 0.6099315, 4.0), (43.723492917531246, 123.46320109324543, 0.6099315, 4.0), (31.60325241137282, 145.32869377173031, 0.6099315, 4.0), (22.644053672740313, 168.66820443416037, 0.6099315, 4.0), (10.144053672740316, 190.31883952877135, 0.6099315, 4.0)]\n",
      "finished road generation\n",
      "IndividualToScenario: Function is dynamic_object_overlay/dynamic_object_overlay\n",
      "Segment lengths are None\n",
      "Started Road Generation\n",
      "Road Instance 0, angle: -9, 25: [(47.999979999999994, 24.96965, 0.6099315, 4.0), (47.99998, 49.96965, 0.6099315, 4.0), (52.34118444167326, 74.5898438253052, 0.6099315, 4.0)]\n",
      "Road Instance 1, angle: 14, 25: [(47.999979999999994, 24.96965, 0.6099315, 4.0), (47.99998, 49.96965, 0.6099315, 4.0), (52.34118444167326, 74.5898438253052, 0.6099315, 4.0), (51.032785535599665, 99.55558219416955, 0.6099315, 4.0)]\n",
      "Road Instance 2, angle: 14, 25: [(47.999979999999994, 24.96965, 0.6099315, 4.0), (47.99998, 49.96965, 0.6099315, 4.0), (52.34118444167326, 74.5898438253052, 0.6099315, 4.0), (51.032785535599665, 99.55558219416955, 0.6099315, 4.0), (43.723492917531246, 123.46320109324543, 0.6099315, 4.0)]\n",
      "Road Instance 3, angle: 12, 25: [(47.999979999999994, 24.96965, 0.6099315, 4.0), (47.99998, 49.96965, 0.6099315, 4.0), (52.34118444167326, 74.5898438253052, 0.6099315, 4.0), (51.032785535599665, 99.55558219416955, 0.6099315, 4.0), (43.723492917531246, 123.46320109324543, 0.6099315, 4.0), (31.60325241137282, 145.32869377173031, 0.6099315, 4.0)]\n",
      "Road Instance 4, angle: -8, 25: [(47.999979999999994, 24.96965, 0.6099315, 4.0), (47.99998, 49.96965, 0.6099315, 4.0), (52.34118444167326, 74.5898438253052, 0.6099315, 4.0), (51.032785535599665, 99.55558219416955, 0.6099315, 4.0), (43.723492917531246, 123.46320109324543, 0.6099315, 4.0), (31.60325241137282, 145.32869377173031, 0.6099315, 4.0), (22.644053672740313, 168.66820443416037, 0.6099315, 4.0)]\n",
      "Road Instance 5, angle: -17, 25: [(47.999979999999994, 24.96965, 0.6099315, 4.0), (47.99998, 49.96965, 0.6099315, 4.0), (52.34118444167326, 74.5898438253052, 0.6099315, 4.0), (51.032785535599665, 99.55558219416955, 0.6099315, 4.0), (43.723492917531246, 123.46320109324543, 0.6099315, 4.0), (31.60325241137282, 145.32869377173031, 0.6099315, 4.0), (22.644053672740313, 168.66820443416037, 0.6099315, 4.0), (21.335654766666718, 193.63394280302472, 0.6099315, 4.0)]\n",
      "finished road generation\n",
      "IndividualToScenario: Function is zigzag_mapping/zigzag_mapping\n",
      "Segment lengths are None\n",
      "Started Road Generation\n",
      "Road Instance 0, angle: -9, 25: [(47.999979999999994, 24.96965, 0.6099315, 4.0), (47.99998, 49.96965, 0.6099315, 4.0), (52.34118444167326, 74.5898438253052, 0.6099315, 4.0)]\n",
      "Road Instance 1, angle: 14, 25: [(47.999979999999994, 24.96965, 0.6099315, 4.0), (47.99998, 49.96965, 0.6099315, 4.0), (52.34118444167326, 74.5898438253052, 0.6099315, 4.0), (51.032785535599665, 99.55558219416955, 0.6099315, 4.0)]\n",
      "Road Instance 2, angle: 15, 25: [(47.999979999999994, 24.96965, 0.6099315, 4.0), (47.99998, 49.96965, 0.6099315, 4.0), (52.34118444167326, 74.5898438253052, 0.6099315, 4.0), (51.032785535599665, 99.55558219416955, 0.6099315, 4.0), (43.30736067622598, 123.33199510154839, 0.6099315, 4.0)]\n",
      "Road Instance 3, angle: 12, 25: [(47.999979999999994, 24.96965, 0.6099315, 4.0), (47.99998, 49.96965, 0.6099315, 4.0), (52.34118444167326, 74.5898438253052, 0.6099315, 4.0), (51.032785535599665, 99.55558219416955, 0.6099315, 4.0), (43.30736067622598, 123.33199510154839, 0.6099315, 4.0), (30.807360676225986, 144.98263019615936, 0.6099315, 4.0)]\n",
      "Road Instance 4, angle: -8, 25: [(47.999979999999994, 24.96965, 0.6099315, 4.0), (47.99998, 49.96965, 0.6099315, 4.0), (52.34118444167326, 74.5898438253052, 0.6099315, 4.0), (51.032785535599665, 99.55558219416955, 0.6099315, 4.0), (43.30736067622598, 123.33199510154839, 0.6099315, 4.0), (30.807360676225986, 144.98263019615936, 0.6099315, 4.0), (21.84816193759348, 168.32214085858942, 0.6099315, 4.0)]\n",
      "Road Instance 5, angle: 9, 25: [(47.999979999999994, 24.96965, 0.6099315, 4.0), (47.99998, 49.96965, 0.6099315, 4.0), (52.34118444167326, 74.5898438253052, 0.6099315, 4.0), (51.032785535599665, 99.55558219416955, 0.6099315, 4.0), (43.30736067622598, 123.33199510154839, 0.6099315, 4.0), (30.807360676225986, 144.98263019615936, 0.6099315, 4.0), (21.84816193759348, 168.32214085858942, 0.6099315, 4.0), (9.727921431435057, 190.1876335370743, 0.6099315, 4.0)]\n",
      "finished road generation\n",
      "IndividualToScenario: Function is zigzag_mapping/zigzag_mapping\n",
      "Segment lengths are None\n",
      "Started Road Generation\n",
      "Road Instance 0, angle: -9, 25: [(47.999979999999994, 24.96965, 0.6099315, 4.0), (47.99998, 49.96965, 0.6099315, 4.0), (52.34118444167326, 74.5898438253052, 0.6099315, 4.0)]\n",
      "Road Instance 1, angle: 14, 25: [(47.999979999999994, 24.96965, 0.6099315, 4.0), (47.99998, 49.96965, 0.6099315, 4.0), (52.34118444167326, 74.5898438253052, 0.6099315, 4.0), (51.032785535599665, 99.55558219416955, 0.6099315, 4.0)]\n",
      "Road Instance 2, angle: 15, 25: [(47.999979999999994, 24.96965, 0.6099315, 4.0), (47.99998, 49.96965, 0.6099315, 4.0), (52.34118444167326, 74.5898438253052, 0.6099315, 4.0), (51.032785535599665, 99.55558219416955, 0.6099315, 4.0), (43.30736067622598, 123.33199510154839, 0.6099315, 4.0)]\n",
      "Road Instance 3, angle: -7, 25: [(47.999979999999994, 24.96965, 0.6099315, 4.0), (47.99998, 49.96965, 0.6099315, 4.0), (52.34118444167326, 74.5898438253052, 0.6099315, 4.0), (51.032785535599665, 99.55558219416955, 0.6099315, 4.0), (43.30736067622598, 123.33199510154839, 0.6099315, 4.0), (38.53713579181236, 147.87267468774, 0.6099315, 4.0)]\n",
      "Road Instance 4, angle: -8, 25: [(47.999979999999994, 24.96965, 0.6099315, 4.0), (47.99998, 49.96965, 0.6099315, 4.0), (52.34118444167326, 74.5898438253052, 0.6099315, 4.0), (51.032785535599665, 99.55558219416955, 0.6099315, 4.0), (43.30736067622598, 123.33199510154839, 0.6099315, 4.0), (38.53713579181236, 147.87267468774, 0.6099315, 4.0), (37.22873688573876, 172.83841305660434, 0.6099315, 4.0)]\n",
      "Road Instance 5, angle: 9, 25: [(47.999979999999994, 24.96965, 0.6099315, 4.0), (47.99998, 49.96965, 0.6099315, 4.0), (52.34118444167326, 74.5898438253052, 0.6099315, 4.0), (51.032785535599665, 99.55558219416955, 0.6099315, 4.0), (43.30736067622598, 123.33199510154839, 0.6099315, 4.0), (38.53713579181236, 147.87267468774, 0.6099315, 4.0), (37.22873688573876, 172.83841305660434, 0.6099315, 4.0), (32.03094461529478, 197.29210307494947, 0.6099315, 4.0)]\n",
      "finished road generation\n",
      "IndividualToScenario: Function is zigzag_mapping/zigzag_mapping\n",
      "Segment lengths are None\n",
      "Started Road Generation\n",
      "Road Instance 0, angle: -9, 25: [(47.999979999999994, 24.96965, 0.6099315, 4.0), (47.99998, 49.96965, 0.6099315, 4.0), (52.34118444167326, 74.5898438253052, 0.6099315, 4.0)]\n",
      "Road Instance 1, angle: 14, 25: [(47.999979999999994, 24.96965, 0.6099315, 4.0), (47.99998, 49.96965, 0.6099315, 4.0), (52.34118444167326, 74.5898438253052, 0.6099315, 4.0), (51.032785535599665, 99.55558219416955, 0.6099315, 4.0)]\n",
      "Road Instance 2, angle: 14, 25: [(47.999979999999994, 24.96965, 0.6099315, 4.0), (47.99998, 49.96965, 0.6099315, 4.0), (52.34118444167326, 74.5898438253052, 0.6099315, 4.0), (51.032785535599665, 99.55558219416955, 0.6099315, 4.0), (43.723492917531246, 123.46320109324543, 0.6099315, 4.0)]\n",
      "Road Instance 3, angle: 12, 25: [(47.999979999999994, 24.96965, 0.6099315, 4.0), (47.99998, 49.96965, 0.6099315, 4.0), (52.34118444167326, 74.5898438253052, 0.6099315, 4.0), (51.032785535599665, 99.55558219416955, 0.6099315, 4.0), (43.723492917531246, 123.46320109324543, 0.6099315, 4.0), (31.60325241137282, 145.32869377173031, 0.6099315, 4.0)]\n",
      "Road Instance 4, angle: -8, 25: [(47.999979999999994, 24.96965, 0.6099315, 4.0), (47.99998, 49.96965, 0.6099315, 4.0), (52.34118444167326, 74.5898438253052, 0.6099315, 4.0), (51.032785535599665, 99.55558219416955, 0.6099315, 4.0), (43.723492917531246, 123.46320109324543, 0.6099315, 4.0), (31.60325241137282, 145.32869377173031, 0.6099315, 4.0), (22.644053672740313, 168.66820443416037, 0.6099315, 4.0)]\n",
      "Road Instance 5, angle: -15, 25: [(47.999979999999994, 24.96965, 0.6099315, 4.0), (47.99998, 49.96965, 0.6099315, 4.0), (52.34118444167326, 74.5898438253052, 0.6099315, 4.0), (51.032785535599665, 99.55558219416955, 0.6099315, 4.0), (43.723492917531246, 123.46320109324543, 0.6099315, 4.0), (31.60325241137282, 145.32869377173031, 0.6099315, 4.0), (22.644053672740313, 168.66820443416037, 0.6099315, 4.0), (20.465160104048856, 193.57307188645402, 0.6099315, 4.0)]\n",
      "finished road generation\n",
      "IndividualToScenario: Function is dynamic_object_overlay/dynamic_object_overlay\n",
      "----- Finished Perturbation-Controller set up -----\n",
      "INFO:SDSandBoxSimulator:Reset the scenario\n"
     ]
    },
    {
     "name": "stderr",
     "output_type": "stream",
     "text": [
      "2024-01-18 10:48:52,469 INFO     Reset the scenario\n"
     ]
    },
    {
     "name": "stdout",
     "output_type": "stream",
     "text": [
      "fps 18.57\n",
      "fps 19.73\n",
      "fps 19.74\n",
      "fps 19.73\n",
      "fps 19.73\n",
      "fps 19.72\n",
      "fps 19.73\n",
      "SDSandBox: Finished scenario\n",
      "INFO:SDSandBoxSimulator:Reset the scenario\n"
     ]
    },
    {
     "name": "stderr",
     "output_type": "stream",
     "text": [
      "2024-01-18 10:49:28,893 INFO     Reset the scenario\n"
     ]
    },
    {
     "name": "stdout",
     "output_type": "stream",
     "text": [
      "Exception: [Errno 54] Connection reset by peer\n",
      "CRITICAL:DonkeySimMsgHandler:DonkeySimMsgHandler: +++++ Warning: Donkey Sim Aborted +++++\n"
     ]
    },
    {
     "name": "stderr",
     "output_type": "stream",
     "text": [
      "2024-01-18 10:49:29,952 CRITICAL DonkeySimMsgHandler: +++++ Warning: Donkey Sim Aborted +++++\n"
     ]
    },
    {
     "name": "stdout",
     "output_type": "stream",
     "text": [
      "INFO:DonkeySimMsgHandler:DonkeySimMsgHandler: +++++ Warning: Donkey Sim Message Stoped +++++\n"
     ]
    },
    {
     "name": "stderr",
     "output_type": "stream",
     "text": [
      "2024-01-18 10:49:29,957 INFO     DonkeySimMsgHandler: +++++ Warning: Donkey Sim Message Stoped +++++\n"
     ]
    },
    {
     "name": "stdout",
     "output_type": "stream",
     "text": [
      "fps 19.70\n",
      "fps 19.71\n",
      "fps 19.73\n",
      "fps 19.72\n",
      "fps 19.71\n",
      "fps 19.71\n",
      "SDSandBox: Finished scenario\n",
      "INFO:SDSandBoxSimulator:Reset the scenario\n"
     ]
    },
    {
     "name": "stderr",
     "output_type": "stream",
     "text": [
      "2024-01-18 10:49:59,294 INFO     Reset the scenario\n"
     ]
    },
    {
     "name": "stdout",
     "output_type": "stream",
     "text": [
      "fps 19.70\n",
      "fps 19.71\n",
      "fps 19.70\n",
      "fps 19.70\n",
      "fps 19.73\n",
      "fps 19.73\n",
      "fps 19.71\n",
      "SDSandBox: Finished scenario\n",
      "INFO:SDSandBoxSimulator:Reset the scenario\n"
     ]
    },
    {
     "name": "stderr",
     "output_type": "stream",
     "text": [
      "2024-01-18 10:50:35,325 INFO     Reset the scenario\n"
     ]
    },
    {
     "name": "stdout",
     "output_type": "stream",
     "text": [
      "fps 19.68\n",
      "fps 19.74\n",
      "fps 19.71\n",
      "fps 19.69\n",
      "fps 19.71\n",
      "fps 19.70\n",
      "fps 19.70\n",
      "SDSandBox: Finished scenario\n",
      "INFO:SDSandBoxSimulator:Reset the scenario\n"
     ]
    },
    {
     "name": "stderr",
     "output_type": "stream",
     "text": [
      "2024-01-18 10:51:10,706 INFO     Reset the scenario\n"
     ]
    },
    {
     "name": "stdout",
     "output_type": "stream",
     "text": [
      "fps 19.73\n",
      "fps 19.70\n",
      "fps 19.71\n",
      "fps 19.72\n",
      "fps 19.72\n",
      "fps 19.71\n",
      "fps 19.72\n",
      "SDSandBox: Finished scenario\n",
      "fps 19.66\n",
      "INFO:SDSandBoxSimulator:Reset the scenario\n"
     ]
    },
    {
     "name": "stderr",
     "output_type": "stream",
     "text": [
      "2024-01-18 10:51:48,870 INFO     Reset the scenario\n"
     ]
    },
    {
     "name": "stdout",
     "output_type": "stream",
     "text": [
      "fps 19.72\n",
      "fps 19.71\n",
      "fps 19.69\n",
      "fps 19.71\n",
      "fps 19.71\n",
      "fps 19.72\n",
      "SDSandBox: Finished scenario\n",
      "INFO:DonkeySimMsgHandler:DonkeySimMsgHandler: +++++ Warning: Donkey Sim Disconnected +++++\n"
     ]
    },
    {
     "name": "stderr",
     "output_type": "stream",
     "text": [
      "2024-01-18 10:52:20,997 INFO     DonkeySimMsgHandler: +++++ Warning: Donkey Sim Disconnected +++++\n"
     ]
    },
    {
     "name": "stdout",
     "output_type": "stream",
     "text": [
      "INFO:DonkeyProcess:Closing donkey sim subprocess\n"
     ]
    },
    {
     "name": "stderr",
     "output_type": "stream",
     "text": [
      "2024-01-18 10:52:20,999 INFO     Closing donkey sim subprocess\n",
      "2024-01-18 10:52:21,117 INFO     Running evaluation number 7\n"
     ]
    },
    {
     "name": "stdout",
     "output_type": "stream",
     "text": [
      "     6 |       36 |      3 |  0.0777149431 |         ideal\n",
      "Using model: generated_dave_v5\n",
      "INFO:DonkeyProcess:This is the launch string /Users/hannesleonhard/Documents/BachelorWInfo/Robustness-SDC/PerturbationDrive/./examples/self_driving_sandbox_donkey/sim/donkey-sim.app/Contents/MacOS/Simulator\n"
     ]
    },
    {
     "name": "stderr",
     "output_type": "stream",
     "text": [
      "2024-01-18 10:52:21,300 INFO     This is the launch string /Users/hannesleonhard/Documents/BachelorWInfo/Robustness-SDC/PerturbationDrive/./examples/self_driving_sandbox_donkey/sim/donkey-sim.app/Contents/MacOS/Simulator\n"
     ]
    },
    {
     "name": "stdout",
     "output_type": "stream",
     "text": [
      "[UnityMemory] Configuration Parameters - Can be set up in boot.config\n",
      "    \"memorysetup-bucket-allocator-granularity=16\"\n",
      "    \"memorysetup-bucket-allocator-bucket-count=8\"\n",
      "    \"memorysetup-bucket-allocator-block-size=4194304\"\n",
      "    \"memorysetup-bucket-allocator-block-count=1\"\n",
      "    \"memorysetup-main-allocator-block-size=16777216\"\n",
      "    \"memorysetup-thread-allocator-block-size=16777216\"\n",
      "    \"memorysetup-gfx-main-allocator-block-size=16777216\"\n",
      "    \"memorysetup-gfx-thread-allocator-block-size=16777216\"\n",
      "    \"memorysetup-cache-allocator-block-size=4194304\"\n",
      "    \"memorysetup-typetree-allocator-block-size=2097152\"\n",
      "    \"memorysetup-profiler-bucket-allocator-granularity=16\"\n",
      "    \"memorysetup-profiler-bucket-allocator-bucket-count=8\"\n",
      "    \"memorysetup-profiler-bucket-allocator-block-size=4194304\"\n",
      "    \"memorysetup-profiler-bucket-allocator-block-count=1\"\n",
      "    \"memorysetup-profiler-allocator-block-size=16777216\"\n",
      "    \"memorysetup-profiler-editor-allocator-block-size=1048576\"\n",
      "    \"memorysetup-temp-allocator-size-main=4194304\"\n",
      "    \"memorysetup-job-temp-allocator-block-size=2097152\"\n",
      "    \"memorysetup-job-temp-allocator-block-size-background=1048576\"\n",
      "    \"memorysetup-job-temp-allocator-reduction-small-platforms=262144\"\n",
      "    \"memorysetup-allocator-temp-initial-block-size-main=262144\"\n",
      "    \"memorysetup-allocator-temp-initial-block-size-worker=262144\"\n",
      "    \"memorysetup-temp-allocator-size-background-worker=32768\"\n",
      "    \"memorysetup-temp-allocator-size-job-worker=262144\"\n",
      "    \"memorysetup-temp-allocator-size-preload-manager=262144\"\n",
      "    \"memorysetup-temp-allocator-size-nav-mesh-worker=65536\"\n",
      "    \"memorysetup-temp-allocator-size-audio-worker=65536\"\n",
      "    \"memorysetup-temp-allocator-size-cloud-worker=32768\"\n",
      "    \"memorysetup-temp-allocator-size-gfx=262144\"\n",
      "INFO:DonkeyProcess:donkey subprocess started\n"
     ]
    },
    {
     "name": "stderr",
     "output_type": "stream",
     "text": [
      "2024-01-18 10:52:41,315 INFO     donkey subprocess started\n"
     ]
    },
    {
     "name": "stdout",
     "output_type": "stream",
     "text": [
      "INFO:SDSandBoxSimulator:Waiting for inital obs\n"
     ]
    },
    {
     "name": "stderr",
     "output_type": "stream",
     "text": [
      "2024-01-18 10:52:41,378 INFO     Waiting for inital obs\n"
     ]
    },
    {
     "name": "stdout",
     "output_type": "stream",
     "text": [
      "INFO:SDSandBoxSimulator:Waiting for inital obs\n"
     ]
    },
    {
     "name": "stderr",
     "output_type": "stream",
     "text": [
      "2024-01-18 10:52:41,421 INFO     Waiting for inital obs\n"
     ]
    },
    {
     "name": "stdout",
     "output_type": "stream",
     "text": [
      "INFO:SDSandBoxSimulator:Waiting for inital obs\n"
     ]
    },
    {
     "name": "stderr",
     "output_type": "stream",
     "text": [
      "2024-01-18 10:52:41,463 INFO     Waiting for inital obs\n"
     ]
    },
    {
     "name": "stdout",
     "output_type": "stream",
     "text": [
      "INFO:SDSandBoxSimulator:Waiting for inital obs\n"
     ]
    },
    {
     "name": "stderr",
     "output_type": "stream",
     "text": [
      "2024-01-18 10:52:41,505 INFO     Waiting for inital obs\n"
     ]
    },
    {
     "name": "stdout",
     "output_type": "stream",
     "text": [
      "INFO:SDSandBoxSimulator:Waiting for inital obs\n"
     ]
    },
    {
     "name": "stderr",
     "output_type": "stream",
     "text": [
      "2024-01-18 10:52:41,547 INFO     Waiting for inital obs\n"
     ]
    },
    {
     "name": "stdout",
     "output_type": "stream",
     "text": [
      "INFO:SDSandBoxSimulator:Waiting for inital obs\n"
     ]
    },
    {
     "name": "stderr",
     "output_type": "stream",
     "text": [
      "2024-01-18 10:52:41,588 INFO     Waiting for inital obs\n"
     ]
    },
    {
     "name": "stdout",
     "output_type": "stream",
     "text": [
      "INFO:SDSandBoxSimulator:Waiting for inital obs\n"
     ]
    },
    {
     "name": "stderr",
     "output_type": "stream",
     "text": [
      "2024-01-18 10:52:41,629 INFO     Waiting for inital obs\n"
     ]
    },
    {
     "name": "stdout",
     "output_type": "stream",
     "text": [
      "INFO:SDSandBoxSimulator:Waiting for inital obs\n"
     ]
    },
    {
     "name": "stderr",
     "output_type": "stream",
     "text": [
      "2024-01-18 10:52:41,672 INFO     Waiting for inital obs\n"
     ]
    },
    {
     "name": "stdout",
     "output_type": "stream",
     "text": [
      "INFO:DonkeySimMsgHandler:DonkeySimMsgHandler: ----- Car Created With Data {'msg_type': 'car_loaded'} -----\n"
     ]
    },
    {
     "name": "stderr",
     "output_type": "stream",
     "text": [
      "2024-01-18 10:52:41,702 INFO     DonkeySimMsgHandler: ----- Car Created With Data {'msg_type': 'car_loaded'} -----\n"
     ]
    },
    {
     "name": "stdout",
     "output_type": "stream",
     "text": [
      "INFO:SDSandBoxSimulator:Waiting for inital obs\n"
     ]
    },
    {
     "name": "stderr",
     "output_type": "stream",
     "text": [
      "2024-01-18 10:52:41,713 INFO     Waiting for inital obs\n"
     ]
    },
    {
     "name": "stdout",
     "output_type": "stream",
     "text": [
      "INFO:SDSandBoxSimulator:Waiting for inital obs\n"
     ]
    },
    {
     "name": "stderr",
     "output_type": "stream",
     "text": [
      "2024-01-18 10:52:41,755 INFO     Waiting for inital obs\n"
     ]
    },
    {
     "name": "stdout",
     "output_type": "stream",
     "text": [
      "Segment lengths are None\n",
      "Started Road Generation\n",
      "Road Instance 0, angle: -9, 25: [(47.999939999999995, 24.969459999999998, 0.6074528, 4.0), (47.99994, 49.96946, 0.6074528, 4.0), (52.341144441673265, 74.58965382530519, 0.6074528, 4.0)]\n",
      "Road Instance 1, angle: 14, 25: [(47.999939999999995, 24.969459999999998, 0.6074528, 4.0), (47.99994, 49.96946, 0.6074528, 4.0), (52.341144441673265, 74.58965382530519, 0.6074528, 4.0), (51.032745535599666, 99.55539219416954, 0.6074528, 4.0)]\n",
      "Road Instance 2, angle: 14, 25: [(47.999939999999995, 24.969459999999998, 0.6074528, 4.0), (47.99994, 49.96946, 0.6074528, 4.0), (52.341144441673265, 74.58965382530519, 0.6074528, 4.0), (51.032745535599666, 99.55539219416954, 0.6074528, 4.0), (43.72345291753125, 123.46301109324543, 0.6074528, 4.0)]\n",
      "Road Instance 3, angle: 12, 25: [(47.999939999999995, 24.969459999999998, 0.6074528, 4.0), (47.99994, 49.96946, 0.6074528, 4.0), (52.341144441673265, 74.58965382530519, 0.6074528, 4.0), (51.032745535599666, 99.55539219416954, 0.6074528, 4.0), (43.72345291753125, 123.46301109324543, 0.6074528, 4.0), (31.603212411372823, 145.3285037717303, 0.6074528, 4.0)]\n",
      "Road Instance 4, angle: -8, 25: [(47.999939999999995, 24.969459999999998, 0.6074528, 4.0), (47.99994, 49.96946, 0.6074528, 4.0), (52.341144441673265, 74.58965382530519, 0.6074528, 4.0), (51.032745535599666, 99.55539219416954, 0.6074528, 4.0), (43.72345291753125, 123.46301109324543, 0.6074528, 4.0), (31.603212411372823, 145.3285037717303, 0.6074528, 4.0), (22.644013672740314, 168.66801443416034, 0.6074528, 4.0)]\n",
      "Road Instance 5, angle: -15, 25: [(47.999939999999995, 24.969459999999998, 0.6074528, 4.0), (47.99994, 49.96946, 0.6074528, 4.0), (52.341144441673265, 74.58965382530519, 0.6074528, 4.0), (51.032745535599666, 99.55539219416954, 0.6074528, 4.0), (43.72345291753125, 123.46301109324543, 0.6074528, 4.0), (31.603212411372823, 145.3285037717303, 0.6074528, 4.0), (22.644013672740314, 168.66801443416034, 0.6074528, 4.0), (20.030802091048976, 193.53106181836716, 0.6074528, 4.0)]\n",
      "finished road generation\n",
      "IndividualToScenario: Function is zigzag_mapping/zigzag_mapping\n",
      "Segment lengths are None\n",
      "Started Road Generation\n",
      "Road Instance 0, angle: -9, 25: [(47.999939999999995, 24.969459999999998, 0.6074528, 4.0), (47.99994, 49.96946, 0.6074528, 4.0), (52.341144441673265, 74.58965382530519, 0.6074528, 4.0)]\n",
      "Road Instance 1, angle: 14, 25: [(47.999939999999995, 24.969459999999998, 0.6074528, 4.0), (47.99994, 49.96946, 0.6074528, 4.0), (52.341144441673265, 74.58965382530519, 0.6074528, 4.0), (51.032745535599666, 99.55539219416954, 0.6074528, 4.0)]\n",
      "Road Instance 2, angle: 15, 25: [(47.999939999999995, 24.969459999999998, 0.6074528, 4.0), (47.99994, 49.96946, 0.6074528, 4.0), (52.341144441673265, 74.58965382530519, 0.6074528, 4.0), (51.032745535599666, 99.55539219416954, 0.6074528, 4.0), (43.307320676225984, 123.33180510154838, 0.6074528, 4.0)]\n",
      "Road Instance 3, angle: 12, 25: [(47.999939999999995, 24.969459999999998, 0.6074528, 4.0), (47.99994, 49.96946, 0.6074528, 4.0), (52.341144441673265, 74.58965382530519, 0.6074528, 4.0), (51.032745535599666, 99.55539219416954, 0.6074528, 4.0), (43.307320676225984, 123.33180510154838, 0.6074528, 4.0), (30.807320676225988, 144.98244019615936, 0.6074528, 4.0)]\n",
      "Road Instance 4, angle: -8, 25: [(47.999939999999995, 24.969459999999998, 0.6074528, 4.0), (47.99994, 49.96946, 0.6074528, 4.0), (52.341144441673265, 74.58965382530519, 0.6074528, 4.0), (51.032745535599666, 99.55539219416954, 0.6074528, 4.0), (43.307320676225984, 123.33180510154838, 0.6074528, 4.0), (30.807320676225988, 144.98244019615936, 0.6074528, 4.0), (21.848121937593483, 168.3219508585894, 0.6074528, 4.0)]\n",
      "Road Instance 5, angle: -15, 25: [(47.999939999999995, 24.969459999999998, 0.6074528, 4.0), (47.99994, 49.96946, 0.6074528, 4.0), (52.341144441673265, 74.58965382530519, 0.6074528, 4.0), (51.032745535599666, 99.55539219416954, 0.6074528, 4.0), (43.307320676225984, 123.33180510154838, 0.6074528, 4.0), (30.807320676225988, 144.98244019615936, 0.6074528, 4.0), (21.848121937593483, 168.3219508585894, 0.6074528, 4.0), (19.234910355902144, 193.1849982427962, 0.6074528, 4.0)]\n",
      "finished road generation\n",
      "IndividualToScenario: Function is zigzag_mapping/zigzag_mapping\n",
      "Segment lengths are None\n",
      "Started Road Generation\n",
      "Road Instance 0, angle: -9, 25: [(47.999939999999995, 24.969459999999998, 0.6074528, 4.0), (47.99994, 49.96946, 0.6074528, 4.0), (52.341144441673265, 74.58965382530519, 0.6074528, 4.0)]\n",
      "Road Instance 1, angle: 14, 25: [(47.999939999999995, 24.969459999999998, 0.6074528, 4.0), (47.99994, 49.96946, 0.6074528, 4.0), (52.341144441673265, 74.58965382530519, 0.6074528, 4.0), (51.032745535599666, 99.55539219416954, 0.6074528, 4.0)]\n",
      "Road Instance 2, angle: 14, 25: [(47.999939999999995, 24.969459999999998, 0.6074528, 4.0), (47.99994, 49.96946, 0.6074528, 4.0), (52.341144441673265, 74.58965382530519, 0.6074528, 4.0), (51.032745535599666, 99.55539219416954, 0.6074528, 4.0), (43.72345291753125, 123.46301109324543, 0.6074528, 4.0)]\n",
      "Road Instance 3, angle: 12, 25: [(47.999939999999995, 24.969459999999998, 0.6074528, 4.0), (47.99994, 49.96946, 0.6074528, 4.0), (52.341144441673265, 74.58965382530519, 0.6074528, 4.0), (51.032745535599666, 99.55539219416954, 0.6074528, 4.0), (43.72345291753125, 123.46301109324543, 0.6074528, 4.0), (31.603212411372823, 145.3285037717303, 0.6074528, 4.0)]\n",
      "Road Instance 4, angle: -8, 25: [(47.999939999999995, 24.969459999999998, 0.6074528, 4.0), (47.99994, 49.96946, 0.6074528, 4.0), (52.341144441673265, 74.58965382530519, 0.6074528, 4.0), (51.032745535599666, 99.55539219416954, 0.6074528, 4.0), (43.72345291753125, 123.46301109324543, 0.6074528, 4.0), (31.603212411372823, 145.3285037717303, 0.6074528, 4.0), (22.644013672740314, 168.66801443416034, 0.6074528, 4.0)]\n",
      "Road Instance 5, angle: -17, 25: [(47.999939999999995, 24.969459999999998, 0.6074528, 4.0), (47.99994, 49.96946, 0.6074528, 4.0), (52.341144441673265, 74.58965382530519, 0.6074528, 4.0), (51.032745535599666, 99.55539219416954, 0.6074528, 4.0), (43.72345291753125, 123.46301109324543, 0.6074528, 4.0), (31.603212411372823, 145.3285037717303, 0.6074528, 4.0), (22.644013672740314, 168.66801443416034, 0.6074528, 4.0), (20.90010182913718, 193.60711569065595, 0.6074528, 4.0)]\n",
      "finished road generation\n",
      "IndividualToScenario: Function is dynamic_object_overlay/dynamic_object_overlay\n",
      "Segment lengths are None\n",
      "Started Road Generation\n",
      "Road Instance 0, angle: -9, 25: [(47.999939999999995, 24.969459999999998, 0.6074528, 4.0), (47.99994, 49.96946, 0.6074528, 4.0), (52.341144441673265, 74.58965382530519, 0.6074528, 4.0)]\n",
      "Road Instance 1, angle: 14, 25: [(47.999939999999995, 24.969459999999998, 0.6074528, 4.0), (47.99994, 49.96946, 0.6074528, 4.0), (52.341144441673265, 74.58965382530519, 0.6074528, 4.0), (51.032745535599666, 99.55539219416954, 0.6074528, 4.0)]\n",
      "Road Instance 2, angle: 14, 25: [(47.999939999999995, 24.969459999999998, 0.6074528, 4.0), (47.99994, 49.96946, 0.6074528, 4.0), (52.341144441673265, 74.58965382530519, 0.6074528, 4.0), (51.032745535599666, 99.55539219416954, 0.6074528, 4.0), (43.72345291753125, 123.46301109324543, 0.6074528, 4.0)]\n",
      "Road Instance 3, angle: -7, 25: [(47.999939999999995, 24.969459999999998, 0.6074528, 4.0), (47.99994, 49.96946, 0.6074528, 4.0), (52.341144441673265, 74.58965382530519, 0.6074528, 4.0), (51.032745535599666, 99.55539219416954, 0.6074528, 4.0), (43.72345291753125, 123.46301109324543, 0.6074528, 4.0), (39.38224847585799, 148.08320491855062, 0.6074528, 4.0)]\n",
      "Road Instance 4, angle: -8, 25: [(47.999939999999995, 24.969459999999998, 0.6074528, 4.0), (47.99994, 49.96946, 0.6074528, 4.0), (52.341144441673265, 74.58965382530519, 0.6074528, 4.0), (51.032745535599666, 99.55539219416954, 0.6074528, 4.0), (43.72345291753125, 123.46301109324543, 0.6074528, 4.0), (39.38224847585799, 148.08320491855062, 0.6074528, 4.0), (38.50976105829547, 173.067975594028, 0.6074528, 4.0)]\n",
      "Road Instance 5, angle: 9, 25: [(47.999939999999995, 24.969459999999998, 0.6074528, 4.0), (47.99994, 49.96946, 0.6074528, 4.0), (52.341144441673265, 74.58965382530519, 0.6074528, 4.0), (51.032745535599666, 99.55539219416954, 0.6074528, 4.0), (43.72345291753125, 123.46301109324543, 0.6074528, 4.0), (39.38224847585799, 148.08320491855062, 0.6074528, 4.0), (38.50976105829547, 173.067975594028, 0.6074528, 4.0), (33.739536173881845, 197.6086551802196, 0.6074528, 4.0)]\n",
      "finished road generation\n",
      "IndividualToScenario: Function is zigzag_mapping/zigzag_mapping\n",
      "Segment lengths are None\n",
      "Started Road Generation\n",
      "Road Instance 0, angle: -9, 25: [(47.999939999999995, 24.969459999999998, 0.6074528, 4.0), (47.99994, 49.96946, 0.6074528, 4.0), (52.341144441673265, 74.58965382530519, 0.6074528, 4.0)]\n",
      "Road Instance 1, angle: 14, 25: [(47.999939999999995, 24.969459999999998, 0.6074528, 4.0), (47.99994, 49.96946, 0.6074528, 4.0), (52.341144441673265, 74.58965382530519, 0.6074528, 4.0), (51.032745535599666, 99.55539219416954, 0.6074528, 4.0)]\n",
      "Road Instance 2, angle: 14, 25: [(47.999939999999995, 24.969459999999998, 0.6074528, 4.0), (47.99994, 49.96946, 0.6074528, 4.0), (52.341144441673265, 74.58965382530519, 0.6074528, 4.0), (51.032745535599666, 99.55539219416954, 0.6074528, 4.0), (43.72345291753125, 123.46301109324543, 0.6074528, 4.0)]\n",
      "Road Instance 3, angle: 12, 25: [(47.999939999999995, 24.969459999999998, 0.6074528, 4.0), (47.99994, 49.96946, 0.6074528, 4.0), (52.341144441673265, 74.58965382530519, 0.6074528, 4.0), (51.032745535599666, 99.55539219416954, 0.6074528, 4.0), (43.72345291753125, 123.46301109324543, 0.6074528, 4.0), (31.603212411372823, 145.3285037717303, 0.6074528, 4.0)]\n",
      "Road Instance 4, angle: -8, 25: [(47.999939999999995, 24.969459999999998, 0.6074528, 4.0), (47.99994, 49.96946, 0.6074528, 4.0), (52.341144441673265, 74.58965382530519, 0.6074528, 4.0), (51.032745535599666, 99.55539219416954, 0.6074528, 4.0), (43.72345291753125, 123.46301109324543, 0.6074528, 4.0), (31.603212411372823, 145.3285037717303, 0.6074528, 4.0), (22.644013672740314, 168.66801443416034, 0.6074528, 4.0)]\n",
      "Road Instance 5, angle: -17, 25: [(47.999939999999995, 24.969459999999998, 0.6074528, 4.0), (47.99994, 49.96946, 0.6074528, 4.0), (52.341144441673265, 74.58965382530519, 0.6074528, 4.0), (51.032745535599666, 99.55539219416954, 0.6074528, 4.0), (43.72345291753125, 123.46301109324543, 0.6074528, 4.0), (31.603212411372823, 145.3285037717303, 0.6074528, 4.0), (22.644013672740314, 168.66801443416034, 0.6074528, 4.0), (20.90010182913718, 193.60711569065595, 0.6074528, 4.0)]\n",
      "finished road generation\n",
      "IndividualToScenario: Function is dynamic_object_overlay/dynamic_object_overlay\n",
      "Segment lengths are None\n",
      "Started Road Generation\n",
      "Road Instance 0, angle: -9, 25: [(47.999939999999995, 24.969459999999998, 0.6074528, 4.0), (47.99994, 49.96946, 0.6074528, 4.0), (52.341144441673265, 74.58965382530519, 0.6074528, 4.0)]\n",
      "Road Instance 1, angle: 14, 25: [(47.999939999999995, 24.969459999999998, 0.6074528, 4.0), (47.99994, 49.96946, 0.6074528, 4.0), (52.341144441673265, 74.58965382530519, 0.6074528, 4.0), (51.032745535599666, 99.55539219416954, 0.6074528, 4.0)]\n",
      "Road Instance 2, angle: 14, 25: [(47.999939999999995, 24.969459999999998, 0.6074528, 4.0), (47.99994, 49.96946, 0.6074528, 4.0), (52.341144441673265, 74.58965382530519, 0.6074528, 4.0), (51.032745535599666, 99.55539219416954, 0.6074528, 4.0), (43.72345291753125, 123.46301109324543, 0.6074528, 4.0)]\n",
      "Road Instance 3, angle: 11, 25: [(47.999939999999995, 24.969459999999998, 0.6074528, 4.0), (47.99994, 49.96946, 0.6074528, 4.0), (52.341144441673265, 74.58965382530519, 0.6074528, 4.0), (51.032745535599666, 99.55539219416954, 0.6074528, 4.0), (43.72345291753125, 123.46301109324543, 0.6074528, 4.0), (31.986663847883975, 145.5367009147186, 0.6074528, 4.0)]\n",
      "Road Instance 4, angle: -8, 25: [(47.999939999999995, 24.969459999999998, 0.6074528, 4.0), (47.99994, 49.96946, 0.6074528, 4.0), (52.341144441673265, 74.58965382530519, 0.6074528, 4.0), (51.032745535599666, 99.55539219416954, 0.6074528, 4.0), (43.72345291753125, 123.46301109324543, 0.6074528, 4.0), (31.986663847883975, 145.5367009147186, 0.6074528, 4.0), (23.436160264742256, 169.02901643436633, 0.6074528, 4.0)]\n",
      "Road Instance 5, angle: 10, 25: [(47.999939999999995, 24.969459999999998, 0.6074528, 4.0), (47.99994, 49.96946, 0.6074528, 4.0), (52.341144441673265, 74.58965382530519, 0.6074528, 4.0), (51.032745535599666, 99.55539219416954, 0.6074528, 4.0), (43.72345291753125, 123.46301109324543, 0.6074528, 4.0), (31.986663847883975, 145.5367009147186, 0.6074528, 4.0), (23.436160264742256, 169.02901643436633, 0.6074528, 4.0), (10.93616026474226, 190.6796515289773, 0.6074528, 4.0)]\n",
      "finished road generation\n",
      "IndividualToScenario: Function is dotted_lines_mapping/dotted_lines_mapping\n",
      "----- Finished Perturbation-Controller set up -----\n",
      "INFO:SDSandBoxSimulator:Reset the scenario\n"
     ]
    },
    {
     "name": "stderr",
     "output_type": "stream",
     "text": [
      "2024-01-18 10:52:44,165 INFO     Reset the scenario\n"
     ]
    },
    {
     "name": "stdout",
     "output_type": "stream",
     "text": [
      "fps 18.61\n",
      "fps 19.75\n",
      "fps 19.73\n",
      "fps 19.74\n",
      "fps 19.72\n",
      "fps 19.73\n",
      "fps 19.73\n",
      "SDSandBox: Finished scenario\n",
      "INFO:SDSandBoxSimulator:Reset the scenario\n"
     ]
    },
    {
     "name": "stderr",
     "output_type": "stream",
     "text": [
      "2024-01-18 10:53:19,825 INFO     Reset the scenario\n"
     ]
    },
    {
     "name": "stdout",
     "output_type": "stream",
     "text": [
      "Exception: [Errno 54] Connection reset by peer\n",
      "CRITICAL:DonkeySimMsgHandler:DonkeySimMsgHandler: +++++ Warning: Donkey Sim Aborted +++++\n"
     ]
    },
    {
     "name": "stderr",
     "output_type": "stream",
     "text": [
      "2024-01-18 10:53:21,134 CRITICAL DonkeySimMsgHandler: +++++ Warning: Donkey Sim Aborted +++++\n"
     ]
    },
    {
     "name": "stdout",
     "output_type": "stream",
     "text": [
      "INFO:DonkeySimMsgHandler:DonkeySimMsgHandler: +++++ Warning: Donkey Sim Message Stoped +++++\n"
     ]
    },
    {
     "name": "stderr",
     "output_type": "stream",
     "text": [
      "2024-01-18 10:53:21,140 INFO     DonkeySimMsgHandler: +++++ Warning: Donkey Sim Message Stoped +++++\n"
     ]
    },
    {
     "name": "stdout",
     "output_type": "stream",
     "text": [
      "fps 19.70\n",
      "fps 19.72\n",
      "fps 19.70\n",
      "fps 19.68\n",
      "fps 19.74\n",
      "fps 19.66\n",
      "fps 19.70\n",
      "SDSandBox: Finished scenario\n",
      "INFO:SDSandBoxSimulator:Reset the scenario\n"
     ]
    },
    {
     "name": "stderr",
     "output_type": "stream",
     "text": [
      "2024-01-18 10:53:56,289 INFO     Reset the scenario\n"
     ]
    },
    {
     "name": "stdout",
     "output_type": "stream",
     "text": [
      "fps 19.71\n",
      "fps 19.73\n",
      "fps 19.73\n",
      "fps 19.74\n",
      "fps 19.70\n",
      "fps 19.72\n",
      "SDSandBox: Finished scenario\n",
      "INFO:SDSandBoxSimulator:Reset the scenario\n"
     ]
    },
    {
     "name": "stderr",
     "output_type": "stream",
     "text": [
      "2024-01-18 10:54:25,648 INFO     Reset the scenario\n"
     ]
    },
    {
     "name": "stdout",
     "output_type": "stream",
     "text": [
      "fps 19.71\n",
      "fps 19.69\n",
      "fps 19.70\n",
      "fps 19.73\n",
      "fps 19.73\n",
      "fps 19.69\n",
      "SDSandBox: Finished scenario\n",
      "INFO:SDSandBoxSimulator:Reset the scenario\n"
     ]
    },
    {
     "name": "stderr",
     "output_type": "stream",
     "text": [
      "2024-01-18 10:54:56,261 INFO     Reset the scenario\n"
     ]
    },
    {
     "name": "stdout",
     "output_type": "stream",
     "text": [
      "fps 19.75\n",
      "fps 19.70\n",
      "fps 19.70\n",
      "fps 19.69\n",
      "fps 19.68\n",
      "fps 19.73\n",
      "SDSandBox: Finished scenario\n",
      "INFO:SDSandBoxSimulator:Reset the scenario\n"
     ]
    },
    {
     "name": "stderr",
     "output_type": "stream",
     "text": [
      "2024-01-18 10:55:26,766 INFO     Reset the scenario\n"
     ]
    },
    {
     "name": "stdout",
     "output_type": "stream",
     "text": [
      "fps 19.71\n",
      "fps 19.71\n",
      "fps 19.71\n",
      "fps 19.71\n",
      "fps 19.70\n",
      "fps 19.72\n",
      "fps 19.69\n",
      "SDSandBox: Finished scenario\n",
      "INFO:DonkeySimMsgHandler:DonkeySimMsgHandler: +++++ Warning: Donkey Sim Disconnected +++++\n"
     ]
    },
    {
     "name": "stderr",
     "output_type": "stream",
     "text": [
      "2024-01-18 10:56:04,596 INFO     DonkeySimMsgHandler: +++++ Warning: Donkey Sim Disconnected +++++\n"
     ]
    },
    {
     "name": "stdout",
     "output_type": "stream",
     "text": [
      "INFO:DonkeyProcess:Closing donkey sim subprocess\n"
     ]
    },
    {
     "name": "stderr",
     "output_type": "stream",
     "text": [
      "2024-01-18 10:56:04,598 INFO     Closing donkey sim subprocess\n",
      "2024-01-18 10:56:04,715 INFO     Running evaluation number 8\n"
     ]
    },
    {
     "name": "stdout",
     "output_type": "stream",
     "text": [
      "     7 |       42 |      3 |  0.1261171797 |         ideal\n",
      "Using model: generated_dave_v5\n",
      "INFO:DonkeyProcess:This is the launch string /Users/hannesleonhard/Documents/BachelorWInfo/Robustness-SDC/PerturbationDrive/./examples/self_driving_sandbox_donkey/sim/donkey-sim.app/Contents/MacOS/Simulator\n"
     ]
    },
    {
     "name": "stderr",
     "output_type": "stream",
     "text": [
      "2024-01-18 10:56:05,007 INFO     This is the launch string /Users/hannesleonhard/Documents/BachelorWInfo/Robustness-SDC/PerturbationDrive/./examples/self_driving_sandbox_donkey/sim/donkey-sim.app/Contents/MacOS/Simulator\n"
     ]
    },
    {
     "name": "stdout",
     "output_type": "stream",
     "text": [
      "[UnityMemory] Configuration Parameters - Can be set up in boot.config\n",
      "    \"memorysetup-bucket-allocator-granularity=16\"\n",
      "    \"memorysetup-bucket-allocator-bucket-count=8\"\n",
      "    \"memorysetup-bucket-allocator-block-size=4194304\"\n",
      "    \"memorysetup-bucket-allocator-block-count=1\"\n",
      "    \"memorysetup-main-allocator-block-size=16777216\"\n",
      "    \"memorysetup-thread-allocator-block-size=16777216\"\n",
      "    \"memorysetup-gfx-main-allocator-block-size=16777216\"\n",
      "    \"memorysetup-gfx-thread-allocator-block-size=16777216\"\n",
      "    \"memorysetup-cache-allocator-block-size=4194304\"\n",
      "    \"memorysetup-typetree-allocator-block-size=2097152\"\n",
      "    \"memorysetup-profiler-bucket-allocator-granularity=16\"\n",
      "    \"memorysetup-profiler-bucket-allocator-bucket-count=8\"\n",
      "    \"memorysetup-profiler-bucket-allocator-block-size=4194304\"\n",
      "    \"memorysetup-profiler-bucket-allocator-block-count=1\"\n",
      "    \"memorysetup-profiler-allocator-block-size=16777216\"\n",
      "    \"memorysetup-profiler-editor-allocator-block-size=1048576\"\n",
      "    \"memorysetup-temp-allocator-size-main=4194304\"\n",
      "    \"memorysetup-job-temp-allocator-block-size=2097152\"\n",
      "    \"memorysetup-job-temp-allocator-block-size-background=1048576\"\n",
      "    \"memorysetup-job-temp-allocator-reduction-small-platforms=262144\"\n",
      "    \"memorysetup-allocator-temp-initial-block-size-main=262144\"\n",
      "    \"memorysetup-allocator-temp-initial-block-size-worker=262144\"\n",
      "    \"memorysetup-temp-allocator-size-background-worker=32768\"\n",
      "    \"memorysetup-temp-allocator-size-job-worker=262144\"\n",
      "    \"memorysetup-temp-allocator-size-preload-manager=262144\"\n",
      "    \"memorysetup-temp-allocator-size-nav-mesh-worker=65536\"\n",
      "    \"memorysetup-temp-allocator-size-audio-worker=65536\"\n",
      "    \"memorysetup-temp-allocator-size-cloud-worker=32768\"\n",
      "    \"memorysetup-temp-allocator-size-gfx=262144\"\n",
      "INFO:DonkeyProcess:donkey subprocess started\n"
     ]
    },
    {
     "name": "stderr",
     "output_type": "stream",
     "text": [
      "2024-01-18 10:56:25,040 INFO     donkey subprocess started\n"
     ]
    },
    {
     "name": "stdout",
     "output_type": "stream",
     "text": [
      "INFO:SDSandBoxSimulator:Waiting for inital obs\n"
     ]
    },
    {
     "name": "stderr",
     "output_type": "stream",
     "text": [
      "2024-01-18 10:56:25,121 INFO     Waiting for inital obs\n"
     ]
    },
    {
     "name": "stdout",
     "output_type": "stream",
     "text": [
      "INFO:SDSandBoxSimulator:Waiting for inital obs\n"
     ]
    },
    {
     "name": "stderr",
     "output_type": "stream",
     "text": [
      "2024-01-18 10:56:25,163 INFO     Waiting for inital obs\n"
     ]
    },
    {
     "name": "stdout",
     "output_type": "stream",
     "text": [
      "INFO:SDSandBoxSimulator:Waiting for inital obs\n"
     ]
    },
    {
     "name": "stderr",
     "output_type": "stream",
     "text": [
      "2024-01-18 10:56:25,207 INFO     Waiting for inital obs\n"
     ]
    },
    {
     "name": "stdout",
     "output_type": "stream",
     "text": [
      "INFO:SDSandBoxSimulator:Waiting for inital obs\n"
     ]
    },
    {
     "name": "stderr",
     "output_type": "stream",
     "text": [
      "2024-01-18 10:56:25,249 INFO     Waiting for inital obs\n"
     ]
    },
    {
     "name": "stdout",
     "output_type": "stream",
     "text": [
      "INFO:SDSandBoxSimulator:Waiting for inital obs\n"
     ]
    },
    {
     "name": "stderr",
     "output_type": "stream",
     "text": [
      "2024-01-18 10:56:25,291 INFO     Waiting for inital obs\n"
     ]
    },
    {
     "name": "stdout",
     "output_type": "stream",
     "text": [
      "INFO:SDSandBoxSimulator:Waiting for inital obs\n"
     ]
    },
    {
     "name": "stderr",
     "output_type": "stream",
     "text": [
      "2024-01-18 10:56:25,333 INFO     Waiting for inital obs\n"
     ]
    },
    {
     "name": "stdout",
     "output_type": "stream",
     "text": [
      "INFO:SDSandBoxSimulator:Waiting for inital obs\n"
     ]
    },
    {
     "name": "stderr",
     "output_type": "stream",
     "text": [
      "2024-01-18 10:56:25,375 INFO     Waiting for inital obs\n"
     ]
    },
    {
     "name": "stdout",
     "output_type": "stream",
     "text": [
      "INFO:SDSandBoxSimulator:Waiting for inital obs\n"
     ]
    },
    {
     "name": "stderr",
     "output_type": "stream",
     "text": [
      "2024-01-18 10:56:25,417 INFO     Waiting for inital obs\n"
     ]
    },
    {
     "name": "stdout",
     "output_type": "stream",
     "text": [
      "INFO:SDSandBoxSimulator:Waiting for inital obs\n"
     ]
    },
    {
     "name": "stderr",
     "output_type": "stream",
     "text": [
      "2024-01-18 10:56:25,459 INFO     Waiting for inital obs\n"
     ]
    },
    {
     "name": "stdout",
     "output_type": "stream",
     "text": [
      "INFO:DonkeySimMsgHandler:DonkeySimMsgHandler: ----- Car Created With Data {'msg_type': 'car_loaded'} -----\n"
     ]
    },
    {
     "name": "stderr",
     "output_type": "stream",
     "text": [
      "2024-01-18 10:56:25,483 INFO     DonkeySimMsgHandler: ----- Car Created With Data {'msg_type': 'car_loaded'} -----\n"
     ]
    },
    {
     "name": "stdout",
     "output_type": "stream",
     "text": [
      "INFO:SDSandBoxSimulator:Waiting for inital obs\n"
     ]
    },
    {
     "name": "stderr",
     "output_type": "stream",
     "text": [
      "2024-01-18 10:56:25,500 INFO     Waiting for inital obs\n"
     ]
    },
    {
     "name": "stdout",
     "output_type": "stream",
     "text": [
      "INFO:SDSandBoxSimulator:Waiting for inital obs\n"
     ]
    },
    {
     "name": "stderr",
     "output_type": "stream",
     "text": [
      "2024-01-18 10:56:25,542 INFO     Waiting for inital obs\n"
     ]
    },
    {
     "name": "stdout",
     "output_type": "stream",
     "text": [
      "Segment lengths are None\n",
      "Started Road Generation\n",
      "Road Instance 0, angle: -9, 25: [(47.999939999999995, 24.969459999999998, 0.6074528, 4.0), (47.99994, 49.96946, 0.6074528, 4.0), (52.341144441673265, 74.58965382530519, 0.6074528, 4.0)]\n",
      "Road Instance 1, angle: 14, 25: [(47.999939999999995, 24.969459999999998, 0.6074528, 4.0), (47.99994, 49.96946, 0.6074528, 4.0), (52.341144441673265, 74.58965382530519, 0.6074528, 4.0), (51.032745535599666, 99.55539219416954, 0.6074528, 4.0)]\n",
      "Road Instance 2, angle: 14, 25: [(47.999939999999995, 24.969459999999998, 0.6074528, 4.0), (47.99994, 49.96946, 0.6074528, 4.0), (52.341144441673265, 74.58965382530519, 0.6074528, 4.0), (51.032745535599666, 99.55539219416954, 0.6074528, 4.0), (43.72345291753125, 123.46301109324543, 0.6074528, 4.0)]\n",
      "Road Instance 3, angle: -7, 25: [(47.999939999999995, 24.969459999999998, 0.6074528, 4.0), (47.99994, 49.96946, 0.6074528, 4.0), (52.341144441673265, 74.58965382530519, 0.6074528, 4.0), (51.032745535599666, 99.55539219416954, 0.6074528, 4.0), (43.72345291753125, 123.46301109324543, 0.6074528, 4.0), (39.38224847585799, 148.08320491855062, 0.6074528, 4.0)]\n",
      "Road Instance 4, angle: -8, 25: [(47.999939999999995, 24.969459999999998, 0.6074528, 4.0), (47.99994, 49.96946, 0.6074528, 4.0), (52.341144441673265, 74.58965382530519, 0.6074528, 4.0), (51.032745535599666, 99.55539219416954, 0.6074528, 4.0), (43.72345291753125, 123.46301109324543, 0.6074528, 4.0), (39.38224847585799, 148.08320491855062, 0.6074528, 4.0), (38.50976105829547, 173.067975594028, 0.6074528, 4.0)]\n",
      "Road Instance 5, angle: -17, 25: [(47.999939999999995, 24.969459999999998, 0.6074528, 4.0), (47.99994, 49.96946, 0.6074528, 4.0), (52.341144441673265, 74.58965382530519, 0.6074528, 4.0), (51.032745535599666, 99.55539219416954, 0.6074528, 4.0), (43.72345291753125, 123.46301109324543, 0.6074528, 4.0), (39.38224847585799, 148.08320491855062, 0.6074528, 4.0), (38.50976105829547, 173.067975594028, 0.6074528, 4.0), (44.980237185858485, 197.21612125125472, 0.6074528, 4.0)]\n",
      "finished road generation\n",
      "IndividualToScenario: Function is dynamic_object_overlay/dynamic_object_overlay\n",
      "Segment lengths are None\n",
      "Started Road Generation\n",
      "Road Instance 0, angle: -9, 25: [(47.999939999999995, 24.969459999999998, 0.6074528, 4.0), (47.99994, 49.96946, 0.6074528, 4.0), (52.341144441673265, 74.58965382530519, 0.6074528, 4.0)]\n",
      "Road Instance 1, angle: 14, 25: [(47.999939999999995, 24.969459999999998, 0.6074528, 4.0), (47.99994, 49.96946, 0.6074528, 4.0), (52.341144441673265, 74.58965382530519, 0.6074528, 4.0), (51.032745535599666, 99.55539219416954, 0.6074528, 4.0)]\n",
      "Road Instance 2, angle: 14, 25: [(47.999939999999995, 24.969459999999998, 0.6074528, 4.0), (47.99994, 49.96946, 0.6074528, 4.0), (52.341144441673265, 74.58965382530519, 0.6074528, 4.0), (51.032745535599666, 99.55539219416954, 0.6074528, 4.0), (43.72345291753125, 123.46301109324543, 0.6074528, 4.0)]\n",
      "Road Instance 3, angle: 12, 25: [(47.999939999999995, 24.969459999999998, 0.6074528, 4.0), (47.99994, 49.96946, 0.6074528, 4.0), (52.341144441673265, 74.58965382530519, 0.6074528, 4.0), (51.032745535599666, 99.55539219416954, 0.6074528, 4.0), (43.72345291753125, 123.46301109324543, 0.6074528, 4.0), (31.603212411372823, 145.3285037717303, 0.6074528, 4.0)]\n",
      "Road Instance 4, angle: -8, 25: [(47.999939999999995, 24.969459999999998, 0.6074528, 4.0), (47.99994, 49.96946, 0.6074528, 4.0), (52.341144441673265, 74.58965382530519, 0.6074528, 4.0), (51.032745535599666, 99.55539219416954, 0.6074528, 4.0), (43.72345291753125, 123.46301109324543, 0.6074528, 4.0), (31.603212411372823, 145.3285037717303, 0.6074528, 4.0), (22.644013672740314, 168.66801443416034, 0.6074528, 4.0)]\n",
      "Road Instance 5, angle: 10, 25: [(47.999939999999995, 24.969459999999998, 0.6074528, 4.0), (47.99994, 49.96946, 0.6074528, 4.0), (52.341144441673265, 74.58965382530519, 0.6074528, 4.0), (51.032745535599666, 99.55539219416954, 0.6074528, 4.0), (43.72345291753125, 123.46301109324543, 0.6074528, 4.0), (31.603212411372823, 145.3285037717303, 0.6074528, 4.0), (22.644013672740314, 168.66801443416034, 0.6074528, 4.0), (9.768061799988958, 190.09719695171316, 0.6074528, 4.0)]\n",
      "finished road generation\n",
      "IndividualToScenario: Function is zigzag_mapping/zigzag_mapping\n",
      "Segment lengths are None\n",
      "Started Road Generation\n",
      "Road Instance 0, angle: -9, 25: [(47.999939999999995, 24.969459999999998, 0.6074528, 4.0), (47.99994, 49.96946, 0.6074528, 4.0), (52.341144441673265, 74.58965382530519, 0.6074528, 4.0)]\n",
      "Road Instance 1, angle: 14, 25: [(47.999939999999995, 24.969459999999998, 0.6074528, 4.0), (47.99994, 49.96946, 0.6074528, 4.0), (52.341144441673265, 74.58965382530519, 0.6074528, 4.0), (51.032745535599666, 99.55539219416954, 0.6074528, 4.0)]\n",
      "Road Instance 2, angle: 14, 25: [(47.999939999999995, 24.969459999999998, 0.6074528, 4.0), (47.99994, 49.96946, 0.6074528, 4.0), (52.341144441673265, 74.58965382530519, 0.6074528, 4.0), (51.032745535599666, 99.55539219416954, 0.6074528, 4.0), (43.72345291753125, 123.46301109324543, 0.6074528, 4.0)]\n",
      "Road Instance 3, angle: 11, 25: [(47.999939999999995, 24.969459999999998, 0.6074528, 4.0), (47.99994, 49.96946, 0.6074528, 4.0), (52.341144441673265, 74.58965382530519, 0.6074528, 4.0), (51.032745535599666, 99.55539219416954, 0.6074528, 4.0), (43.72345291753125, 123.46301109324543, 0.6074528, 4.0), (31.986663847883975, 145.5367009147186, 0.6074528, 4.0)]\n",
      "Road Instance 4, angle: -8, 25: [(47.999939999999995, 24.969459999999998, 0.6074528, 4.0), (47.99994, 49.96946, 0.6074528, 4.0), (52.341144441673265, 74.58965382530519, 0.6074528, 4.0), (51.032745535599666, 99.55539219416954, 0.6074528, 4.0), (43.72345291753125, 123.46301109324543, 0.6074528, 4.0), (31.986663847883975, 145.5367009147186, 0.6074528, 4.0), (23.436160264742256, 169.02901643436633, 0.6074528, 4.0)]\n",
      "Road Instance 5, angle: 10, 25: [(47.999939999999995, 24.969459999999998, 0.6074528, 4.0), (47.99994, 49.96946, 0.6074528, 4.0), (52.341144441673265, 74.58965382530519, 0.6074528, 4.0), (51.032745535599666, 99.55539219416954, 0.6074528, 4.0), (43.72345291753125, 123.46301109324543, 0.6074528, 4.0), (31.986663847883975, 145.5367009147186, 0.6074528, 4.0), (23.436160264742256, 169.02901643436633, 0.6074528, 4.0), (10.93616026474226, 190.6796515289773, 0.6074528, 4.0)]\n",
      "finished road generation\n",
      "IndividualToScenario: Function is zigzag_mapping/zigzag_mapping\n",
      "Segment lengths are None\n",
      "Started Road Generation\n",
      "Road Instance 0, angle: -9, 25: [(47.999939999999995, 24.969459999999998, 0.6074528, 4.0), (47.99994, 49.96946, 0.6074528, 4.0), (52.341144441673265, 74.58965382530519, 0.6074528, 4.0)]\n",
      "Road Instance 1, angle: 14, 25: [(47.999939999999995, 24.969459999999998, 0.6074528, 4.0), (47.99994, 49.96946, 0.6074528, 4.0), (52.341144441673265, 74.58965382530519, 0.6074528, 4.0), (51.032745535599666, 99.55539219416954, 0.6074528, 4.0)]\n",
      "Road Instance 2, angle: 15, 25: [(47.999939999999995, 24.969459999999998, 0.6074528, 4.0), (47.99994, 49.96946, 0.6074528, 4.0), (52.341144441673265, 74.58965382530519, 0.6074528, 4.0), (51.032745535599666, 99.55539219416954, 0.6074528, 4.0), (43.307320676225984, 123.33180510154838, 0.6074528, 4.0)]\n",
      "Road Instance 3, angle: -7, 25: [(47.999939999999995, 24.969459999999998, 0.6074528, 4.0), (47.99994, 49.96946, 0.6074528, 4.0), (52.341144441673265, 74.58965382530519, 0.6074528, 4.0), (51.032745535599666, 99.55539219416954, 0.6074528, 4.0), (43.307320676225984, 123.33180510154838, 0.6074528, 4.0), (38.53709579181236, 147.87248468773998, 0.6074528, 4.0)]\n",
      "Road Instance 4, angle: -8, 25: [(47.999939999999995, 24.969459999999998, 0.6074528, 4.0), (47.99994, 49.96946, 0.6074528, 4.0), (52.341144441673265, 74.58965382530519, 0.6074528, 4.0), (51.032745535599666, 99.55539219416954, 0.6074528, 4.0), (43.307320676225984, 123.33180510154838, 0.6074528, 4.0), (38.53709579181236, 147.87248468773998, 0.6074528, 4.0), (37.22869688573876, 172.83822305660433, 0.6074528, 4.0)]\n",
      "Road Instance 5, angle: -17, 25: [(47.999939999999995, 24.969459999999998, 0.6074528, 4.0), (47.99994, 49.96946, 0.6074528, 4.0), (52.341144441673265, 74.58965382530519, 0.6074528, 4.0), (51.032745535599666, 99.55539219416954, 0.6074528, 4.0), (43.307320676225984, 123.33180510154838, 0.6074528, 4.0), (38.53709579181236, 147.87248468773998, 0.6074528, 4.0), (37.22869688573876, 172.83822305660433, 0.6074528, 4.0), (43.27674427573046, 197.09561621350426, 0.6074528, 4.0)]\n",
      "finished road generation\n",
      "IndividualToScenario: Function is zigzag_mapping/zigzag_mapping\n",
      "Segment lengths are None\n",
      "Started Road Generation\n",
      "Road Instance 0, angle: -9, 25: [(47.999939999999995, 24.969459999999998, 0.6074528, 4.0), (47.99994, 49.96946, 0.6074528, 4.0), (52.341144441673265, 74.58965382530519, 0.6074528, 4.0)]\n",
      "Road Instance 1, angle: 14, 25: [(47.999939999999995, 24.969459999999998, 0.6074528, 4.0), (47.99994, 49.96946, 0.6074528, 4.0), (52.341144441673265, 74.58965382530519, 0.6074528, 4.0), (51.032745535599666, 99.55539219416954, 0.6074528, 4.0)]\n",
      "Road Instance 2, angle: 14, 25: [(47.999939999999995, 24.969459999999998, 0.6074528, 4.0), (47.99994, 49.96946, 0.6074528, 4.0), (52.341144441673265, 74.58965382530519, 0.6074528, 4.0), (51.032745535599666, 99.55539219416954, 0.6074528, 4.0), (43.72345291753125, 123.46301109324543, 0.6074528, 4.0)]\n",
      "Road Instance 3, angle: -8, 25: [(47.999939999999995, 24.969459999999998, 0.6074528, 4.0), (47.99994, 49.96946, 0.6074528, 4.0), (52.341144441673265, 74.58965382530519, 0.6074528, 4.0), (51.032745535599666, 99.55539219416954, 0.6074528, 4.0), (43.72345291753125, 123.46301109324543, 0.6074528, 4.0), (39.81259129152548, 148.15521960812387, 0.6074528, 4.0)]\n",
      "Road Instance 4, angle: -8, 25: [(47.999939999999995, 24.969459999999998, 0.6074528, 4.0), (47.99994, 49.96946, 0.6074528, 4.0), (52.341144441673265, 74.58965382530519, 0.6074528, 4.0), (51.032745535599666, 99.55539219416954, 0.6074528, 4.0), (43.72345291753125, 123.46301109324543, 0.6074528, 4.0), (39.81259129152548, 148.15521960812387, 0.6074528, 4.0), (39.37628113059339, 173.15141198703367, 0.6074528, 4.0)]\n",
      "Road Instance 5, angle: 9, 25: [(47.999939999999995, 24.969459999999998, 0.6074528, 4.0), (47.99994, 49.96946, 0.6074528, 4.0), (52.341144441673265, 74.58965382530519, 0.6074528, 4.0), (51.032745535599666, 99.55539219416954, 0.6074528, 4.0), (43.72345291753125, 123.46301109324543, 0.6074528, 4.0), (39.81259129152548, 148.15521960812387, 0.6074528, 4.0), (39.37628113059339, 173.15141198703367, 0.6074528, 4.0), (35.035076688920135, 197.77160581233886, 0.6074528, 4.0)]\n",
      "finished road generation\n",
      "IndividualToScenario: Function is zigzag_mapping/zigzag_mapping\n",
      "Segment lengths are None\n",
      "Started Road Generation\n",
      "Road Instance 0, angle: -9, 25: [(47.999939999999995, 24.969459999999998, 0.6074528, 4.0), (47.99994, 49.96946, 0.6074528, 4.0), (52.341144441673265, 74.58965382530519, 0.6074528, 4.0)]\n",
      "Road Instance 1, angle: 14, 25: [(47.999939999999995, 24.969459999999998, 0.6074528, 4.0), (47.99994, 49.96946, 0.6074528, 4.0), (52.341144441673265, 74.58965382530519, 0.6074528, 4.0), (51.032745535599666, 99.55539219416954, 0.6074528, 4.0)]\n",
      "Road Instance 2, angle: 14, 25: [(47.999939999999995, 24.969459999999998, 0.6074528, 4.0), (47.99994, 49.96946, 0.6074528, 4.0), (52.341144441673265, 74.58965382530519, 0.6074528, 4.0), (51.032745535599666, 99.55539219416954, 0.6074528, 4.0), (43.72345291753125, 123.46301109324543, 0.6074528, 4.0)]\n",
      "Road Instance 3, angle: 12, 25: [(47.999939999999995, 24.969459999999998, 0.6074528, 4.0), (47.99994, 49.96946, 0.6074528, 4.0), (52.341144441673265, 74.58965382530519, 0.6074528, 4.0), (51.032745535599666, 99.55539219416954, 0.6074528, 4.0), (43.72345291753125, 123.46301109324543, 0.6074528, 4.0), (31.603212411372823, 145.3285037717303, 0.6074528, 4.0)]\n",
      "Road Instance 4, angle: -8, 25: [(47.999939999999995, 24.969459999999998, 0.6074528, 4.0), (47.99994, 49.96946, 0.6074528, 4.0), (52.341144441673265, 74.58965382530519, 0.6074528, 4.0), (51.032745535599666, 99.55539219416954, 0.6074528, 4.0), (43.72345291753125, 123.46301109324543, 0.6074528, 4.0), (31.603212411372823, 145.3285037717303, 0.6074528, 4.0), (22.644013672740314, 168.66801443416034, 0.6074528, 4.0)]\n",
      "Road Instance 5, angle: -17, 25: [(47.999939999999995, 24.969459999999998, 0.6074528, 4.0), (47.99994, 49.96946, 0.6074528, 4.0), (52.341144441673265, 74.58965382530519, 0.6074528, 4.0), (51.032745535599666, 99.55539219416954, 0.6074528, 4.0), (43.72345291753125, 123.46301109324543, 0.6074528, 4.0), (31.603212411372823, 145.3285037717303, 0.6074528, 4.0), (22.644013672740314, 168.66801443416034, 0.6074528, 4.0), (20.90010182913718, 193.60711569065595, 0.6074528, 4.0)]\n",
      "finished road generation\n",
      "IndividualToScenario: Function is zigzag_mapping/zigzag_mapping\n",
      "----- Finished Perturbation-Controller set up -----\n",
      "INFO:SDSandBoxSimulator:Reset the scenario\n"
     ]
    },
    {
     "name": "stderr",
     "output_type": "stream",
     "text": [
      "2024-01-18 10:56:27,358 INFO     Reset the scenario\n"
     ]
    },
    {
     "name": "stdout",
     "output_type": "stream",
     "text": [
      "fps 18.47\n",
      "fps 19.73\n",
      "fps 19.74\n",
      "fps 19.74\n",
      "fps 19.73\n",
      "fps 19.71\n",
      "SDSandBox: Finished scenario\n",
      "INFO:SDSandBoxSimulator:Reset the scenario\n"
     ]
    },
    {
     "name": "stderr",
     "output_type": "stream",
     "text": [
      "2024-01-18 10:56:58,517 INFO     Reset the scenario\n"
     ]
    },
    {
     "name": "stdout",
     "output_type": "stream",
     "text": [
      "fps 19.73\n",
      "Exception: [Errno 54] Connection reset by peer\n",
      "fps 1.54\n",
      "CRITICAL:DonkeySimMsgHandler:DonkeySimMsgHandler: +++++ Warning: Donkey Sim Aborted +++++\n"
     ]
    },
    {
     "name": "stderr",
     "output_type": "stream",
     "text": [
      "2024-01-18 10:57:04,682 CRITICAL DonkeySimMsgHandler: +++++ Warning: Donkey Sim Aborted +++++\n"
     ]
    },
    {
     "name": "stdout",
     "output_type": "stream",
     "text": [
      "INFO:DonkeySimMsgHandler:DonkeySimMsgHandler: +++++ Warning: Donkey Sim Message Stoped +++++\n"
     ]
    },
    {
     "name": "stderr",
     "output_type": "stream",
     "text": [
      "2024-01-18 10:57:04,686 INFO     DonkeySimMsgHandler: +++++ Warning: Donkey Sim Message Stoped +++++\n"
     ]
    },
    {
     "name": "stdout",
     "output_type": "stream",
     "text": [
      "fps 19.73\n",
      "fps 19.71\n",
      "fps 19.71\n",
      "fps 19.72\n",
      "INFO:DonkeySimMsgHandler:DonkeySimMsgHandler: +++++ Warning: Donkey Sim Message Closed by SimClient +++++\n"
     ]
    },
    {
     "name": "stderr",
     "output_type": "stream",
     "text": [
      "2024-01-18 10:57:22,831 INFO     DonkeySimMsgHandler: +++++ Warning: Donkey Sim Message Closed by SimClient +++++\n"
     ]
    },
    {
     "name": "stdout",
     "output_type": "stream",
     "text": [
      "INFO:DonkeySimMsgHandler:DonkeySimMsgHandler: +++++ Warning: Donkey Sim Message Stoped +++++\n"
     ]
    },
    {
     "name": "stderr",
     "output_type": "stream",
     "text": [
      "2024-01-18 10:57:22,833 INFO     DonkeySimMsgHandler: +++++ Warning: Donkey Sim Message Stoped +++++\n"
     ]
    },
    {
     "name": "stdout",
     "output_type": "stream",
     "text": [
      "INFO:DonkeySimMsgHandler:DonkeySimMsgHandler: +++++ Warning: Donkey Sim Message Closed by SimClient +++++\n"
     ]
    },
    {
     "name": "stderr",
     "output_type": "stream",
     "text": [
      "2024-01-18 10:57:22,834 INFO     DonkeySimMsgHandler: +++++ Warning: Donkey Sim Message Closed by SimClient +++++\n"
     ]
    },
    {
     "name": "stdout",
     "output_type": "stream",
     "text": [
      "INFO:DonkeySimMsgHandler:DonkeySimMsgHandler: +++++ Warning: Donkey Sim Message Stoped +++++\n"
     ]
    },
    {
     "name": "stderr",
     "output_type": "stream",
     "text": [
      "2024-01-18 10:57:22,835 INFO     DonkeySimMsgHandler: +++++ Warning: Donkey Sim Message Stoped +++++\n"
     ]
    },
    {
     "name": "stdout",
     "output_type": "stream",
     "text": [
      "INFO:DonkeySimMsgHandler:DonkeySimMsgHandler: +++++ Warning: Donkey Sim Message Closed by SimClient +++++\n"
     ]
    },
    {
     "name": "stderr",
     "output_type": "stream",
     "text": [
      "2024-01-18 10:57:22,837 INFO     DonkeySimMsgHandler: +++++ Warning: Donkey Sim Message Closed by SimClient +++++\n"
     ]
    },
    {
     "name": "stdout",
     "output_type": "stream",
     "text": [
      "INFO:DonkeySimMsgHandler:DonkeySimMsgHandler: +++++ Warning: Donkey Sim Message Stoped +++++\n"
     ]
    },
    {
     "name": "stderr",
     "output_type": "stream",
     "text": [
      "2024-01-18 10:57:22,838 INFO     DonkeySimMsgHandler: +++++ Warning: Donkey Sim Message Stoped +++++\n"
     ]
    },
    {
     "name": "stdout",
     "output_type": "stream",
     "text": [
      "INFO:DonkeySimMsgHandler:DonkeySimMsgHandler: +++++ Warning: Donkey Sim Message Closed by SimClient +++++\n"
     ]
    },
    {
     "name": "stderr",
     "output_type": "stream",
     "text": [
      "2024-01-18 10:57:22,839 INFO     DonkeySimMsgHandler: +++++ Warning: Donkey Sim Message Closed by SimClient +++++\n"
     ]
    },
    {
     "name": "stdout",
     "output_type": "stream",
     "text": [
      "INFO:DonkeySimMsgHandler:DonkeySimMsgHandler: +++++ Warning: Donkey Sim Message Stoped +++++\n"
     ]
    },
    {
     "name": "stderr",
     "output_type": "stream",
     "text": [
      "2024-01-18 10:57:22,840 INFO     DonkeySimMsgHandler: +++++ Warning: Donkey Sim Message Stoped +++++\n"
     ]
    },
    {
     "name": "stdout",
     "output_type": "stream",
     "text": [
      "INFO:DonkeySimMsgHandler:DonkeySimMsgHandler: +++++ Warning: Donkey Sim Message Closed by SimClient +++++\n"
     ]
    },
    {
     "name": "stderr",
     "output_type": "stream",
     "text": [
      "2024-01-18 10:57:22,842 INFO     DonkeySimMsgHandler: +++++ Warning: Donkey Sim Message Closed by SimClient +++++\n"
     ]
    },
    {
     "name": "stdout",
     "output_type": "stream",
     "text": [
      "INFO:DonkeySimMsgHandler:DonkeySimMsgHandler: +++++ Warning: Donkey Sim Message Stoped +++++\n"
     ]
    },
    {
     "name": "stderr",
     "output_type": "stream",
     "text": [
      "2024-01-18 10:57:22,843 INFO     DonkeySimMsgHandler: +++++ Warning: Donkey Sim Message Stoped +++++\n"
     ]
    },
    {
     "name": "stdout",
     "output_type": "stream",
     "text": [
      "INFO:DonkeySimMsgHandler:DonkeySimMsgHandler: +++++ Warning: Donkey Sim Message Closed by SimClient +++++\n"
     ]
    },
    {
     "name": "stderr",
     "output_type": "stream",
     "text": [
      "2024-01-18 10:57:22,844 INFO     DonkeySimMsgHandler: +++++ Warning: Donkey Sim Message Closed by SimClient +++++\n"
     ]
    },
    {
     "name": "stdout",
     "output_type": "stream",
     "text": [
      "INFO:DonkeySimMsgHandler:DonkeySimMsgHandler: +++++ Warning: Donkey Sim Message Stoped +++++\n"
     ]
    },
    {
     "name": "stderr",
     "output_type": "stream",
     "text": [
      "2024-01-18 10:57:22,845 INFO     DonkeySimMsgHandler: +++++ Warning: Donkey Sim Message Stoped +++++\n"
     ]
    },
    {
     "name": "stdout",
     "output_type": "stream",
     "text": [
      "INFO:DonkeySimMsgHandler:DonkeySimMsgHandler: +++++ Warning: Donkey Sim Message Closed by SimClient +++++\n"
     ]
    },
    {
     "name": "stderr",
     "output_type": "stream",
     "text": [
      "2024-01-18 10:57:22,846 INFO     DonkeySimMsgHandler: +++++ Warning: Donkey Sim Message Closed by SimClient +++++\n"
     ]
    },
    {
     "name": "stdout",
     "output_type": "stream",
     "text": [
      "INFO:DonkeySimMsgHandler:DonkeySimMsgHandler: +++++ Warning: Donkey Sim Message Stoped +++++\n"
     ]
    },
    {
     "name": "stderr",
     "output_type": "stream",
     "text": [
      "2024-01-18 10:57:22,848 INFO     DonkeySimMsgHandler: +++++ Warning: Donkey Sim Message Stoped +++++\n"
     ]
    },
    {
     "name": "stdout",
     "output_type": "stream",
     "text": [
      "fps 19.71\n",
      "fps 19.68\n",
      "SDSandBox: Finished scenario\n",
      "INFO:SDSandBoxSimulator:Reset the scenario\n"
     ]
    },
    {
     "name": "stderr",
     "output_type": "stream",
     "text": [
      "2024-01-18 10:57:34,021 INFO     Reset the scenario\n"
     ]
    },
    {
     "name": "stdout",
     "output_type": "stream",
     "text": [
      "fps 19.69\n",
      "fps 19.72\n",
      "fps 19.70\n",
      "fps 19.72\n",
      "fps 19.70\n",
      "fps 19.69\n",
      "SDSandBox: Finished scenario\n",
      "INFO:SDSandBoxSimulator:Reset the scenario\n"
     ]
    },
    {
     "name": "stderr",
     "output_type": "stream",
     "text": [
      "2024-01-18 10:58:04,683 INFO     Reset the scenario\n"
     ]
    },
    {
     "name": "stdout",
     "output_type": "stream",
     "text": [
      "fps 19.69\n",
      "fps 19.71\n",
      "fps 19.71\n",
      "fps 19.71\n",
      "fps 19.73\n",
      "SDSandBox: Finished scenario\n",
      "fps 19.70\n",
      "INFO:SDSandBoxSimulator:Reset the scenario\n"
     ]
    },
    {
     "name": "stderr",
     "output_type": "stream",
     "text": [
      "2024-01-18 10:58:33,277 INFO     Reset the scenario\n"
     ]
    },
    {
     "name": "stdout",
     "output_type": "stream",
     "text": [
      "fps 19.65\n",
      "fps 19.71\n",
      "fps 19.70\n",
      "fps 19.72\n",
      "fps 19.70\n",
      "fps 19.74\n",
      "SDSandBox: Finished scenario\n",
      "INFO:SDSandBoxSimulator:Reset the scenario\n"
     ]
    },
    {
     "name": "stderr",
     "output_type": "stream",
     "text": [
      "2024-01-18 10:59:06,519 INFO     Reset the scenario\n"
     ]
    },
    {
     "name": "stdout",
     "output_type": "stream",
     "text": [
      "fps 19.69\n",
      "fps 19.73\n",
      "fps 19.73\n",
      "fps 19.74\n",
      "fps 19.68\n",
      "fps 19.71\n",
      "SDSandBox: Finished scenario\n",
      "INFO:DonkeySimMsgHandler:DonkeySimMsgHandler: +++++ Warning: Donkey Sim Disconnected +++++\n"
     ]
    },
    {
     "name": "stderr",
     "output_type": "stream",
     "text": [
      "2024-01-18 10:59:36,060 INFO     DonkeySimMsgHandler: +++++ Warning: Donkey Sim Disconnected +++++\n"
     ]
    },
    {
     "name": "stdout",
     "output_type": "stream",
     "text": [
      "INFO:DonkeyProcess:Closing donkey sim subprocess\n"
     ]
    },
    {
     "name": "stderr",
     "output_type": "stream",
     "text": [
      "2024-01-18 10:59:36,063 INFO     Closing donkey sim subprocess\n",
      "2024-01-18 10:59:36,178 INFO     Running evaluation number 9\n"
     ]
    },
    {
     "name": "stdout",
     "output_type": "stream",
     "text": [
      "     8 |       48 |      3 |  0.000000E+00 |             f\n",
      "Using model: generated_dave_v5\n",
      "INFO:DonkeyProcess:This is the launch string /Users/hannesleonhard/Documents/BachelorWInfo/Robustness-SDC/PerturbationDrive/./examples/self_driving_sandbox_donkey/sim/donkey-sim.app/Contents/MacOS/Simulator\n"
     ]
    },
    {
     "name": "stderr",
     "output_type": "stream",
     "text": [
      "2024-01-18 10:59:36,379 INFO     This is the launch string /Users/hannesleonhard/Documents/BachelorWInfo/Robustness-SDC/PerturbationDrive/./examples/self_driving_sandbox_donkey/sim/donkey-sim.app/Contents/MacOS/Simulator\n"
     ]
    },
    {
     "name": "stdout",
     "output_type": "stream",
     "text": [
      "[UnityMemory] Configuration Parameters - Can be set up in boot.config\n",
      "    \"memorysetup-bucket-allocator-granularity=16\"\n",
      "    \"memorysetup-bucket-allocator-bucket-count=8\"\n",
      "    \"memorysetup-bucket-allocator-block-size=4194304\"\n",
      "    \"memorysetup-bucket-allocator-block-count=1\"\n",
      "    \"memorysetup-main-allocator-block-size=16777216\"\n",
      "    \"memorysetup-thread-allocator-block-size=16777216\"\n",
      "    \"memorysetup-gfx-main-allocator-block-size=16777216\"\n",
      "    \"memorysetup-gfx-thread-allocator-block-size=16777216\"\n",
      "    \"memorysetup-cache-allocator-block-size=4194304\"\n",
      "    \"memorysetup-typetree-allocator-block-size=2097152\"\n",
      "    \"memorysetup-profiler-bucket-allocator-granularity=16\"\n",
      "    \"memorysetup-profiler-bucket-allocator-bucket-count=8\"\n",
      "    \"memorysetup-profiler-bucket-allocator-block-size=4194304\"\n",
      "    \"memorysetup-profiler-bucket-allocator-block-count=1\"\n",
      "    \"memorysetup-profiler-allocator-block-size=16777216\"\n",
      "    \"memorysetup-profiler-editor-allocator-block-size=1048576\"\n",
      "    \"memorysetup-temp-allocator-size-main=4194304\"\n",
      "    \"memorysetup-job-temp-allocator-block-size=2097152\"\n",
      "    \"memorysetup-job-temp-allocator-block-size-background=1048576\"\n",
      "    \"memorysetup-job-temp-allocator-reduction-small-platforms=262144\"\n",
      "    \"memorysetup-allocator-temp-initial-block-size-main=262144\"\n",
      "    \"memorysetup-allocator-temp-initial-block-size-worker=262144\"\n",
      "    \"memorysetup-temp-allocator-size-background-worker=32768\"\n",
      "    \"memorysetup-temp-allocator-size-job-worker=262144\"\n",
      "    \"memorysetup-temp-allocator-size-preload-manager=262144\"\n",
      "    \"memorysetup-temp-allocator-size-nav-mesh-worker=65536\"\n",
      "    \"memorysetup-temp-allocator-size-audio-worker=65536\"\n",
      "    \"memorysetup-temp-allocator-size-cloud-worker=32768\"\n",
      "    \"memorysetup-temp-allocator-size-gfx=262144\"\n",
      "INFO:DonkeyProcess:donkey subprocess started\n"
     ]
    },
    {
     "name": "stderr",
     "output_type": "stream",
     "text": [
      "2024-01-18 10:59:56,399 INFO     donkey subprocess started\n"
     ]
    },
    {
     "name": "stdout",
     "output_type": "stream",
     "text": [
      "INFO:SDSandBoxSimulator:Waiting for inital obs\n"
     ]
    },
    {
     "name": "stderr",
     "output_type": "stream",
     "text": [
      "2024-01-18 10:59:56,451 INFO     Waiting for inital obs\n"
     ]
    },
    {
     "name": "stdout",
     "output_type": "stream",
     "text": [
      "INFO:SDSandBoxSimulator:Waiting for inital obs\n"
     ]
    },
    {
     "name": "stderr",
     "output_type": "stream",
     "text": [
      "2024-01-18 10:59:56,493 INFO     Waiting for inital obs\n"
     ]
    },
    {
     "name": "stdout",
     "output_type": "stream",
     "text": [
      "INFO:SDSandBoxSimulator:Waiting for inital obs\n"
     ]
    },
    {
     "name": "stderr",
     "output_type": "stream",
     "text": [
      "2024-01-18 10:59:56,534 INFO     Waiting for inital obs\n"
     ]
    },
    {
     "name": "stdout",
     "output_type": "stream",
     "text": [
      "INFO:SDSandBoxSimulator:Waiting for inital obs\n"
     ]
    },
    {
     "name": "stderr",
     "output_type": "stream",
     "text": [
      "2024-01-18 10:59:56,575 INFO     Waiting for inital obs\n"
     ]
    },
    {
     "name": "stdout",
     "output_type": "stream",
     "text": [
      "INFO:SDSandBoxSimulator:Waiting for inital obs\n"
     ]
    },
    {
     "name": "stderr",
     "output_type": "stream",
     "text": [
      "2024-01-18 10:59:56,617 INFO     Waiting for inital obs\n"
     ]
    },
    {
     "name": "stdout",
     "output_type": "stream",
     "text": [
      "INFO:SDSandBoxSimulator:Waiting for inital obs\n"
     ]
    },
    {
     "name": "stderr",
     "output_type": "stream",
     "text": [
      "2024-01-18 10:59:56,658 INFO     Waiting for inital obs\n"
     ]
    },
    {
     "name": "stdout",
     "output_type": "stream",
     "text": [
      "INFO:SDSandBoxSimulator:Waiting for inital obs\n"
     ]
    },
    {
     "name": "stderr",
     "output_type": "stream",
     "text": [
      "2024-01-18 10:59:56,700 INFO     Waiting for inital obs\n"
     ]
    },
    {
     "name": "stdout",
     "output_type": "stream",
     "text": [
      "INFO:SDSandBoxSimulator:Waiting for inital obs\n"
     ]
    },
    {
     "name": "stderr",
     "output_type": "stream",
     "text": [
      "2024-01-18 10:59:56,741 INFO     Waiting for inital obs\n"
     ]
    },
    {
     "name": "stdout",
     "output_type": "stream",
     "text": [
      "INFO:SDSandBoxSimulator:Waiting for inital obs\n"
     ]
    },
    {
     "name": "stderr",
     "output_type": "stream",
     "text": [
      "2024-01-18 10:59:56,783 INFO     Waiting for inital obs\n"
     ]
    },
    {
     "name": "stdout",
     "output_type": "stream",
     "text": [
      "INFO:DonkeySimMsgHandler:DonkeySimMsgHandler: ----- Car Created With Data {'msg_type': 'car_loaded'} -----\n"
     ]
    },
    {
     "name": "stderr",
     "output_type": "stream",
     "text": [
      "2024-01-18 10:59:56,803 INFO     DonkeySimMsgHandler: ----- Car Created With Data {'msg_type': 'car_loaded'} -----\n"
     ]
    },
    {
     "name": "stdout",
     "output_type": "stream",
     "text": [
      "INFO:SDSandBoxSimulator:Waiting for inital obs\n"
     ]
    },
    {
     "name": "stderr",
     "output_type": "stream",
     "text": [
      "2024-01-18 10:59:56,826 INFO     Waiting for inital obs\n"
     ]
    },
    {
     "name": "stdout",
     "output_type": "stream",
     "text": [
      "INFO:SDSandBoxSimulator:Waiting for inital obs\n"
     ]
    },
    {
     "name": "stderr",
     "output_type": "stream",
     "text": [
      "2024-01-18 10:59:56,869 INFO     Waiting for inital obs\n"
     ]
    },
    {
     "name": "stdout",
     "output_type": "stream",
     "text": [
      "Segment lengths are None\n",
      "Started Road Generation\n",
      "Road Instance 0, angle: -9, 25: [(47.999939999999995, 24.969459999999998, 0.6074528, 4.0), (47.99994, 49.96946, 0.6074528, 4.0), (52.341144441673265, 74.58965382530519, 0.6074528, 4.0)]\n",
      "Road Instance 1, angle: 14, 25: [(47.999939999999995, 24.969459999999998, 0.6074528, 4.0), (47.99994, 49.96946, 0.6074528, 4.0), (52.341144441673265, 74.58965382530519, 0.6074528, 4.0), (51.032745535599666, 99.55539219416954, 0.6074528, 4.0)]\n",
      "Road Instance 2, angle: 14, 25: [(47.999939999999995, 24.969459999999998, 0.6074528, 4.0), (47.99994, 49.96946, 0.6074528, 4.0), (52.341144441673265, 74.58965382530519, 0.6074528, 4.0), (51.032745535599666, 99.55539219416954, 0.6074528, 4.0), (43.72345291753125, 123.46301109324543, 0.6074528, 4.0)]\n",
      "Road Instance 3, angle: -7, 25: [(47.999939999999995, 24.969459999999998, 0.6074528, 4.0), (47.99994, 49.96946, 0.6074528, 4.0), (52.341144441673265, 74.58965382530519, 0.6074528, 4.0), (51.032745535599666, 99.55539219416954, 0.6074528, 4.0), (43.72345291753125, 123.46301109324543, 0.6074528, 4.0), (39.38224847585799, 148.08320491855062, 0.6074528, 4.0)]\n",
      "Road Instance 4, angle: -8, 25: [(47.999939999999995, 24.969459999999998, 0.6074528, 4.0), (47.99994, 49.96946, 0.6074528, 4.0), (52.341144441673265, 74.58965382530519, 0.6074528, 4.0), (51.032745535599666, 99.55539219416954, 0.6074528, 4.0), (43.72345291753125, 123.46301109324543, 0.6074528, 4.0), (39.38224847585799, 148.08320491855062, 0.6074528, 4.0), (38.50976105829547, 173.067975594028, 0.6074528, 4.0)]\n",
      "Road Instance 5, angle: -16, 25: [(47.999939999999995, 24.969459999999998, 0.6074528, 4.0), (47.99994, 49.96946, 0.6074528, 4.0), (52.341144441673265, 74.58965382530519, 0.6074528, 4.0), (51.032745535599666, 99.55539219416954, 0.6074528, 4.0), (43.72345291753125, 123.46301109324543, 0.6074528, 4.0), (39.38224847585799, 148.08320491855062, 0.6074528, 4.0), (38.50976105829547, 173.067975594028, 0.6074528, 4.0), (44.55780844828716, 197.32536875092794, 0.6074528, 4.0)]\n",
      "finished road generation\n",
      "IndividualToScenario: Function is zigzag_mapping/zigzag_mapping\n",
      "Segment lengths are None\n",
      "Started Road Generation\n",
      "Road Instance 0, angle: -9, 25: [(47.999939999999995, 24.969459999999998, 0.6074528, 4.0), (47.99994, 49.96946, 0.6074528, 4.0), (52.341144441673265, 74.58965382530519, 0.6074528, 4.0)]\n",
      "Road Instance 1, angle: 14, 25: [(47.999939999999995, 24.969459999999998, 0.6074528, 4.0), (47.99994, 49.96946, 0.6074528, 4.0), (52.341144441673265, 74.58965382530519, 0.6074528, 4.0), (51.032745535599666, 99.55539219416954, 0.6074528, 4.0)]\n",
      "Road Instance 2, angle: 15, 25: [(47.999939999999995, 24.969459999999998, 0.6074528, 4.0), (47.99994, 49.96946, 0.6074528, 4.0), (52.341144441673265, 74.58965382530519, 0.6074528, 4.0), (51.032745535599666, 99.55539219416954, 0.6074528, 4.0), (43.307320676225984, 123.33180510154838, 0.6074528, 4.0)]\n",
      "Road Instance 3, angle: 12, 25: [(47.999939999999995, 24.969459999999998, 0.6074528, 4.0), (47.99994, 49.96946, 0.6074528, 4.0), (52.341144441673265, 74.58965382530519, 0.6074528, 4.0), (51.032745535599666, 99.55539219416954, 0.6074528, 4.0), (43.307320676225984, 123.33180510154838, 0.6074528, 4.0), (30.807320676225988, 144.98244019615936, 0.6074528, 4.0)]\n",
      "Road Instance 4, angle: -8, 25: [(47.999939999999995, 24.969459999999998, 0.6074528, 4.0), (47.99994, 49.96946, 0.6074528, 4.0), (52.341144441673265, 74.58965382530519, 0.6074528, 4.0), (51.032745535599666, 99.55539219416954, 0.6074528, 4.0), (43.307320676225984, 123.33180510154838, 0.6074528, 4.0), (30.807320676225988, 144.98244019615936, 0.6074528, 4.0), (21.848121937593483, 168.3219508585894, 0.6074528, 4.0)]\n",
      "Road Instance 5, angle: 9, 25: [(47.999939999999995, 24.969459999999998, 0.6074528, 4.0), (47.99994, 49.96946, 0.6074528, 4.0), (52.341144441673265, 74.58965382530519, 0.6074528, 4.0), (51.032745535599666, 99.55539219416954, 0.6074528, 4.0), (43.307320676225984, 123.33180510154838, 0.6074528, 4.0), (30.807320676225988, 144.98244019615936, 0.6074528, 4.0), (21.848121937593483, 168.3219508585894, 0.6074528, 4.0), (9.348121937593486, 189.97258595320037, 0.6074528, 4.0)]\n",
      "finished road generation\n",
      "IndividualToScenario: Function is zigzag_mapping/zigzag_mapping\n",
      "Segment lengths are None\n",
      "Started Road Generation\n",
      "Road Instance 0, angle: -9, 25: [(47.999939999999995, 24.969459999999998, 0.6074528, 4.0), (47.99994, 49.96946, 0.6074528, 4.0), (52.341144441673265, 74.58965382530519, 0.6074528, 4.0)]\n",
      "Road Instance 1, angle: 14, 25: [(47.999939999999995, 24.969459999999998, 0.6074528, 4.0), (47.99994, 49.96946, 0.6074528, 4.0), (52.341144441673265, 74.58965382530519, 0.6074528, 4.0), (51.032745535599666, 99.55539219416954, 0.6074528, 4.0)]\n",
      "Road Instance 2, angle: 15, 25: [(47.999939999999995, 24.969459999999998, 0.6074528, 4.0), (47.99994, 49.96946, 0.6074528, 4.0), (52.341144441673265, 74.58965382530519, 0.6074528, 4.0), (51.032745535599666, 99.55539219416954, 0.6074528, 4.0), (43.307320676225984, 123.33180510154838, 0.6074528, 4.0)]\n",
      "Road Instance 3, angle: -7, 25: [(47.999939999999995, 24.969459999999998, 0.6074528, 4.0), (47.99994, 49.96946, 0.6074528, 4.0), (52.341144441673265, 74.58965382530519, 0.6074528, 4.0), (51.032745535599666, 99.55539219416954, 0.6074528, 4.0), (43.307320676225984, 123.33180510154838, 0.6074528, 4.0), (38.53709579181236, 147.87248468773998, 0.6074528, 4.0)]\n",
      "Road Instance 4, angle: -10, 25: [(47.999939999999995, 24.969459999999998, 0.6074528, 4.0), (47.99994, 49.96946, 0.6074528, 4.0), (52.341144441673265, 74.58965382530519, 0.6074528, 4.0), (51.032745535599666, 99.55539219416954, 0.6074528, 4.0), (43.307320676225984, 123.33180510154838, 0.6074528, 4.0), (38.53709579181236, 147.87248468773998, 0.6074528, 4.0), (38.100785630880274, 172.86867706664975, 0.6074528, 4.0)]\n",
      "Road Instance 5, angle: 9, 25: [(47.999939999999995, 24.969459999999998, 0.6074528, 4.0), (47.99994, 49.96946, 0.6074528, 4.0), (52.341144441673265, 74.58965382530519, 0.6074528, 4.0), (51.032745535599666, 99.55539219416954, 0.6074528, 4.0), (43.307320676225984, 123.33180510154838, 0.6074528, 4.0), (38.53709579181236, 147.87248468773998, 0.6074528, 4.0), (38.100785630880274, 172.86867706664975, 0.6074528, 4.0), (33.75958118920702, 197.48887089195495, 0.6074528, 4.0)]\n",
      "finished road generation\n",
      "IndividualToScenario: Function is zigzag_mapping/zigzag_mapping\n",
      "Segment lengths are None\n",
      "Started Road Generation\n",
      "Road Instance 0, angle: -9, 25: [(47.999939999999995, 24.969459999999998, 0.6074528, 4.0), (47.99994, 49.96946, 0.6074528, 4.0), (52.341144441673265, 74.58965382530519, 0.6074528, 4.0)]\n",
      "Road Instance 1, angle: 14, 25: [(47.999939999999995, 24.969459999999998, 0.6074528, 4.0), (47.99994, 49.96946, 0.6074528, 4.0), (52.341144441673265, 74.58965382530519, 0.6074528, 4.0), (51.032745535599666, 99.55539219416954, 0.6074528, 4.0)]\n",
      "Road Instance 2, angle: 14, 25: [(47.999939999999995, 24.969459999999998, 0.6074528, 4.0), (47.99994, 49.96946, 0.6074528, 4.0), (52.341144441673265, 74.58965382530519, 0.6074528, 4.0), (51.032745535599666, 99.55539219416954, 0.6074528, 4.0), (43.72345291753125, 123.46301109324543, 0.6074528, 4.0)]\n",
      "Road Instance 3, angle: -7, 25: [(47.999939999999995, 24.969459999999998, 0.6074528, 4.0), (47.99994, 49.96946, 0.6074528, 4.0), (52.341144441673265, 74.58965382530519, 0.6074528, 4.0), (51.032745535599666, 99.55539219416954, 0.6074528, 4.0), (43.72345291753125, 123.46301109324543, 0.6074528, 4.0), (39.38224847585799, 148.08320491855062, 0.6074528, 4.0)]\n",
      "Road Instance 4, angle: -8, 25: [(47.999939999999995, 24.969459999999998, 0.6074528, 4.0), (47.99994, 49.96946, 0.6074528, 4.0), (52.341144441673265, 74.58965382530519, 0.6074528, 4.0), (51.032745535599666, 99.55539219416954, 0.6074528, 4.0), (43.72345291753125, 123.46301109324543, 0.6074528, 4.0), (39.38224847585799, 148.08320491855062, 0.6074528, 4.0), (38.50976105829547, 173.067975594028, 0.6074528, 4.0)]\n",
      "Road Instance 5, angle: -17, 25: [(47.999939999999995, 24.969459999999998, 0.6074528, 4.0), (47.99994, 49.96946, 0.6074528, 4.0), (52.341144441673265, 74.58965382530519, 0.6074528, 4.0), (51.032745535599666, 99.55539219416954, 0.6074528, 4.0), (43.72345291753125, 123.46301109324543, 0.6074528, 4.0), (39.38224847585799, 148.08320491855062, 0.6074528, 4.0), (38.50976105829547, 173.067975594028, 0.6074528, 4.0), (44.980237185858485, 197.21612125125472, 0.6074528, 4.0)]\n",
      "finished road generation\n",
      "IndividualToScenario: Function is zigzag_mapping/zigzag_mapping\n",
      "Segment lengths are None\n",
      "Started Road Generation\n",
      "Road Instance 0, angle: -9, 25: [(47.999939999999995, 24.969459999999998, 0.6074528, 4.0), (47.99994, 49.96946, 0.6074528, 4.0), (52.341144441673265, 74.58965382530519, 0.6074528, 4.0)]\n",
      "Road Instance 1, angle: 14, 25: [(47.999939999999995, 24.969459999999998, 0.6074528, 4.0), (47.99994, 49.96946, 0.6074528, 4.0), (52.341144441673265, 74.58965382530519, 0.6074528, 4.0), (51.032745535599666, 99.55539219416954, 0.6074528, 4.0)]\n",
      "Road Instance 2, angle: 14, 25: [(47.999939999999995, 24.969459999999998, 0.6074528, 4.0), (47.99994, 49.96946, 0.6074528, 4.0), (52.341144441673265, 74.58965382530519, 0.6074528, 4.0), (51.032745535599666, 99.55539219416954, 0.6074528, 4.0), (43.72345291753125, 123.46301109324543, 0.6074528, 4.0)]\n",
      "Road Instance 3, angle: 12, 25: [(47.999939999999995, 24.969459999999998, 0.6074528, 4.0), (47.99994, 49.96946, 0.6074528, 4.0), (52.341144441673265, 74.58965382530519, 0.6074528, 4.0), (51.032745535599666, 99.55539219416954, 0.6074528, 4.0), (43.72345291753125, 123.46301109324543, 0.6074528, 4.0), (31.603212411372823, 145.3285037717303, 0.6074528, 4.0)]\n",
      "Road Instance 4, angle: -8, 25: [(47.999939999999995, 24.969459999999998, 0.6074528, 4.0), (47.99994, 49.96946, 0.6074528, 4.0), (52.341144441673265, 74.58965382530519, 0.6074528, 4.0), (51.032745535599666, 99.55539219416954, 0.6074528, 4.0), (43.72345291753125, 123.46301109324543, 0.6074528, 4.0), (31.603212411372823, 145.3285037717303, 0.6074528, 4.0), (22.644013672740314, 168.66801443416034, 0.6074528, 4.0)]\n",
      "Road Instance 5, angle: -17, 25: [(47.999939999999995, 24.969459999999998, 0.6074528, 4.0), (47.99994, 49.96946, 0.6074528, 4.0), (52.341144441673265, 74.58965382530519, 0.6074528, 4.0), (51.032745535599666, 99.55539219416954, 0.6074528, 4.0), (43.72345291753125, 123.46301109324543, 0.6074528, 4.0), (31.603212411372823, 145.3285037717303, 0.6074528, 4.0), (22.644013672740314, 168.66801443416034, 0.6074528, 4.0), (20.90010182913718, 193.60711569065595, 0.6074528, 4.0)]\n",
      "finished road generation\n",
      "IndividualToScenario: Function is object_overlay/object_overlay\n",
      "Segment lengths are None\n",
      "Started Road Generation\n",
      "Road Instance 0, angle: -9, 25: [(47.999939999999995, 24.969459999999998, 0.6074528, 4.0), (47.99994, 49.96946, 0.6074528, 4.0), (52.341144441673265, 74.58965382530519, 0.6074528, 4.0)]\n",
      "Road Instance 1, angle: 14, 25: [(47.999939999999995, 24.969459999999998, 0.6074528, 4.0), (47.99994, 49.96946, 0.6074528, 4.0), (52.341144441673265, 74.58965382530519, 0.6074528, 4.0), (51.032745535599666, 99.55539219416954, 0.6074528, 4.0)]\n",
      "Road Instance 2, angle: 14, 25: [(47.999939999999995, 24.969459999999998, 0.6074528, 4.0), (47.99994, 49.96946, 0.6074528, 4.0), (52.341144441673265, 74.58965382530519, 0.6074528, 4.0), (51.032745535599666, 99.55539219416954, 0.6074528, 4.0), (43.72345291753125, 123.46301109324543, 0.6074528, 4.0)]\n",
      "Road Instance 3, angle: 12, 25: [(47.999939999999995, 24.969459999999998, 0.6074528, 4.0), (47.99994, 49.96946, 0.6074528, 4.0), (52.341144441673265, 74.58965382530519, 0.6074528, 4.0), (51.032745535599666, 99.55539219416954, 0.6074528, 4.0), (43.72345291753125, 123.46301109324543, 0.6074528, 4.0), (31.603212411372823, 145.3285037717303, 0.6074528, 4.0)]\n",
      "Road Instance 4, angle: -8, 25: [(47.999939999999995, 24.969459999999998, 0.6074528, 4.0), (47.99994, 49.96946, 0.6074528, 4.0), (52.341144441673265, 74.58965382530519, 0.6074528, 4.0), (51.032745535599666, 99.55539219416954, 0.6074528, 4.0), (43.72345291753125, 123.46301109324543, 0.6074528, 4.0), (31.603212411372823, 145.3285037717303, 0.6074528, 4.0), (22.644013672740314, 168.66801443416034, 0.6074528, 4.0)]\n",
      "Road Instance 5, angle: 9, 25: [(47.999939999999995, 24.969459999999998, 0.6074528, 4.0), (47.99994, 49.96946, 0.6074528, 4.0), (52.341144441673265, 74.58965382530519, 0.6074528, 4.0), (51.032745535599666, 99.55539219416954, 0.6074528, 4.0), (43.72345291753125, 123.46301109324543, 0.6074528, 4.0), (31.603212411372823, 145.3285037717303, 0.6074528, 4.0), (22.644013672740314, 168.66801443416034, 0.6074528, 4.0), (10.144013672740318, 190.31864952877132, 0.6074528, 4.0)]\n",
      "finished road generation\n",
      "IndividualToScenario: Function is zigzag_mapping/zigzag_mapping\n",
      "----- Finished Perturbation-Controller set up -----\n",
      "INFO:SDSandBoxSimulator:Reset the scenario\n"
     ]
    },
    {
     "name": "stderr",
     "output_type": "stream",
     "text": [
      "2024-01-18 10:59:56,951 INFO     Reset the scenario\n"
     ]
    },
    {
     "name": "stdout",
     "output_type": "stream",
     "text": [
      "fps 18.51\n",
      "fps 19.71\n",
      "fps 19.71\n",
      "fps 19.74\n",
      "fps 19.73\n",
      "fps 19.74\n",
      "SDSandBox: Finished scenario\n",
      "INFO:SDSandBoxSimulator:Reset the scenario\n"
     ]
    },
    {
     "name": "stderr",
     "output_type": "stream",
     "text": [
      "2024-01-18 11:00:30,533 INFO     Reset the scenario\n"
     ]
    },
    {
     "name": "stdout",
     "output_type": "stream",
     "text": [
      "fps 19.72\n",
      "Exception: [Errno 54] Connection reset by peer\n",
      "CRITICAL:DonkeySimMsgHandler:DonkeySimMsgHandler: +++++ Warning: Donkey Sim Aborted +++++\n"
     ]
    },
    {
     "name": "stderr",
     "output_type": "stream",
     "text": [
      "2024-01-18 11:00:36,162 CRITICAL DonkeySimMsgHandler: +++++ Warning: Donkey Sim Aborted +++++\n"
     ]
    },
    {
     "name": "stdout",
     "output_type": "stream",
     "text": [
      "INFO:DonkeySimMsgHandler:DonkeySimMsgHandler: +++++ Warning: Donkey Sim Message Stoped +++++\n"
     ]
    },
    {
     "name": "stderr",
     "output_type": "stream",
     "text": [
      "2024-01-18 11:00:36,165 INFO     DonkeySimMsgHandler: +++++ Warning: Donkey Sim Message Stoped +++++\n"
     ]
    },
    {
     "name": "stdout",
     "output_type": "stream",
     "text": [
      "fps 19.73\n",
      "fps 19.75\n",
      "fps 19.71\n",
      "fps 19.74\n",
      "fps 19.72\n",
      "fps 19.70\n",
      "SDSandBox: Finished scenario\n",
      "fps 19.65\n",
      "INFO:SDSandBoxSimulator:Reset the scenario\n"
     ]
    },
    {
     "name": "stderr",
     "output_type": "stream",
     "text": [
      "2024-01-18 11:01:08,580 INFO     Reset the scenario\n"
     ]
    },
    {
     "name": "stdout",
     "output_type": "stream",
     "text": [
      "fps 19.75\n",
      "fps 19.71\n",
      "fps 19.70\n",
      "fps 19.72\n",
      "fps 19.70\n",
      "fps 19.72\n",
      "SDSandBox: Finished scenario\n",
      "INFO:SDSandBoxSimulator:Reset the scenario\n"
     ]
    },
    {
     "name": "stderr",
     "output_type": "stream",
     "text": [
      "2024-01-18 11:01:40,879 INFO     Reset the scenario\n"
     ]
    },
    {
     "name": "stdout",
     "output_type": "stream",
     "text": [
      "fps 19.69\n",
      "fps 19.68\n",
      "fps 19.73\n",
      "fps 19.70\n",
      "fps 19.69\n",
      "fps 19.58\n",
      "SDSandBox: Finished scenario\n",
      "fps 19.70\n",
      "INFO:SDSandBoxSimulator:Reset the scenario\n"
     ]
    },
    {
     "name": "stderr",
     "output_type": "stream",
     "text": [
      "2024-01-18 11:02:14,459 INFO     Reset the scenario\n"
     ]
    },
    {
     "name": "stdout",
     "output_type": "stream",
     "text": [
      "fps 19.75\n",
      "fps 19.72\n",
      "fps 19.73\n",
      "fps 19.72\n",
      "SDSandBox: Finished scenario\n",
      "INFO:SDSandBoxSimulator:Reset the scenario\n"
     ]
    },
    {
     "name": "stderr",
     "output_type": "stream",
     "text": [
      "2024-01-18 11:02:37,115 INFO     Reset the scenario\n"
     ]
    },
    {
     "name": "stdout",
     "output_type": "stream",
     "text": [
      "fps 19.71\n",
      "fps 19.75\n",
      "fps 19.70\n",
      "fps 19.72\n",
      "fps 19.71\n",
      "fps 19.70\n",
      "fps 19.70\n",
      "SDSandBox: Finished scenario\n",
      "INFO:DonkeySimMsgHandler:DonkeySimMsgHandler: +++++ Warning: Donkey Sim Disconnected +++++\n"
     ]
    },
    {
     "name": "stderr",
     "output_type": "stream",
     "text": [
      "2024-01-18 11:03:12,098 INFO     DonkeySimMsgHandler: +++++ Warning: Donkey Sim Disconnected +++++\n"
     ]
    },
    {
     "name": "stdout",
     "output_type": "stream",
     "text": [
      "INFO:DonkeyProcess:Closing donkey sim subprocess\n"
     ]
    },
    {
     "name": "stderr",
     "output_type": "stream",
     "text": [
      "2024-01-18 11:03:12,102 INFO     Closing donkey sim subprocess\n",
      "2024-01-18 11:03:12,202 INFO     Running evaluation number 10\n"
     ]
    },
    {
     "name": "stdout",
     "output_type": "stream",
     "text": [
      "     9 |       54 |      3 |  0.000000E+00 |             f\n",
      "Using model: generated_dave_v5\n",
      "INFO:DonkeyProcess:This is the launch string /Users/hannesleonhard/Documents/BachelorWInfo/Robustness-SDC/PerturbationDrive/./examples/self_driving_sandbox_donkey/sim/donkey-sim.app/Contents/MacOS/Simulator\n"
     ]
    },
    {
     "name": "stderr",
     "output_type": "stream",
     "text": [
      "2024-01-18 11:03:12,401 INFO     This is the launch string /Users/hannesleonhard/Documents/BachelorWInfo/Robustness-SDC/PerturbationDrive/./examples/self_driving_sandbox_donkey/sim/donkey-sim.app/Contents/MacOS/Simulator\n"
     ]
    },
    {
     "name": "stdout",
     "output_type": "stream",
     "text": [
      "[UnityMemory] Configuration Parameters - Can be set up in boot.config\n",
      "    \"memorysetup-bucket-allocator-granularity=16\"\n",
      "    \"memorysetup-bucket-allocator-bucket-count=8\"\n",
      "    \"memorysetup-bucket-allocator-block-size=4194304\"\n",
      "    \"memorysetup-bucket-allocator-block-count=1\"\n",
      "    \"memorysetup-main-allocator-block-size=16777216\"\n",
      "    \"memorysetup-thread-allocator-block-size=16777216\"\n",
      "    \"memorysetup-gfx-main-allocator-block-size=16777216\"\n",
      "    \"memorysetup-gfx-thread-allocator-block-size=16777216\"\n",
      "    \"memorysetup-cache-allocator-block-size=4194304\"\n",
      "    \"memorysetup-typetree-allocator-block-size=2097152\"\n",
      "    \"memorysetup-profiler-bucket-allocator-granularity=16\"\n",
      "    \"memorysetup-profiler-bucket-allocator-bucket-count=8\"\n",
      "    \"memorysetup-profiler-bucket-allocator-block-size=4194304\"\n",
      "    \"memorysetup-profiler-bucket-allocator-block-count=1\"\n",
      "    \"memorysetup-profiler-allocator-block-size=16777216\"\n",
      "    \"memorysetup-profiler-editor-allocator-block-size=1048576\"\n",
      "    \"memorysetup-temp-allocator-size-main=4194304\"\n",
      "    \"memorysetup-job-temp-allocator-block-size=2097152\"\n",
      "    \"memorysetup-job-temp-allocator-block-size-background=1048576\"\n",
      "    \"memorysetup-job-temp-allocator-reduction-small-platforms=262144\"\n",
      "    \"memorysetup-allocator-temp-initial-block-size-main=262144\"\n",
      "    \"memorysetup-allocator-temp-initial-block-size-worker=262144\"\n",
      "    \"memorysetup-temp-allocator-size-background-worker=32768\"\n",
      "    \"memorysetup-temp-allocator-size-job-worker=262144\"\n",
      "    \"memorysetup-temp-allocator-size-preload-manager=262144\"\n",
      "    \"memorysetup-temp-allocator-size-nav-mesh-worker=65536\"\n",
      "    \"memorysetup-temp-allocator-size-audio-worker=65536\"\n",
      "    \"memorysetup-temp-allocator-size-cloud-worker=32768\"\n",
      "    \"memorysetup-temp-allocator-size-gfx=262144\"\n",
      "INFO:DonkeyProcess:donkey subprocess started\n"
     ]
    },
    {
     "name": "stderr",
     "output_type": "stream",
     "text": [
      "2024-01-18 11:03:32,417 INFO     donkey subprocess started\n"
     ]
    },
    {
     "name": "stdout",
     "output_type": "stream",
     "text": [
      "INFO:SDSandBoxSimulator:Waiting for inital obs\n"
     ]
    },
    {
     "name": "stderr",
     "output_type": "stream",
     "text": [
      "2024-01-18 11:03:32,481 INFO     Waiting for inital obs\n"
     ]
    },
    {
     "name": "stdout",
     "output_type": "stream",
     "text": [
      "INFO:SDSandBoxSimulator:Waiting for inital obs\n"
     ]
    },
    {
     "name": "stderr",
     "output_type": "stream",
     "text": [
      "2024-01-18 11:03:32,524 INFO     Waiting for inital obs\n"
     ]
    },
    {
     "name": "stdout",
     "output_type": "stream",
     "text": [
      "INFO:SDSandBoxSimulator:Waiting for inital obs\n"
     ]
    },
    {
     "name": "stderr",
     "output_type": "stream",
     "text": [
      "2024-01-18 11:03:32,566 INFO     Waiting for inital obs\n"
     ]
    },
    {
     "name": "stdout",
     "output_type": "stream",
     "text": [
      "INFO:SDSandBoxSimulator:Waiting for inital obs\n"
     ]
    },
    {
     "name": "stderr",
     "output_type": "stream",
     "text": [
      "2024-01-18 11:03:32,608 INFO     Waiting for inital obs\n"
     ]
    },
    {
     "name": "stdout",
     "output_type": "stream",
     "text": [
      "INFO:SDSandBoxSimulator:Waiting for inital obs\n"
     ]
    },
    {
     "name": "stderr",
     "output_type": "stream",
     "text": [
      "2024-01-18 11:03:32,650 INFO     Waiting for inital obs\n"
     ]
    },
    {
     "name": "stdout",
     "output_type": "stream",
     "text": [
      "INFO:SDSandBoxSimulator:Waiting for inital obs\n"
     ]
    },
    {
     "name": "stderr",
     "output_type": "stream",
     "text": [
      "2024-01-18 11:03:32,691 INFO     Waiting for inital obs\n"
     ]
    },
    {
     "name": "stdout",
     "output_type": "stream",
     "text": [
      "INFO:SDSandBoxSimulator:Waiting for inital obs\n"
     ]
    },
    {
     "name": "stderr",
     "output_type": "stream",
     "text": [
      "2024-01-18 11:03:32,734 INFO     Waiting for inital obs\n"
     ]
    },
    {
     "name": "stdout",
     "output_type": "stream",
     "text": [
      "INFO:SDSandBoxSimulator:Waiting for inital obs\n"
     ]
    },
    {
     "name": "stderr",
     "output_type": "stream",
     "text": [
      "2024-01-18 11:03:32,776 INFO     Waiting for inital obs\n"
     ]
    },
    {
     "name": "stdout",
     "output_type": "stream",
     "text": [
      "INFO:DonkeySimMsgHandler:DonkeySimMsgHandler: ----- Car Created With Data {'msg_type': 'car_loaded'} -----\n"
     ]
    },
    {
     "name": "stderr",
     "output_type": "stream",
     "text": [
      "2024-01-18 11:03:32,791 INFO     DonkeySimMsgHandler: ----- Car Created With Data {'msg_type': 'car_loaded'} -----\n"
     ]
    },
    {
     "name": "stdout",
     "output_type": "stream",
     "text": [
      "INFO:SDSandBoxSimulator:Waiting for inital obs\n"
     ]
    },
    {
     "name": "stderr",
     "output_type": "stream",
     "text": [
      "2024-01-18 11:03:32,820 INFO     Waiting for inital obs\n"
     ]
    },
    {
     "name": "stdout",
     "output_type": "stream",
     "text": [
      "INFO:SDSandBoxSimulator:Waiting for inital obs\n"
     ]
    },
    {
     "name": "stderr",
     "output_type": "stream",
     "text": [
      "2024-01-18 11:03:32,864 INFO     Waiting for inital obs\n"
     ]
    },
    {
     "name": "stdout",
     "output_type": "stream",
     "text": [
      "Segment lengths are None\n",
      "Started Road Generation\n",
      "Road Instance 0, angle: -9, 25: [(47.999979999999994, 24.96965, 0.6099315, 4.0), (47.99998, 49.96965, 0.6099315, 4.0), (52.34118444167326, 74.5898438253052, 0.6099315, 4.0)]\n",
      "Road Instance 1, angle: 14, 25: [(47.999979999999994, 24.96965, 0.6099315, 4.0), (47.99998, 49.96965, 0.6099315, 4.0), (52.34118444167326, 74.5898438253052, 0.6099315, 4.0), (51.032785535599665, 99.55558219416955, 0.6099315, 4.0)]\n",
      "Road Instance 2, angle: 14, 25: [(47.999979999999994, 24.96965, 0.6099315, 4.0), (47.99998, 49.96965, 0.6099315, 4.0), (52.34118444167326, 74.5898438253052, 0.6099315, 4.0), (51.032785535599665, 99.55558219416955, 0.6099315, 4.0), (43.723492917531246, 123.46320109324543, 0.6099315, 4.0)]\n",
      "Road Instance 3, angle: 12, 25: [(47.999979999999994, 24.96965, 0.6099315, 4.0), (47.99998, 49.96965, 0.6099315, 4.0), (52.34118444167326, 74.5898438253052, 0.6099315, 4.0), (51.032785535599665, 99.55558219416955, 0.6099315, 4.0), (43.723492917531246, 123.46320109324543, 0.6099315, 4.0), (31.60325241137282, 145.32869377173031, 0.6099315, 4.0)]\n",
      "Road Instance 4, angle: -8, 25: [(47.999979999999994, 24.96965, 0.6099315, 4.0), (47.99998, 49.96965, 0.6099315, 4.0), (52.34118444167326, 74.5898438253052, 0.6099315, 4.0), (51.032785535599665, 99.55558219416955, 0.6099315, 4.0), (43.723492917531246, 123.46320109324543, 0.6099315, 4.0), (31.60325241137282, 145.32869377173031, 0.6099315, 4.0), (22.644053672740313, 168.66820443416037, 0.6099315, 4.0)]\n",
      "Road Instance 5, angle: -17, 25: [(47.999979999999994, 24.96965, 0.6099315, 4.0), (47.99998, 49.96965, 0.6099315, 4.0), (52.34118444167326, 74.5898438253052, 0.6099315, 4.0), (51.032785535599665, 99.55558219416955, 0.6099315, 4.0), (43.723492917531246, 123.46320109324543, 0.6099315, 4.0), (31.60325241137282, 145.32869377173031, 0.6099315, 4.0), (22.644053672740313, 168.66820443416037, 0.6099315, 4.0), (21.335654766666718, 193.63394280302472, 0.6099315, 4.0)]\n",
      "finished road generation\n",
      "IndividualToScenario: Function is zigzag_mapping/zigzag_mapping\n",
      "Segment lengths are None\n",
      "Started Road Generation\n",
      "Road Instance 0, angle: -9, 25: [(47.999979999999994, 24.96965, 0.6099315, 4.0), (47.99998, 49.96965, 0.6099315, 4.0), (52.34118444167326, 74.5898438253052, 0.6099315, 4.0)]\n",
      "Road Instance 1, angle: 14, 25: [(47.999979999999994, 24.96965, 0.6099315, 4.0), (47.99998, 49.96965, 0.6099315, 4.0), (52.34118444167326, 74.5898438253052, 0.6099315, 4.0), (51.032785535599665, 99.55558219416955, 0.6099315, 4.0)]\n",
      "Road Instance 2, angle: 14, 25: [(47.999979999999994, 24.96965, 0.6099315, 4.0), (47.99998, 49.96965, 0.6099315, 4.0), (52.34118444167326, 74.5898438253052, 0.6099315, 4.0), (51.032785535599665, 99.55558219416955, 0.6099315, 4.0), (43.723492917531246, 123.46320109324543, 0.6099315, 4.0)]\n",
      "Road Instance 3, angle: -7, 25: [(47.999979999999994, 24.96965, 0.6099315, 4.0), (47.99998, 49.96965, 0.6099315, 4.0), (52.34118444167326, 74.5898438253052, 0.6099315, 4.0), (51.032785535599665, 99.55558219416955, 0.6099315, 4.0), (43.723492917531246, 123.46320109324543, 0.6099315, 4.0), (39.38228847585799, 148.08339491855062, 0.6099315, 4.0)]\n",
      "Road Instance 4, angle: -8, 25: [(47.999979999999994, 24.96965, 0.6099315, 4.0), (47.99998, 49.96965, 0.6099315, 4.0), (52.34118444167326, 74.5898438253052, 0.6099315, 4.0), (51.032785535599665, 99.55558219416955, 0.6099315, 4.0), (43.723492917531246, 123.46320109324543, 0.6099315, 4.0), (39.38228847585799, 148.08339491855062, 0.6099315, 4.0), (38.509801058295466, 173.06816559402802, 0.6099315, 4.0)]\n",
      "Road Instance 5, angle: 9, 25: [(47.999979999999994, 24.96965, 0.6099315, 4.0), (47.99998, 49.96965, 0.6099315, 4.0), (52.34118444167326, 74.5898438253052, 0.6099315, 4.0), (51.032785535599665, 99.55558219416955, 0.6099315, 4.0), (43.723492917531246, 123.46320109324543, 0.6099315, 4.0), (39.38228847585799, 148.08339491855062, 0.6099315, 4.0), (38.509801058295466, 173.06816559402802, 0.6099315, 4.0), (33.739576173881844, 197.60884518021962, 0.6099315, 4.0)]\n",
      "finished road generation\n",
      "IndividualToScenario: Function is zigzag_mapping/zigzag_mapping\n",
      "Segment lengths are None\n",
      "Started Road Generation\n",
      "Road Instance 0, angle: -9, 25: [(47.999979999999994, 24.96965, 0.6099315, 4.0), (47.99998, 49.96965, 0.6099315, 4.0), (52.34118444167326, 74.5898438253052, 0.6099315, 4.0)]\n",
      "Road Instance 1, angle: 14, 25: [(47.999979999999994, 24.96965, 0.6099315, 4.0), (47.99998, 49.96965, 0.6099315, 4.0), (52.34118444167326, 74.5898438253052, 0.6099315, 4.0), (51.032785535599665, 99.55558219416955, 0.6099315, 4.0)]\n",
      "Road Instance 2, angle: 14, 25: [(47.999979999999994, 24.96965, 0.6099315, 4.0), (47.99998, 49.96965, 0.6099315, 4.0), (52.34118444167326, 74.5898438253052, 0.6099315, 4.0), (51.032785535599665, 99.55558219416955, 0.6099315, 4.0), (43.723492917531246, 123.46320109324543, 0.6099315, 4.0)]\n",
      "Road Instance 3, angle: 12, 25: [(47.999979999999994, 24.96965, 0.6099315, 4.0), (47.99998, 49.96965, 0.6099315, 4.0), (52.34118444167326, 74.5898438253052, 0.6099315, 4.0), (51.032785535599665, 99.55558219416955, 0.6099315, 4.0), (43.723492917531246, 123.46320109324543, 0.6099315, 4.0), (31.60325241137282, 145.32869377173031, 0.6099315, 4.0)]\n",
      "Road Instance 4, angle: -8, 25: [(47.999979999999994, 24.96965, 0.6099315, 4.0), (47.99998, 49.96965, 0.6099315, 4.0), (52.34118444167326, 74.5898438253052, 0.6099315, 4.0), (51.032785535599665, 99.55558219416955, 0.6099315, 4.0), (43.723492917531246, 123.46320109324543, 0.6099315, 4.0), (31.60325241137282, 145.32869377173031, 0.6099315, 4.0), (22.644053672740313, 168.66820443416037, 0.6099315, 4.0)]\n",
      "Road Instance 5, angle: -17, 25: [(47.999979999999994, 24.96965, 0.6099315, 4.0), (47.99998, 49.96965, 0.6099315, 4.0), (52.34118444167326, 74.5898438253052, 0.6099315, 4.0), (51.032785535599665, 99.55558219416955, 0.6099315, 4.0), (43.723492917531246, 123.46320109324543, 0.6099315, 4.0), (31.60325241137282, 145.32869377173031, 0.6099315, 4.0), (22.644053672740313, 168.66820443416037, 0.6099315, 4.0), (21.335654766666718, 193.63394280302472, 0.6099315, 4.0)]\n",
      "finished road generation\n",
      "IndividualToScenario: Function is zigzag_mapping/zigzag_mapping\n",
      "Segment lengths are None\n",
      "Started Road Generation\n",
      "Road Instance 0, angle: -9, 25: [(47.999979999999994, 24.96965, 0.6099315, 4.0), (47.99998, 49.96965, 0.6099315, 4.0), (52.34118444167326, 74.5898438253052, 0.6099315, 4.0)]\n",
      "Road Instance 1, angle: 14, 25: [(47.999979999999994, 24.96965, 0.6099315, 4.0), (47.99998, 49.96965, 0.6099315, 4.0), (52.34118444167326, 74.5898438253052, 0.6099315, 4.0), (51.032785535599665, 99.55558219416955, 0.6099315, 4.0)]\n",
      "Road Instance 2, angle: 15, 25: [(47.999979999999994, 24.96965, 0.6099315, 4.0), (47.99998, 49.96965, 0.6099315, 4.0), (52.34118444167326, 74.5898438253052, 0.6099315, 4.0), (51.032785535599665, 99.55558219416955, 0.6099315, 4.0), (43.30736067622598, 123.33199510154839, 0.6099315, 4.0)]\n",
      "Road Instance 3, angle: 12, 25: [(47.999979999999994, 24.96965, 0.6099315, 4.0), (47.99998, 49.96965, 0.6099315, 4.0), (52.34118444167326, 74.5898438253052, 0.6099315, 4.0), (51.032785535599665, 99.55558219416955, 0.6099315, 4.0), (43.30736067622598, 123.33199510154839, 0.6099315, 4.0), (30.807360676225986, 144.98263019615936, 0.6099315, 4.0)]\n",
      "Road Instance 4, angle: -8, 25: [(47.999979999999994, 24.96965, 0.6099315, 4.0), (47.99998, 49.96965, 0.6099315, 4.0), (52.34118444167326, 74.5898438253052, 0.6099315, 4.0), (51.032785535599665, 99.55558219416955, 0.6099315, 4.0), (43.30736067622598, 123.33199510154839, 0.6099315, 4.0), (30.807360676225986, 144.98263019615936, 0.6099315, 4.0), (21.84816193759348, 168.32214085858942, 0.6099315, 4.0)]\n",
      "Road Instance 5, angle: -15, 25: [(47.999979999999994, 24.96965, 0.6099315, 4.0), (47.99998, 49.96965, 0.6099315, 4.0), (52.34118444167326, 74.5898438253052, 0.6099315, 4.0), (51.032785535599665, 99.55558219416955, 0.6099315, 4.0), (43.30736067622598, 123.33199510154839, 0.6099315, 4.0), (30.807360676225986, 144.98263019615936, 0.6099315, 4.0), (21.84816193759348, 168.32214085858942, 0.6099315, 4.0), (19.669268368902024, 193.22700831088306, 0.6099315, 4.0)]\n",
      "finished road generation\n",
      "IndividualToScenario: Function is zigzag_mapping/zigzag_mapping\n",
      "Segment lengths are None\n",
      "Started Road Generation\n",
      "Road Instance 0, angle: -9, 25: [(47.999979999999994, 24.96965, 0.6099315, 4.0), (47.99998, 49.96965, 0.6099315, 4.0), (52.34118444167326, 74.5898438253052, 0.6099315, 4.0)]\n",
      "Road Instance 1, angle: 14, 25: [(47.999979999999994, 24.96965, 0.6099315, 4.0), (47.99998, 49.96965, 0.6099315, 4.0), (52.34118444167326, 74.5898438253052, 0.6099315, 4.0), (51.032785535599665, 99.55558219416955, 0.6099315, 4.0)]\n",
      "Road Instance 2, angle: 15, 25: [(47.999979999999994, 24.96965, 0.6099315, 4.0), (47.99998, 49.96965, 0.6099315, 4.0), (52.34118444167326, 74.5898438253052, 0.6099315, 4.0), (51.032785535599665, 99.55558219416955, 0.6099315, 4.0), (43.30736067622598, 123.33199510154839, 0.6099315, 4.0)]\n",
      "Road Instance 3, angle: -7, 25: [(47.999979999999994, 24.96965, 0.6099315, 4.0), (47.99998, 49.96965, 0.6099315, 4.0), (52.34118444167326, 74.5898438253052, 0.6099315, 4.0), (51.032785535599665, 99.55558219416955, 0.6099315, 4.0), (43.30736067622598, 123.33199510154839, 0.6099315, 4.0), (38.53713579181236, 147.87267468774, 0.6099315, 4.0)]\n",
      "Road Instance 4, angle: -8, 25: [(47.999979999999994, 24.96965, 0.6099315, 4.0), (47.99998, 49.96965, 0.6099315, 4.0), (52.34118444167326, 74.5898438253052, 0.6099315, 4.0), (51.032785535599665, 99.55558219416955, 0.6099315, 4.0), (43.30736067622598, 123.33199510154839, 0.6099315, 4.0), (38.53713579181236, 147.87267468774, 0.6099315, 4.0), (37.22873688573876, 172.83841305660434, 0.6099315, 4.0)]\n",
      "Road Instance 5, angle: 9, 25: [(47.999979999999994, 24.96965, 0.6099315, 4.0), (47.99998, 49.96965, 0.6099315, 4.0), (52.34118444167326, 74.5898438253052, 0.6099315, 4.0), (51.032785535599665, 99.55558219416955, 0.6099315, 4.0), (43.30736067622598, 123.33199510154839, 0.6099315, 4.0), (38.53713579181236, 147.87267468774, 0.6099315, 4.0), (37.22873688573876, 172.83841305660434, 0.6099315, 4.0), (32.03094461529478, 197.29210307494947, 0.6099315, 4.0)]\n",
      "finished road generation\n",
      "IndividualToScenario: Function is zigzag_mapping/zigzag_mapping\n",
      "Segment lengths are None\n",
      "Started Road Generation\n",
      "Road Instance 0, angle: -9, 25: [(47.999979999999994, 24.96965, 0.6099315, 4.0), (47.99998, 49.96965, 0.6099315, 4.0), (52.34118444167326, 74.5898438253052, 0.6099315, 4.0)]\n",
      "Road Instance 1, angle: 14, 25: [(47.999979999999994, 24.96965, 0.6099315, 4.0), (47.99998, 49.96965, 0.6099315, 4.0), (52.34118444167326, 74.5898438253052, 0.6099315, 4.0), (51.032785535599665, 99.55558219416955, 0.6099315, 4.0)]\n",
      "Road Instance 2, angle: 14, 25: [(47.999979999999994, 24.96965, 0.6099315, 4.0), (47.99998, 49.96965, 0.6099315, 4.0), (52.34118444167326, 74.5898438253052, 0.6099315, 4.0), (51.032785535599665, 99.55558219416955, 0.6099315, 4.0), (43.723492917531246, 123.46320109324543, 0.6099315, 4.0)]\n",
      "Road Instance 3, angle: -7, 25: [(47.999979999999994, 24.96965, 0.6099315, 4.0), (47.99998, 49.96965, 0.6099315, 4.0), (52.34118444167326, 74.5898438253052, 0.6099315, 4.0), (51.032785535599665, 99.55558219416955, 0.6099315, 4.0), (43.723492917531246, 123.46320109324543, 0.6099315, 4.0), (39.38228847585799, 148.08339491855062, 0.6099315, 4.0)]\n",
      "Road Instance 4, angle: -8, 25: [(47.999979999999994, 24.96965, 0.6099315, 4.0), (47.99998, 49.96965, 0.6099315, 4.0), (52.34118444167326, 74.5898438253052, 0.6099315, 4.0), (51.032785535599665, 99.55558219416955, 0.6099315, 4.0), (43.723492917531246, 123.46320109324543, 0.6099315, 4.0), (39.38228847585799, 148.08339491855062, 0.6099315, 4.0), (38.509801058295466, 173.06816559402802, 0.6099315, 4.0)]\n",
      "Road Instance 5, angle: 9, 25: [(47.999979999999994, 24.96965, 0.6099315, 4.0), (47.99998, 49.96965, 0.6099315, 4.0), (52.34118444167326, 74.5898438253052, 0.6099315, 4.0), (51.032785535599665, 99.55558219416955, 0.6099315, 4.0), (43.723492917531246, 123.46320109324543, 0.6099315, 4.0), (39.38228847585799, 148.08339491855062, 0.6099315, 4.0), (38.509801058295466, 173.06816559402802, 0.6099315, 4.0), (33.739576173881844, 197.60884518021962, 0.6099315, 4.0)]\n",
      "finished road generation\n",
      "IndividualToScenario: Function is zigzag_mapping/zigzag_mapping\n",
      "----- Finished Perturbation-Controller set up -----\n",
      "INFO:SDSandBoxSimulator:Reset the scenario\n"
     ]
    },
    {
     "name": "stderr",
     "output_type": "stream",
     "text": [
      "2024-01-18 11:03:32,968 INFO     Reset the scenario\n"
     ]
    },
    {
     "name": "stdout",
     "output_type": "stream",
     "text": [
      "fps 18.59\n",
      "fps 19.73\n",
      "fps 19.72\n",
      "fps 19.73\n",
      "fps 19.74\n",
      "SDSandBox: Finished scenario\n",
      "fps 19.74\n",
      "INFO:SDSandBoxSimulator:Reset the scenario\n"
     ]
    },
    {
     "name": "stderr",
     "output_type": "stream",
     "text": [
      "2024-01-18 11:04:04,025 INFO     Reset the scenario\n"
     ]
    },
    {
     "name": "stdout",
     "output_type": "stream",
     "text": [
      "fps 19.74\n",
      "Exception: [Errno 54] Connection reset by peer\n",
      "CRITICAL:DonkeySimMsgHandler:DonkeySimMsgHandler: +++++ Warning: Donkey Sim Aborted +++++\n"
     ]
    },
    {
     "name": "stderr",
     "output_type": "stream",
     "text": [
      "2024-01-18 11:04:12,115 CRITICAL DonkeySimMsgHandler: +++++ Warning: Donkey Sim Aborted +++++\n"
     ]
    },
    {
     "name": "stdout",
     "output_type": "stream",
     "text": [
      "INFO:DonkeySimMsgHandler:DonkeySimMsgHandler: +++++ Warning: Donkey Sim Message Stoped +++++\n"
     ]
    },
    {
     "name": "stderr",
     "output_type": "stream",
     "text": [
      "2024-01-18 11:04:12,121 INFO     DonkeySimMsgHandler: +++++ Warning: Donkey Sim Message Stoped +++++\n"
     ]
    },
    {
     "name": "stdout",
     "output_type": "stream",
     "text": [
      "fps 19.71\n",
      "fps 19.70\n",
      "fps 19.72\n",
      "fps 19.72\n",
      "SDSandBox: Finished scenario\n",
      "fps 19.71\n",
      "INFO:SDSandBoxSimulator:Reset the scenario\n"
     ]
    },
    {
     "name": "stderr",
     "output_type": "stream",
     "text": [
      "2024-01-18 11:04:34,807 INFO     Reset the scenario\n"
     ]
    },
    {
     "name": "stdout",
     "output_type": "stream",
     "text": [
      "fps 19.73\n",
      "fps 19.71\n",
      "fps 19.72\n",
      "fps 19.72\n",
      "fps 19.74\n",
      "fps 19.71\n",
      "SDSandBox: Finished scenario\n",
      "fps 19.71\n",
      "INFO:SDSandBoxSimulator:Reset the scenario\n"
     ]
    },
    {
     "name": "stderr",
     "output_type": "stream",
     "text": [
      "2024-01-18 11:05:11,497 INFO     Reset the scenario\n"
     ]
    },
    {
     "name": "stdout",
     "output_type": "stream",
     "text": [
      "fps 19.72\n",
      "fps 19.72\n",
      "fps 19.72\n",
      "fps 19.69\n",
      "fps 19.71\n",
      "fps 19.72\n",
      "fps 19.70\n",
      "SDSandBox: Finished scenario\n",
      "INFO:SDSandBoxSimulator:Reset the scenario\n"
     ]
    },
    {
     "name": "stderr",
     "output_type": "stream",
     "text": [
      "2024-01-18 11:05:48,385 INFO     Reset the scenario\n"
     ]
    },
    {
     "name": "stdout",
     "output_type": "stream",
     "text": [
      "fps 19.67\n",
      "fps 19.68\n",
      "fps 19.75\n",
      "fps 19.72\n",
      "fps 19.71\n",
      "fps 19.70\n",
      "SDSandBox: Finished scenario\n",
      "fps 19.67\n",
      "INFO:SDSandBoxSimulator:Reset the scenario\n"
     ]
    },
    {
     "name": "stderr",
     "output_type": "stream",
     "text": [
      "2024-01-18 11:06:20,189 INFO     Reset the scenario\n"
     ]
    },
    {
     "name": "stdout",
     "output_type": "stream",
     "text": [
      "fps 19.71\n",
      "fps 19.71\n",
      "fps 19.72\n",
      "fps 19.17\n",
      "fps 19.69\n",
      "fps 19.31\n",
      "SDSandBox: Finished scenario\n",
      "fps 19.71\n",
      "INFO:DonkeySimMsgHandler:DonkeySimMsgHandler: +++++ Warning: Donkey Sim Disconnected +++++\n"
     ]
    },
    {
     "name": "stderr",
     "output_type": "stream",
     "text": [
      "2024-01-18 11:06:57,836 INFO     DonkeySimMsgHandler: +++++ Warning: Donkey Sim Disconnected +++++\n"
     ]
    },
    {
     "name": "stdout",
     "output_type": "stream",
     "text": [
      "INFO:DonkeyProcess:Closing donkey sim subprocess\n"
     ]
    },
    {
     "name": "stderr",
     "output_type": "stream",
     "text": [
      "2024-01-18 11:06:57,838 INFO     Closing donkey sim subprocess\n",
      "2024-01-18 11:06:57,938 INFO     Running evaluation number 11\n"
     ]
    },
    {
     "name": "stdout",
     "output_type": "stream",
     "text": [
      "    10 |       60 |      3 |  0.000000E+00 |             f\n",
      "Using model: generated_dave_v5\n",
      "INFO:DonkeyProcess:This is the launch string /Users/hannesleonhard/Documents/BachelorWInfo/Robustness-SDC/PerturbationDrive/./examples/self_driving_sandbox_donkey/sim/donkey-sim.app/Contents/MacOS/Simulator\n"
     ]
    },
    {
     "name": "stderr",
     "output_type": "stream",
     "text": [
      "2024-01-18 11:06:58,132 INFO     This is the launch string /Users/hannesleonhard/Documents/BachelorWInfo/Robustness-SDC/PerturbationDrive/./examples/self_driving_sandbox_donkey/sim/donkey-sim.app/Contents/MacOS/Simulator\n"
     ]
    },
    {
     "name": "stdout",
     "output_type": "stream",
     "text": [
      "[UnityMemory] Configuration Parameters - Can be set up in boot.config\n",
      "    \"memorysetup-bucket-allocator-granularity=16\"\n",
      "    \"memorysetup-bucket-allocator-bucket-count=8\"\n",
      "    \"memorysetup-bucket-allocator-block-size=4194304\"\n",
      "    \"memorysetup-bucket-allocator-block-count=1\"\n",
      "    \"memorysetup-main-allocator-block-size=16777216\"\n",
      "    \"memorysetup-thread-allocator-block-size=16777216\"\n",
      "    \"memorysetup-gfx-main-allocator-block-size=16777216\"\n",
      "    \"memorysetup-gfx-thread-allocator-block-size=16777216\"\n",
      "    \"memorysetup-cache-allocator-block-size=4194304\"\n",
      "    \"memorysetup-typetree-allocator-block-size=2097152\"\n",
      "    \"memorysetup-profiler-bucket-allocator-granularity=16\"\n",
      "    \"memorysetup-profiler-bucket-allocator-bucket-count=8\"\n",
      "    \"memorysetup-profiler-bucket-allocator-block-size=4194304\"\n",
      "    \"memorysetup-profiler-bucket-allocator-block-count=1\"\n",
      "    \"memorysetup-profiler-allocator-block-size=16777216\"\n",
      "    \"memorysetup-profiler-editor-allocator-block-size=1048576\"\n",
      "    \"memorysetup-temp-allocator-size-main=4194304\"\n",
      "    \"memorysetup-job-temp-allocator-block-size=2097152\"\n",
      "    \"memorysetup-job-temp-allocator-block-size-background=1048576\"\n",
      "    \"memorysetup-job-temp-allocator-reduction-small-platforms=262144\"\n",
      "    \"memorysetup-allocator-temp-initial-block-size-main=262144\"\n",
      "    \"memorysetup-allocator-temp-initial-block-size-worker=262144\"\n",
      "    \"memorysetup-temp-allocator-size-background-worker=32768\"\n",
      "    \"memorysetup-temp-allocator-size-job-worker=262144\"\n",
      "    \"memorysetup-temp-allocator-size-preload-manager=262144\"\n",
      "    \"memorysetup-temp-allocator-size-nav-mesh-worker=65536\"\n",
      "    \"memorysetup-temp-allocator-size-audio-worker=65536\"\n",
      "    \"memorysetup-temp-allocator-size-cloud-worker=32768\"\n",
      "    \"memorysetup-temp-allocator-size-gfx=262144\"\n",
      "INFO:DonkeyProcess:donkey subprocess started\n"
     ]
    },
    {
     "name": "stderr",
     "output_type": "stream",
     "text": [
      "2024-01-18 11:07:18,145 INFO     donkey subprocess started\n"
     ]
    },
    {
     "name": "stdout",
     "output_type": "stream",
     "text": [
      "INFO:SDSandBoxSimulator:Waiting for inital obs\n"
     ]
    },
    {
     "name": "stderr",
     "output_type": "stream",
     "text": [
      "2024-01-18 11:07:18,171 INFO     Waiting for inital obs\n"
     ]
    },
    {
     "name": "stdout",
     "output_type": "stream",
     "text": [
      "INFO:SDSandBoxSimulator:Waiting for inital obs\n"
     ]
    },
    {
     "name": "stderr",
     "output_type": "stream",
     "text": [
      "2024-01-18 11:07:18,213 INFO     Waiting for inital obs\n"
     ]
    },
    {
     "name": "stdout",
     "output_type": "stream",
     "text": [
      "INFO:SDSandBoxSimulator:Waiting for inital obs\n"
     ]
    },
    {
     "name": "stderr",
     "output_type": "stream",
     "text": [
      "2024-01-18 11:07:18,255 INFO     Waiting for inital obs\n"
     ]
    },
    {
     "name": "stdout",
     "output_type": "stream",
     "text": [
      "INFO:SDSandBoxSimulator:Waiting for inital obs\n"
     ]
    },
    {
     "name": "stderr",
     "output_type": "stream",
     "text": [
      "2024-01-18 11:07:18,296 INFO     Waiting for inital obs\n"
     ]
    },
    {
     "name": "stdout",
     "output_type": "stream",
     "text": [
      "INFO:SDSandBoxSimulator:Waiting for inital obs\n"
     ]
    },
    {
     "name": "stderr",
     "output_type": "stream",
     "text": [
      "2024-01-18 11:07:18,338 INFO     Waiting for inital obs\n"
     ]
    },
    {
     "name": "stdout",
     "output_type": "stream",
     "text": [
      "INFO:SDSandBoxSimulator:Waiting for inital obs\n"
     ]
    },
    {
     "name": "stderr",
     "output_type": "stream",
     "text": [
      "2024-01-18 11:07:18,379 INFO     Waiting for inital obs\n"
     ]
    },
    {
     "name": "stdout",
     "output_type": "stream",
     "text": [
      "INFO:SDSandBoxSimulator:Waiting for inital obs\n"
     ]
    },
    {
     "name": "stderr",
     "output_type": "stream",
     "text": [
      "2024-01-18 11:07:18,421 INFO     Waiting for inital obs\n"
     ]
    },
    {
     "name": "stdout",
     "output_type": "stream",
     "text": [
      "INFO:SDSandBoxSimulator:Waiting for inital obs\n"
     ]
    },
    {
     "name": "stderr",
     "output_type": "stream",
     "text": [
      "2024-01-18 11:07:18,469 INFO     Waiting for inital obs\n"
     ]
    },
    {
     "name": "stdout",
     "output_type": "stream",
     "text": [
      "INFO:DonkeySimMsgHandler:DonkeySimMsgHandler: ----- Car Created With Data {'msg_type': 'car_loaded'} -----\n"
     ]
    },
    {
     "name": "stderr",
     "output_type": "stream",
     "text": [
      "2024-01-18 11:07:18,495 INFO     DonkeySimMsgHandler: ----- Car Created With Data {'msg_type': 'car_loaded'} -----\n"
     ]
    },
    {
     "name": "stdout",
     "output_type": "stream",
     "text": [
      "INFO:SDSandBoxSimulator:Waiting for inital obs\n"
     ]
    },
    {
     "name": "stderr",
     "output_type": "stream",
     "text": [
      "2024-01-18 11:07:18,511 INFO     Waiting for inital obs\n"
     ]
    },
    {
     "name": "stdout",
     "output_type": "stream",
     "text": [
      "Segment lengths are None\n",
      "Started Road Generation\n",
      "Road Instance 0, angle: -9, 25: [(47.999979999999994, 24.96965, 0.6099315, 4.0), (47.99998, 49.96965, 0.6099315, 4.0), (52.34118444167326, 74.5898438253052, 0.6099315, 4.0)]\n",
      "Road Instance 1, angle: 14, 25: [(47.999979999999994, 24.96965, 0.6099315, 4.0), (47.99998, 49.96965, 0.6099315, 4.0), (52.34118444167326, 74.5898438253052, 0.6099315, 4.0), (51.032785535599665, 99.55558219416955, 0.6099315, 4.0)]\n",
      "Road Instance 2, angle: 14, 25: [(47.999979999999994, 24.96965, 0.6099315, 4.0), (47.99998, 49.96965, 0.6099315, 4.0), (52.34118444167326, 74.5898438253052, 0.6099315, 4.0), (51.032785535599665, 99.55558219416955, 0.6099315, 4.0), (43.723492917531246, 123.46320109324543, 0.6099315, 4.0)]\n",
      "Road Instance 3, angle: 12, 25: [(47.999979999999994, 24.96965, 0.6099315, 4.0), (47.99998, 49.96965, 0.6099315, 4.0), (52.34118444167326, 74.5898438253052, 0.6099315, 4.0), (51.032785535599665, 99.55558219416955, 0.6099315, 4.0), (43.723492917531246, 123.46320109324543, 0.6099315, 4.0), (31.60325241137282, 145.32869377173031, 0.6099315, 4.0)]\n",
      "Road Instance 4, angle: -8, 25: [(47.999979999999994, 24.96965, 0.6099315, 4.0), (47.99998, 49.96965, 0.6099315, 4.0), (52.34118444167326, 74.5898438253052, 0.6099315, 4.0), (51.032785535599665, 99.55558219416955, 0.6099315, 4.0), (43.723492917531246, 123.46320109324543, 0.6099315, 4.0), (31.60325241137282, 145.32869377173031, 0.6099315, 4.0), (22.644053672740313, 168.66820443416037, 0.6099315, 4.0)]\n",
      "Road Instance 5, angle: -17, 25: [(47.999979999999994, 24.96965, 0.6099315, 4.0), (47.99998, 49.96965, 0.6099315, 4.0), (52.34118444167326, 74.5898438253052, 0.6099315, 4.0), (51.032785535599665, 99.55558219416955, 0.6099315, 4.0), (43.723492917531246, 123.46320109324543, 0.6099315, 4.0), (31.60325241137282, 145.32869377173031, 0.6099315, 4.0), (22.644053672740313, 168.66820443416037, 0.6099315, 4.0), (21.335654766666718, 193.63394280302472, 0.6099315, 4.0)]\n",
      "finished road generation\n",
      "IndividualToScenario: Function is zigzag_mapping/zigzag_mapping\n",
      "Segment lengths are None\n",
      "Started Road Generation\n",
      "Road Instance 0, angle: -9, 25: [(47.999979999999994, 24.96965, 0.6099315, 4.0), (47.99998, 49.96965, 0.6099315, 4.0), (52.34118444167326, 74.5898438253052, 0.6099315, 4.0)]\n",
      "Road Instance 1, angle: 14, 25: [(47.999979999999994, 24.96965, 0.6099315, 4.0), (47.99998, 49.96965, 0.6099315, 4.0), (52.34118444167326, 74.5898438253052, 0.6099315, 4.0), (51.032785535599665, 99.55558219416955, 0.6099315, 4.0)]\n",
      "Road Instance 2, angle: 14, 25: [(47.999979999999994, 24.96965, 0.6099315, 4.0), (47.99998, 49.96965, 0.6099315, 4.0), (52.34118444167326, 74.5898438253052, 0.6099315, 4.0), (51.032785535599665, 99.55558219416955, 0.6099315, 4.0), (43.723492917531246, 123.46320109324543, 0.6099315, 4.0)]\n",
      "Road Instance 3, angle: -7, 25: [(47.999979999999994, 24.96965, 0.6099315, 4.0), (47.99998, 49.96965, 0.6099315, 4.0), (52.34118444167326, 74.5898438253052, 0.6099315, 4.0), (51.032785535599665, 99.55558219416955, 0.6099315, 4.0), (43.723492917531246, 123.46320109324543, 0.6099315, 4.0), (39.38228847585799, 148.08339491855062, 0.6099315, 4.0)]\n",
      "Road Instance 4, angle: -8, 25: [(47.999979999999994, 24.96965, 0.6099315, 4.0), (47.99998, 49.96965, 0.6099315, 4.0), (52.34118444167326, 74.5898438253052, 0.6099315, 4.0), (51.032785535599665, 99.55558219416955, 0.6099315, 4.0), (43.723492917531246, 123.46320109324543, 0.6099315, 4.0), (39.38228847585799, 148.08339491855062, 0.6099315, 4.0), (38.509801058295466, 173.06816559402802, 0.6099315, 4.0)]\n",
      "Road Instance 5, angle: 9, 25: [(47.999979999999994, 24.96965, 0.6099315, 4.0), (47.99998, 49.96965, 0.6099315, 4.0), (52.34118444167326, 74.5898438253052, 0.6099315, 4.0), (51.032785535599665, 99.55558219416955, 0.6099315, 4.0), (43.723492917531246, 123.46320109324543, 0.6099315, 4.0), (39.38228847585799, 148.08339491855062, 0.6099315, 4.0), (38.509801058295466, 173.06816559402802, 0.6099315, 4.0), (33.739576173881844, 197.60884518021962, 0.6099315, 4.0)]\n",
      "finished road generation\n",
      "IndividualToScenario: Function is zigzag_mapping/zigzag_mapping\n",
      "Segment lengths are None\n",
      "Started Road Generation\n",
      "Road Instance 0, angle: -9, 25: [(47.999979999999994, 24.96965, 0.6099315, 4.0), (47.99998, 49.96965, 0.6099315, 4.0), (52.34118444167326, 74.5898438253052, 0.6099315, 4.0)]\n",
      "Road Instance 1, angle: 14, 25: [(47.999979999999994, 24.96965, 0.6099315, 4.0), (47.99998, 49.96965, 0.6099315, 4.0), (52.34118444167326, 74.5898438253052, 0.6099315, 4.0), (51.032785535599665, 99.55558219416955, 0.6099315, 4.0)]\n",
      "Road Instance 2, angle: 14, 25: [(47.999979999999994, 24.96965, 0.6099315, 4.0), (47.99998, 49.96965, 0.6099315, 4.0), (52.34118444167326, 74.5898438253052, 0.6099315, 4.0), (51.032785535599665, 99.55558219416955, 0.6099315, 4.0), (43.723492917531246, 123.46320109324543, 0.6099315, 4.0)]\n",
      "Road Instance 3, angle: 12, 25: [(47.999979999999994, 24.96965, 0.6099315, 4.0), (47.99998, 49.96965, 0.6099315, 4.0), (52.34118444167326, 74.5898438253052, 0.6099315, 4.0), (51.032785535599665, 99.55558219416955, 0.6099315, 4.0), (43.723492917531246, 123.46320109324543, 0.6099315, 4.0), (31.60325241137282, 145.32869377173031, 0.6099315, 4.0)]\n",
      "Road Instance 4, angle: -8, 25: [(47.999979999999994, 24.96965, 0.6099315, 4.0), (47.99998, 49.96965, 0.6099315, 4.0), (52.34118444167326, 74.5898438253052, 0.6099315, 4.0), (51.032785535599665, 99.55558219416955, 0.6099315, 4.0), (43.723492917531246, 123.46320109324543, 0.6099315, 4.0), (31.60325241137282, 145.32869377173031, 0.6099315, 4.0), (22.644053672740313, 168.66820443416037, 0.6099315, 4.0)]\n",
      "Road Instance 5, angle: -17, 25: [(47.999979999999994, 24.96965, 0.6099315, 4.0), (47.99998, 49.96965, 0.6099315, 4.0), (52.34118444167326, 74.5898438253052, 0.6099315, 4.0), (51.032785535599665, 99.55558219416955, 0.6099315, 4.0), (43.723492917531246, 123.46320109324543, 0.6099315, 4.0), (31.60325241137282, 145.32869377173031, 0.6099315, 4.0), (22.644053672740313, 168.66820443416037, 0.6099315, 4.0), (21.335654766666718, 193.63394280302472, 0.6099315, 4.0)]\n",
      "finished road generation\n",
      "IndividualToScenario: Function is dynamic_object_overlay/dynamic_object_overlay\n",
      "Segment lengths are None\n",
      "Started Road Generation\n",
      "Road Instance 0, angle: -9, 25: [(47.999979999999994, 24.96965, 0.6099315, 4.0), (47.99998, 49.96965, 0.6099315, 4.0), (52.34118444167326, 74.5898438253052, 0.6099315, 4.0)]\n",
      "Road Instance 1, angle: 14, 25: [(47.999979999999994, 24.96965, 0.6099315, 4.0), (47.99998, 49.96965, 0.6099315, 4.0), (52.34118444167326, 74.5898438253052, 0.6099315, 4.0), (51.032785535599665, 99.55558219416955, 0.6099315, 4.0)]\n",
      "Road Instance 2, angle: 14, 25: [(47.999979999999994, 24.96965, 0.6099315, 4.0), (47.99998, 49.96965, 0.6099315, 4.0), (52.34118444167326, 74.5898438253052, 0.6099315, 4.0), (51.032785535599665, 99.55558219416955, 0.6099315, 4.0), (43.723492917531246, 123.46320109324543, 0.6099315, 4.0)]\n",
      "Road Instance 3, angle: 12, 25: [(47.999979999999994, 24.96965, 0.6099315, 4.0), (47.99998, 49.96965, 0.6099315, 4.0), (52.34118444167326, 74.5898438253052, 0.6099315, 4.0), (51.032785535599665, 99.55558219416955, 0.6099315, 4.0), (43.723492917531246, 123.46320109324543, 0.6099315, 4.0), (31.60325241137282, 145.32869377173031, 0.6099315, 4.0)]\n",
      "Road Instance 4, angle: -8, 25: [(47.999979999999994, 24.96965, 0.6099315, 4.0), (47.99998, 49.96965, 0.6099315, 4.0), (52.34118444167326, 74.5898438253052, 0.6099315, 4.0), (51.032785535599665, 99.55558219416955, 0.6099315, 4.0), (43.723492917531246, 123.46320109324543, 0.6099315, 4.0), (31.60325241137282, 145.32869377173031, 0.6099315, 4.0), (22.644053672740313, 168.66820443416037, 0.6099315, 4.0)]\n",
      "Road Instance 5, angle: -17, 25: [(47.999979999999994, 24.96965, 0.6099315, 4.0), (47.99998, 49.96965, 0.6099315, 4.0), (52.34118444167326, 74.5898438253052, 0.6099315, 4.0), (51.032785535599665, 99.55558219416955, 0.6099315, 4.0), (43.723492917531246, 123.46320109324543, 0.6099315, 4.0), (31.60325241137282, 145.32869377173031, 0.6099315, 4.0), (22.644053672740313, 168.66820443416037, 0.6099315, 4.0), (21.335654766666718, 193.63394280302472, 0.6099315, 4.0)]\n",
      "finished road generation\n",
      "IndividualToScenario: Function is zigzag_mapping/zigzag_mapping\n",
      "Segment lengths are None\n",
      "Started Road Generation\n",
      "Road Instance 0, angle: -9, 25: [(47.999979999999994, 24.96965, 0.6099315, 4.0), (47.99998, 49.96965, 0.6099315, 4.0), (52.34118444167326, 74.5898438253052, 0.6099315, 4.0)]\n",
      "Road Instance 1, angle: 14, 25: [(47.999979999999994, 24.96965, 0.6099315, 4.0), (47.99998, 49.96965, 0.6099315, 4.0), (52.34118444167326, 74.5898438253052, 0.6099315, 4.0), (51.032785535599665, 99.55558219416955, 0.6099315, 4.0)]\n",
      "Road Instance 2, angle: 14, 25: [(47.999979999999994, 24.96965, 0.6099315, 4.0), (47.99998, 49.96965, 0.6099315, 4.0), (52.34118444167326, 74.5898438253052, 0.6099315, 4.0), (51.032785535599665, 99.55558219416955, 0.6099315, 4.0), (43.723492917531246, 123.46320109324543, 0.6099315, 4.0)]\n",
      "Road Instance 3, angle: 12, 25: [(47.999979999999994, 24.96965, 0.6099315, 4.0), (47.99998, 49.96965, 0.6099315, 4.0), (52.34118444167326, 74.5898438253052, 0.6099315, 4.0), (51.032785535599665, 99.55558219416955, 0.6099315, 4.0), (43.723492917531246, 123.46320109324543, 0.6099315, 4.0), (31.60325241137282, 145.32869377173031, 0.6099315, 4.0)]\n",
      "Road Instance 4, angle: -8, 25: [(47.999979999999994, 24.96965, 0.6099315, 4.0), (47.99998, 49.96965, 0.6099315, 4.0), (52.34118444167326, 74.5898438253052, 0.6099315, 4.0), (51.032785535599665, 99.55558219416955, 0.6099315, 4.0), (43.723492917531246, 123.46320109324543, 0.6099315, 4.0), (31.60325241137282, 145.32869377173031, 0.6099315, 4.0), (22.644053672740313, 168.66820443416037, 0.6099315, 4.0)]\n",
      "Road Instance 5, angle: -17, 25: [(47.999979999999994, 24.96965, 0.6099315, 4.0), (47.99998, 49.96965, 0.6099315, 4.0), (52.34118444167326, 74.5898438253052, 0.6099315, 4.0), (51.032785535599665, 99.55558219416955, 0.6099315, 4.0), (43.723492917531246, 123.46320109324543, 0.6099315, 4.0), (31.60325241137282, 145.32869377173031, 0.6099315, 4.0), (22.644053672740313, 168.66820443416037, 0.6099315, 4.0), (21.335654766666718, 193.63394280302472, 0.6099315, 4.0)]\n",
      "finished road generation\n",
      "IndividualToScenario: Function is zigzag_mapping/zigzag_mapping\n",
      "Segment lengths are None\n",
      "Started Road Generation\n",
      "Road Instance 0, angle: -9, 25: [(47.999979999999994, 24.96965, 0.6099315, 4.0), (47.99998, 49.96965, 0.6099315, 4.0), (52.34118444167326, 74.5898438253052, 0.6099315, 4.0)]\n",
      "Road Instance 1, angle: 14, 25: [(47.999979999999994, 24.96965, 0.6099315, 4.0), (47.99998, 49.96965, 0.6099315, 4.0), (52.34118444167326, 74.5898438253052, 0.6099315, 4.0), (51.032785535599665, 99.55558219416955, 0.6099315, 4.0)]\n",
      "Road Instance 2, angle: 14, 25: [(47.999979999999994, 24.96965, 0.6099315, 4.0), (47.99998, 49.96965, 0.6099315, 4.0), (52.34118444167326, 74.5898438253052, 0.6099315, 4.0), (51.032785535599665, 99.55558219416955, 0.6099315, 4.0), (43.723492917531246, 123.46320109324543, 0.6099315, 4.0)]\n",
      "Road Instance 3, angle: 12, 25: [(47.999979999999994, 24.96965, 0.6099315, 4.0), (47.99998, 49.96965, 0.6099315, 4.0), (52.34118444167326, 74.5898438253052, 0.6099315, 4.0), (51.032785535599665, 99.55558219416955, 0.6099315, 4.0), (43.723492917531246, 123.46320109324543, 0.6099315, 4.0), (31.60325241137282, 145.32869377173031, 0.6099315, 4.0)]\n",
      "Road Instance 4, angle: -8, 25: [(47.999979999999994, 24.96965, 0.6099315, 4.0), (47.99998, 49.96965, 0.6099315, 4.0), (52.34118444167326, 74.5898438253052, 0.6099315, 4.0), (51.032785535599665, 99.55558219416955, 0.6099315, 4.0), (43.723492917531246, 123.46320109324543, 0.6099315, 4.0), (31.60325241137282, 145.32869377173031, 0.6099315, 4.0), (22.644053672740313, 168.66820443416037, 0.6099315, 4.0)]\n",
      "Road Instance 5, angle: -17, 25: [(47.999979999999994, 24.96965, 0.6099315, 4.0), (47.99998, 49.96965, 0.6099315, 4.0), (52.34118444167326, 74.5898438253052, 0.6099315, 4.0), (51.032785535599665, 99.55558219416955, 0.6099315, 4.0), (43.723492917531246, 123.46320109324543, 0.6099315, 4.0), (31.60325241137282, 145.32869377173031, 0.6099315, 4.0), (22.644053672740313, 168.66820443416037, 0.6099315, 4.0), (21.335654766666718, 193.63394280302472, 0.6099315, 4.0)]\n",
      "finished road generation\n",
      "IndividualToScenario: Function is dynamic_object_overlay/dynamic_object_overlay\n",
      "----- Finished Perturbation-Controller set up -----\n",
      "INFO:SDSandBoxSimulator:Reset the scenario\n"
     ]
    },
    {
     "name": "stderr",
     "output_type": "stream",
     "text": [
      "2024-01-18 11:07:20,378 INFO     Reset the scenario\n"
     ]
    },
    {
     "name": "stdout",
     "output_type": "stream",
     "text": [
      "fps 18.64\n",
      "fps 19.73\n",
      "fps 19.71\n",
      "fps 19.73\n",
      "fps 19.74\n",
      "fps 19.71\n",
      "SDSandBox: Finished scenario\n",
      "INFO:SDSandBoxSimulator:Reset the scenario\n"
     ]
    },
    {
     "name": "stderr",
     "output_type": "stream",
     "text": [
      "2024-01-18 11:07:51,815 INFO     Reset the scenario\n"
     ]
    },
    {
     "name": "stdout",
     "output_type": "stream",
     "text": [
      "fps 19.71\n",
      "Exception: [Errno 54] Connection reset by peer\n",
      "CRITICAL:DonkeySimMsgHandler:DonkeySimMsgHandler: +++++ Warning: Donkey Sim Aborted +++++\n"
     ]
    },
    {
     "name": "stderr",
     "output_type": "stream",
     "text": [
      "2024-01-18 11:07:57,947 CRITICAL DonkeySimMsgHandler: +++++ Warning: Donkey Sim Aborted +++++\n"
     ]
    },
    {
     "name": "stdout",
     "output_type": "stream",
     "text": [
      "INFO:DonkeySimMsgHandler:DonkeySimMsgHandler: +++++ Warning: Donkey Sim Message Stoped +++++\n"
     ]
    },
    {
     "name": "stderr",
     "output_type": "stream",
     "text": [
      "2024-01-18 11:07:57,949 INFO     DonkeySimMsgHandler: +++++ Warning: Donkey Sim Message Stoped +++++\n"
     ]
    },
    {
     "name": "stdout",
     "output_type": "stream",
     "text": [
      "fps 19.74\n",
      "fps 19.72\n",
      "fps 19.71\n",
      "fps 19.70\n",
      "fps 19.71\n",
      "SDSandBox: Finished scenario\n",
      "fps 19.71\n",
      "INFO:SDSandBoxSimulator:Reset the scenario\n"
     ]
    },
    {
     "name": "stderr",
     "output_type": "stream",
     "text": [
      "2024-01-18 11:08:24,443 INFO     Reset the scenario\n"
     ]
    },
    {
     "name": "stdout",
     "output_type": "stream",
     "text": [
      "fps 19.70\n",
      "fps 19.71\n",
      "fps 19.72\n",
      "fps 19.74\n",
      "fps 19.72\n",
      "fps 19.71\n",
      "SDSandBox: Finished scenario\n",
      "fps 19.72\n",
      "INFO:SDSandBoxSimulator:Reset the scenario\n"
     ]
    },
    {
     "name": "stderr",
     "output_type": "stream",
     "text": [
      "2024-01-18 11:09:00,291 INFO     Reset the scenario\n"
     ]
    },
    {
     "name": "stdout",
     "output_type": "stream",
     "text": [
      "fps 19.71\n",
      "fps 19.25\n",
      "fps 19.67\n",
      "fps 19.71\n",
      "fps 19.49\n",
      "fps 19.73\n",
      "SDSandBox: Finished scenario\n",
      "INFO:SDSandBoxSimulator:Reset the scenario\n"
     ]
    },
    {
     "name": "stderr",
     "output_type": "stream",
     "text": [
      "2024-01-18 11:09:34,586 INFO     Reset the scenario\n"
     ]
    },
    {
     "name": "stdout",
     "output_type": "stream",
     "text": [
      "fps 19.66\n",
      "fps 19.75\n",
      "fps 19.72\n",
      "fps 19.73\n",
      "fps 17.86\n",
      "fps 19.71\n",
      "SDSandBox: Finished scenario\n",
      "INFO:SDSandBoxSimulator:Reset the scenario\n"
     ]
    },
    {
     "name": "stderr",
     "output_type": "stream",
     "text": [
      "2024-01-18 11:10:05,329 INFO     Reset the scenario\n"
     ]
    },
    {
     "name": "stdout",
     "output_type": "stream",
     "text": [
      "fps 19.71\n",
      "fps 19.74\n",
      "fps 19.75\n",
      "fps 19.72\n",
      "fps 19.69\n",
      "fps 19.57\n",
      "SDSandBox: Finished scenario\n",
      "INFO:DonkeySimMsgHandler:DonkeySimMsgHandler: +++++ Warning: Donkey Sim Disconnected +++++\n"
     ]
    },
    {
     "name": "stderr",
     "output_type": "stream",
     "text": [
      "2024-01-18 11:10:36,702 INFO     DonkeySimMsgHandler: +++++ Warning: Donkey Sim Disconnected +++++\n"
     ]
    },
    {
     "name": "stdout",
     "output_type": "stream",
     "text": [
      "INFO:DonkeyProcess:Closing donkey sim subprocess\n"
     ]
    },
    {
     "name": "stderr",
     "output_type": "stream",
     "text": [
      "2024-01-18 11:10:36,707 INFO     Closing donkey sim subprocess\n",
      "2024-01-18 11:10:36,810 INFO     Running evaluation number 12\n"
     ]
    },
    {
     "name": "stdout",
     "output_type": "stream",
     "text": [
      "    11 |       66 |      5 |  0.1094442610 |             f\n",
      "Using model: generated_dave_v5\n",
      "INFO:DonkeyProcess:This is the launch string /Users/hannesleonhard/Documents/BachelorWInfo/Robustness-SDC/PerturbationDrive/./examples/self_driving_sandbox_donkey/sim/donkey-sim.app/Contents/MacOS/Simulator\n"
     ]
    },
    {
     "name": "stderr",
     "output_type": "stream",
     "text": [
      "2024-01-18 11:10:36,978 INFO     This is the launch string /Users/hannesleonhard/Documents/BachelorWInfo/Robustness-SDC/PerturbationDrive/./examples/self_driving_sandbox_donkey/sim/donkey-sim.app/Contents/MacOS/Simulator\n"
     ]
    },
    {
     "name": "stdout",
     "output_type": "stream",
     "text": [
      "[UnityMemory] Configuration Parameters - Can be set up in boot.config\n",
      "    \"memorysetup-bucket-allocator-granularity=16\"\n",
      "    \"memorysetup-bucket-allocator-bucket-count=8\"\n",
      "    \"memorysetup-bucket-allocator-block-size=4194304\"\n",
      "    \"memorysetup-bucket-allocator-block-count=1\"\n",
      "    \"memorysetup-main-allocator-block-size=16777216\"\n",
      "    \"memorysetup-thread-allocator-block-size=16777216\"\n",
      "    \"memorysetup-gfx-main-allocator-block-size=16777216\"\n",
      "    \"memorysetup-gfx-thread-allocator-block-size=16777216\"\n",
      "    \"memorysetup-cache-allocator-block-size=4194304\"\n",
      "    \"memorysetup-typetree-allocator-block-size=2097152\"\n",
      "    \"memorysetup-profiler-bucket-allocator-granularity=16\"\n",
      "    \"memorysetup-profiler-bucket-allocator-bucket-count=8\"\n",
      "    \"memorysetup-profiler-bucket-allocator-block-size=4194304\"\n",
      "    \"memorysetup-profiler-bucket-allocator-block-count=1\"\n",
      "    \"memorysetup-profiler-allocator-block-size=16777216\"\n",
      "    \"memorysetup-profiler-editor-allocator-block-size=1048576\"\n",
      "    \"memorysetup-temp-allocator-size-main=4194304\"\n",
      "    \"memorysetup-job-temp-allocator-block-size=2097152\"\n",
      "    \"memorysetup-job-temp-allocator-block-size-background=1048576\"\n",
      "    \"memorysetup-job-temp-allocator-reduction-small-platforms=262144\"\n",
      "    \"memorysetup-allocator-temp-initial-block-size-main=262144\"\n",
      "    \"memorysetup-allocator-temp-initial-block-size-worker=262144\"\n",
      "    \"memorysetup-temp-allocator-size-background-worker=32768\"\n",
      "    \"memorysetup-temp-allocator-size-job-worker=262144\"\n",
      "    \"memorysetup-temp-allocator-size-preload-manager=262144\"\n",
      "    \"memorysetup-temp-allocator-size-nav-mesh-worker=65536\"\n",
      "    \"memorysetup-temp-allocator-size-audio-worker=65536\"\n",
      "    \"memorysetup-temp-allocator-size-cloud-worker=32768\"\n",
      "    \"memorysetup-temp-allocator-size-gfx=262144\"\n",
      "INFO:DonkeyProcess:donkey subprocess started\n"
     ]
    },
    {
     "name": "stderr",
     "output_type": "stream",
     "text": [
      "2024-01-18 11:10:56,993 INFO     donkey subprocess started\n"
     ]
    },
    {
     "name": "stdout",
     "output_type": "stream",
     "text": [
      "INFO:SDSandBoxSimulator:Waiting for inital obs\n"
     ]
    },
    {
     "name": "stderr",
     "output_type": "stream",
     "text": [
      "2024-01-18 11:10:57,057 INFO     Waiting for inital obs\n"
     ]
    },
    {
     "name": "stdout",
     "output_type": "stream",
     "text": [
      "INFO:SDSandBoxSimulator:Waiting for inital obs\n"
     ]
    },
    {
     "name": "stderr",
     "output_type": "stream",
     "text": [
      "2024-01-18 11:10:57,100 INFO     Waiting for inital obs\n"
     ]
    },
    {
     "name": "stdout",
     "output_type": "stream",
     "text": [
      "INFO:SDSandBoxSimulator:Waiting for inital obs\n"
     ]
    },
    {
     "name": "stderr",
     "output_type": "stream",
     "text": [
      "2024-01-18 11:10:57,143 INFO     Waiting for inital obs\n"
     ]
    },
    {
     "name": "stdout",
     "output_type": "stream",
     "text": [
      "INFO:SDSandBoxSimulator:Waiting for inital obs\n"
     ]
    },
    {
     "name": "stderr",
     "output_type": "stream",
     "text": [
      "2024-01-18 11:10:57,185 INFO     Waiting for inital obs\n"
     ]
    },
    {
     "name": "stdout",
     "output_type": "stream",
     "text": [
      "INFO:SDSandBoxSimulator:Waiting for inital obs\n"
     ]
    },
    {
     "name": "stderr",
     "output_type": "stream",
     "text": [
      "2024-01-18 11:10:57,228 INFO     Waiting for inital obs\n"
     ]
    },
    {
     "name": "stdout",
     "output_type": "stream",
     "text": [
      "INFO:SDSandBoxSimulator:Waiting for inital obs\n"
     ]
    },
    {
     "name": "stderr",
     "output_type": "stream",
     "text": [
      "2024-01-18 11:10:57,270 INFO     Waiting for inital obs\n"
     ]
    },
    {
     "name": "stdout",
     "output_type": "stream",
     "text": [
      "INFO:SDSandBoxSimulator:Waiting for inital obs\n"
     ]
    },
    {
     "name": "stderr",
     "output_type": "stream",
     "text": [
      "2024-01-18 11:10:57,311 INFO     Waiting for inital obs\n"
     ]
    },
    {
     "name": "stdout",
     "output_type": "stream",
     "text": [
      "INFO:SDSandBoxSimulator:Waiting for inital obs\n"
     ]
    },
    {
     "name": "stderr",
     "output_type": "stream",
     "text": [
      "2024-01-18 11:10:57,353 INFO     Waiting for inital obs\n"
     ]
    },
    {
     "name": "stdout",
     "output_type": "stream",
     "text": [
      "INFO:DonkeySimMsgHandler:DonkeySimMsgHandler: ----- Car Created With Data {'msg_type': 'car_loaded'} -----\n"
     ]
    },
    {
     "name": "stderr",
     "output_type": "stream",
     "text": [
      "2024-01-18 11:10:57,390 INFO     DonkeySimMsgHandler: ----- Car Created With Data {'msg_type': 'car_loaded'} -----\n"
     ]
    },
    {
     "name": "stdout",
     "output_type": "stream",
     "text": [
      "INFO:SDSandBoxSimulator:Waiting for inital obs\n"
     ]
    },
    {
     "name": "stderr",
     "output_type": "stream",
     "text": [
      "2024-01-18 11:10:57,394 INFO     Waiting for inital obs\n"
     ]
    },
    {
     "name": "stdout",
     "output_type": "stream",
     "text": [
      "INFO:SDSandBoxSimulator:Waiting for inital obs\n"
     ]
    },
    {
     "name": "stderr",
     "output_type": "stream",
     "text": [
      "2024-01-18 11:10:57,436 INFO     Waiting for inital obs\n"
     ]
    },
    {
     "name": "stdout",
     "output_type": "stream",
     "text": [
      "Segment lengths are None\n",
      "Started Road Generation\n",
      "Road Instance 0, angle: -9, 25: [(47.999939999999995, 24.969459999999998, 0.6074528, 4.0), (47.99994, 49.96946, 0.6074528, 4.0), (52.341144441673265, 74.58965382530519, 0.6074528, 4.0)]\n",
      "Road Instance 1, angle: 14, 25: [(47.999939999999995, 24.969459999999998, 0.6074528, 4.0), (47.99994, 49.96946, 0.6074528, 4.0), (52.341144441673265, 74.58965382530519, 0.6074528, 4.0), (51.032745535599666, 99.55539219416954, 0.6074528, 4.0)]\n",
      "Road Instance 2, angle: 14, 25: [(47.999939999999995, 24.969459999999998, 0.6074528, 4.0), (47.99994, 49.96946, 0.6074528, 4.0), (52.341144441673265, 74.58965382530519, 0.6074528, 4.0), (51.032745535599666, 99.55539219416954, 0.6074528, 4.0), (43.72345291753125, 123.46301109324543, 0.6074528, 4.0)]\n",
      "Road Instance 3, angle: 12, 25: [(47.999939999999995, 24.969459999999998, 0.6074528, 4.0), (47.99994, 49.96946, 0.6074528, 4.0), (52.341144441673265, 74.58965382530519, 0.6074528, 4.0), (51.032745535599666, 99.55539219416954, 0.6074528, 4.0), (43.72345291753125, 123.46301109324543, 0.6074528, 4.0), (31.603212411372823, 145.3285037717303, 0.6074528, 4.0)]\n",
      "Road Instance 4, angle: -8, 25: [(47.999939999999995, 24.969459999999998, 0.6074528, 4.0), (47.99994, 49.96946, 0.6074528, 4.0), (52.341144441673265, 74.58965382530519, 0.6074528, 4.0), (51.032745535599666, 99.55539219416954, 0.6074528, 4.0), (43.72345291753125, 123.46301109324543, 0.6074528, 4.0), (31.603212411372823, 145.3285037717303, 0.6074528, 4.0), (22.644013672740314, 168.66801443416034, 0.6074528, 4.0)]\n",
      "Road Instance 5, angle: -17, 25: [(47.999939999999995, 24.969459999999998, 0.6074528, 4.0), (47.99994, 49.96946, 0.6074528, 4.0), (52.341144441673265, 74.58965382530519, 0.6074528, 4.0), (51.032745535599666, 99.55539219416954, 0.6074528, 4.0), (43.72345291753125, 123.46301109324543, 0.6074528, 4.0), (31.603212411372823, 145.3285037717303, 0.6074528, 4.0), (22.644013672740314, 168.66801443416034, 0.6074528, 4.0), (20.90010182913718, 193.60711569065595, 0.6074528, 4.0)]\n",
      "finished road generation\n",
      "IndividualToScenario: Function is zigzag_mapping/zigzag_mapping\n",
      "Segment lengths are None\n",
      "Started Road Generation\n",
      "Road Instance 0, angle: -9, 25: [(47.999939999999995, 24.969459999999998, 0.6074528, 4.0), (47.99994, 49.96946, 0.6074528, 4.0), (52.341144441673265, 74.58965382530519, 0.6074528, 4.0)]\n",
      "Road Instance 1, angle: 14, 25: [(47.999939999999995, 24.969459999999998, 0.6074528, 4.0), (47.99994, 49.96946, 0.6074528, 4.0), (52.341144441673265, 74.58965382530519, 0.6074528, 4.0), (51.032745535599666, 99.55539219416954, 0.6074528, 4.0)]\n",
      "Road Instance 2, angle: 14, 25: [(47.999939999999995, 24.969459999999998, 0.6074528, 4.0), (47.99994, 49.96946, 0.6074528, 4.0), (52.341144441673265, 74.58965382530519, 0.6074528, 4.0), (51.032745535599666, 99.55539219416954, 0.6074528, 4.0), (43.72345291753125, 123.46301109324543, 0.6074528, 4.0)]\n",
      "Road Instance 3, angle: -7, 25: [(47.999939999999995, 24.969459999999998, 0.6074528, 4.0), (47.99994, 49.96946, 0.6074528, 4.0), (52.341144441673265, 74.58965382530519, 0.6074528, 4.0), (51.032745535599666, 99.55539219416954, 0.6074528, 4.0), (43.72345291753125, 123.46301109324543, 0.6074528, 4.0), (39.38224847585799, 148.08320491855062, 0.6074528, 4.0)]\n",
      "Road Instance 4, angle: -8, 25: [(47.999939999999995, 24.969459999999998, 0.6074528, 4.0), (47.99994, 49.96946, 0.6074528, 4.0), (52.341144441673265, 74.58965382530519, 0.6074528, 4.0), (51.032745535599666, 99.55539219416954, 0.6074528, 4.0), (43.72345291753125, 123.46301109324543, 0.6074528, 4.0), (39.38224847585799, 148.08320491855062, 0.6074528, 4.0), (38.50976105829547, 173.067975594028, 0.6074528, 4.0)]\n",
      "Road Instance 5, angle: -18, 25: [(47.999939999999995, 24.969459999999998, 0.6074528, 4.0), (47.99994, 49.96946, 0.6074528, 4.0), (52.341144441673265, 74.58965382530519, 0.6074528, 4.0), (51.032745535599666, 99.55539219416954, 0.6074528, 4.0), (43.72345291753125, 123.46301109324543, 0.6074528, 4.0), (39.38224847585799, 148.08320491855062, 0.6074528, 4.0), (38.50976105829547, 173.067975594028, 0.6074528, 4.0), (45.400694953720446, 197.09951799248597, 0.6074528, 4.0)]\n",
      "finished road generation\n",
      "IndividualToScenario: Function is zigzag_mapping/zigzag_mapping\n",
      "Segment lengths are None\n",
      "Started Road Generation\n",
      "Road Instance 0, angle: -9, 25: [(47.999939999999995, 24.969459999999998, 0.6074528, 4.0), (47.99994, 49.96946, 0.6074528, 4.0), (52.341144441673265, 74.58965382530519, 0.6074528, 4.0)]\n",
      "Road Instance 1, angle: 14, 25: [(47.999939999999995, 24.969459999999998, 0.6074528, 4.0), (47.99994, 49.96946, 0.6074528, 4.0), (52.341144441673265, 74.58965382530519, 0.6074528, 4.0), (51.032745535599666, 99.55539219416954, 0.6074528, 4.0)]\n",
      "Road Instance 2, angle: 14, 25: [(47.999939999999995, 24.969459999999998, 0.6074528, 4.0), (47.99994, 49.96946, 0.6074528, 4.0), (52.341144441673265, 74.58965382530519, 0.6074528, 4.0), (51.032745535599666, 99.55539219416954, 0.6074528, 4.0), (43.72345291753125, 123.46301109324543, 0.6074528, 4.0)]\n",
      "Road Instance 3, angle: 12, 25: [(47.999939999999995, 24.969459999999998, 0.6074528, 4.0), (47.99994, 49.96946, 0.6074528, 4.0), (52.341144441673265, 74.58965382530519, 0.6074528, 4.0), (51.032745535599666, 99.55539219416954, 0.6074528, 4.0), (43.72345291753125, 123.46301109324543, 0.6074528, 4.0), (31.603212411372823, 145.3285037717303, 0.6074528, 4.0)]\n",
      "Road Instance 4, angle: -8, 25: [(47.999939999999995, 24.969459999999998, 0.6074528, 4.0), (47.99994, 49.96946, 0.6074528, 4.0), (52.341144441673265, 74.58965382530519, 0.6074528, 4.0), (51.032745535599666, 99.55539219416954, 0.6074528, 4.0), (43.72345291753125, 123.46301109324543, 0.6074528, 4.0), (31.603212411372823, 145.3285037717303, 0.6074528, 4.0), (22.644013672740314, 168.66801443416034, 0.6074528, 4.0)]\n",
      "Road Instance 5, angle: -17, 25: [(47.999939999999995, 24.969459999999998, 0.6074528, 4.0), (47.99994, 49.96946, 0.6074528, 4.0), (52.341144441673265, 74.58965382530519, 0.6074528, 4.0), (51.032745535599666, 99.55539219416954, 0.6074528, 4.0), (43.72345291753125, 123.46301109324543, 0.6074528, 4.0), (31.603212411372823, 145.3285037717303, 0.6074528, 4.0), (22.644013672740314, 168.66801443416034, 0.6074528, 4.0), (20.90010182913718, 193.60711569065595, 0.6074528, 4.0)]\n",
      "finished road generation\n",
      "IndividualToScenario: Function is dynamic_object_overlay/dynamic_object_overlay\n",
      "Segment lengths are None\n",
      "Started Road Generation\n",
      "Road Instance 0, angle: -9, 25: [(47.999939999999995, 24.969459999999998, 0.6074528, 4.0), (47.99994, 49.96946, 0.6074528, 4.0), (52.341144441673265, 74.58965382530519, 0.6074528, 4.0)]\n",
      "Road Instance 1, angle: 14, 25: [(47.999939999999995, 24.969459999999998, 0.6074528, 4.0), (47.99994, 49.96946, 0.6074528, 4.0), (52.341144441673265, 74.58965382530519, 0.6074528, 4.0), (51.032745535599666, 99.55539219416954, 0.6074528, 4.0)]\n",
      "Road Instance 2, angle: 14, 25: [(47.999939999999995, 24.969459999999998, 0.6074528, 4.0), (47.99994, 49.96946, 0.6074528, 4.0), (52.341144441673265, 74.58965382530519, 0.6074528, 4.0), (51.032745535599666, 99.55539219416954, 0.6074528, 4.0), (43.72345291753125, 123.46301109324543, 0.6074528, 4.0)]\n",
      "Road Instance 3, angle: 11, 25: [(47.999939999999995, 24.969459999999998, 0.6074528, 4.0), (47.99994, 49.96946, 0.6074528, 4.0), (52.341144441673265, 74.58965382530519, 0.6074528, 4.0), (51.032745535599666, 99.55539219416954, 0.6074528, 4.0), (43.72345291753125, 123.46301109324543, 0.6074528, 4.0), (31.986663847883975, 145.5367009147186, 0.6074528, 4.0)]\n",
      "Road Instance 4, angle: -8, 25: [(47.999939999999995, 24.969459999999998, 0.6074528, 4.0), (47.99994, 49.96946, 0.6074528, 4.0), (52.341144441673265, 74.58965382530519, 0.6074528, 4.0), (51.032745535599666, 99.55539219416954, 0.6074528, 4.0), (43.72345291753125, 123.46301109324543, 0.6074528, 4.0), (31.986663847883975, 145.5367009147186, 0.6074528, 4.0), (23.436160264742256, 169.02901643436633, 0.6074528, 4.0)]\n",
      "Road Instance 5, angle: 10, 25: [(47.999939999999995, 24.969459999999998, 0.6074528, 4.0), (47.99994, 49.96946, 0.6074528, 4.0), (52.341144441673265, 74.58965382530519, 0.6074528, 4.0), (51.032745535599666, 99.55539219416954, 0.6074528, 4.0), (43.72345291753125, 123.46301109324543, 0.6074528, 4.0), (31.986663847883975, 145.5367009147186, 0.6074528, 4.0), (23.436160264742256, 169.02901643436633, 0.6074528, 4.0), (10.93616026474226, 190.6796515289773, 0.6074528, 4.0)]\n",
      "finished road generation\n",
      "IndividualToScenario: Function is zigzag_mapping/zigzag_mapping\n",
      "Segment lengths are None\n",
      "Started Road Generation\n",
      "Road Instance 0, angle: -9, 25: [(47.999939999999995, 24.969459999999998, 0.6074528, 4.0), (47.99994, 49.96946, 0.6074528, 4.0), (52.341144441673265, 74.58965382530519, 0.6074528, 4.0)]\n",
      "Road Instance 1, angle: 14, 25: [(47.999939999999995, 24.969459999999998, 0.6074528, 4.0), (47.99994, 49.96946, 0.6074528, 4.0), (52.341144441673265, 74.58965382530519, 0.6074528, 4.0), (51.032745535599666, 99.55539219416954, 0.6074528, 4.0)]\n",
      "Road Instance 2, angle: 14, 25: [(47.999939999999995, 24.969459999999998, 0.6074528, 4.0), (47.99994, 49.96946, 0.6074528, 4.0), (52.341144441673265, 74.58965382530519, 0.6074528, 4.0), (51.032745535599666, 99.55539219416954, 0.6074528, 4.0), (43.72345291753125, 123.46301109324543, 0.6074528, 4.0)]\n",
      "Road Instance 3, angle: -7, 25: [(47.999939999999995, 24.969459999999998, 0.6074528, 4.0), (47.99994, 49.96946, 0.6074528, 4.0), (52.341144441673265, 74.58965382530519, 0.6074528, 4.0), (51.032745535599666, 99.55539219416954, 0.6074528, 4.0), (43.72345291753125, 123.46301109324543, 0.6074528, 4.0), (39.38224847585799, 148.08320491855062, 0.6074528, 4.0)]\n",
      "Road Instance 4, angle: -8, 25: [(47.999939999999995, 24.969459999999998, 0.6074528, 4.0), (47.99994, 49.96946, 0.6074528, 4.0), (52.341144441673265, 74.58965382530519, 0.6074528, 4.0), (51.032745535599666, 99.55539219416954, 0.6074528, 4.0), (43.72345291753125, 123.46301109324543, 0.6074528, 4.0), (39.38224847585799, 148.08320491855062, 0.6074528, 4.0), (38.50976105829547, 173.067975594028, 0.6074528, 4.0)]\n",
      "Road Instance 5, angle: -15, 25: [(47.999939999999995, 24.969459999999998, 0.6074528, 4.0), (47.99994, 49.96946, 0.6074528, 4.0), (52.341144441673265, 74.58965382530519, 0.6074528, 4.0), (51.032745535599666, 99.55539219416954, 0.6074528, 4.0), (43.72345291753125, 123.46301109324543, 0.6074528, 4.0), (39.38224847585799, 148.08320491855062, 0.6074528, 4.0), (38.50976105829547, 173.067975594028, 0.6074528, 4.0), (44.13353741689209, 197.4272272136589, 0.6074528, 4.0)]\n",
      "finished road generation\n",
      "IndividualToScenario: Function is zigzag_mapping/zigzag_mapping\n",
      "Segment lengths are None\n",
      "Started Road Generation\n",
      "Road Instance 0, angle: -9, 25: [(47.999939999999995, 24.969459999999998, 0.6074528, 4.0), (47.99994, 49.96946, 0.6074528, 4.0), (52.341144441673265, 74.58965382530519, 0.6074528, 4.0)]\n",
      "Road Instance 1, angle: 14, 25: [(47.999939999999995, 24.969459999999998, 0.6074528, 4.0), (47.99994, 49.96946, 0.6074528, 4.0), (52.341144441673265, 74.58965382530519, 0.6074528, 4.0), (51.032745535599666, 99.55539219416954, 0.6074528, 4.0)]\n",
      "Road Instance 2, angle: 15, 25: [(47.999939999999995, 24.969459999999998, 0.6074528, 4.0), (47.99994, 49.96946, 0.6074528, 4.0), (52.341144441673265, 74.58965382530519, 0.6074528, 4.0), (51.032745535599666, 99.55539219416954, 0.6074528, 4.0), (43.307320676225984, 123.33180510154838, 0.6074528, 4.0)]\n",
      "Road Instance 3, angle: 12, 25: [(47.999939999999995, 24.969459999999998, 0.6074528, 4.0), (47.99994, 49.96946, 0.6074528, 4.0), (52.341144441673265, 74.58965382530519, 0.6074528, 4.0), (51.032745535599666, 99.55539219416954, 0.6074528, 4.0), (43.307320676225984, 123.33180510154838, 0.6074528, 4.0), (30.807320676225988, 144.98244019615936, 0.6074528, 4.0)]\n",
      "Road Instance 4, angle: -8, 25: [(47.999939999999995, 24.969459999999998, 0.6074528, 4.0), (47.99994, 49.96946, 0.6074528, 4.0), (52.341144441673265, 74.58965382530519, 0.6074528, 4.0), (51.032745535599666, 99.55539219416954, 0.6074528, 4.0), (43.307320676225984, 123.33180510154838, 0.6074528, 4.0), (30.807320676225988, 144.98244019615936, 0.6074528, 4.0), (21.848121937593483, 168.3219508585894, 0.6074528, 4.0)]\n",
      "Road Instance 5, angle: 9, 25: [(47.999939999999995, 24.969459999999998, 0.6074528, 4.0), (47.99994, 49.96946, 0.6074528, 4.0), (52.341144441673265, 74.58965382530519, 0.6074528, 4.0), (51.032745535599666, 99.55539219416954, 0.6074528, 4.0), (43.307320676225984, 123.33180510154838, 0.6074528, 4.0), (30.807320676225988, 144.98244019615936, 0.6074528, 4.0), (21.848121937593483, 168.3219508585894, 0.6074528, 4.0), (9.348121937593486, 189.97258595320037, 0.6074528, 4.0)]\n",
      "finished road generation\n",
      "IndividualToScenario: Function is zigzag_mapping/zigzag_mapping\n",
      "----- Finished Perturbation-Controller set up -----\n",
      "INFO:SDSandBoxSimulator:Reset the scenario\n"
     ]
    },
    {
     "name": "stderr",
     "output_type": "stream",
     "text": [
      "2024-01-18 11:10:59,313 INFO     Reset the scenario\n"
     ]
    },
    {
     "name": "stdout",
     "output_type": "stream",
     "text": [
      "fps 18.58\n",
      "fps 19.73\n",
      "fps 19.74\n",
      "fps 19.72\n",
      "fps 19.72\n",
      "fps 19.74\n",
      "SDSandBox: Finished scenario\n",
      "INFO:SDSandBoxSimulator:Reset the scenario\n"
     ]
    },
    {
     "name": "stderr",
     "output_type": "stream",
     "text": [
      "2024-01-18 11:11:32,205 INFO     Reset the scenario\n"
     ]
    },
    {
     "name": "stdout",
     "output_type": "stream",
     "text": [
      "fps 19.72\n",
      "Exception: [Errno 54] Connection reset by peer\n",
      "CRITICAL:DonkeySimMsgHandler:DonkeySimMsgHandler: +++++ Warning: Donkey Sim Aborted +++++\n"
     ]
    },
    {
     "name": "stderr",
     "output_type": "stream",
     "text": [
      "2024-01-18 11:11:36,746 CRITICAL DonkeySimMsgHandler: +++++ Warning: Donkey Sim Aborted +++++\n"
     ]
    },
    {
     "name": "stdout",
     "output_type": "stream",
     "text": [
      "INFO:DonkeySimMsgHandler:DonkeySimMsgHandler: +++++ Warning: Donkey Sim Message Stoped +++++\n"
     ]
    },
    {
     "name": "stderr",
     "output_type": "stream",
     "text": [
      "2024-01-18 11:11:36,750 INFO     DonkeySimMsgHandler: +++++ Warning: Donkey Sim Message Stoped +++++\n"
     ]
    },
    {
     "name": "stdout",
     "output_type": "stream",
     "text": [
      "fps 19.75\n",
      "fps 19.69\n",
      "fps 19.70\n",
      "fps 19.72\n",
      "fps 19.73\n",
      "fps 19.72\n",
      "fps 19.73\n",
      "SDSandBox: Finished scenario\n",
      "INFO:SDSandBoxSimulator:Reset the scenario\n"
     ]
    },
    {
     "name": "stderr",
     "output_type": "stream",
     "text": [
      "2024-01-18 11:12:12,946 INFO     Reset the scenario\n"
     ]
    },
    {
     "name": "stdout",
     "output_type": "stream",
     "text": [
      "fps 19.65\n",
      "fps 19.76\n",
      "fps 18.19\n",
      "fps 18.48\n",
      "fps 19.75\n",
      "fps 19.73\n",
      "SDSandBox: Finished scenario\n",
      "INFO:SDSandBoxSimulator:Reset the scenario\n"
     ]
    },
    {
     "name": "stderr",
     "output_type": "stream",
     "text": [
      "2024-01-18 11:12:43,740 INFO     Reset the scenario\n"
     ]
    },
    {
     "name": "stdout",
     "output_type": "stream",
     "text": [
      "fps 19.66\n",
      "fps 18.56\n",
      "fps 19.55\n",
      "fps 19.73\n",
      "fps 19.74\n",
      "fps 19.24\n",
      "fps 19.72\n",
      "SDSandBox: Finished scenario\n",
      "INFO:SDSandBoxSimulator:Reset the scenario\n"
     ]
    },
    {
     "name": "stderr",
     "output_type": "stream",
     "text": [
      "2024-01-18 11:13:20,312 INFO     Reset the scenario\n"
     ]
    },
    {
     "name": "stdout",
     "output_type": "stream",
     "text": [
      "fps 19.69\n",
      "fps 19.73\n",
      "fps 19.70\n",
      "fps 19.74\n",
      "fps 19.71\n",
      "fps 19.70\n",
      "SDSandBox: Finished scenario\n",
      "fps 19.66\n",
      "INFO:SDSandBoxSimulator:Reset the scenario\n"
     ]
    },
    {
     "name": "stderr",
     "output_type": "stream",
     "text": [
      "2024-01-18 11:13:51,177 INFO     Reset the scenario\n"
     ]
    },
    {
     "name": "stdout",
     "output_type": "stream",
     "text": [
      "fps 19.76\n",
      "fps 19.71\n",
      "fps 19.70\n",
      "fps 19.72\n",
      "fps 19.70\n",
      "fps 19.71\n",
      "SDSandBox: Finished scenario\n",
      "INFO:DonkeySimMsgHandler:DonkeySimMsgHandler: +++++ Warning: Donkey Sim Disconnected +++++\n"
     ]
    },
    {
     "name": "stderr",
     "output_type": "stream",
     "text": [
      "2024-01-18 11:14:26,009 INFO     DonkeySimMsgHandler: +++++ Warning: Donkey Sim Disconnected +++++\n"
     ]
    },
    {
     "name": "stdout",
     "output_type": "stream",
     "text": [
      "INFO:DonkeyProcess:Closing donkey sim subprocess\n"
     ]
    },
    {
     "name": "stderr",
     "output_type": "stream",
     "text": [
      "2024-01-18 11:14:26,015 INFO     Closing donkey sim subprocess\n",
      "2024-01-18 11:14:26,139 INFO     Running evaluation number 13\n"
     ]
    },
    {
     "name": "stdout",
     "output_type": "stream",
     "text": [
      "    12 |       72 |      2 |  7.8421052632 |         ideal\n",
      "Using model: generated_dave_v5\n",
      "INFO:DonkeyProcess:This is the launch string /Users/hannesleonhard/Documents/BachelorWInfo/Robustness-SDC/PerturbationDrive/./examples/self_driving_sandbox_donkey/sim/donkey-sim.app/Contents/MacOS/Simulator\n"
     ]
    },
    {
     "name": "stderr",
     "output_type": "stream",
     "text": [
      "2024-01-18 11:14:26,308 INFO     This is the launch string /Users/hannesleonhard/Documents/BachelorWInfo/Robustness-SDC/PerturbationDrive/./examples/self_driving_sandbox_donkey/sim/donkey-sim.app/Contents/MacOS/Simulator\n"
     ]
    },
    {
     "name": "stdout",
     "output_type": "stream",
     "text": [
      "[UnityMemory] Configuration Parameters - Can be set up in boot.config\n",
      "    \"memorysetup-bucket-allocator-granularity=16\"\n",
      "    \"memorysetup-bucket-allocator-bucket-count=8\"\n",
      "    \"memorysetup-bucket-allocator-block-size=4194304\"\n",
      "    \"memorysetup-bucket-allocator-block-count=1\"\n",
      "    \"memorysetup-main-allocator-block-size=16777216\"\n",
      "    \"memorysetup-thread-allocator-block-size=16777216\"\n",
      "    \"memorysetup-gfx-main-allocator-block-size=16777216\"\n",
      "    \"memorysetup-gfx-thread-allocator-block-size=16777216\"\n",
      "    \"memorysetup-cache-allocator-block-size=4194304\"\n",
      "    \"memorysetup-typetree-allocator-block-size=2097152\"\n",
      "    \"memorysetup-profiler-bucket-allocator-granularity=16\"\n",
      "    \"memorysetup-profiler-bucket-allocator-bucket-count=8\"\n",
      "    \"memorysetup-profiler-bucket-allocator-block-size=4194304\"\n",
      "    \"memorysetup-profiler-bucket-allocator-block-count=1\"\n",
      "    \"memorysetup-profiler-allocator-block-size=16777216\"\n",
      "    \"memorysetup-profiler-editor-allocator-block-size=1048576\"\n",
      "    \"memorysetup-temp-allocator-size-main=4194304\"\n",
      "    \"memorysetup-job-temp-allocator-block-size=2097152\"\n",
      "    \"memorysetup-job-temp-allocator-block-size-background=1048576\"\n",
      "    \"memorysetup-job-temp-allocator-reduction-small-platforms=262144\"\n",
      "    \"memorysetup-allocator-temp-initial-block-size-main=262144\"\n",
      "    \"memorysetup-allocator-temp-initial-block-size-worker=262144\"\n",
      "    \"memorysetup-temp-allocator-size-background-worker=32768\"\n",
      "    \"memorysetup-temp-allocator-size-job-worker=262144\"\n",
      "    \"memorysetup-temp-allocator-size-preload-manager=262144\"\n",
      "    \"memorysetup-temp-allocator-size-nav-mesh-worker=65536\"\n",
      "    \"memorysetup-temp-allocator-size-audio-worker=65536\"\n",
      "    \"memorysetup-temp-allocator-size-cloud-worker=32768\"\n",
      "    \"memorysetup-temp-allocator-size-gfx=262144\"\n",
      "INFO:DonkeyProcess:donkey subprocess started\n"
     ]
    },
    {
     "name": "stderr",
     "output_type": "stream",
     "text": [
      "2024-01-18 11:14:46,324 INFO     donkey subprocess started\n"
     ]
    },
    {
     "name": "stdout",
     "output_type": "stream",
     "text": [
      "INFO:SDSandBoxSimulator:Waiting for inital obs\n"
     ]
    },
    {
     "name": "stderr",
     "output_type": "stream",
     "text": [
      "2024-01-18 11:14:46,388 INFO     Waiting for inital obs\n"
     ]
    },
    {
     "name": "stdout",
     "output_type": "stream",
     "text": [
      "INFO:SDSandBoxSimulator:Waiting for inital obs\n"
     ]
    },
    {
     "name": "stderr",
     "output_type": "stream",
     "text": [
      "2024-01-18 11:14:46,431 INFO     Waiting for inital obs\n"
     ]
    },
    {
     "name": "stdout",
     "output_type": "stream",
     "text": [
      "INFO:SDSandBoxSimulator:Waiting for inital obs\n"
     ]
    },
    {
     "name": "stderr",
     "output_type": "stream",
     "text": [
      "2024-01-18 11:14:46,473 INFO     Waiting for inital obs\n"
     ]
    },
    {
     "name": "stdout",
     "output_type": "stream",
     "text": [
      "INFO:SDSandBoxSimulator:Waiting for inital obs\n"
     ]
    },
    {
     "name": "stderr",
     "output_type": "stream",
     "text": [
      "2024-01-18 11:14:46,515 INFO     Waiting for inital obs\n"
     ]
    },
    {
     "name": "stdout",
     "output_type": "stream",
     "text": [
      "INFO:SDSandBoxSimulator:Waiting for inital obs\n"
     ]
    },
    {
     "name": "stderr",
     "output_type": "stream",
     "text": [
      "2024-01-18 11:14:46,556 INFO     Waiting for inital obs\n"
     ]
    },
    {
     "name": "stdout",
     "output_type": "stream",
     "text": [
      "INFO:SDSandBoxSimulator:Waiting for inital obs\n"
     ]
    },
    {
     "name": "stderr",
     "output_type": "stream",
     "text": [
      "2024-01-18 11:14:46,598 INFO     Waiting for inital obs\n"
     ]
    },
    {
     "name": "stdout",
     "output_type": "stream",
     "text": [
      "INFO:SDSandBoxSimulator:Waiting for inital obs\n"
     ]
    },
    {
     "name": "stderr",
     "output_type": "stream",
     "text": [
      "2024-01-18 11:14:46,640 INFO     Waiting for inital obs\n"
     ]
    },
    {
     "name": "stdout",
     "output_type": "stream",
     "text": [
      "INFO:SDSandBoxSimulator:Waiting for inital obs\n"
     ]
    },
    {
     "name": "stderr",
     "output_type": "stream",
     "text": [
      "2024-01-18 11:14:46,682 INFO     Waiting for inital obs\n"
     ]
    },
    {
     "name": "stdout",
     "output_type": "stream",
     "text": [
      "INFO:SDSandBoxSimulator:Waiting for inital obs\n"
     ]
    },
    {
     "name": "stderr",
     "output_type": "stream",
     "text": [
      "2024-01-18 11:14:46,723 INFO     Waiting for inital obs\n"
     ]
    },
    {
     "name": "stdout",
     "output_type": "stream",
     "text": [
      "INFO:DonkeySimMsgHandler:DonkeySimMsgHandler: ----- Car Created With Data {'msg_type': 'car_loaded'} -----\n"
     ]
    },
    {
     "name": "stderr",
     "output_type": "stream",
     "text": [
      "2024-01-18 11:14:46,739 INFO     DonkeySimMsgHandler: ----- Car Created With Data {'msg_type': 'car_loaded'} -----\n"
     ]
    },
    {
     "name": "stdout",
     "output_type": "stream",
     "text": [
      "INFO:SDSandBoxSimulator:Waiting for inital obs\n"
     ]
    },
    {
     "name": "stderr",
     "output_type": "stream",
     "text": [
      "2024-01-18 11:14:46,765 INFO     Waiting for inital obs\n"
     ]
    },
    {
     "name": "stdout",
     "output_type": "stream",
     "text": [
      "INFO:SDSandBoxSimulator:Waiting for inital obs\n"
     ]
    },
    {
     "name": "stderr",
     "output_type": "stream",
     "text": [
      "2024-01-18 11:14:46,807 INFO     Waiting for inital obs\n"
     ]
    },
    {
     "name": "stdout",
     "output_type": "stream",
     "text": [
      "Segment lengths are None\n",
      "Started Road Generation\n",
      "Road Instance 0, angle: -9, 25: [(47.999939999999995, 24.969459999999998, 0.6074528, 4.0), (47.99994, 49.96946, 0.6074528, 4.0), (52.341144441673265, 74.58965382530519, 0.6074528, 4.0)]\n",
      "Road Instance 1, angle: 14, 25: [(47.999939999999995, 24.969459999999998, 0.6074528, 4.0), (47.99994, 49.96946, 0.6074528, 4.0), (52.341144441673265, 74.58965382530519, 0.6074528, 4.0), (51.032745535599666, 99.55539219416954, 0.6074528, 4.0)]\n",
      "Road Instance 2, angle: 14, 25: [(47.999939999999995, 24.969459999999998, 0.6074528, 4.0), (47.99994, 49.96946, 0.6074528, 4.0), (52.341144441673265, 74.58965382530519, 0.6074528, 4.0), (51.032745535599666, 99.55539219416954, 0.6074528, 4.0), (43.72345291753125, 123.46301109324543, 0.6074528, 4.0)]\n",
      "Road Instance 3, angle: 12, 25: [(47.999939999999995, 24.969459999999998, 0.6074528, 4.0), (47.99994, 49.96946, 0.6074528, 4.0), (52.341144441673265, 74.58965382530519, 0.6074528, 4.0), (51.032745535599666, 99.55539219416954, 0.6074528, 4.0), (43.72345291753125, 123.46301109324543, 0.6074528, 4.0), (31.603212411372823, 145.3285037717303, 0.6074528, 4.0)]\n",
      "Road Instance 4, angle: -8, 25: [(47.999939999999995, 24.969459999999998, 0.6074528, 4.0), (47.99994, 49.96946, 0.6074528, 4.0), (52.341144441673265, 74.58965382530519, 0.6074528, 4.0), (51.032745535599666, 99.55539219416954, 0.6074528, 4.0), (43.72345291753125, 123.46301109324543, 0.6074528, 4.0), (31.603212411372823, 145.3285037717303, 0.6074528, 4.0), (22.644013672740314, 168.66801443416034, 0.6074528, 4.0)]\n",
      "Road Instance 5, angle: -17, 25: [(47.999939999999995, 24.969459999999998, 0.6074528, 4.0), (47.99994, 49.96946, 0.6074528, 4.0), (52.341144441673265, 74.58965382530519, 0.6074528, 4.0), (51.032745535599666, 99.55539219416954, 0.6074528, 4.0), (43.72345291753125, 123.46301109324543, 0.6074528, 4.0), (31.603212411372823, 145.3285037717303, 0.6074528, 4.0), (22.644013672740314, 168.66801443416034, 0.6074528, 4.0), (20.90010182913718, 193.60711569065595, 0.6074528, 4.0)]\n",
      "finished road generation\n",
      "IndividualToScenario: Function is dynamic_object_overlay/dynamic_object_overlay\n",
      "Segment lengths are None\n",
      "Started Road Generation\n",
      "Road Instance 0, angle: -9, 25: [(47.999939999999995, 24.969459999999998, 0.6074528, 4.0), (47.99994, 49.96946, 0.6074528, 4.0), (52.341144441673265, 74.58965382530519, 0.6074528, 4.0)]\n",
      "Road Instance 1, angle: 14, 25: [(47.999939999999995, 24.969459999999998, 0.6074528, 4.0), (47.99994, 49.96946, 0.6074528, 4.0), (52.341144441673265, 74.58965382530519, 0.6074528, 4.0), (51.032745535599666, 99.55539219416954, 0.6074528, 4.0)]\n",
      "Road Instance 2, angle: 14, 25: [(47.999939999999995, 24.969459999999998, 0.6074528, 4.0), (47.99994, 49.96946, 0.6074528, 4.0), (52.341144441673265, 74.58965382530519, 0.6074528, 4.0), (51.032745535599666, 99.55539219416954, 0.6074528, 4.0), (43.72345291753125, 123.46301109324543, 0.6074528, 4.0)]\n",
      "Road Instance 3, angle: 12, 25: [(47.999939999999995, 24.969459999999998, 0.6074528, 4.0), (47.99994, 49.96946, 0.6074528, 4.0), (52.341144441673265, 74.58965382530519, 0.6074528, 4.0), (51.032745535599666, 99.55539219416954, 0.6074528, 4.0), (43.72345291753125, 123.46301109324543, 0.6074528, 4.0), (31.603212411372823, 145.3285037717303, 0.6074528, 4.0)]\n",
      "Road Instance 4, angle: -8, 25: [(47.999939999999995, 24.969459999999998, 0.6074528, 4.0), (47.99994, 49.96946, 0.6074528, 4.0), (52.341144441673265, 74.58965382530519, 0.6074528, 4.0), (51.032745535599666, 99.55539219416954, 0.6074528, 4.0), (43.72345291753125, 123.46301109324543, 0.6074528, 4.0), (31.603212411372823, 145.3285037717303, 0.6074528, 4.0), (22.644013672740314, 168.66801443416034, 0.6074528, 4.0)]\n",
      "Road Instance 5, angle: -17, 25: [(47.999939999999995, 24.969459999999998, 0.6074528, 4.0), (47.99994, 49.96946, 0.6074528, 4.0), (52.341144441673265, 74.58965382530519, 0.6074528, 4.0), (51.032745535599666, 99.55539219416954, 0.6074528, 4.0), (43.72345291753125, 123.46301109324543, 0.6074528, 4.0), (31.603212411372823, 145.3285037717303, 0.6074528, 4.0), (22.644013672740314, 168.66801443416034, 0.6074528, 4.0), (20.90010182913718, 193.60711569065595, 0.6074528, 4.0)]\n",
      "finished road generation\n",
      "IndividualToScenario: Function is zigzag_mapping/zigzag_mapping\n",
      "Segment lengths are None\n",
      "Started Road Generation\n",
      "Road Instance 0, angle: -9, 25: [(47.999939999999995, 24.969459999999998, 0.6074528, 4.0), (47.99994, 49.96946, 0.6074528, 4.0), (52.341144441673265, 74.58965382530519, 0.6074528, 4.0)]\n",
      "Road Instance 1, angle: 14, 25: [(47.999939999999995, 24.969459999999998, 0.6074528, 4.0), (47.99994, 49.96946, 0.6074528, 4.0), (52.341144441673265, 74.58965382530519, 0.6074528, 4.0), (51.032745535599666, 99.55539219416954, 0.6074528, 4.0)]\n",
      "Road Instance 2, angle: 14, 25: [(47.999939999999995, 24.969459999999998, 0.6074528, 4.0), (47.99994, 49.96946, 0.6074528, 4.0), (52.341144441673265, 74.58965382530519, 0.6074528, 4.0), (51.032745535599666, 99.55539219416954, 0.6074528, 4.0), (43.72345291753125, 123.46301109324543, 0.6074528, 4.0)]\n",
      "Road Instance 3, angle: 11, 25: [(47.999939999999995, 24.969459999999998, 0.6074528, 4.0), (47.99994, 49.96946, 0.6074528, 4.0), (52.341144441673265, 74.58965382530519, 0.6074528, 4.0), (51.032745535599666, 99.55539219416954, 0.6074528, 4.0), (43.72345291753125, 123.46301109324543, 0.6074528, 4.0), (31.986663847883975, 145.5367009147186, 0.6074528, 4.0)]\n",
      "Road Instance 4, angle: -8, 25: [(47.999939999999995, 24.969459999999998, 0.6074528, 4.0), (47.99994, 49.96946, 0.6074528, 4.0), (52.341144441673265, 74.58965382530519, 0.6074528, 4.0), (51.032745535599666, 99.55539219416954, 0.6074528, 4.0), (43.72345291753125, 123.46301109324543, 0.6074528, 4.0), (31.986663847883975, 145.5367009147186, 0.6074528, 4.0), (23.436160264742256, 169.02901643436633, 0.6074528, 4.0)]\n",
      "Road Instance 5, angle: 10, 25: [(47.999939999999995, 24.969459999999998, 0.6074528, 4.0), (47.99994, 49.96946, 0.6074528, 4.0), (52.341144441673265, 74.58965382530519, 0.6074528, 4.0), (51.032745535599666, 99.55539219416954, 0.6074528, 4.0), (43.72345291753125, 123.46301109324543, 0.6074528, 4.0), (31.986663847883975, 145.5367009147186, 0.6074528, 4.0), (23.436160264742256, 169.02901643436633, 0.6074528, 4.0), (10.93616026474226, 190.6796515289773, 0.6074528, 4.0)]\n",
      "finished road generation\n",
      "IndividualToScenario: Function is zigzag_mapping/zigzag_mapping\n",
      "Segment lengths are None\n",
      "Started Road Generation\n",
      "Road Instance 0, angle: -9, 25: [(47.999939999999995, 24.969459999999998, 0.6074528, 4.0), (47.99994, 49.96946, 0.6074528, 4.0), (52.341144441673265, 74.58965382530519, 0.6074528, 4.0)]\n",
      "Road Instance 1, angle: 14, 25: [(47.999939999999995, 24.969459999999998, 0.6074528, 4.0), (47.99994, 49.96946, 0.6074528, 4.0), (52.341144441673265, 74.58965382530519, 0.6074528, 4.0), (51.032745535599666, 99.55539219416954, 0.6074528, 4.0)]\n",
      "Road Instance 2, angle: 14, 25: [(47.999939999999995, 24.969459999999998, 0.6074528, 4.0), (47.99994, 49.96946, 0.6074528, 4.0), (52.341144441673265, 74.58965382530519, 0.6074528, 4.0), (51.032745535599666, 99.55539219416954, 0.6074528, 4.0), (43.72345291753125, 123.46301109324543, 0.6074528, 4.0)]\n",
      "Road Instance 3, angle: 12, 25: [(47.999939999999995, 24.969459999999998, 0.6074528, 4.0), (47.99994, 49.96946, 0.6074528, 4.0), (52.341144441673265, 74.58965382530519, 0.6074528, 4.0), (51.032745535599666, 99.55539219416954, 0.6074528, 4.0), (43.72345291753125, 123.46301109324543, 0.6074528, 4.0), (31.603212411372823, 145.3285037717303, 0.6074528, 4.0)]\n",
      "Road Instance 4, angle: -8, 25: [(47.999939999999995, 24.969459999999998, 0.6074528, 4.0), (47.99994, 49.96946, 0.6074528, 4.0), (52.341144441673265, 74.58965382530519, 0.6074528, 4.0), (51.032745535599666, 99.55539219416954, 0.6074528, 4.0), (43.72345291753125, 123.46301109324543, 0.6074528, 4.0), (31.603212411372823, 145.3285037717303, 0.6074528, 4.0), (22.644013672740314, 168.66801443416034, 0.6074528, 4.0)]\n",
      "Road Instance 5, angle: -17, 25: [(47.999939999999995, 24.969459999999998, 0.6074528, 4.0), (47.99994, 49.96946, 0.6074528, 4.0), (52.341144441673265, 74.58965382530519, 0.6074528, 4.0), (51.032745535599666, 99.55539219416954, 0.6074528, 4.0), (43.72345291753125, 123.46301109324543, 0.6074528, 4.0), (31.603212411372823, 145.3285037717303, 0.6074528, 4.0), (22.644013672740314, 168.66801443416034, 0.6074528, 4.0), (20.90010182913718, 193.60711569065595, 0.6074528, 4.0)]\n",
      "finished road generation\n",
      "IndividualToScenario: Function is dynamic_object_overlay/dynamic_object_overlay\n",
      "Segment lengths are None\n",
      "Started Road Generation\n",
      "Road Instance 0, angle: -9, 25: [(47.999939999999995, 24.969459999999998, 0.6074528, 4.0), (47.99994, 49.96946, 0.6074528, 4.0), (52.341144441673265, 74.58965382530519, 0.6074528, 4.0)]\n",
      "Road Instance 1, angle: 14, 25: [(47.999939999999995, 24.969459999999998, 0.6074528, 4.0), (47.99994, 49.96946, 0.6074528, 4.0), (52.341144441673265, 74.58965382530519, 0.6074528, 4.0), (51.032745535599666, 99.55539219416954, 0.6074528, 4.0)]\n",
      "Road Instance 2, angle: 14, 25: [(47.999939999999995, 24.969459999999998, 0.6074528, 4.0), (47.99994, 49.96946, 0.6074528, 4.0), (52.341144441673265, 74.58965382530519, 0.6074528, 4.0), (51.032745535599666, 99.55539219416954, 0.6074528, 4.0), (43.72345291753125, 123.46301109324543, 0.6074528, 4.0)]\n",
      "Road Instance 3, angle: -7, 25: [(47.999939999999995, 24.969459999999998, 0.6074528, 4.0), (47.99994, 49.96946, 0.6074528, 4.0), (52.341144441673265, 74.58965382530519, 0.6074528, 4.0), (51.032745535599666, 99.55539219416954, 0.6074528, 4.0), (43.72345291753125, 123.46301109324543, 0.6074528, 4.0), (39.38224847585799, 148.08320491855062, 0.6074528, 4.0)]\n",
      "Road Instance 4, angle: -8, 25: [(47.999939999999995, 24.969459999999998, 0.6074528, 4.0), (47.99994, 49.96946, 0.6074528, 4.0), (52.341144441673265, 74.58965382530519, 0.6074528, 4.0), (51.032745535599666, 99.55539219416954, 0.6074528, 4.0), (43.72345291753125, 123.46301109324543, 0.6074528, 4.0), (39.38224847585799, 148.08320491855062, 0.6074528, 4.0), (38.50976105829547, 173.067975594028, 0.6074528, 4.0)]\n",
      "Road Instance 5, angle: -18, 25: [(47.999939999999995, 24.969459999999998, 0.6074528, 4.0), (47.99994, 49.96946, 0.6074528, 4.0), (52.341144441673265, 74.58965382530519, 0.6074528, 4.0), (51.032745535599666, 99.55539219416954, 0.6074528, 4.0), (43.72345291753125, 123.46301109324543, 0.6074528, 4.0), (39.38224847585799, 148.08320491855062, 0.6074528, 4.0), (38.50976105829547, 173.067975594028, 0.6074528, 4.0), (45.400694953720446, 197.09951799248597, 0.6074528, 4.0)]\n",
      "finished road generation\n",
      "IndividualToScenario: Function is zigzag_mapping/zigzag_mapping\n",
      "Segment lengths are None\n",
      "Started Road Generation\n",
      "Road Instance 0, angle: -9, 25: [(47.999939999999995, 24.969459999999998, 0.6074528, 4.0), (47.99994, 49.96946, 0.6074528, 4.0), (52.341144441673265, 74.58965382530519, 0.6074528, 4.0)]\n",
      "Road Instance 1, angle: 14, 25: [(47.999939999999995, 24.969459999999998, 0.6074528, 4.0), (47.99994, 49.96946, 0.6074528, 4.0), (52.341144441673265, 74.58965382530519, 0.6074528, 4.0), (51.032745535599666, 99.55539219416954, 0.6074528, 4.0)]\n",
      "Road Instance 2, angle: 14, 25: [(47.999939999999995, 24.969459999999998, 0.6074528, 4.0), (47.99994, 49.96946, 0.6074528, 4.0), (52.341144441673265, 74.58965382530519, 0.6074528, 4.0), (51.032745535599666, 99.55539219416954, 0.6074528, 4.0), (43.72345291753125, 123.46301109324543, 0.6074528, 4.0)]\n",
      "Road Instance 3, angle: 12, 25: [(47.999939999999995, 24.969459999999998, 0.6074528, 4.0), (47.99994, 49.96946, 0.6074528, 4.0), (52.341144441673265, 74.58965382530519, 0.6074528, 4.0), (51.032745535599666, 99.55539219416954, 0.6074528, 4.0), (43.72345291753125, 123.46301109324543, 0.6074528, 4.0), (31.603212411372823, 145.3285037717303, 0.6074528, 4.0)]\n",
      "Road Instance 4, angle: -8, 25: [(47.999939999999995, 24.969459999999998, 0.6074528, 4.0), (47.99994, 49.96946, 0.6074528, 4.0), (52.341144441673265, 74.58965382530519, 0.6074528, 4.0), (51.032745535599666, 99.55539219416954, 0.6074528, 4.0), (43.72345291753125, 123.46301109324543, 0.6074528, 4.0), (31.603212411372823, 145.3285037717303, 0.6074528, 4.0), (22.644013672740314, 168.66801443416034, 0.6074528, 4.0)]\n",
      "Road Instance 5, angle: -17, 25: [(47.999939999999995, 24.969459999999998, 0.6074528, 4.0), (47.99994, 49.96946, 0.6074528, 4.0), (52.341144441673265, 74.58965382530519, 0.6074528, 4.0), (51.032745535599666, 99.55539219416954, 0.6074528, 4.0), (43.72345291753125, 123.46301109324543, 0.6074528, 4.0), (31.603212411372823, 145.3285037717303, 0.6074528, 4.0), (22.644013672740314, 168.66801443416034, 0.6074528, 4.0), (20.90010182913718, 193.60711569065595, 0.6074528, 4.0)]\n",
      "finished road generation\n",
      "IndividualToScenario: Function is zigzag_mapping/zigzag_mapping\n",
      "----- Finished Perturbation-Controller set up -----\n",
      "INFO:SDSandBoxSimulator:Reset the scenario\n"
     ]
    },
    {
     "name": "stderr",
     "output_type": "stream",
     "text": [
      "2024-01-18 11:14:48,656 INFO     Reset the scenario\n"
     ]
    },
    {
     "name": "stdout",
     "output_type": "stream",
     "text": [
      "fps 18.52\n",
      "fps 19.73\n",
      "fps 19.73\n",
      "fps 19.74\n",
      "fps 19.75\n",
      "fps 19.72\n",
      "SDSandBox: Finished scenario\n",
      "fps 19.68\n",
      "INFO:SDSandBoxSimulator:Reset the scenario\n"
     ]
    },
    {
     "name": "stderr",
     "output_type": "stream",
     "text": [
      "2024-01-18 11:15:22,940 INFO     Reset the scenario\n"
     ]
    },
    {
     "name": "stdout",
     "output_type": "stream",
     "text": [
      "Exception: [Errno 54] Connection reset by peer\n",
      "CRITICAL:DonkeySimMsgHandler:DonkeySimMsgHandler: +++++ Warning: Donkey Sim Aborted +++++\n"
     ]
    },
    {
     "name": "stderr",
     "output_type": "stream",
     "text": [
      "2024-01-18 11:15:26,068 CRITICAL DonkeySimMsgHandler: +++++ Warning: Donkey Sim Aborted +++++\n"
     ]
    },
    {
     "name": "stdout",
     "output_type": "stream",
     "text": [
      "INFO:DonkeySimMsgHandler:DonkeySimMsgHandler: +++++ Warning: Donkey Sim Message Stoped +++++\n"
     ]
    },
    {
     "name": "stderr",
     "output_type": "stream",
     "text": [
      "2024-01-18 11:15:26,070 INFO     DonkeySimMsgHandler: +++++ Warning: Donkey Sim Message Stoped +++++\n"
     ]
    },
    {
     "name": "stdout",
     "output_type": "stream",
     "text": [
      "fps 19.77\n",
      "fps 19.72\n",
      "fps 19.70\n",
      "fps 19.72\n",
      "fps 19.71\n",
      "fps 19.70\n",
      "fps 19.70\n",
      "SDSandBox: Finished scenario\n",
      "INFO:SDSandBoxSimulator:Reset the scenario\n"
     ]
    },
    {
     "name": "stderr",
     "output_type": "stream",
     "text": [
      "2024-01-18 11:16:00,259 INFO     Reset the scenario\n"
     ]
    },
    {
     "name": "stdout",
     "output_type": "stream",
     "text": [
      "fps 19.70\n",
      "fps 19.72\n",
      "fps 19.72\n",
      "fps 19.72\n",
      "fps 19.70\n",
      "fps 19.74\n",
      "SDSandBox: Finished scenario\n",
      "fps 19.71\n",
      "INFO:SDSandBoxSimulator:Reset the scenario\n"
     ]
    },
    {
     "name": "stderr",
     "output_type": "stream",
     "text": [
      "2024-01-18 11:16:33,784 INFO     Reset the scenario\n"
     ]
    },
    {
     "name": "stdout",
     "output_type": "stream",
     "text": [
      "fps 19.74\n",
      "fps 19.71\n",
      "fps 19.69\n",
      "fps 19.71\n",
      "fps 19.70\n",
      "fps 19.72\n",
      "SDSandBox: Finished scenario\n",
      "INFO:SDSandBoxSimulator:Reset the scenario\n"
     ]
    },
    {
     "name": "stderr",
     "output_type": "stream",
     "text": [
      "2024-01-18 11:17:08,155 INFO     Reset the scenario\n"
     ]
    },
    {
     "name": "stdout",
     "output_type": "stream",
     "text": [
      "fps 19.68\n",
      "fps 19.75\n",
      "fps 19.71\n",
      "fps 19.72\n",
      "fps 19.71\n",
      "fps 19.73\n",
      "fps 19.69\n",
      "SDSandBox: Finished scenario\n",
      "fps 19.70\n",
      "INFO:SDSandBoxSimulator:Reset the scenario\n"
     ]
    },
    {
     "name": "stderr",
     "output_type": "stream",
     "text": [
      "2024-01-18 11:17:44,789 INFO     Reset the scenario\n"
     ]
    },
    {
     "name": "stdout",
     "output_type": "stream",
     "text": [
      "fps 19.70\n",
      "fps 19.72\n",
      "fps 19.71\n",
      "fps 19.71\n",
      "fps 19.72\n",
      "SDSandBox: Finished scenario\n",
      "fps 19.68\n",
      "INFO:DonkeySimMsgHandler:DonkeySimMsgHandler: +++++ Warning: Donkey Sim Disconnected +++++\n"
     ]
    },
    {
     "name": "stderr",
     "output_type": "stream",
     "text": [
      "2024-01-18 11:18:15,760 INFO     DonkeySimMsgHandler: +++++ Warning: Donkey Sim Disconnected +++++\n"
     ]
    },
    {
     "name": "stdout",
     "output_type": "stream",
     "text": [
      "INFO:DonkeyProcess:Closing donkey sim subprocess\n"
     ]
    },
    {
     "name": "stderr",
     "output_type": "stream",
     "text": [
      "2024-01-18 11:18:15,762 INFO     Closing donkey sim subprocess\n",
      "2024-01-18 11:18:15,882 INFO     Running evaluation number 14\n"
     ]
    },
    {
     "name": "stdout",
     "output_type": "stream",
     "text": [
      "    13 |       78 |      2 |  0.000000E+00 |             f\n",
      "Using model: generated_dave_v5\n",
      "INFO:DonkeyProcess:This is the launch string /Users/hannesleonhard/Documents/BachelorWInfo/Robustness-SDC/PerturbationDrive/./examples/self_driving_sandbox_donkey/sim/donkey-sim.app/Contents/MacOS/Simulator\n"
     ]
    },
    {
     "name": "stderr",
     "output_type": "stream",
     "text": [
      "2024-01-18 11:18:16,097 INFO     This is the launch string /Users/hannesleonhard/Documents/BachelorWInfo/Robustness-SDC/PerturbationDrive/./examples/self_driving_sandbox_donkey/sim/donkey-sim.app/Contents/MacOS/Simulator\n"
     ]
    },
    {
     "name": "stdout",
     "output_type": "stream",
     "text": [
      "[UnityMemory] Configuration Parameters - Can be set up in boot.config\n",
      "    \"memorysetup-bucket-allocator-granularity=16\"\n",
      "    \"memorysetup-bucket-allocator-bucket-count=8\"\n",
      "    \"memorysetup-bucket-allocator-block-size=4194304\"\n",
      "    \"memorysetup-bucket-allocator-block-count=1\"\n",
      "    \"memorysetup-main-allocator-block-size=16777216\"\n",
      "    \"memorysetup-thread-allocator-block-size=16777216\"\n",
      "    \"memorysetup-gfx-main-allocator-block-size=16777216\"\n",
      "    \"memorysetup-gfx-thread-allocator-block-size=16777216\"\n",
      "    \"memorysetup-cache-allocator-block-size=4194304\"\n",
      "    \"memorysetup-typetree-allocator-block-size=2097152\"\n",
      "    \"memorysetup-profiler-bucket-allocator-granularity=16\"\n",
      "    \"memorysetup-profiler-bucket-allocator-bucket-count=8\"\n",
      "    \"memorysetup-profiler-bucket-allocator-block-size=4194304\"\n",
      "    \"memorysetup-profiler-bucket-allocator-block-count=1\"\n",
      "    \"memorysetup-profiler-allocator-block-size=16777216\"\n",
      "    \"memorysetup-profiler-editor-allocator-block-size=1048576\"\n",
      "    \"memorysetup-temp-allocator-size-main=4194304\"\n",
      "    \"memorysetup-job-temp-allocator-block-size=2097152\"\n",
      "    \"memorysetup-job-temp-allocator-block-size-background=1048576\"\n",
      "    \"memorysetup-job-temp-allocator-reduction-small-platforms=262144\"\n",
      "    \"memorysetup-allocator-temp-initial-block-size-main=262144\"\n",
      "    \"memorysetup-allocator-temp-initial-block-size-worker=262144\"\n",
      "    \"memorysetup-temp-allocator-size-background-worker=32768\"\n",
      "    \"memorysetup-temp-allocator-size-job-worker=262144\"\n",
      "    \"memorysetup-temp-allocator-size-preload-manager=262144\"\n",
      "    \"memorysetup-temp-allocator-size-nav-mesh-worker=65536\"\n",
      "    \"memorysetup-temp-allocator-size-audio-worker=65536\"\n",
      "    \"memorysetup-temp-allocator-size-cloud-worker=32768\"\n",
      "    \"memorysetup-temp-allocator-size-gfx=262144\"\n",
      "INFO:DonkeyProcess:donkey subprocess started\n"
     ]
    },
    {
     "name": "stderr",
     "output_type": "stream",
     "text": [
      "2024-01-18 11:18:36,113 INFO     donkey subprocess started\n"
     ]
    },
    {
     "name": "stdout",
     "output_type": "stream",
     "text": [
      "INFO:SDSandBoxSimulator:Waiting for inital obs\n"
     ]
    },
    {
     "name": "stderr",
     "output_type": "stream",
     "text": [
      "2024-01-18 11:18:36,168 INFO     Waiting for inital obs\n"
     ]
    },
    {
     "name": "stdout",
     "output_type": "stream",
     "text": [
      "INFO:SDSandBoxSimulator:Waiting for inital obs\n"
     ]
    },
    {
     "name": "stderr",
     "output_type": "stream",
     "text": [
      "2024-01-18 11:18:36,211 INFO     Waiting for inital obs\n"
     ]
    },
    {
     "name": "stdout",
     "output_type": "stream",
     "text": [
      "INFO:SDSandBoxSimulator:Waiting for inital obs\n"
     ]
    },
    {
     "name": "stderr",
     "output_type": "stream",
     "text": [
      "2024-01-18 11:18:36,253 INFO     Waiting for inital obs\n"
     ]
    },
    {
     "name": "stdout",
     "output_type": "stream",
     "text": [
      "INFO:SDSandBoxSimulator:Waiting for inital obs\n"
     ]
    },
    {
     "name": "stderr",
     "output_type": "stream",
     "text": [
      "2024-01-18 11:18:36,295 INFO     Waiting for inital obs\n"
     ]
    },
    {
     "name": "stdout",
     "output_type": "stream",
     "text": [
      "INFO:SDSandBoxSimulator:Waiting for inital obs\n"
     ]
    },
    {
     "name": "stderr",
     "output_type": "stream",
     "text": [
      "2024-01-18 11:18:36,336 INFO     Waiting for inital obs\n"
     ]
    },
    {
     "name": "stdout",
     "output_type": "stream",
     "text": [
      "INFO:SDSandBoxSimulator:Waiting for inital obs\n"
     ]
    },
    {
     "name": "stderr",
     "output_type": "stream",
     "text": [
      "2024-01-18 11:18:36,377 INFO     Waiting for inital obs\n"
     ]
    },
    {
     "name": "stdout",
     "output_type": "stream",
     "text": [
      "INFO:SDSandBoxSimulator:Waiting for inital obs\n"
     ]
    },
    {
     "name": "stderr",
     "output_type": "stream",
     "text": [
      "2024-01-18 11:18:36,419 INFO     Waiting for inital obs\n"
     ]
    },
    {
     "name": "stdout",
     "output_type": "stream",
     "text": [
      "INFO:SDSandBoxSimulator:Waiting for inital obs\n"
     ]
    },
    {
     "name": "stderr",
     "output_type": "stream",
     "text": [
      "2024-01-18 11:18:36,462 INFO     Waiting for inital obs\n"
     ]
    },
    {
     "name": "stdout",
     "output_type": "stream",
     "text": [
      "INFO:SDSandBoxSimulator:Waiting for inital obs\n"
     ]
    },
    {
     "name": "stderr",
     "output_type": "stream",
     "text": [
      "2024-01-18 11:18:36,506 INFO     Waiting for inital obs\n"
     ]
    },
    {
     "name": "stdout",
     "output_type": "stream",
     "text": [
      "INFO:DonkeySimMsgHandler:DonkeySimMsgHandler: ----- Car Created With Data {'msg_type': 'car_loaded'} -----\n"
     ]
    },
    {
     "name": "stderr",
     "output_type": "stream",
     "text": [
      "2024-01-18 11:18:36,533 INFO     DonkeySimMsgHandler: ----- Car Created With Data {'msg_type': 'car_loaded'} -----\n"
     ]
    },
    {
     "name": "stdout",
     "output_type": "stream",
     "text": [
      "INFO:SDSandBoxSimulator:Waiting for inital obs\n"
     ]
    },
    {
     "name": "stderr",
     "output_type": "stream",
     "text": [
      "2024-01-18 11:18:36,548 INFO     Waiting for inital obs\n"
     ]
    },
    {
     "name": "stdout",
     "output_type": "stream",
     "text": [
      "INFO:SDSandBoxSimulator:Waiting for inital obs\n"
     ]
    },
    {
     "name": "stderr",
     "output_type": "stream",
     "text": [
      "2024-01-18 11:18:36,589 INFO     Waiting for inital obs\n"
     ]
    },
    {
     "name": "stdout",
     "output_type": "stream",
     "text": [
      "INFO:SDSandBoxSimulator:Waiting for inital obs\n"
     ]
    },
    {
     "name": "stderr",
     "output_type": "stream",
     "text": [
      "2024-01-18 11:18:36,632 INFO     Waiting for inital obs\n"
     ]
    },
    {
     "name": "stdout",
     "output_type": "stream",
     "text": [
      "Segment lengths are None\n",
      "Started Road Generation\n",
      "Road Instance 0, angle: -9, 25: [(47.999739999999996, 24.968609999999998, 0.5945389, 4.0), (47.99974, 49.96861, 0.5945389, 4.0), (52.340944441673265, 74.5888038253052, 0.5945389, 4.0)]\n",
      "Road Instance 1, angle: 14, 25: [(47.999739999999996, 24.968609999999998, 0.5945389, 4.0), (47.99974, 49.96861, 0.5945389, 4.0), (52.340944441673265, 74.5888038253052, 0.5945389, 4.0), (50.59703259807013, 99.52790508180081, 0.5945389, 4.0)]\n",
      "Road Instance 2, angle: 14, 25: [(47.999739999999996, 24.968609999999998, 0.5945389, 4.0), (47.99974, 49.96861, 0.5945389, 4.0), (52.340944441673265, 74.5888038253052, 0.5945389, 4.0), (50.59703259807013, 99.52790508180081, 0.5945389, 4.0), (42.87160773869645, 123.30431798917965, 0.5945389, 4.0)]\n",
      "Road Instance 3, angle: -7, 25: [(47.999739999999996, 24.968609999999998, 0.5945389, 4.0), (47.99974, 49.96861, 0.5945389, 4.0), (52.340944441673265, 74.5888038253052, 0.5945389, 4.0), (50.59703259807013, 99.52790508180081, 0.5945389, 4.0), (42.87160773869645, 123.30431798917965, 0.5945389, 4.0), (38.101382854282825, 147.84499757537125, 0.5945389, 4.0)]\n",
      "Road Instance 4, angle: -8, 25: [(47.999739999999996, 24.968609999999998, 0.5945389, 4.0), (47.99974, 49.96861, 0.5945389, 4.0), (52.340944441673265, 74.5888038253052, 0.5945389, 4.0), (50.59703259807013, 99.52790508180081, 0.5945389, 4.0), (42.87160773869645, 123.30431798917965, 0.5945389, 4.0), (38.101382854282825, 147.84499757537125, 0.5945389, 4.0), (36.792983948209226, 172.8107359442356, 0.5945389, 4.0)]\n",
      "Road Instance 5, angle: -18, 25: [(47.999739999999996, 24.968609999999998, 0.5945389, 4.0), (47.99974, 49.96861, 0.5945389, 4.0), (52.340944441673265, 74.5888038253052, 0.5945389, 4.0), (50.59703259807013, 99.52790508180081, 0.5945389, 4.0), (42.87160773869645, 123.30431798917965, 0.5945389, 4.0), (38.101382854282825, 147.84499757537125, 0.5945389, 4.0), (36.792983948209226, 172.8107359442356, 0.5945389, 4.0), (43.263460075772244, 196.9588816014623, 0.5945389, 4.0)]\n",
      "finished road generation\n",
      "IndividualToScenario: Function is zigzag_mapping/zigzag_mapping\n",
      "Segment lengths are None\n",
      "Started Road Generation\n",
      "Road Instance 0, angle: -9, 25: [(47.999739999999996, 24.968609999999998, 0.5945389, 4.0), (47.99974, 49.96861, 0.5945389, 4.0), (52.340944441673265, 74.5888038253052, 0.5945389, 4.0)]\n",
      "Road Instance 1, angle: 14, 25: [(47.999739999999996, 24.968609999999998, 0.5945389, 4.0), (47.99974, 49.96861, 0.5945389, 4.0), (52.340944441673265, 74.5888038253052, 0.5945389, 4.0), (50.59703259807013, 99.52790508180081, 0.5945389, 4.0)]\n",
      "Road Instance 2, angle: 14, 25: [(47.999739999999996, 24.968609999999998, 0.5945389, 4.0), (47.99974, 49.96861, 0.5945389, 4.0), (52.340944441673265, 74.5888038253052, 0.5945389, 4.0), (50.59703259807013, 99.52790508180081, 0.5945389, 4.0), (42.87160773869645, 123.30431798917965, 0.5945389, 4.0)]\n",
      "Road Instance 3, angle: 12, 25: [(47.999739999999996, 24.968609999999998, 0.5945389, 4.0), (47.99974, 49.96861, 0.5945389, 4.0), (52.340944441673265, 74.5888038253052, 0.5945389, 4.0), (50.59703259807013, 99.52790508180081, 0.5945389, 4.0), (42.87160773869645, 123.30431798917965, 0.5945389, 4.0), (30.37160773869645, 144.95495308379063, 0.5945389, 4.0)]\n",
      "Road Instance 4, angle: -8, 25: [(47.999739999999996, 24.968609999999998, 0.5945389, 4.0), (47.99974, 49.96861, 0.5945389, 4.0), (52.340944441673265, 74.5888038253052, 0.5945389, 4.0), (50.59703259807013, 99.52790508180081, 0.5945389, 4.0), (42.87160773869645, 123.30431798917965, 0.5945389, 4.0), (30.37160773869645, 144.95495308379063, 0.5945389, 4.0), (21.412409000063946, 168.29446374622069, 0.5945389, 4.0)]\n",
      "Road Instance 5, angle: -17, 25: [(47.999739999999996, 24.968609999999998, 0.5945389, 4.0), (47.99974, 49.96861, 0.5945389, 4.0), (52.340944441673265, 74.5888038253052, 0.5945389, 4.0), (50.59703259807013, 99.52790508180081, 0.5945389, 4.0), (42.87160773869645, 123.30431798917965, 0.5945389, 4.0), (30.37160773869645, 144.95495308379063, 0.5945389, 4.0), (21.412409000063946, 168.29446374622069, 0.5945389, 4.0), (20.10401009399035, 193.26020211508504, 0.5945389, 4.0)]\n",
      "finished road generation\n",
      "IndividualToScenario: Function is zigzag_mapping/zigzag_mapping\n",
      "Segment lengths are None\n",
      "Started Road Generation\n",
      "Road Instance 0, angle: -9, 25: [(47.999739999999996, 24.968609999999998, 0.5945389, 4.0), (47.99974, 49.96861, 0.5945389, 4.0), (52.340944441673265, 74.5888038253052, 0.5945389, 4.0)]\n",
      "Road Instance 1, angle: 14, 25: [(47.999739999999996, 24.968609999999998, 0.5945389, 4.0), (47.99974, 49.96861, 0.5945389, 4.0), (52.340944441673265, 74.5888038253052, 0.5945389, 4.0), (50.59703259807013, 99.52790508180081, 0.5945389, 4.0)]\n",
      "Road Instance 2, angle: 14, 25: [(47.999739999999996, 24.968609999999998, 0.5945389, 4.0), (47.99974, 49.96861, 0.5945389, 4.0), (52.340944441673265, 74.5888038253052, 0.5945389, 4.0), (50.59703259807013, 99.52790508180081, 0.5945389, 4.0), (42.87160773869645, 123.30431798917965, 0.5945389, 4.0)]\n",
      "Road Instance 3, angle: -7, 25: [(47.999739999999996, 24.968609999999998, 0.5945389, 4.0), (47.99974, 49.96861, 0.5945389, 4.0), (52.340944441673265, 74.5888038253052, 0.5945389, 4.0), (50.59703259807013, 99.52790508180081, 0.5945389, 4.0), (42.87160773869645, 123.30431798917965, 0.5945389, 4.0), (38.101382854282825, 147.84499757537125, 0.5945389, 4.0)]\n",
      "Road Instance 4, angle: -8, 25: [(47.999739999999996, 24.968609999999998, 0.5945389, 4.0), (47.99974, 49.96861, 0.5945389, 4.0), (52.340944441673265, 74.5888038253052, 0.5945389, 4.0), (50.59703259807013, 99.52790508180081, 0.5945389, 4.0), (42.87160773869645, 123.30431798917965, 0.5945389, 4.0), (38.101382854282825, 147.84499757537125, 0.5945389, 4.0), (36.792983948209226, 172.8107359442356, 0.5945389, 4.0)]\n",
      "Road Instance 5, angle: -18, 25: [(47.999739999999996, 24.968609999999998, 0.5945389, 4.0), (47.99974, 49.96861, 0.5945389, 4.0), (52.340944441673265, 74.5888038253052, 0.5945389, 4.0), (50.59703259807013, 99.52790508180081, 0.5945389, 4.0), (42.87160773869645, 123.30431798917965, 0.5945389, 4.0), (38.101382854282825, 147.84499757537125, 0.5945389, 4.0), (36.792983948209226, 172.8107359442356, 0.5945389, 4.0), (43.263460075772244, 196.9588816014623, 0.5945389, 4.0)]\n",
      "finished road generation\n",
      "IndividualToScenario: Function is zigzag_mapping/zigzag_mapping\n",
      "Segment lengths are None\n",
      "Started Road Generation\n",
      "Road Instance 0, angle: -9, 25: [(47.999739999999996, 24.968609999999998, 0.5945389, 4.0), (47.99974, 49.96861, 0.5945389, 4.0), (52.340944441673265, 74.5888038253052, 0.5945389, 4.0)]\n",
      "Road Instance 1, angle: 14, 25: [(47.999739999999996, 24.968609999999998, 0.5945389, 4.0), (47.99974, 49.96861, 0.5945389, 4.0), (52.340944441673265, 74.5888038253052, 0.5945389, 4.0), (50.59703259807013, 99.52790508180081, 0.5945389, 4.0)]\n",
      "Road Instance 2, angle: 14, 25: [(47.999739999999996, 24.968609999999998, 0.5945389, 4.0), (47.99974, 49.96861, 0.5945389, 4.0), (52.340944441673265, 74.5888038253052, 0.5945389, 4.0), (50.59703259807013, 99.52790508180081, 0.5945389, 4.0), (42.87160773869645, 123.30431798917965, 0.5945389, 4.0)]\n",
      "Road Instance 3, angle: 12, 25: [(47.999739999999996, 24.968609999999998, 0.5945389, 4.0), (47.99974, 49.96861, 0.5945389, 4.0), (52.340944441673265, 74.5888038253052, 0.5945389, 4.0), (50.59703259807013, 99.52790508180081, 0.5945389, 4.0), (42.87160773869645, 123.30431798917965, 0.5945389, 4.0), (30.37160773869645, 144.95495308379063, 0.5945389, 4.0)]\n",
      "Road Instance 4, angle: -8, 25: [(47.999739999999996, 24.968609999999998, 0.5945389, 4.0), (47.99974, 49.96861, 0.5945389, 4.0), (52.340944441673265, 74.5888038253052, 0.5945389, 4.0), (50.59703259807013, 99.52790508180081, 0.5945389, 4.0), (42.87160773869645, 123.30431798917965, 0.5945389, 4.0), (30.37160773869645, 144.95495308379063, 0.5945389, 4.0), (21.412409000063946, 168.29446374622069, 0.5945389, 4.0)]\n",
      "Road Instance 5, angle: -17, 25: [(47.999739999999996, 24.968609999999998, 0.5945389, 4.0), (47.99974, 49.96861, 0.5945389, 4.0), (52.340944441673265, 74.5888038253052, 0.5945389, 4.0), (50.59703259807013, 99.52790508180081, 0.5945389, 4.0), (42.87160773869645, 123.30431798917965, 0.5945389, 4.0), (30.37160773869645, 144.95495308379063, 0.5945389, 4.0), (21.412409000063946, 168.29446374622069, 0.5945389, 4.0), (20.10401009399035, 193.26020211508504, 0.5945389, 4.0)]\n",
      "finished road generation\n",
      "IndividualToScenario: Function is zigzag_mapping/zigzag_mapping\n",
      "Segment lengths are None\n",
      "Started Road Generation\n",
      "Road Instance 0, angle: -9, 25: [(47.999739999999996, 24.968609999999998, 0.5945389, 4.0), (47.99974, 49.96861, 0.5945389, 4.0), (52.340944441673265, 74.5888038253052, 0.5945389, 4.0)]\n",
      "Road Instance 1, angle: 14, 25: [(47.999739999999996, 24.968609999999998, 0.5945389, 4.0), (47.99974, 49.96861, 0.5945389, 4.0), (52.340944441673265, 74.5888038253052, 0.5945389, 4.0), (50.59703259807013, 99.52790508180081, 0.5945389, 4.0)]\n",
      "Road Instance 2, angle: 14, 25: [(47.999739999999996, 24.968609999999998, 0.5945389, 4.0), (47.99974, 49.96861, 0.5945389, 4.0), (52.340944441673265, 74.5888038253052, 0.5945389, 4.0), (50.59703259807013, 99.52790508180081, 0.5945389, 4.0), (42.87160773869645, 123.30431798917965, 0.5945389, 4.0)]\n",
      "Road Instance 3, angle: 11, 25: [(47.999739999999996, 24.968609999999998, 0.5945389, 4.0), (47.99974, 49.96861, 0.5945389, 4.0), (52.340944441673265, 74.5888038253052, 0.5945389, 4.0), (50.59703259807013, 99.52790508180081, 0.5945389, 4.0), (42.87160773869645, 123.30431798917965, 0.5945389, 4.0), (30.751367232538023, 145.16981066766454, 0.5945389, 4.0)]\n",
      "Road Instance 4, angle: -8, 25: [(47.999739999999996, 24.968609999999998, 0.5945389, 4.0), (47.99974, 49.96861, 0.5945389, 4.0), (52.340944441673265, 74.5888038253052, 0.5945389, 4.0), (50.59703259807013, 99.52790508180081, 0.5945389, 4.0), (42.87160773869645, 123.30431798917965, 0.5945389, 4.0), (30.751367232538023, 145.16981066766454, 0.5945389, 4.0), (21.792168493905514, 168.50932133009456, 0.5945389, 4.0)]\n",
      "Road Instance 5, angle: 10, 25: [(47.999739999999996, 24.968609999999998, 0.5945389, 4.0), (47.99974, 49.96861, 0.5945389, 4.0), (52.340944441673265, 74.5888038253052, 0.5945389, 4.0), (50.59703259807013, 99.52790508180081, 0.5945389, 4.0), (42.87160773869645, 123.30431798917965, 0.5945389, 4.0), (30.751367232538023, 145.16981066766454, 0.5945389, 4.0), (21.792168493905514, 168.50932133009456, 0.5945389, 4.0), (8.916216621154158, 189.93850384764738, 0.5945389, 4.0)]\n",
      "finished road generation\n",
      "IndividualToScenario: Function is zigzag_mapping/zigzag_mapping\n",
      "Segment lengths are None\n",
      "Started Road Generation\n",
      "Road Instance 0, angle: -9, 25: [(47.999739999999996, 24.968609999999998, 0.5945389, 4.0), (47.99974, 49.96861, 0.5945389, 4.0), (52.340944441673265, 74.5888038253052, 0.5945389, 4.0)]\n",
      "Road Instance 1, angle: 14, 25: [(47.999739999999996, 24.968609999999998, 0.5945389, 4.0), (47.99974, 49.96861, 0.5945389, 4.0), (52.340944441673265, 74.5888038253052, 0.5945389, 4.0), (50.59703259807013, 99.52790508180081, 0.5945389, 4.0)]\n",
      "Road Instance 2, angle: 14, 25: [(47.999739999999996, 24.968609999999998, 0.5945389, 4.0), (47.99974, 49.96861, 0.5945389, 4.0), (52.340944441673265, 74.5888038253052, 0.5945389, 4.0), (50.59703259807013, 99.52790508180081, 0.5945389, 4.0), (42.87160773869645, 123.30431798917965, 0.5945389, 4.0)]\n",
      "Road Instance 3, angle: -7, 25: [(47.999739999999996, 24.968609999999998, 0.5945389, 4.0), (47.99974, 49.96861, 0.5945389, 4.0), (52.340944441673265, 74.5888038253052, 0.5945389, 4.0), (50.59703259807013, 99.52790508180081, 0.5945389, 4.0), (42.87160773869645, 123.30431798917965, 0.5945389, 4.0), (38.101382854282825, 147.84499757537125, 0.5945389, 4.0)]\n",
      "Road Instance 4, angle: -8, 25: [(47.999739999999996, 24.968609999999998, 0.5945389, 4.0), (47.99974, 49.96861, 0.5945389, 4.0), (52.340944441673265, 74.5888038253052, 0.5945389, 4.0), (50.59703259807013, 99.52790508180081, 0.5945389, 4.0), (42.87160773869645, 123.30431798917965, 0.5945389, 4.0), (38.101382854282825, 147.84499757537125, 0.5945389, 4.0), (36.792983948209226, 172.8107359442356, 0.5945389, 4.0)]\n",
      "Road Instance 5, angle: -18, 25: [(47.999739999999996, 24.968609999999998, 0.5945389, 4.0), (47.99974, 49.96861, 0.5945389, 4.0), (52.340944441673265, 74.5888038253052, 0.5945389, 4.0), (50.59703259807013, 99.52790508180081, 0.5945389, 4.0), (42.87160773869645, 123.30431798917965, 0.5945389, 4.0), (38.101382854282825, 147.84499757537125, 0.5945389, 4.0), (36.792983948209226, 172.8107359442356, 0.5945389, 4.0), (43.263460075772244, 196.9588816014623, 0.5945389, 4.0)]\n",
      "finished road generation\n",
      "IndividualToScenario: Function is zigzag_mapping/zigzag_mapping\n",
      "----- Finished Perturbation-Controller set up -----\n",
      "INFO:SDSandBoxSimulator:Reset the scenario\n"
     ]
    },
    {
     "name": "stderr",
     "output_type": "stream",
     "text": [
      "2024-01-18 11:18:36,724 INFO     Reset the scenario\n"
     ]
    },
    {
     "name": "stdout",
     "output_type": "stream",
     "text": [
      "fps 18.46\n",
      "fps 19.72\n",
      "fps 19.73\n",
      "fps 19.71\n",
      "fps 19.76\n",
      "fps 19.72\n",
      "SDSandBox: Finished scenario\n",
      "INFO:SDSandBoxSimulator:Reset the scenario\n"
     ]
    },
    {
     "name": "stderr",
     "output_type": "stream",
     "text": [
      "2024-01-18 11:19:10,941 INFO     Reset the scenario\n"
     ]
    },
    {
     "name": "stdout",
     "output_type": "stream",
     "text": [
      "fps 19.69\n",
      "Exception: [Errno 54] Connection reset by peer\n",
      "CRITICAL:DonkeySimMsgHandler:DonkeySimMsgHandler: +++++ Warning: Donkey Sim Aborted +++++\n"
     ]
    },
    {
     "name": "stderr",
     "output_type": "stream",
     "text": [
      "2024-01-18 11:19:15,840 CRITICAL DonkeySimMsgHandler: +++++ Warning: Donkey Sim Aborted +++++\n"
     ]
    },
    {
     "name": "stdout",
     "output_type": "stream",
     "text": [
      "INFO:DonkeySimMsgHandler:DonkeySimMsgHandler: +++++ Warning: Donkey Sim Message Stoped +++++\n"
     ]
    },
    {
     "name": "stderr",
     "output_type": "stream",
     "text": [
      "2024-01-18 11:19:15,844 INFO     DonkeySimMsgHandler: +++++ Warning: Donkey Sim Message Stoped +++++\n"
     ]
    },
    {
     "name": "stdout",
     "output_type": "stream",
     "text": [
      "fps 19.75\n",
      "fps 19.73\n",
      "fps 19.71\n",
      "fps 19.70\n",
      "fps 19.71\n",
      "SDSandBox: Finished scenario\n",
      "INFO:SDSandBoxSimulator:Reset the scenario\n"
     ]
    },
    {
     "name": "stderr",
     "output_type": "stream",
     "text": [
      "2024-01-18 11:19:41,254 INFO     Reset the scenario\n"
     ]
    },
    {
     "name": "stdout",
     "output_type": "stream",
     "text": [
      "fps 19.66\n",
      "fps 19.74\n",
      "fps 19.72\n",
      "fps 19.71\n",
      "fps 19.73\n",
      "fps 19.71\n",
      "fps 19.70\n",
      "fps 19.35\n",
      "SDSandBox: Finished scenario\n",
      "INFO:SDSandBoxSimulator:Reset the scenario\n"
     ]
    },
    {
     "name": "stderr",
     "output_type": "stream",
     "text": [
      "2024-01-18 11:20:22,391 INFO     Reset the scenario\n"
     ]
    },
    {
     "name": "stdout",
     "output_type": "stream",
     "text": [
      "fps 17.33\n",
      "fps 19.75\n",
      "fps 19.72\n",
      "fps 19.71\n",
      "fps 19.71\n",
      "fps 19.71\n",
      "SDSandBox: Finished scenario\n",
      "fps 19.72\n",
      "INFO:SDSandBoxSimulator:Reset the scenario\n"
     ]
    },
    {
     "name": "stderr",
     "output_type": "stream",
     "text": [
      "2024-01-18 11:20:56,434 INFO     Reset the scenario\n"
     ]
    },
    {
     "name": "stdout",
     "output_type": "stream",
     "text": [
      "fps 19.71\n",
      "fps 19.69\n",
      "fps 19.70\n",
      "fps 19.72\n",
      "fps 19.70\n",
      "fps 19.74\n",
      "SDSandBox: Finished scenario\n",
      "fps 19.70\n",
      "INFO:SDSandBoxSimulator:Reset the scenario\n"
     ]
    },
    {
     "name": "stderr",
     "output_type": "stream",
     "text": [
      "2024-01-18 11:21:31,391 INFO     Reset the scenario\n"
     ]
    },
    {
     "name": "stdout",
     "output_type": "stream",
     "text": [
      "fps 19.73\n",
      "fps 19.73\n",
      "fps 19.70\n",
      "fps 19.72\n",
      "fps 19.70\n",
      "fps 19.68\n",
      "SDSandBox: Finished scenario\n",
      "INFO:DonkeySimMsgHandler:DonkeySimMsgHandler: +++++ Warning: Donkey Sim Disconnected +++++\n"
     ]
    },
    {
     "name": "stderr",
     "output_type": "stream",
     "text": [
      "2024-01-18 11:22:03,127 INFO     DonkeySimMsgHandler: +++++ Warning: Donkey Sim Disconnected +++++\n"
     ]
    },
    {
     "name": "stdout",
     "output_type": "stream",
     "text": [
      "INFO:DonkeyProcess:Closing donkey sim subprocess\n"
     ]
    },
    {
     "name": "stderr",
     "output_type": "stream",
     "text": [
      "2024-01-18 11:22:03,129 INFO     Closing donkey sim subprocess\n",
      "2024-01-18 11:22:03,231 INFO     Running evaluation number 15\n"
     ]
    },
    {
     "name": "stdout",
     "output_type": "stream",
     "text": [
      "    14 |       84 |      2 |  0.000000E+00 |             f\n",
      "Using model: generated_dave_v5\n",
      "INFO:DonkeyProcess:This is the launch string /Users/hannesleonhard/Documents/BachelorWInfo/Robustness-SDC/PerturbationDrive/./examples/self_driving_sandbox_donkey/sim/donkey-sim.app/Contents/MacOS/Simulator\n"
     ]
    },
    {
     "name": "stderr",
     "output_type": "stream",
     "text": [
      "2024-01-18 11:22:03,401 INFO     This is the launch string /Users/hannesleonhard/Documents/BachelorWInfo/Robustness-SDC/PerturbationDrive/./examples/self_driving_sandbox_donkey/sim/donkey-sim.app/Contents/MacOS/Simulator\n"
     ]
    },
    {
     "name": "stdout",
     "output_type": "stream",
     "text": [
      "[UnityMemory] Configuration Parameters - Can be set up in boot.config\n",
      "    \"memorysetup-bucket-allocator-granularity=16\"\n",
      "    \"memorysetup-bucket-allocator-bucket-count=8\"\n",
      "    \"memorysetup-bucket-allocator-block-size=4194304\"\n",
      "    \"memorysetup-bucket-allocator-block-count=1\"\n",
      "    \"memorysetup-main-allocator-block-size=16777216\"\n",
      "    \"memorysetup-thread-allocator-block-size=16777216\"\n",
      "    \"memorysetup-gfx-main-allocator-block-size=16777216\"\n",
      "    \"memorysetup-gfx-thread-allocator-block-size=16777216\"\n",
      "    \"memorysetup-cache-allocator-block-size=4194304\"\n",
      "    \"memorysetup-typetree-allocator-block-size=2097152\"\n",
      "    \"memorysetup-profiler-bucket-allocator-granularity=16\"\n",
      "    \"memorysetup-profiler-bucket-allocator-bucket-count=8\"\n",
      "    \"memorysetup-profiler-bucket-allocator-block-size=4194304\"\n",
      "    \"memorysetup-profiler-bucket-allocator-block-count=1\"\n",
      "    \"memorysetup-profiler-allocator-block-size=16777216\"\n",
      "    \"memorysetup-profiler-editor-allocator-block-size=1048576\"\n",
      "    \"memorysetup-temp-allocator-size-main=4194304\"\n",
      "    \"memorysetup-job-temp-allocator-block-size=2097152\"\n",
      "    \"memorysetup-job-temp-allocator-block-size-background=1048576\"\n",
      "    \"memorysetup-job-temp-allocator-reduction-small-platforms=262144\"\n",
      "    \"memorysetup-allocator-temp-initial-block-size-main=262144\"\n",
      "    \"memorysetup-allocator-temp-initial-block-size-worker=262144\"\n",
      "    \"memorysetup-temp-allocator-size-background-worker=32768\"\n",
      "    \"memorysetup-temp-allocator-size-job-worker=262144\"\n",
      "    \"memorysetup-temp-allocator-size-preload-manager=262144\"\n",
      "    \"memorysetup-temp-allocator-size-nav-mesh-worker=65536\"\n",
      "    \"memorysetup-temp-allocator-size-audio-worker=65536\"\n",
      "    \"memorysetup-temp-allocator-size-cloud-worker=32768\"\n",
      "    \"memorysetup-temp-allocator-size-gfx=262144\"\n",
      "INFO:DonkeyProcess:donkey subprocess started\n"
     ]
    },
    {
     "name": "stderr",
     "output_type": "stream",
     "text": [
      "2024-01-18 11:22:23,416 INFO     donkey subprocess started\n"
     ]
    },
    {
     "name": "stdout",
     "output_type": "stream",
     "text": [
      "INFO:SDSandBoxSimulator:Waiting for inital obs\n"
     ]
    },
    {
     "name": "stderr",
     "output_type": "stream",
     "text": [
      "2024-01-18 11:22:23,493 INFO     Waiting for inital obs\n"
     ]
    },
    {
     "name": "stdout",
     "output_type": "stream",
     "text": [
      "INFO:SDSandBoxSimulator:Waiting for inital obs\n"
     ]
    },
    {
     "name": "stderr",
     "output_type": "stream",
     "text": [
      "2024-01-18 11:22:23,534 INFO     Waiting for inital obs\n"
     ]
    },
    {
     "name": "stdout",
     "output_type": "stream",
     "text": [
      "INFO:SDSandBoxSimulator:Waiting for inital obs\n"
     ]
    },
    {
     "name": "stderr",
     "output_type": "stream",
     "text": [
      "2024-01-18 11:22:23,577 INFO     Waiting for inital obs\n"
     ]
    },
    {
     "name": "stdout",
     "output_type": "stream",
     "text": [
      "INFO:SDSandBoxSimulator:Waiting for inital obs\n"
     ]
    },
    {
     "name": "stderr",
     "output_type": "stream",
     "text": [
      "2024-01-18 11:22:23,619 INFO     Waiting for inital obs\n"
     ]
    },
    {
     "name": "stdout",
     "output_type": "stream",
     "text": [
      "INFO:SDSandBoxSimulator:Waiting for inital obs\n"
     ]
    },
    {
     "name": "stderr",
     "output_type": "stream",
     "text": [
      "2024-01-18 11:22:23,664 INFO     Waiting for inital obs\n"
     ]
    },
    {
     "name": "stdout",
     "output_type": "stream",
     "text": [
      "INFO:SDSandBoxSimulator:Waiting for inital obs\n"
     ]
    },
    {
     "name": "stderr",
     "output_type": "stream",
     "text": [
      "2024-01-18 11:22:23,706 INFO     Waiting for inital obs\n"
     ]
    },
    {
     "name": "stdout",
     "output_type": "stream",
     "text": [
      "INFO:SDSandBoxSimulator:Waiting for inital obs\n"
     ]
    },
    {
     "name": "stderr",
     "output_type": "stream",
     "text": [
      "2024-01-18 11:22:23,748 INFO     Waiting for inital obs\n"
     ]
    },
    {
     "name": "stdout",
     "output_type": "stream",
     "text": [
      "INFO:SDSandBoxSimulator:Waiting for inital obs\n"
     ]
    },
    {
     "name": "stderr",
     "output_type": "stream",
     "text": [
      "2024-01-18 11:22:23,790 INFO     Waiting for inital obs\n"
     ]
    },
    {
     "name": "stdout",
     "output_type": "stream",
     "text": [
      "INFO:SDSandBoxSimulator:Waiting for inital obs\n"
     ]
    },
    {
     "name": "stderr",
     "output_type": "stream",
     "text": [
      "2024-01-18 11:22:23,833 INFO     Waiting for inital obs\n"
     ]
    },
    {
     "name": "stdout",
     "output_type": "stream",
     "text": [
      "INFO:SDSandBoxSimulator:Waiting for inital obs\n"
     ]
    },
    {
     "name": "stderr",
     "output_type": "stream",
     "text": [
      "2024-01-18 11:22:23,876 INFO     Waiting for inital obs\n"
     ]
    },
    {
     "name": "stdout",
     "output_type": "stream",
     "text": [
      "INFO:SDSandBoxSimulator:Waiting for inital obs\n"
     ]
    },
    {
     "name": "stderr",
     "output_type": "stream",
     "text": [
      "2024-01-18 11:22:23,918 INFO     Waiting for inital obs\n"
     ]
    },
    {
     "name": "stdout",
     "output_type": "stream",
     "text": [
      "INFO:DonkeySimMsgHandler:DonkeySimMsgHandler: ----- Car Created With Data {'msg_type': 'car_loaded'} -----\n"
     ]
    },
    {
     "name": "stderr",
     "output_type": "stream",
     "text": [
      "2024-01-18 11:22:23,951 INFO     DonkeySimMsgHandler: ----- Car Created With Data {'msg_type': 'car_loaded'} -----\n"
     ]
    },
    {
     "name": "stdout",
     "output_type": "stream",
     "text": [
      "INFO:SDSandBoxSimulator:Waiting for inital obs\n"
     ]
    },
    {
     "name": "stderr",
     "output_type": "stream",
     "text": [
      "2024-01-18 11:22:23,959 INFO     Waiting for inital obs\n"
     ]
    },
    {
     "name": "stdout",
     "output_type": "stream",
     "text": [
      "INFO:SDSandBoxSimulator:Waiting for inital obs\n"
     ]
    },
    {
     "name": "stderr",
     "output_type": "stream",
     "text": [
      "2024-01-18 11:22:24,001 INFO     Waiting for inital obs\n"
     ]
    },
    {
     "name": "stdout",
     "output_type": "stream",
     "text": [
      "INFO:SDSandBoxSimulator:Waiting for inital obs\n"
     ]
    },
    {
     "name": "stderr",
     "output_type": "stream",
     "text": [
      "2024-01-18 11:22:24,043 INFO     Waiting for inital obs\n"
     ]
    },
    {
     "name": "stdout",
     "output_type": "stream",
     "text": [
      "Segment lengths are None\n",
      "Started Road Generation\n",
      "Road Instance 0, angle: -9, 25: [(47.999939999999995, 24.969459999999998, 0.6074528, 4.0), (47.99994, 49.96946, 0.6074528, 4.0), (52.341144441673265, 74.58965382530519, 0.6074528, 4.0)]\n",
      "Road Instance 1, angle: 14, 25: [(47.999939999999995, 24.969459999999998, 0.6074528, 4.0), (47.99994, 49.96946, 0.6074528, 4.0), (52.341144441673265, 74.58965382530519, 0.6074528, 4.0), (51.032745535599666, 99.55539219416954, 0.6074528, 4.0)]\n",
      "Road Instance 2, angle: 14, 25: [(47.999939999999995, 24.969459999999998, 0.6074528, 4.0), (47.99994, 49.96946, 0.6074528, 4.0), (52.341144441673265, 74.58965382530519, 0.6074528, 4.0), (51.032745535599666, 99.55539219416954, 0.6074528, 4.0), (43.72345291753125, 123.46301109324543, 0.6074528, 4.0)]\n",
      "Road Instance 3, angle: 12, 25: [(47.999939999999995, 24.969459999999998, 0.6074528, 4.0), (47.99994, 49.96946, 0.6074528, 4.0), (52.341144441673265, 74.58965382530519, 0.6074528, 4.0), (51.032745535599666, 99.55539219416954, 0.6074528, 4.0), (43.72345291753125, 123.46301109324543, 0.6074528, 4.0), (31.603212411372823, 145.3285037717303, 0.6074528, 4.0)]\n",
      "Road Instance 4, angle: -8, 25: [(47.999939999999995, 24.969459999999998, 0.6074528, 4.0), (47.99994, 49.96946, 0.6074528, 4.0), (52.341144441673265, 74.58965382530519, 0.6074528, 4.0), (51.032745535599666, 99.55539219416954, 0.6074528, 4.0), (43.72345291753125, 123.46301109324543, 0.6074528, 4.0), (31.603212411372823, 145.3285037717303, 0.6074528, 4.0), (22.644013672740314, 168.66801443416034, 0.6074528, 4.0)]\n",
      "Road Instance 5, angle: 9, 25: [(47.999939999999995, 24.969459999999998, 0.6074528, 4.0), (47.99994, 49.96946, 0.6074528, 4.0), (52.341144441673265, 74.58965382530519, 0.6074528, 4.0), (51.032745535599666, 99.55539219416954, 0.6074528, 4.0), (43.72345291753125, 123.46301109324543, 0.6074528, 4.0), (31.603212411372823, 145.3285037717303, 0.6074528, 4.0), (22.644013672740314, 168.66801443416034, 0.6074528, 4.0), (10.144013672740318, 190.31864952877132, 0.6074528, 4.0)]\n",
      "finished road generation\n",
      "IndividualToScenario: Function is zigzag_mapping/zigzag_mapping\n",
      "Segment lengths are None\n",
      "Started Road Generation\n",
      "Road Instance 0, angle: -9, 25: [(47.999939999999995, 24.969459999999998, 0.6074528, 4.0), (47.99994, 49.96946, 0.6074528, 4.0), (52.341144441673265, 74.58965382530519, 0.6074528, 4.0)]\n",
      "Road Instance 1, angle: 14, 25: [(47.999939999999995, 24.969459999999998, 0.6074528, 4.0), (47.99994, 49.96946, 0.6074528, 4.0), (52.341144441673265, 74.58965382530519, 0.6074528, 4.0), (51.032745535599666, 99.55539219416954, 0.6074528, 4.0)]\n",
      "Road Instance 2, angle: 14, 25: [(47.999939999999995, 24.969459999999998, 0.6074528, 4.0), (47.99994, 49.96946, 0.6074528, 4.0), (52.341144441673265, 74.58965382530519, 0.6074528, 4.0), (51.032745535599666, 99.55539219416954, 0.6074528, 4.0), (43.72345291753125, 123.46301109324543, 0.6074528, 4.0)]\n",
      "Road Instance 3, angle: -7, 25: [(47.999939999999995, 24.969459999999998, 0.6074528, 4.0), (47.99994, 49.96946, 0.6074528, 4.0), (52.341144441673265, 74.58965382530519, 0.6074528, 4.0), (51.032745535599666, 99.55539219416954, 0.6074528, 4.0), (43.72345291753125, 123.46301109324543, 0.6074528, 4.0), (39.38224847585799, 148.08320491855062, 0.6074528, 4.0)]\n",
      "Road Instance 4, angle: -8, 25: [(47.999939999999995, 24.969459999999998, 0.6074528, 4.0), (47.99994, 49.96946, 0.6074528, 4.0), (52.341144441673265, 74.58965382530519, 0.6074528, 4.0), (51.032745535599666, 99.55539219416954, 0.6074528, 4.0), (43.72345291753125, 123.46301109324543, 0.6074528, 4.0), (39.38224847585799, 148.08320491855062, 0.6074528, 4.0), (38.50976105829547, 173.067975594028, 0.6074528, 4.0)]\n",
      "Road Instance 5, angle: -19, 25: [(47.999939999999995, 24.969459999999998, 0.6074528, 4.0), (47.99994, 49.96946, 0.6074528, 4.0), (52.341144441673265, 74.58965382530519, 0.6074528, 4.0), (51.032745535599666, 99.55539219416954, 0.6074528, 4.0), (43.72345291753125, 123.46301109324543, 0.6074528, 4.0), (39.38224847585799, 148.08320491855062, 0.6074528, 4.0), (38.50976105829547, 173.067975594028, 0.6074528, 4.0), (45.819053676363886, 196.9755944931039, 0.6074528, 4.0)]\n",
      "finished road generation\n",
      "IndividualToScenario: Function is zigzag_mapping/zigzag_mapping\n",
      "Segment lengths are None\n",
      "Started Road Generation\n",
      "Road Instance 0, angle: -9, 25: [(47.999939999999995, 24.969459999999998, 0.6074528, 4.0), (47.99994, 49.96946, 0.6074528, 4.0), (52.341144441673265, 74.58965382530519, 0.6074528, 4.0)]\n",
      "Road Instance 1, angle: 14, 25: [(47.999939999999995, 24.969459999999998, 0.6074528, 4.0), (47.99994, 49.96946, 0.6074528, 4.0), (52.341144441673265, 74.58965382530519, 0.6074528, 4.0), (51.032745535599666, 99.55539219416954, 0.6074528, 4.0)]\n",
      "Road Instance 2, angle: 14, 25: [(47.999939999999995, 24.969459999999998, 0.6074528, 4.0), (47.99994, 49.96946, 0.6074528, 4.0), (52.341144441673265, 74.58965382530519, 0.6074528, 4.0), (51.032745535599666, 99.55539219416954, 0.6074528, 4.0), (43.72345291753125, 123.46301109324543, 0.6074528, 4.0)]\n",
      "Road Instance 3, angle: -7, 25: [(47.999939999999995, 24.969459999999998, 0.6074528, 4.0), (47.99994, 49.96946, 0.6074528, 4.0), (52.341144441673265, 74.58965382530519, 0.6074528, 4.0), (51.032745535599666, 99.55539219416954, 0.6074528, 4.0), (43.72345291753125, 123.46301109324543, 0.6074528, 4.0), (39.38224847585799, 148.08320491855062, 0.6074528, 4.0)]\n",
      "Road Instance 4, angle: -8, 25: [(47.999939999999995, 24.969459999999998, 0.6074528, 4.0), (47.99994, 49.96946, 0.6074528, 4.0), (52.341144441673265, 74.58965382530519, 0.6074528, 4.0), (51.032745535599666, 99.55539219416954, 0.6074528, 4.0), (43.72345291753125, 123.46301109324543, 0.6074528, 4.0), (39.38224847585799, 148.08320491855062, 0.6074528, 4.0), (38.50976105829547, 173.067975594028, 0.6074528, 4.0)]\n",
      "Road Instance 5, angle: -16, 25: [(47.999939999999995, 24.969459999999998, 0.6074528, 4.0), (47.99994, 49.96946, 0.6074528, 4.0), (52.341144441673265, 74.58965382530519, 0.6074528, 4.0), (51.032745535599666, 99.55539219416954, 0.6074528, 4.0), (43.72345291753125, 123.46301109324543, 0.6074528, 4.0), (39.38224847585799, 148.08320491855062, 0.6074528, 4.0), (38.50976105829547, 173.067975594028, 0.6074528, 4.0), (44.55780844828716, 197.32536875092794, 0.6074528, 4.0)]\n",
      "finished road generation\n",
      "IndividualToScenario: Function is zigzag_mapping/zigzag_mapping\n",
      "Segment lengths are None\n",
      "Started Road Generation\n",
      "Road Instance 0, angle: -9, 25: [(47.999939999999995, 24.969459999999998, 0.6074528, 4.0), (47.99994, 49.96946, 0.6074528, 4.0), (52.341144441673265, 74.58965382530519, 0.6074528, 4.0)]\n",
      "Road Instance 1, angle: 14, 25: [(47.999939999999995, 24.969459999999998, 0.6074528, 4.0), (47.99994, 49.96946, 0.6074528, 4.0), (52.341144441673265, 74.58965382530519, 0.6074528, 4.0), (51.032745535599666, 99.55539219416954, 0.6074528, 4.0)]\n",
      "Road Instance 2, angle: 14, 25: [(47.999939999999995, 24.969459999999998, 0.6074528, 4.0), (47.99994, 49.96946, 0.6074528, 4.0), (52.341144441673265, 74.58965382530519, 0.6074528, 4.0), (51.032745535599666, 99.55539219416954, 0.6074528, 4.0), (43.72345291753125, 123.46301109324543, 0.6074528, 4.0)]\n",
      "Road Instance 3, angle: -7, 25: [(47.999939999999995, 24.969459999999998, 0.6074528, 4.0), (47.99994, 49.96946, 0.6074528, 4.0), (52.341144441673265, 74.58965382530519, 0.6074528, 4.0), (51.032745535599666, 99.55539219416954, 0.6074528, 4.0), (43.72345291753125, 123.46301109324543, 0.6074528, 4.0), (39.38224847585799, 148.08320491855062, 0.6074528, 4.0)]\n",
      "Road Instance 4, angle: -8, 25: [(47.999939999999995, 24.969459999999998, 0.6074528, 4.0), (47.99994, 49.96946, 0.6074528, 4.0), (52.341144441673265, 74.58965382530519, 0.6074528, 4.0), (51.032745535599666, 99.55539219416954, 0.6074528, 4.0), (43.72345291753125, 123.46301109324543, 0.6074528, 4.0), (39.38224847585799, 148.08320491855062, 0.6074528, 4.0), (38.50976105829547, 173.067975594028, 0.6074528, 4.0)]\n",
      "Road Instance 5, angle: 11, 25: [(47.999939999999995, 24.969459999999998, 0.6074528, 4.0), (47.99994, 49.96946, 0.6074528, 4.0), (52.341144441673265, 74.58965382530519, 0.6074528, 4.0), (51.032745535599666, 99.55539219416954, 0.6074528, 4.0), (43.72345291753125, 123.46301109324543, 0.6074528, 4.0), (39.38224847585799, 148.08320491855062, 0.6074528, 4.0), (38.50976105829547, 173.067975594028, 0.6074528, 4.0), (32.88598469969884, 197.4272272136589, 0.6074528, 4.0)]\n",
      "finished road generation\n",
      "IndividualToScenario: Function is zigzag_mapping/zigzag_mapping\n",
      "Segment lengths are None\n",
      "Started Road Generation\n",
      "Road Instance 0, angle: -9, 25: [(47.999939999999995, 24.969459999999998, 0.6074528, 4.0), (47.99994, 49.96946, 0.6074528, 4.0), (52.341144441673265, 74.58965382530519, 0.6074528, 4.0)]\n",
      "Road Instance 1, angle: 14, 25: [(47.999939999999995, 24.969459999999998, 0.6074528, 4.0), (47.99994, 49.96946, 0.6074528, 4.0), (52.341144441673265, 74.58965382530519, 0.6074528, 4.0), (51.032745535599666, 99.55539219416954, 0.6074528, 4.0)]\n",
      "Road Instance 2, angle: 14, 25: [(47.999939999999995, 24.969459999999998, 0.6074528, 4.0), (47.99994, 49.96946, 0.6074528, 4.0), (52.341144441673265, 74.58965382530519, 0.6074528, 4.0), (51.032745535599666, 99.55539219416954, 0.6074528, 4.0), (43.72345291753125, 123.46301109324543, 0.6074528, 4.0)]\n",
      "Road Instance 3, angle: 11, 25: [(47.999939999999995, 24.969459999999998, 0.6074528, 4.0), (47.99994, 49.96946, 0.6074528, 4.0), (52.341144441673265, 74.58965382530519, 0.6074528, 4.0), (51.032745535599666, 99.55539219416954, 0.6074528, 4.0), (43.72345291753125, 123.46301109324543, 0.6074528, 4.0), (31.986663847883975, 145.5367009147186, 0.6074528, 4.0)]\n",
      "Road Instance 4, angle: -8, 25: [(47.999939999999995, 24.969459999999998, 0.6074528, 4.0), (47.99994, 49.96946, 0.6074528, 4.0), (52.341144441673265, 74.58965382530519, 0.6074528, 4.0), (51.032745535599666, 99.55539219416954, 0.6074528, 4.0), (43.72345291753125, 123.46301109324543, 0.6074528, 4.0), (31.986663847883975, 145.5367009147186, 0.6074528, 4.0), (23.436160264742256, 169.02901643436633, 0.6074528, 4.0)]\n",
      "Road Instance 5, angle: 10, 25: [(47.999939999999995, 24.969459999999998, 0.6074528, 4.0), (47.99994, 49.96946, 0.6074528, 4.0), (52.341144441673265, 74.58965382530519, 0.6074528, 4.0), (51.032745535599666, 99.55539219416954, 0.6074528, 4.0), (43.72345291753125, 123.46301109324543, 0.6074528, 4.0), (31.986663847883975, 145.5367009147186, 0.6074528, 4.0), (23.436160264742256, 169.02901643436633, 0.6074528, 4.0), (10.93616026474226, 190.6796515289773, 0.6074528, 4.0)]\n",
      "finished road generation\n",
      "IndividualToScenario: Function is zigzag_mapping/zigzag_mapping\n",
      "Segment lengths are None\n",
      "Started Road Generation\n",
      "Road Instance 0, angle: -9, 25: [(47.999939999999995, 24.969459999999998, 0.6074528, 4.0), (47.99994, 49.96946, 0.6074528, 4.0), (52.341144441673265, 74.58965382530519, 0.6074528, 4.0)]\n",
      "Road Instance 1, angle: 14, 25: [(47.999939999999995, 24.969459999999998, 0.6074528, 4.0), (47.99994, 49.96946, 0.6074528, 4.0), (52.341144441673265, 74.58965382530519, 0.6074528, 4.0), (51.032745535599666, 99.55539219416954, 0.6074528, 4.0)]\n",
      "Road Instance 2, angle: 14, 25: [(47.999939999999995, 24.969459999999998, 0.6074528, 4.0), (47.99994, 49.96946, 0.6074528, 4.0), (52.341144441673265, 74.58965382530519, 0.6074528, 4.0), (51.032745535599666, 99.55539219416954, 0.6074528, 4.0), (43.72345291753125, 123.46301109324543, 0.6074528, 4.0)]\n",
      "Road Instance 3, angle: 12, 25: [(47.999939999999995, 24.969459999999998, 0.6074528, 4.0), (47.99994, 49.96946, 0.6074528, 4.0), (52.341144441673265, 74.58965382530519, 0.6074528, 4.0), (51.032745535599666, 99.55539219416954, 0.6074528, 4.0), (43.72345291753125, 123.46301109324543, 0.6074528, 4.0), (31.603212411372823, 145.3285037717303, 0.6074528, 4.0)]\n",
      "Road Instance 4, angle: -8, 25: [(47.999939999999995, 24.969459999999998, 0.6074528, 4.0), (47.99994, 49.96946, 0.6074528, 4.0), (52.341144441673265, 74.58965382530519, 0.6074528, 4.0), (51.032745535599666, 99.55539219416954, 0.6074528, 4.0), (43.72345291753125, 123.46301109324543, 0.6074528, 4.0), (31.603212411372823, 145.3285037717303, 0.6074528, 4.0), (22.644013672740314, 168.66801443416034, 0.6074528, 4.0)]\n",
      "Road Instance 5, angle: -16, 25: [(47.999939999999995, 24.969459999999998, 0.6074528, 4.0), (47.99994, 49.96946, 0.6074528, 4.0), (52.341144441673265, 74.58965382530519, 0.6074528, 4.0), (51.032745535599666, 99.55539219416954, 0.6074528, 4.0), (43.72345291753125, 123.46301109324543, 0.6074528, 4.0), (31.603212411372823, 145.3285037717303, 0.6074528, 4.0), (22.644013672740314, 168.66801443416034, 0.6074528, 4.0), (20.465120104048857, 193.57288188645398, 0.6074528, 4.0)]\n",
      "finished road generation\n",
      "IndividualToScenario: Function is zigzag_mapping/zigzag_mapping\n",
      "----- Finished Perturbation-Controller set up -----\n",
      "INFO:SDSandBoxSimulator:Reset the scenario\n"
     ]
    },
    {
     "name": "stderr",
     "output_type": "stream",
     "text": [
      "2024-01-18 11:22:24,134 INFO     Reset the scenario\n"
     ]
    },
    {
     "name": "stdout",
     "output_type": "stream",
     "text": [
      "fps 18.11\n",
      "fps 19.72\n",
      "fps 19.71\n",
      "fps 19.71\n",
      "fps 19.71\n",
      "fps 19.73\n",
      "SDSandBox: Finished scenario\n",
      "fps 19.75\n",
      "INFO:SDSandBoxSimulator:Reset the scenario\n"
     ]
    },
    {
     "name": "stderr",
     "output_type": "stream",
     "text": [
      "2024-01-18 11:23:00,084 INFO     Reset the scenario\n"
     ]
    },
    {
     "name": "stdout",
     "output_type": "stream",
     "text": [
      "Exception: [Errno 54] Connection reset by peer\n",
      "CRITICAL:DonkeySimMsgHandler:DonkeySimMsgHandler: +++++ Warning: Donkey Sim Aborted +++++\n"
     ]
    },
    {
     "name": "stderr",
     "output_type": "stream",
     "text": [
      "2024-01-18 11:23:03,204 CRITICAL DonkeySimMsgHandler: +++++ Warning: Donkey Sim Aborted +++++\n"
     ]
    },
    {
     "name": "stdout",
     "output_type": "stream",
     "text": [
      "INFO:DonkeySimMsgHandler:DonkeySimMsgHandler: +++++ Warning: Donkey Sim Message Stoped +++++\n"
     ]
    },
    {
     "name": "stderr",
     "output_type": "stream",
     "text": [
      "2024-01-18 11:23:03,221 INFO     DonkeySimMsgHandler: +++++ Warning: Donkey Sim Message Stoped +++++\n"
     ]
    },
    {
     "name": "stdout",
     "output_type": "stream",
     "text": [
      "fps 19.70\n",
      "fps 19.73\n",
      "fps 19.75\n",
      "fps 19.68\n",
      "fps 19.70\n",
      "fps 19.71\n",
      "SDSandBox: Finished scenario\n",
      "fps 19.69\n",
      "INFO:SDSandBoxSimulator:Reset the scenario\n"
     ]
    },
    {
     "name": "stderr",
     "output_type": "stream",
     "text": [
      "2024-01-18 11:23:36,500 INFO     Reset the scenario\n"
     ]
    },
    {
     "name": "stdout",
     "output_type": "stream",
     "text": [
      "fps 19.72\n",
      "fps 19.71\n",
      "fps 19.52\n",
      "fps 19.72\n",
      "fps 19.75\n",
      "fps 19.70\n",
      "SDSandBox: Finished scenario\n",
      "INFO:SDSandBoxSimulator:Reset the scenario\n"
     ]
    },
    {
     "name": "stderr",
     "output_type": "stream",
     "text": [
      "2024-01-18 11:24:08,492 INFO     Reset the scenario\n"
     ]
    },
    {
     "name": "stdout",
     "output_type": "stream",
     "text": [
      "fps 19.66\n",
      "fps 19.73\n",
      "fps 19.70\n",
      "fps 19.71\n",
      "fps 19.70\n",
      "fps 19.70\n",
      "SDSandBox: Finished scenario\n",
      "INFO:SDSandBoxSimulator:Reset the scenario\n"
     ]
    },
    {
     "name": "stderr",
     "output_type": "stream",
     "text": [
      "2024-01-18 11:24:39,344 INFO     Reset the scenario\n"
     ]
    },
    {
     "name": "stdout",
     "output_type": "stream",
     "text": [
      "fps 19.67\n",
      "fps 19.72\n",
      "fps 19.69\n",
      "fps 19.70\n",
      "fps 19.71\n",
      "fps 19.69\n",
      "SDSandBox: Finished scenario\n",
      "fps 19.70\n",
      "INFO:SDSandBoxSimulator:Reset the scenario\n"
     ]
    },
    {
     "name": "stderr",
     "output_type": "stream",
     "text": [
      "2024-01-18 11:25:11,960 INFO     Reset the scenario\n"
     ]
    },
    {
     "name": "stdout",
     "output_type": "stream",
     "text": [
      "fps 19.70\n",
      "fps 19.71\n",
      "fps 19.69\n",
      "fps 19.68\n",
      "fps 19.71\n",
      "fps 19.70\n",
      "SDSandBox: Finished scenario\n",
      "fps 19.68\n",
      "INFO:DonkeySimMsgHandler:DonkeySimMsgHandler: +++++ Warning: Donkey Sim Disconnected +++++\n"
     ]
    },
    {
     "name": "stderr",
     "output_type": "stream",
     "text": [
      "2024-01-18 11:25:47,731 INFO     DonkeySimMsgHandler: +++++ Warning: Donkey Sim Disconnected +++++\n"
     ]
    },
    {
     "name": "stdout",
     "output_type": "stream",
     "text": [
      "INFO:DonkeyProcess:Closing donkey sim subprocess\n"
     ]
    },
    {
     "name": "stderr",
     "output_type": "stream",
     "text": [
      "2024-01-18 11:25:47,734 INFO     Closing donkey sim subprocess\n",
      "2024-01-18 11:25:47,837 INFO     Running evaluation number 16\n"
     ]
    },
    {
     "name": "stdout",
     "output_type": "stream",
     "text": [
      "    15 |       90 |      2 |  0.000000E+00 |             f\n",
      "Using model: generated_dave_v5\n",
      "INFO:DonkeyProcess:This is the launch string /Users/hannesleonhard/Documents/BachelorWInfo/Robustness-SDC/PerturbationDrive/./examples/self_driving_sandbox_donkey/sim/donkey-sim.app/Contents/MacOS/Simulator\n"
     ]
    },
    {
     "name": "stderr",
     "output_type": "stream",
     "text": [
      "2024-01-18 11:25:48,011 INFO     This is the launch string /Users/hannesleonhard/Documents/BachelorWInfo/Robustness-SDC/PerturbationDrive/./examples/self_driving_sandbox_donkey/sim/donkey-sim.app/Contents/MacOS/Simulator\n"
     ]
    },
    {
     "name": "stdout",
     "output_type": "stream",
     "text": [
      "[UnityMemory] Configuration Parameters - Can be set up in boot.config\n",
      "    \"memorysetup-bucket-allocator-granularity=16\"\n",
      "    \"memorysetup-bucket-allocator-bucket-count=8\"\n",
      "    \"memorysetup-bucket-allocator-block-size=4194304\"\n",
      "    \"memorysetup-bucket-allocator-block-count=1\"\n",
      "    \"memorysetup-main-allocator-block-size=16777216\"\n",
      "    \"memorysetup-thread-allocator-block-size=16777216\"\n",
      "    \"memorysetup-gfx-main-allocator-block-size=16777216\"\n",
      "    \"memorysetup-gfx-thread-allocator-block-size=16777216\"\n",
      "    \"memorysetup-cache-allocator-block-size=4194304\"\n",
      "    \"memorysetup-typetree-allocator-block-size=2097152\"\n",
      "    \"memorysetup-profiler-bucket-allocator-granularity=16\"\n",
      "    \"memorysetup-profiler-bucket-allocator-bucket-count=8\"\n",
      "    \"memorysetup-profiler-bucket-allocator-block-size=4194304\"\n",
      "    \"memorysetup-profiler-bucket-allocator-block-count=1\"\n",
      "    \"memorysetup-profiler-allocator-block-size=16777216\"\n",
      "    \"memorysetup-profiler-editor-allocator-block-size=1048576\"\n",
      "    \"memorysetup-temp-allocator-size-main=4194304\"\n",
      "    \"memorysetup-job-temp-allocator-block-size=2097152\"\n",
      "    \"memorysetup-job-temp-allocator-block-size-background=1048576\"\n",
      "    \"memorysetup-job-temp-allocator-reduction-small-platforms=262144\"\n",
      "    \"memorysetup-allocator-temp-initial-block-size-main=262144\"\n",
      "    \"memorysetup-allocator-temp-initial-block-size-worker=262144\"\n",
      "    \"memorysetup-temp-allocator-size-background-worker=32768\"\n",
      "    \"memorysetup-temp-allocator-size-job-worker=262144\"\n",
      "    \"memorysetup-temp-allocator-size-preload-manager=262144\"\n",
      "    \"memorysetup-temp-allocator-size-nav-mesh-worker=65536\"\n",
      "    \"memorysetup-temp-allocator-size-audio-worker=65536\"\n",
      "    \"memorysetup-temp-allocator-size-cloud-worker=32768\"\n",
      "    \"memorysetup-temp-allocator-size-gfx=262144\"\n",
      "INFO:DonkeyProcess:donkey subprocess started\n"
     ]
    },
    {
     "name": "stderr",
     "output_type": "stream",
     "text": [
      "2024-01-18 11:26:08,027 INFO     donkey subprocess started\n"
     ]
    },
    {
     "name": "stdout",
     "output_type": "stream",
     "text": [
      "INFO:SDSandBoxSimulator:Waiting for inital obs\n"
     ]
    },
    {
     "name": "stderr",
     "output_type": "stream",
     "text": [
      "2024-01-18 11:26:08,086 INFO     Waiting for inital obs\n"
     ]
    },
    {
     "name": "stdout",
     "output_type": "stream",
     "text": [
      "INFO:SDSandBoxSimulator:Waiting for inital obs\n"
     ]
    },
    {
     "name": "stderr",
     "output_type": "stream",
     "text": [
      "2024-01-18 11:26:08,127 INFO     Waiting for inital obs\n"
     ]
    },
    {
     "name": "stdout",
     "output_type": "stream",
     "text": [
      "INFO:SDSandBoxSimulator:Waiting for inital obs\n"
     ]
    },
    {
     "name": "stderr",
     "output_type": "stream",
     "text": [
      "2024-01-18 11:26:08,169 INFO     Waiting for inital obs\n"
     ]
    },
    {
     "name": "stdout",
     "output_type": "stream",
     "text": [
      "INFO:SDSandBoxSimulator:Waiting for inital obs\n"
     ]
    },
    {
     "name": "stderr",
     "output_type": "stream",
     "text": [
      "2024-01-18 11:26:08,211 INFO     Waiting for inital obs\n"
     ]
    },
    {
     "name": "stdout",
     "output_type": "stream",
     "text": [
      "INFO:SDSandBoxSimulator:Waiting for inital obs\n"
     ]
    },
    {
     "name": "stderr",
     "output_type": "stream",
     "text": [
      "2024-01-18 11:26:08,253 INFO     Waiting for inital obs\n"
     ]
    },
    {
     "name": "stdout",
     "output_type": "stream",
     "text": [
      "INFO:SDSandBoxSimulator:Waiting for inital obs\n"
     ]
    },
    {
     "name": "stderr",
     "output_type": "stream",
     "text": [
      "2024-01-18 11:26:08,295 INFO     Waiting for inital obs\n"
     ]
    },
    {
     "name": "stdout",
     "output_type": "stream",
     "text": [
      "INFO:SDSandBoxSimulator:Waiting for inital obs\n"
     ]
    },
    {
     "name": "stderr",
     "output_type": "stream",
     "text": [
      "2024-01-18 11:26:08,336 INFO     Waiting for inital obs\n"
     ]
    },
    {
     "name": "stdout",
     "output_type": "stream",
     "text": [
      "INFO:SDSandBoxSimulator:Waiting for inital obs\n"
     ]
    },
    {
     "name": "stderr",
     "output_type": "stream",
     "text": [
      "2024-01-18 11:26:08,378 INFO     Waiting for inital obs\n"
     ]
    },
    {
     "name": "stdout",
     "output_type": "stream",
     "text": [
      "INFO:SDSandBoxSimulator:Waiting for inital obs\n"
     ]
    },
    {
     "name": "stderr",
     "output_type": "stream",
     "text": [
      "2024-01-18 11:26:08,419 INFO     Waiting for inital obs\n"
     ]
    },
    {
     "name": "stdout",
     "output_type": "stream",
     "text": [
      "INFO:DonkeySimMsgHandler:DonkeySimMsgHandler: ----- Car Created With Data {'msg_type': 'car_loaded'} -----\n"
     ]
    },
    {
     "name": "stderr",
     "output_type": "stream",
     "text": [
      "2024-01-18 11:26:08,433 INFO     DonkeySimMsgHandler: ----- Car Created With Data {'msg_type': 'car_loaded'} -----\n"
     ]
    },
    {
     "name": "stdout",
     "output_type": "stream",
     "text": [
      "INFO:SDSandBoxSimulator:Waiting for inital obs\n"
     ]
    },
    {
     "name": "stderr",
     "output_type": "stream",
     "text": [
      "2024-01-18 11:26:08,461 INFO     Waiting for inital obs\n"
     ]
    },
    {
     "name": "stdout",
     "output_type": "stream",
     "text": [
      "INFO:SDSandBoxSimulator:Waiting for inital obs\n"
     ]
    },
    {
     "name": "stderr",
     "output_type": "stream",
     "text": [
      "2024-01-18 11:26:08,503 INFO     Waiting for inital obs\n"
     ]
    },
    {
     "name": "stdout",
     "output_type": "stream",
     "text": [
      "Segment lengths are None\n",
      "Started Road Generation\n",
      "Road Instance 0, angle: -9, 25: [(47.999939999999995, 24.969459999999998, 0.6074528, 4.0), (47.99994, 49.96946, 0.6074528, 4.0), (52.341144441673265, 74.58965382530519, 0.6074528, 4.0)]\n",
      "Road Instance 1, angle: 14, 25: [(47.999939999999995, 24.969459999999998, 0.6074528, 4.0), (47.99994, 49.96946, 0.6074528, 4.0), (52.341144441673265, 74.58965382530519, 0.6074528, 4.0), (51.032745535599666, 99.55539219416954, 0.6074528, 4.0)]\n",
      "Road Instance 2, angle: 14, 25: [(47.999939999999995, 24.969459999999998, 0.6074528, 4.0), (47.99994, 49.96946, 0.6074528, 4.0), (52.341144441673265, 74.58965382530519, 0.6074528, 4.0), (51.032745535599666, 99.55539219416954, 0.6074528, 4.0), (43.72345291753125, 123.46301109324543, 0.6074528, 4.0)]\n",
      "Road Instance 3, angle: 11, 25: [(47.999939999999995, 24.969459999999998, 0.6074528, 4.0), (47.99994, 49.96946, 0.6074528, 4.0), (52.341144441673265, 74.58965382530519, 0.6074528, 4.0), (51.032745535599666, 99.55539219416954, 0.6074528, 4.0), (43.72345291753125, 123.46301109324543, 0.6074528, 4.0), (31.986663847883975, 145.5367009147186, 0.6074528, 4.0)]\n",
      "Road Instance 4, angle: -8, 25: [(47.999939999999995, 24.969459999999998, 0.6074528, 4.0), (47.99994, 49.96946, 0.6074528, 4.0), (52.341144441673265, 74.58965382530519, 0.6074528, 4.0), (51.032745535599666, 99.55539219416954, 0.6074528, 4.0), (43.72345291753125, 123.46301109324543, 0.6074528, 4.0), (31.986663847883975, 145.5367009147186, 0.6074528, 4.0), (23.436160264742256, 169.02901643436633, 0.6074528, 4.0)]\n",
      "Road Instance 5, angle: 10, 25: [(47.999939999999995, 24.969459999999998, 0.6074528, 4.0), (47.99994, 49.96946, 0.6074528, 4.0), (52.341144441673265, 74.58965382530519, 0.6074528, 4.0), (51.032745535599666, 99.55539219416954, 0.6074528, 4.0), (43.72345291753125, 123.46301109324543, 0.6074528, 4.0), (31.986663847883975, 145.5367009147186, 0.6074528, 4.0), (23.436160264742256, 169.02901643436633, 0.6074528, 4.0), (10.93616026474226, 190.6796515289773, 0.6074528, 4.0)]\n",
      "finished road generation\n",
      "IndividualToScenario: Function is zigzag_mapping/zigzag_mapping\n",
      "Segment lengths are None\n",
      "Started Road Generation\n",
      "Road Instance 0, angle: -9, 25: [(47.999939999999995, 24.969459999999998, 0.6074528, 4.0), (47.99994, 49.96946, 0.6074528, 4.0), (52.341144441673265, 74.58965382530519, 0.6074528, 4.0)]\n",
      "Road Instance 1, angle: 14, 25: [(47.999939999999995, 24.969459999999998, 0.6074528, 4.0), (47.99994, 49.96946, 0.6074528, 4.0), (52.341144441673265, 74.58965382530519, 0.6074528, 4.0), (51.032745535599666, 99.55539219416954, 0.6074528, 4.0)]\n",
      "Road Instance 2, angle: 14, 25: [(47.999939999999995, 24.969459999999998, 0.6074528, 4.0), (47.99994, 49.96946, 0.6074528, 4.0), (52.341144441673265, 74.58965382530519, 0.6074528, 4.0), (51.032745535599666, 99.55539219416954, 0.6074528, 4.0), (43.72345291753125, 123.46301109324543, 0.6074528, 4.0)]\n",
      "Road Instance 3, angle: 11, 25: [(47.999939999999995, 24.969459999999998, 0.6074528, 4.0), (47.99994, 49.96946, 0.6074528, 4.0), (52.341144441673265, 74.58965382530519, 0.6074528, 4.0), (51.032745535599666, 99.55539219416954, 0.6074528, 4.0), (43.72345291753125, 123.46301109324543, 0.6074528, 4.0), (31.986663847883975, 145.5367009147186, 0.6074528, 4.0)]\n",
      "Road Instance 4, angle: -8, 25: [(47.999939999999995, 24.969459999999998, 0.6074528, 4.0), (47.99994, 49.96946, 0.6074528, 4.0), (52.341144441673265, 74.58965382530519, 0.6074528, 4.0), (51.032745535599666, 99.55539219416954, 0.6074528, 4.0), (43.72345291753125, 123.46301109324543, 0.6074528, 4.0), (31.986663847883975, 145.5367009147186, 0.6074528, 4.0), (23.436160264742256, 169.02901643436633, 0.6074528, 4.0)]\n",
      "Road Instance 5, angle: 9, 25: [(47.999939999999995, 24.969459999999998, 0.6074528, 4.0), (47.99994, 49.96946, 0.6074528, 4.0), (52.341144441673265, 74.58965382530519, 0.6074528, 4.0), (51.032745535599666, 99.55539219416954, 0.6074528, 4.0), (43.72345291753125, 123.46301109324543, 0.6074528, 4.0), (31.986663847883975, 145.5367009147186, 0.6074528, 4.0), (23.436160264742256, 169.02901643436633, 0.6074528, 4.0), (11.315919758583831, 190.8945091128512, 0.6074528, 4.0)]\n",
      "finished road generation\n",
      "IndividualToScenario: Function is zigzag_mapping/zigzag_mapping\n",
      "Segment lengths are None\n",
      "Started Road Generation\n",
      "Road Instance 0, angle: -9, 25: [(47.999939999999995, 24.969459999999998, 0.6074528, 4.0), (47.99994, 49.96946, 0.6074528, 4.0), (52.341144441673265, 74.58965382530519, 0.6074528, 4.0)]\n",
      "Road Instance 1, angle: 14, 25: [(47.999939999999995, 24.969459999999998, 0.6074528, 4.0), (47.99994, 49.96946, 0.6074528, 4.0), (52.341144441673265, 74.58965382530519, 0.6074528, 4.0), (51.032745535599666, 99.55539219416954, 0.6074528, 4.0)]\n",
      "Road Instance 2, angle: 14, 25: [(47.999939999999995, 24.969459999999998, 0.6074528, 4.0), (47.99994, 49.96946, 0.6074528, 4.0), (52.341144441673265, 74.58965382530519, 0.6074528, 4.0), (51.032745535599666, 99.55539219416954, 0.6074528, 4.0), (43.72345291753125, 123.46301109324543, 0.6074528, 4.0)]\n",
      "Road Instance 3, angle: -7, 25: [(47.999939999999995, 24.969459999999998, 0.6074528, 4.0), (47.99994, 49.96946, 0.6074528, 4.0), (52.341144441673265, 74.58965382530519, 0.6074528, 4.0), (51.032745535599666, 99.55539219416954, 0.6074528, 4.0), (43.72345291753125, 123.46301109324543, 0.6074528, 4.0), (39.38224847585799, 148.08320491855062, 0.6074528, 4.0)]\n",
      "Road Instance 4, angle: -8, 25: [(47.999939999999995, 24.969459999999998, 0.6074528, 4.0), (47.99994, 49.96946, 0.6074528, 4.0), (52.341144441673265, 74.58965382530519, 0.6074528, 4.0), (51.032745535599666, 99.55539219416954, 0.6074528, 4.0), (43.72345291753125, 123.46301109324543, 0.6074528, 4.0), (39.38224847585799, 148.08320491855062, 0.6074528, 4.0), (38.50976105829547, 173.067975594028, 0.6074528, 4.0)]\n",
      "Road Instance 5, angle: 9, 25: [(47.999939999999995, 24.969459999999998, 0.6074528, 4.0), (47.99994, 49.96946, 0.6074528, 4.0), (52.341144441673265, 74.58965382530519, 0.6074528, 4.0), (51.032745535599666, 99.55539219416954, 0.6074528, 4.0), (43.72345291753125, 123.46301109324543, 0.6074528, 4.0), (39.38224847585799, 148.08320491855062, 0.6074528, 4.0), (38.50976105829547, 173.067975594028, 0.6074528, 4.0), (33.739536173881845, 197.6086551802196, 0.6074528, 4.0)]\n",
      "finished road generation\n",
      "IndividualToScenario: Function is zigzag_mapping/zigzag_mapping\n",
      "Segment lengths are None\n",
      "Started Road Generation\n",
      "Road Instance 0, angle: -9, 25: [(47.999939999999995, 24.969459999999998, 0.6074528, 4.0), (47.99994, 49.96946, 0.6074528, 4.0), (52.341144441673265, 74.58965382530519, 0.6074528, 4.0)]\n",
      "Road Instance 1, angle: 14, 25: [(47.999939999999995, 24.969459999999998, 0.6074528, 4.0), (47.99994, 49.96946, 0.6074528, 4.0), (52.341144441673265, 74.58965382530519, 0.6074528, 4.0), (51.032745535599666, 99.55539219416954, 0.6074528, 4.0)]\n",
      "Road Instance 2, angle: 14, 25: [(47.999939999999995, 24.969459999999998, 0.6074528, 4.0), (47.99994, 49.96946, 0.6074528, 4.0), (52.341144441673265, 74.58965382530519, 0.6074528, 4.0), (51.032745535599666, 99.55539219416954, 0.6074528, 4.0), (43.72345291753125, 123.46301109324543, 0.6074528, 4.0)]\n",
      "Road Instance 3, angle: -7, 25: [(47.999939999999995, 24.969459999999998, 0.6074528, 4.0), (47.99994, 49.96946, 0.6074528, 4.0), (52.341144441673265, 74.58965382530519, 0.6074528, 4.0), (51.032745535599666, 99.55539219416954, 0.6074528, 4.0), (43.72345291753125, 123.46301109324543, 0.6074528, 4.0), (39.38224847585799, 148.08320491855062, 0.6074528, 4.0)]\n",
      "Road Instance 4, angle: -8, 25: [(47.999939999999995, 24.969459999999998, 0.6074528, 4.0), (47.99994, 49.96946, 0.6074528, 4.0), (52.341144441673265, 74.58965382530519, 0.6074528, 4.0), (51.032745535599666, 99.55539219416954, 0.6074528, 4.0), (43.72345291753125, 123.46301109324543, 0.6074528, 4.0), (39.38224847585799, 148.08320491855062, 0.6074528, 4.0), (38.50976105829547, 173.067975594028, 0.6074528, 4.0)]\n",
      "Road Instance 5, angle: 10, 25: [(47.999939999999995, 24.969459999999998, 0.6074528, 4.0), (47.99994, 49.96946, 0.6074528, 4.0), (52.341144441673265, 74.58965382530519, 0.6074528, 4.0), (51.032745535599666, 99.55539219416954, 0.6074528, 4.0), (43.72345291753125, 123.46301109324543, 0.6074528, 4.0), (39.38224847585799, 148.08320491855062, 0.6074528, 4.0), (38.50976105829547, 173.067975594028, 0.6074528, 4.0), (33.311968787851484, 197.52166561237317, 0.6074528, 4.0)]\n",
      "finished road generation\n",
      "IndividualToScenario: Function is zigzag_mapping/zigzag_mapping\n",
      "Segment lengths are None\n",
      "Started Road Generation\n",
      "Road Instance 0, angle: -9, 25: [(47.999939999999995, 24.969459999999998, 0.6074528, 4.0), (47.99994, 49.96946, 0.6074528, 4.0), (52.341144441673265, 74.58965382530519, 0.6074528, 4.0)]\n",
      "Road Instance 1, angle: 14, 25: [(47.999939999999995, 24.969459999999998, 0.6074528, 4.0), (47.99994, 49.96946, 0.6074528, 4.0), (52.341144441673265, 74.58965382530519, 0.6074528, 4.0), (51.032745535599666, 99.55539219416954, 0.6074528, 4.0)]\n",
      "Road Instance 2, angle: 14, 25: [(47.999939999999995, 24.969459999999998, 0.6074528, 4.0), (47.99994, 49.96946, 0.6074528, 4.0), (52.341144441673265, 74.58965382530519, 0.6074528, 4.0), (51.032745535599666, 99.55539219416954, 0.6074528, 4.0), (43.72345291753125, 123.46301109324543, 0.6074528, 4.0)]\n",
      "Road Instance 3, angle: -7, 25: [(47.999939999999995, 24.969459999999998, 0.6074528, 4.0), (47.99994, 49.96946, 0.6074528, 4.0), (52.341144441673265, 74.58965382530519, 0.6074528, 4.0), (51.032745535599666, 99.55539219416954, 0.6074528, 4.0), (43.72345291753125, 123.46301109324543, 0.6074528, 4.0), (39.38224847585799, 148.08320491855062, 0.6074528, 4.0)]\n",
      "Road Instance 4, angle: -8, 25: [(47.999939999999995, 24.969459999999998, 0.6074528, 4.0), (47.99994, 49.96946, 0.6074528, 4.0), (52.341144441673265, 74.58965382530519, 0.6074528, 4.0), (51.032745535599666, 99.55539219416954, 0.6074528, 4.0), (43.72345291753125, 123.46301109324543, 0.6074528, 4.0), (39.38224847585799, 148.08320491855062, 0.6074528, 4.0), (38.50976105829547, 173.067975594028, 0.6074528, 4.0)]\n",
      "Road Instance 5, angle: -18, 25: [(47.999939999999995, 24.969459999999998, 0.6074528, 4.0), (47.99994, 49.96946, 0.6074528, 4.0), (52.341144441673265, 74.58965382530519, 0.6074528, 4.0), (51.032745535599666, 99.55539219416954, 0.6074528, 4.0), (43.72345291753125, 123.46301109324543, 0.6074528, 4.0), (39.38224847585799, 148.08320491855062, 0.6074528, 4.0), (38.50976105829547, 173.067975594028, 0.6074528, 4.0), (45.400694953720446, 197.09951799248597, 0.6074528, 4.0)]\n",
      "finished road generation\n",
      "IndividualToScenario: Function is zigzag_mapping/zigzag_mapping\n",
      "Segment lengths are None\n",
      "Started Road Generation\n",
      "Road Instance 0, angle: -9, 25: [(47.999939999999995, 24.969459999999998, 0.6074528, 4.0), (47.99994, 49.96946, 0.6074528, 4.0), (52.341144441673265, 74.58965382530519, 0.6074528, 4.0)]\n",
      "Road Instance 1, angle: 14, 25: [(47.999939999999995, 24.969459999999998, 0.6074528, 4.0), (47.99994, 49.96946, 0.6074528, 4.0), (52.341144441673265, 74.58965382530519, 0.6074528, 4.0), (51.032745535599666, 99.55539219416954, 0.6074528, 4.0)]\n",
      "Road Instance 2, angle: 14, 25: [(47.999939999999995, 24.969459999999998, 0.6074528, 4.0), (47.99994, 49.96946, 0.6074528, 4.0), (52.341144441673265, 74.58965382530519, 0.6074528, 4.0), (51.032745535599666, 99.55539219416954, 0.6074528, 4.0), (43.72345291753125, 123.46301109324543, 0.6074528, 4.0)]\n",
      "Road Instance 3, angle: -7, 25: [(47.999939999999995, 24.969459999999998, 0.6074528, 4.0), (47.99994, 49.96946, 0.6074528, 4.0), (52.341144441673265, 74.58965382530519, 0.6074528, 4.0), (51.032745535599666, 99.55539219416954, 0.6074528, 4.0), (43.72345291753125, 123.46301109324543, 0.6074528, 4.0), (39.38224847585799, 148.08320491855062, 0.6074528, 4.0)]\n",
      "Road Instance 4, angle: -8, 25: [(47.999939999999995, 24.969459999999998, 0.6074528, 4.0), (47.99994, 49.96946, 0.6074528, 4.0), (52.341144441673265, 74.58965382530519, 0.6074528, 4.0), (51.032745535599666, 99.55539219416954, 0.6074528, 4.0), (43.72345291753125, 123.46301109324543, 0.6074528, 4.0), (39.38224847585799, 148.08320491855062, 0.6074528, 4.0), (38.50976105829547, 173.067975594028, 0.6074528, 4.0)]\n",
      "Road Instance 5, angle: 9, 25: [(47.999939999999995, 24.969459999999998, 0.6074528, 4.0), (47.99994, 49.96946, 0.6074528, 4.0), (52.341144441673265, 74.58965382530519, 0.6074528, 4.0), (51.032745535599666, 99.55539219416954, 0.6074528, 4.0), (43.72345291753125, 123.46301109324543, 0.6074528, 4.0), (39.38224847585799, 148.08320491855062, 0.6074528, 4.0), (38.50976105829547, 173.067975594028, 0.6074528, 4.0), (33.739536173881845, 197.6086551802196, 0.6074528, 4.0)]\n",
      "finished road generation\n",
      "IndividualToScenario: Function is zigzag_mapping/zigzag_mapping\n",
      "----- Finished Perturbation-Controller set up -----\n",
      "INFO:SDSandBoxSimulator:Reset the scenario\n"
     ]
    },
    {
     "name": "stderr",
     "output_type": "stream",
     "text": [
      "2024-01-18 11:26:08,587 INFO     Reset the scenario\n"
     ]
    },
    {
     "name": "stdout",
     "output_type": "stream",
     "text": [
      "fps 18.56\n",
      "fps 19.73\n",
      "fps 19.72\n",
      "fps 19.72\n",
      "fps 19.72\n",
      "SDSandBox: Finished scenario\n",
      "fps 19.69\n",
      "INFO:SDSandBoxSimulator:Reset the scenario\n"
     ]
    },
    {
     "name": "stderr",
     "output_type": "stream",
     "text": [
      "2024-01-18 11:26:40,515 INFO     Reset the scenario\n"
     ]
    },
    {
     "name": "stdout",
     "output_type": "stream",
     "text": [
      "fps 19.77\n",
      "Exception: [Errno 54] Connection reset by peer\n",
      "CRITICAL:DonkeySimMsgHandler:DonkeySimMsgHandler: +++++ Warning: Donkey Sim Aborted +++++\n"
     ]
    },
    {
     "name": "stderr",
     "output_type": "stream",
     "text": [
      "2024-01-18 11:26:47,788 CRITICAL DonkeySimMsgHandler: +++++ Warning: Donkey Sim Aborted +++++\n"
     ]
    },
    {
     "name": "stdout",
     "output_type": "stream",
     "text": [
      "INFO:DonkeySimMsgHandler:DonkeySimMsgHandler: +++++ Warning: Donkey Sim Message Stoped +++++\n"
     ]
    },
    {
     "name": "stderr",
     "output_type": "stream",
     "text": [
      "2024-01-18 11:26:47,793 INFO     DonkeySimMsgHandler: +++++ Warning: Donkey Sim Message Stoped +++++\n"
     ]
    },
    {
     "name": "stdout",
     "output_type": "stream",
     "text": [
      "fps 19.70\n",
      "fps 19.72\n",
      "fps 19.70\n",
      "fps 19.72\n",
      "SDSandBox: Finished scenario\n",
      "fps 19.67\n",
      "INFO:SDSandBoxSimulator:Reset the scenario\n"
     ]
    },
    {
     "name": "stderr",
     "output_type": "stream",
     "text": [
      "2024-01-18 11:27:10,319 INFO     Reset the scenario\n"
     ]
    },
    {
     "name": "stdout",
     "output_type": "stream",
     "text": [
      "fps 19.70\n",
      "fps 19.71\n",
      "fps 19.68\n",
      "fps 19.72\n",
      "fps 19.70\n",
      "fps 19.72\n",
      "SDSandBox: Finished scenario\n",
      "fps 19.16\n",
      "INFO:SDSandBoxSimulator:Reset the scenario\n"
     ]
    },
    {
     "name": "stderr",
     "output_type": "stream",
     "text": [
      "2024-01-18 11:27:45,731 INFO     Reset the scenario\n"
     ]
    },
    {
     "name": "stdout",
     "output_type": "stream",
     "text": [
      "fps 19.69\n",
      "fps 19.72\n",
      "fps 19.77\n",
      "fps 19.74\n",
      "fps 19.74\n",
      "SDSandBox: Finished scenario\n",
      "fps 19.68\n",
      "INFO:SDSandBoxSimulator:Reset the scenario\n"
     ]
    },
    {
     "name": "stderr",
     "output_type": "stream",
     "text": [
      "2024-01-18 11:28:15,946 INFO     Reset the scenario\n"
     ]
    },
    {
     "name": "stdout",
     "output_type": "stream",
     "text": [
      "fps 19.74\n",
      "fps 18.32\n",
      "fps 19.72\n",
      "fps 19.70\n",
      "fps 19.76\n",
      "fps 19.73\n",
      "fps 19.74\n",
      "SDSandBox: Finished scenario\n",
      "fps 19.69\n",
      "INFO:SDSandBoxSimulator:Reset the scenario\n"
     ]
    },
    {
     "name": "stderr",
     "output_type": "stream",
     "text": [
      "2024-01-18 11:28:57,825 INFO     Reset the scenario\n"
     ]
    },
    {
     "name": "stdout",
     "output_type": "stream",
     "text": [
      "fps 19.73\n",
      "fps 19.71\n",
      "fps 19.72\n",
      "fps 19.71\n",
      "fps 19.75\n",
      "SDSandBox: Finished scenario\n",
      "fps 19.69\n",
      "INFO:DonkeySimMsgHandler:DonkeySimMsgHandler: +++++ Warning: Donkey Sim Disconnected +++++\n"
     ]
    },
    {
     "name": "stderr",
     "output_type": "stream",
     "text": [
      "2024-01-18 11:29:27,824 INFO     DonkeySimMsgHandler: +++++ Warning: Donkey Sim Disconnected +++++\n"
     ]
    },
    {
     "name": "stdout",
     "output_type": "stream",
     "text": [
      "INFO:DonkeyProcess:Closing donkey sim subprocess\n"
     ]
    },
    {
     "name": "stderr",
     "output_type": "stream",
     "text": [
      "2024-01-18 11:29:27,826 INFO     Closing donkey sim subprocess\n",
      "2024-01-18 11:29:27,926 INFO     Running evaluation number 17\n"
     ]
    },
    {
     "name": "stdout",
     "output_type": "stream",
     "text": [
      "    16 |       96 |      2 |  0.000000E+00 |             f\n",
      "Using model: generated_dave_v5\n",
      "INFO:DonkeyProcess:This is the launch string /Users/hannesleonhard/Documents/BachelorWInfo/Robustness-SDC/PerturbationDrive/./examples/self_driving_sandbox_donkey/sim/donkey-sim.app/Contents/MacOS/Simulator\n"
     ]
    },
    {
     "name": "stderr",
     "output_type": "stream",
     "text": [
      "2024-01-18 11:29:28,100 INFO     This is the launch string /Users/hannesleonhard/Documents/BachelorWInfo/Robustness-SDC/PerturbationDrive/./examples/self_driving_sandbox_donkey/sim/donkey-sim.app/Contents/MacOS/Simulator\n"
     ]
    },
    {
     "name": "stdout",
     "output_type": "stream",
     "text": [
      "[UnityMemory] Configuration Parameters - Can be set up in boot.config\n",
      "    \"memorysetup-bucket-allocator-granularity=16\"\n",
      "    \"memorysetup-bucket-allocator-bucket-count=8\"\n",
      "    \"memorysetup-bucket-allocator-block-size=4194304\"\n",
      "    \"memorysetup-bucket-allocator-block-count=1\"\n",
      "    \"memorysetup-main-allocator-block-size=16777216\"\n",
      "    \"memorysetup-thread-allocator-block-size=16777216\"\n",
      "    \"memorysetup-gfx-main-allocator-block-size=16777216\"\n",
      "    \"memorysetup-gfx-thread-allocator-block-size=16777216\"\n",
      "    \"memorysetup-cache-allocator-block-size=4194304\"\n",
      "    \"memorysetup-typetree-allocator-block-size=2097152\"\n",
      "    \"memorysetup-profiler-bucket-allocator-granularity=16\"\n",
      "    \"memorysetup-profiler-bucket-allocator-bucket-count=8\"\n",
      "    \"memorysetup-profiler-bucket-allocator-block-size=4194304\"\n",
      "    \"memorysetup-profiler-bucket-allocator-block-count=1\"\n",
      "    \"memorysetup-profiler-allocator-block-size=16777216\"\n",
      "    \"memorysetup-profiler-editor-allocator-block-size=1048576\"\n",
      "    \"memorysetup-temp-allocator-size-main=4194304\"\n",
      "    \"memorysetup-job-temp-allocator-block-size=2097152\"\n",
      "    \"memorysetup-job-temp-allocator-block-size-background=1048576\"\n",
      "    \"memorysetup-job-temp-allocator-reduction-small-platforms=262144\"\n",
      "    \"memorysetup-allocator-temp-initial-block-size-main=262144\"\n",
      "    \"memorysetup-allocator-temp-initial-block-size-worker=262144\"\n",
      "    \"memorysetup-temp-allocator-size-background-worker=32768\"\n",
      "    \"memorysetup-temp-allocator-size-job-worker=262144\"\n",
      "    \"memorysetup-temp-allocator-size-preload-manager=262144\"\n",
      "    \"memorysetup-temp-allocator-size-nav-mesh-worker=65536\"\n",
      "    \"memorysetup-temp-allocator-size-audio-worker=65536\"\n",
      "    \"memorysetup-temp-allocator-size-cloud-worker=32768\"\n",
      "    \"memorysetup-temp-allocator-size-gfx=262144\"\n",
      "INFO:DonkeyProcess:donkey subprocess started\n"
     ]
    },
    {
     "name": "stderr",
     "output_type": "stream",
     "text": [
      "2024-01-18 11:29:48,113 INFO     donkey subprocess started\n"
     ]
    },
    {
     "name": "stdout",
     "output_type": "stream",
     "text": [
      "INFO:SDSandBoxSimulator:Waiting for inital obs\n"
     ]
    },
    {
     "name": "stderr",
     "output_type": "stream",
     "text": [
      "2024-01-18 11:29:48,164 INFO     Waiting for inital obs\n"
     ]
    },
    {
     "name": "stdout",
     "output_type": "stream",
     "text": [
      "INFO:SDSandBoxSimulator:Waiting for inital obs\n"
     ]
    },
    {
     "name": "stderr",
     "output_type": "stream",
     "text": [
      "2024-01-18 11:29:48,206 INFO     Waiting for inital obs\n"
     ]
    },
    {
     "name": "stdout",
     "output_type": "stream",
     "text": [
      "INFO:SDSandBoxSimulator:Waiting for inital obs\n"
     ]
    },
    {
     "name": "stderr",
     "output_type": "stream",
     "text": [
      "2024-01-18 11:29:48,248 INFO     Waiting for inital obs\n"
     ]
    },
    {
     "name": "stdout",
     "output_type": "stream",
     "text": [
      "INFO:SDSandBoxSimulator:Waiting for inital obs\n"
     ]
    },
    {
     "name": "stderr",
     "output_type": "stream",
     "text": [
      "2024-01-18 11:29:48,289 INFO     Waiting for inital obs\n"
     ]
    },
    {
     "name": "stdout",
     "output_type": "stream",
     "text": [
      "INFO:SDSandBoxSimulator:Waiting for inital obs\n"
     ]
    },
    {
     "name": "stderr",
     "output_type": "stream",
     "text": [
      "2024-01-18 11:29:48,332 INFO     Waiting for inital obs\n"
     ]
    },
    {
     "name": "stdout",
     "output_type": "stream",
     "text": [
      "INFO:SDSandBoxSimulator:Waiting for inital obs\n"
     ]
    },
    {
     "name": "stderr",
     "output_type": "stream",
     "text": [
      "2024-01-18 11:29:48,373 INFO     Waiting for inital obs\n"
     ]
    },
    {
     "name": "stdout",
     "output_type": "stream",
     "text": [
      "INFO:SDSandBoxSimulator:Waiting for inital obs\n"
     ]
    },
    {
     "name": "stderr",
     "output_type": "stream",
     "text": [
      "2024-01-18 11:29:48,415 INFO     Waiting for inital obs\n"
     ]
    },
    {
     "name": "stdout",
     "output_type": "stream",
     "text": [
      "INFO:SDSandBoxSimulator:Waiting for inital obs\n"
     ]
    },
    {
     "name": "stderr",
     "output_type": "stream",
     "text": [
      "2024-01-18 11:29:48,456 INFO     Waiting for inital obs\n"
     ]
    },
    {
     "name": "stdout",
     "output_type": "stream",
     "text": [
      "INFO:DonkeySimMsgHandler:DonkeySimMsgHandler: ----- Car Created With Data {'msg_type': 'car_loaded'} -----\n"
     ]
    },
    {
     "name": "stderr",
     "output_type": "stream",
     "text": [
      "2024-01-18 11:29:48,476 INFO     DonkeySimMsgHandler: ----- Car Created With Data {'msg_type': 'car_loaded'} -----\n"
     ]
    },
    {
     "name": "stdout",
     "output_type": "stream",
     "text": [
      "INFO:SDSandBoxSimulator:Waiting for inital obs\n"
     ]
    },
    {
     "name": "stderr",
     "output_type": "stream",
     "text": [
      "2024-01-18 11:29:48,498 INFO     Waiting for inital obs\n"
     ]
    },
    {
     "name": "stdout",
     "output_type": "stream",
     "text": [
      "INFO:SDSandBoxSimulator:Waiting for inital obs\n"
     ]
    },
    {
     "name": "stderr",
     "output_type": "stream",
     "text": [
      "2024-01-18 11:29:48,539 INFO     Waiting for inital obs\n"
     ]
    },
    {
     "name": "stdout",
     "output_type": "stream",
     "text": [
      "Segment lengths are None\n",
      "Started Road Generation\n",
      "Road Instance 0, angle: -9, 25: [(47.999979999999994, 24.96965, 0.6099315, 4.0), (47.99998, 49.96965, 0.6099315, 4.0), (52.34118444167326, 74.5898438253052, 0.6099315, 4.0)]\n",
      "Road Instance 1, angle: 14, 25: [(47.999979999999994, 24.96965, 0.6099315, 4.0), (47.99998, 49.96965, 0.6099315, 4.0), (52.34118444167326, 74.5898438253052, 0.6099315, 4.0), (51.032785535599665, 99.55558219416955, 0.6099315, 4.0)]\n",
      "Road Instance 2, angle: 14, 25: [(47.999979999999994, 24.96965, 0.6099315, 4.0), (47.99998, 49.96965, 0.6099315, 4.0), (52.34118444167326, 74.5898438253052, 0.6099315, 4.0), (51.032785535599665, 99.55558219416955, 0.6099315, 4.0), (43.723492917531246, 123.46320109324543, 0.6099315, 4.0)]\n",
      "Road Instance 3, angle: -7, 25: [(47.999979999999994, 24.96965, 0.6099315, 4.0), (47.99998, 49.96965, 0.6099315, 4.0), (52.34118444167326, 74.5898438253052, 0.6099315, 4.0), (51.032785535599665, 99.55558219416955, 0.6099315, 4.0), (43.723492917531246, 123.46320109324543, 0.6099315, 4.0), (39.38228847585799, 148.08339491855062, 0.6099315, 4.0)]\n",
      "Road Instance 4, angle: -8, 25: [(47.999979999999994, 24.96965, 0.6099315, 4.0), (47.99998, 49.96965, 0.6099315, 4.0), (52.34118444167326, 74.5898438253052, 0.6099315, 4.0), (51.032785535599665, 99.55558219416955, 0.6099315, 4.0), (43.723492917531246, 123.46320109324543, 0.6099315, 4.0), (39.38228847585799, 148.08339491855062, 0.6099315, 4.0), (38.509801058295466, 173.06816559402802, 0.6099315, 4.0)]\n",
      "Road Instance 5, angle: -18, 25: [(47.999979999999994, 24.96965, 0.6099315, 4.0), (47.99998, 49.96965, 0.6099315, 4.0), (52.34118444167326, 74.5898438253052, 0.6099315, 4.0), (51.032785535599665, 99.55558219416955, 0.6099315, 4.0), (43.723492917531246, 123.46320109324543, 0.6099315, 4.0), (39.38228847585799, 148.08339491855062, 0.6099315, 4.0), (38.509801058295466, 173.06816559402802, 0.6099315, 4.0), (45.400734953720445, 197.099707992486, 0.6099315, 4.0)]\n",
      "finished road generation\n",
      "IndividualToScenario: Function is zigzag_mapping/zigzag_mapping\n",
      "Segment lengths are None\n",
      "Started Road Generation\n",
      "Road Instance 0, angle: -9, 25: [(47.999979999999994, 24.96965, 0.6099315, 4.0), (47.99998, 49.96965, 0.6099315, 4.0), (52.34118444167326, 74.5898438253052, 0.6099315, 4.0)]\n",
      "Road Instance 1, angle: 14, 25: [(47.999979999999994, 24.96965, 0.6099315, 4.0), (47.99998, 49.96965, 0.6099315, 4.0), (52.34118444167326, 74.5898438253052, 0.6099315, 4.0), (51.032785535599665, 99.55558219416955, 0.6099315, 4.0)]\n",
      "Road Instance 2, angle: 14, 25: [(47.999979999999994, 24.96965, 0.6099315, 4.0), (47.99998, 49.96965, 0.6099315, 4.0), (52.34118444167326, 74.5898438253052, 0.6099315, 4.0), (51.032785535599665, 99.55558219416955, 0.6099315, 4.0), (43.723492917531246, 123.46320109324543, 0.6099315, 4.0)]\n",
      "Road Instance 3, angle: 11, 25: [(47.999979999999994, 24.96965, 0.6099315, 4.0), (47.99998, 49.96965, 0.6099315, 4.0), (52.34118444167326, 74.5898438253052, 0.6099315, 4.0), (51.032785535599665, 99.55558219416955, 0.6099315, 4.0), (43.723492917531246, 123.46320109324543, 0.6099315, 4.0), (31.986703847883973, 145.5368909147186, 0.6099315, 4.0)]\n",
      "Road Instance 4, angle: -8, 25: [(47.999979999999994, 24.96965, 0.6099315, 4.0), (47.99998, 49.96965, 0.6099315, 4.0), (52.34118444167326, 74.5898438253052, 0.6099315, 4.0), (51.032785535599665, 99.55558219416955, 0.6099315, 4.0), (43.723492917531246, 123.46320109324543, 0.6099315, 4.0), (31.986703847883973, 145.5368909147186, 0.6099315, 4.0), (23.436200264742254, 169.02920643436633, 0.6099315, 4.0)]\n",
      "Road Instance 5, angle: -16, 25: [(47.999979999999994, 24.96965, 0.6099315, 4.0), (47.99998, 49.96965, 0.6099315, 4.0), (52.34118444167326, 74.5898438253052, 0.6099315, 4.0), (51.032785535599665, 99.55558219416955, 0.6099315, 4.0), (43.723492917531246, 123.46320109324543, 0.6099315, 4.0), (31.986703847883973, 145.5368909147186, 0.6099315, 4.0), (23.436200264742254, 169.02920643436633, 0.6099315, 4.0), (21.69228842113912, 193.96830769086193, 0.6099315, 4.0)]\n",
      "finished road generation\n",
      "IndividualToScenario: Function is zigzag_mapping/zigzag_mapping\n",
      "Segment lengths are None\n",
      "Started Road Generation\n",
      "Road Instance 0, angle: -9, 25: [(47.999979999999994, 24.96965, 0.6099315, 4.0), (47.99998, 49.96965, 0.6099315, 4.0), (52.34118444167326, 74.5898438253052, 0.6099315, 4.0)]\n",
      "Road Instance 1, angle: 14, 25: [(47.999979999999994, 24.96965, 0.6099315, 4.0), (47.99998, 49.96965, 0.6099315, 4.0), (52.34118444167326, 74.5898438253052, 0.6099315, 4.0), (51.032785535599665, 99.55558219416955, 0.6099315, 4.0)]\n",
      "Road Instance 2, angle: 14, 25: [(47.999979999999994, 24.96965, 0.6099315, 4.0), (47.99998, 49.96965, 0.6099315, 4.0), (52.34118444167326, 74.5898438253052, 0.6099315, 4.0), (51.032785535599665, 99.55558219416955, 0.6099315, 4.0), (43.723492917531246, 123.46320109324543, 0.6099315, 4.0)]\n",
      "Road Instance 3, angle: 12, 25: [(47.999979999999994, 24.96965, 0.6099315, 4.0), (47.99998, 49.96965, 0.6099315, 4.0), (52.34118444167326, 74.5898438253052, 0.6099315, 4.0), (51.032785535599665, 99.55558219416955, 0.6099315, 4.0), (43.723492917531246, 123.46320109324543, 0.6099315, 4.0), (31.60325241137282, 145.32869377173031, 0.6099315, 4.0)]\n",
      "Road Instance 4, angle: -8, 25: [(47.999979999999994, 24.96965, 0.6099315, 4.0), (47.99998, 49.96965, 0.6099315, 4.0), (52.34118444167326, 74.5898438253052, 0.6099315, 4.0), (51.032785535599665, 99.55558219416955, 0.6099315, 4.0), (43.723492917531246, 123.46320109324543, 0.6099315, 4.0), (31.60325241137282, 145.32869377173031, 0.6099315, 4.0), (22.644053672740313, 168.66820443416037, 0.6099315, 4.0)]\n",
      "Road Instance 5, angle: -17, 25: [(47.999979999999994, 24.96965, 0.6099315, 4.0), (47.99998, 49.96965, 0.6099315, 4.0), (52.34118444167326, 74.5898438253052, 0.6099315, 4.0), (51.032785535599665, 99.55558219416955, 0.6099315, 4.0), (43.723492917531246, 123.46320109324543, 0.6099315, 4.0), (31.60325241137282, 145.32869377173031, 0.6099315, 4.0), (22.644053672740313, 168.66820443416037, 0.6099315, 4.0), (21.335654766666718, 193.63394280302472, 0.6099315, 4.0)]\n",
      "finished road generation\n",
      "IndividualToScenario: Function is zigzag_mapping/zigzag_mapping\n",
      "Segment lengths are None\n",
      "Started Road Generation\n",
      "Road Instance 0, angle: -9, 25: [(47.999979999999994, 24.96965, 0.6099315, 4.0), (47.99998, 49.96965, 0.6099315, 4.0), (52.34118444167326, 74.5898438253052, 0.6099315, 4.0)]\n",
      "Road Instance 1, angle: 14, 25: [(47.999979999999994, 24.96965, 0.6099315, 4.0), (47.99998, 49.96965, 0.6099315, 4.0), (52.34118444167326, 74.5898438253052, 0.6099315, 4.0), (51.032785535599665, 99.55558219416955, 0.6099315, 4.0)]\n",
      "Road Instance 2, angle: 14, 25: [(47.999979999999994, 24.96965, 0.6099315, 4.0), (47.99998, 49.96965, 0.6099315, 4.0), (52.34118444167326, 74.5898438253052, 0.6099315, 4.0), (51.032785535599665, 99.55558219416955, 0.6099315, 4.0), (43.723492917531246, 123.46320109324543, 0.6099315, 4.0)]\n",
      "Road Instance 3, angle: 12, 25: [(47.999979999999994, 24.96965, 0.6099315, 4.0), (47.99998, 49.96965, 0.6099315, 4.0), (52.34118444167326, 74.5898438253052, 0.6099315, 4.0), (51.032785535599665, 99.55558219416955, 0.6099315, 4.0), (43.723492917531246, 123.46320109324543, 0.6099315, 4.0), (31.60325241137282, 145.32869377173031, 0.6099315, 4.0)]\n",
      "Road Instance 4, angle: -8, 25: [(47.999979999999994, 24.96965, 0.6099315, 4.0), (47.99998, 49.96965, 0.6099315, 4.0), (52.34118444167326, 74.5898438253052, 0.6099315, 4.0), (51.032785535599665, 99.55558219416955, 0.6099315, 4.0), (43.723492917531246, 123.46320109324543, 0.6099315, 4.0), (31.60325241137282, 145.32869377173031, 0.6099315, 4.0), (22.644053672740313, 168.66820443416037, 0.6099315, 4.0)]\n",
      "Road Instance 5, angle: 10, 25: [(47.999979999999994, 24.96965, 0.6099315, 4.0), (47.99998, 49.96965, 0.6099315, 4.0), (52.34118444167326, 74.5898438253052, 0.6099315, 4.0), (51.032785535599665, 99.55558219416955, 0.6099315, 4.0), (43.723492917531246, 123.46320109324543, 0.6099315, 4.0), (31.60325241137282, 145.32869377173031, 0.6099315, 4.0), (22.644053672740313, 168.66820443416037, 0.6099315, 4.0), (10.144053672740316, 190.31883952877135, 0.6099315, 4.0)]\n",
      "finished road generation\n",
      "IndividualToScenario: Function is zigzag_mapping/zigzag_mapping\n",
      "Segment lengths are None\n",
      "Started Road Generation\n",
      "Road Instance 0, angle: -9, 25: [(47.999979999999994, 24.96965, 0.6099315, 4.0), (47.99998, 49.96965, 0.6099315, 4.0), (52.34118444167326, 74.5898438253052, 0.6099315, 4.0)]\n",
      "Road Instance 1, angle: 14, 25: [(47.999979999999994, 24.96965, 0.6099315, 4.0), (47.99998, 49.96965, 0.6099315, 4.0), (52.34118444167326, 74.5898438253052, 0.6099315, 4.0), (51.032785535599665, 99.55558219416955, 0.6099315, 4.0)]\n",
      "Road Instance 2, angle: 14, 25: [(47.999979999999994, 24.96965, 0.6099315, 4.0), (47.99998, 49.96965, 0.6099315, 4.0), (52.34118444167326, 74.5898438253052, 0.6099315, 4.0), (51.032785535599665, 99.55558219416955, 0.6099315, 4.0), (43.723492917531246, 123.46320109324543, 0.6099315, 4.0)]\n",
      "Road Instance 3, angle: -7, 25: [(47.999979999999994, 24.96965, 0.6099315, 4.0), (47.99998, 49.96965, 0.6099315, 4.0), (52.34118444167326, 74.5898438253052, 0.6099315, 4.0), (51.032785535599665, 99.55558219416955, 0.6099315, 4.0), (43.723492917531246, 123.46320109324543, 0.6099315, 4.0), (39.38228847585799, 148.08339491855062, 0.6099315, 4.0)]\n",
      "Road Instance 4, angle: -8, 25: [(47.999979999999994, 24.96965, 0.6099315, 4.0), (47.99998, 49.96965, 0.6099315, 4.0), (52.34118444167326, 74.5898438253052, 0.6099315, 4.0), (51.032785535599665, 99.55558219416955, 0.6099315, 4.0), (43.723492917531246, 123.46320109324543, 0.6099315, 4.0), (39.38228847585799, 148.08339491855062, 0.6099315, 4.0), (38.509801058295466, 173.06816559402802, 0.6099315, 4.0)]\n",
      "Road Instance 5, angle: -18, 25: [(47.999979999999994, 24.96965, 0.6099315, 4.0), (47.99998, 49.96965, 0.6099315, 4.0), (52.34118444167326, 74.5898438253052, 0.6099315, 4.0), (51.032785535599665, 99.55558219416955, 0.6099315, 4.0), (43.723492917531246, 123.46320109324543, 0.6099315, 4.0), (39.38228847585799, 148.08339491855062, 0.6099315, 4.0), (38.509801058295466, 173.06816559402802, 0.6099315, 4.0), (45.400734953720445, 197.099707992486, 0.6099315, 4.0)]\n",
      "finished road generation\n",
      "IndividualToScenario: Function is zigzag_mapping/zigzag_mapping\n",
      "Segment lengths are None\n",
      "Started Road Generation\n",
      "Road Instance 0, angle: -9, 25: [(47.999979999999994, 24.96965, 0.6099315, 4.0), (47.99998, 49.96965, 0.6099315, 4.0), (52.34118444167326, 74.5898438253052, 0.6099315, 4.0)]\n",
      "Road Instance 1, angle: 14, 25: [(47.999979999999994, 24.96965, 0.6099315, 4.0), (47.99998, 49.96965, 0.6099315, 4.0), (52.34118444167326, 74.5898438253052, 0.6099315, 4.0), (51.032785535599665, 99.55558219416955, 0.6099315, 4.0)]\n",
      "Road Instance 2, angle: 14, 25: [(47.999979999999994, 24.96965, 0.6099315, 4.0), (47.99998, 49.96965, 0.6099315, 4.0), (52.34118444167326, 74.5898438253052, 0.6099315, 4.0), (51.032785535599665, 99.55558219416955, 0.6099315, 4.0), (43.723492917531246, 123.46320109324543, 0.6099315, 4.0)]\n",
      "Road Instance 3, angle: -7, 25: [(47.999979999999994, 24.96965, 0.6099315, 4.0), (47.99998, 49.96965, 0.6099315, 4.0), (52.34118444167326, 74.5898438253052, 0.6099315, 4.0), (51.032785535599665, 99.55558219416955, 0.6099315, 4.0), (43.723492917531246, 123.46320109324543, 0.6099315, 4.0), (39.38228847585799, 148.08339491855062, 0.6099315, 4.0)]\n",
      "Road Instance 4, angle: -8, 25: [(47.999979999999994, 24.96965, 0.6099315, 4.0), (47.99998, 49.96965, 0.6099315, 4.0), (52.34118444167326, 74.5898438253052, 0.6099315, 4.0), (51.032785535599665, 99.55558219416955, 0.6099315, 4.0), (43.723492917531246, 123.46320109324543, 0.6099315, 4.0), (39.38228847585799, 148.08339491855062, 0.6099315, 4.0), (38.509801058295466, 173.06816559402802, 0.6099315, 4.0)]\n",
      "Road Instance 5, angle: -18, 25: [(47.999979999999994, 24.96965, 0.6099315, 4.0), (47.99998, 49.96965, 0.6099315, 4.0), (52.34118444167326, 74.5898438253052, 0.6099315, 4.0), (51.032785535599665, 99.55558219416955, 0.6099315, 4.0), (43.723492917531246, 123.46320109324543, 0.6099315, 4.0), (39.38228847585799, 148.08339491855062, 0.6099315, 4.0), (38.509801058295466, 173.06816559402802, 0.6099315, 4.0), (45.400734953720445, 197.099707992486, 0.6099315, 4.0)]\n",
      "finished road generation\n",
      "IndividualToScenario: Function is zigzag_mapping/zigzag_mapping\n",
      "----- Finished Perturbation-Controller set up -----\n",
      "INFO:SDSandBoxSimulator:Reset the scenario\n"
     ]
    },
    {
     "name": "stderr",
     "output_type": "stream",
     "text": [
      "2024-01-18 11:29:48,622 INFO     Reset the scenario\n"
     ]
    },
    {
     "name": "stdout",
     "output_type": "stream",
     "text": [
      "fps 18.66\n",
      "fps 19.74\n",
      "fps 19.71\n",
      "fps 19.73\n",
      "fps 17.16\n",
      "SDSandBox: Finished scenario\n",
      "fps 17.82\n",
      "INFO:SDSandBoxSimulator:Reset the scenario\n"
     ]
    },
    {
     "name": "stderr",
     "output_type": "stream",
     "text": [
      "2024-01-18 11:30:20,471 INFO     Reset the scenario\n"
     ]
    },
    {
     "name": "stdout",
     "output_type": "stream",
     "text": [
      "fps 19.73\n",
      "Exception: [Errno 54] Connection reset by peer\n",
      "CRITICAL:DonkeySimMsgHandler:DonkeySimMsgHandler: +++++ Warning: Donkey Sim Aborted +++++\n"
     ]
    },
    {
     "name": "stderr",
     "output_type": "stream",
     "text": [
      "2024-01-18 11:30:27,901 CRITICAL DonkeySimMsgHandler: +++++ Warning: Donkey Sim Aborted +++++\n"
     ]
    },
    {
     "name": "stdout",
     "output_type": "stream",
     "text": [
      "INFO:DonkeySimMsgHandler:DonkeySimMsgHandler: +++++ Warning: Donkey Sim Message Stoped +++++\n"
     ]
    },
    {
     "name": "stderr",
     "output_type": "stream",
     "text": [
      "2024-01-18 11:30:27,904 INFO     DonkeySimMsgHandler: +++++ Warning: Donkey Sim Message Stoped +++++\n"
     ]
    },
    {
     "name": "stdout",
     "output_type": "stream",
     "text": [
      "fps 17.15\n",
      "fps 19.69\n",
      "fps 19.70\n",
      "fps 19.72\n",
      "SDSandBox: Finished scenario\n",
      "fps 19.67\n",
      "INFO:SDSandBoxSimulator:Reset the scenario\n"
     ]
    },
    {
     "name": "stderr",
     "output_type": "stream",
     "text": [
      "2024-01-18 11:30:51,423 INFO     Reset the scenario\n"
     ]
    },
    {
     "name": "stdout",
     "output_type": "stream",
     "text": [
      "fps 19.74\n",
      "fps 19.73\n",
      "fps 19.72\n",
      "fps 19.70\n",
      "fps 19.70\n",
      "fps 19.70\n",
      "SDSandBox: Finished scenario\n",
      "fps 16.80\n",
      "INFO:SDSandBoxSimulator:Reset the scenario\n"
     ]
    },
    {
     "name": "stderr",
     "output_type": "stream",
     "text": [
      "2024-01-18 11:31:28,169 INFO     Reset the scenario\n"
     ]
    },
    {
     "name": "stdout",
     "output_type": "stream",
     "text": [
      "fps 18.33\n",
      "fps 19.70\n",
      "fps 19.71\n",
      "fps 19.71\n",
      "fps 19.68\n",
      "SDSandBox: Finished scenario\n",
      "INFO:SDSandBoxSimulator:Reset the scenario\n"
     ]
    },
    {
     "name": "stderr",
     "output_type": "stream",
     "text": [
      "2024-01-18 11:31:57,771 INFO     Reset the scenario\n"
     ]
    },
    {
     "name": "stdout",
     "output_type": "stream",
     "text": [
      "fps 19.67\n",
      "fps 19.74\n",
      "fps 19.70\n",
      "fps 19.70\n",
      "fps 19.72\n",
      "fps 19.71\n",
      "SDSandBox: Finished scenario\n",
      "fps 19.72\n",
      "INFO:SDSandBoxSimulator:Reset the scenario\n"
     ]
    },
    {
     "name": "stderr",
     "output_type": "stream",
     "text": [
      "2024-01-18 11:32:30,949 INFO     Reset the scenario\n"
     ]
    },
    {
     "name": "stdout",
     "output_type": "stream",
     "text": [
      "fps 19.67\n",
      "fps 19.72\n",
      "fps 18.57\n",
      "fps 19.76\n",
      "fps 17.86\n",
      "fps 19.69\n",
      "SDSandBox: Finished scenario\n",
      "fps 19.66\n",
      "INFO:DonkeySimMsgHandler:DonkeySimMsgHandler: +++++ Warning: Donkey Sim Disconnected +++++\n"
     ]
    },
    {
     "name": "stderr",
     "output_type": "stream",
     "text": [
      "2024-01-18 11:33:05,728 INFO     DonkeySimMsgHandler: +++++ Warning: Donkey Sim Disconnected +++++\n"
     ]
    },
    {
     "name": "stdout",
     "output_type": "stream",
     "text": [
      "INFO:DonkeyProcess:Closing donkey sim subprocess\n"
     ]
    },
    {
     "name": "stderr",
     "output_type": "stream",
     "text": [
      "2024-01-18 11:33:05,731 INFO     Closing donkey sim subprocess\n",
      "2024-01-18 11:33:05,833 INFO     Running evaluation number 18\n"
     ]
    },
    {
     "name": "stdout",
     "output_type": "stream",
     "text": [
      "    17 |      102 |      2 |  0.000000E+00 |             f\n",
      "Using model: generated_dave_v5\n",
      "INFO:DonkeyProcess:This is the launch string /Users/hannesleonhard/Documents/BachelorWInfo/Robustness-SDC/PerturbationDrive/./examples/self_driving_sandbox_donkey/sim/donkey-sim.app/Contents/MacOS/Simulator\n"
     ]
    },
    {
     "name": "stderr",
     "output_type": "stream",
     "text": [
      "2024-01-18 11:33:06,042 INFO     This is the launch string /Users/hannesleonhard/Documents/BachelorWInfo/Robustness-SDC/PerturbationDrive/./examples/self_driving_sandbox_donkey/sim/donkey-sim.app/Contents/MacOS/Simulator\n"
     ]
    },
    {
     "name": "stdout",
     "output_type": "stream",
     "text": [
      "[UnityMemory] Configuration Parameters - Can be set up in boot.config\n",
      "    \"memorysetup-bucket-allocator-granularity=16\"\n",
      "    \"memorysetup-bucket-allocator-bucket-count=8\"\n",
      "    \"memorysetup-bucket-allocator-block-size=4194304\"\n",
      "    \"memorysetup-bucket-allocator-block-count=1\"\n",
      "    \"memorysetup-main-allocator-block-size=16777216\"\n",
      "    \"memorysetup-thread-allocator-block-size=16777216\"\n",
      "    \"memorysetup-gfx-main-allocator-block-size=16777216\"\n",
      "    \"memorysetup-gfx-thread-allocator-block-size=16777216\"\n",
      "    \"memorysetup-cache-allocator-block-size=4194304\"\n",
      "    \"memorysetup-typetree-allocator-block-size=2097152\"\n",
      "    \"memorysetup-profiler-bucket-allocator-granularity=16\"\n",
      "    \"memorysetup-profiler-bucket-allocator-bucket-count=8\"\n",
      "    \"memorysetup-profiler-bucket-allocator-block-size=4194304\"\n",
      "    \"memorysetup-profiler-bucket-allocator-block-count=1\"\n",
      "    \"memorysetup-profiler-allocator-block-size=16777216\"\n",
      "    \"memorysetup-profiler-editor-allocator-block-size=1048576\"\n",
      "    \"memorysetup-temp-allocator-size-main=4194304\"\n",
      "    \"memorysetup-job-temp-allocator-block-size=2097152\"\n",
      "    \"memorysetup-job-temp-allocator-block-size-background=1048576\"\n",
      "    \"memorysetup-job-temp-allocator-reduction-small-platforms=262144\"\n",
      "    \"memorysetup-allocator-temp-initial-block-size-main=262144\"\n",
      "    \"memorysetup-allocator-temp-initial-block-size-worker=262144\"\n",
      "    \"memorysetup-temp-allocator-size-background-worker=32768\"\n",
      "    \"memorysetup-temp-allocator-size-job-worker=262144\"\n",
      "    \"memorysetup-temp-allocator-size-preload-manager=262144\"\n",
      "    \"memorysetup-temp-allocator-size-nav-mesh-worker=65536\"\n",
      "    \"memorysetup-temp-allocator-size-audio-worker=65536\"\n",
      "    \"memorysetup-temp-allocator-size-cloud-worker=32768\"\n",
      "    \"memorysetup-temp-allocator-size-gfx=262144\"\n",
      "INFO:DonkeyProcess:donkey subprocess started\n"
     ]
    },
    {
     "name": "stderr",
     "output_type": "stream",
     "text": [
      "2024-01-18 11:33:26,060 INFO     donkey subprocess started\n"
     ]
    },
    {
     "name": "stdout",
     "output_type": "stream",
     "text": [
      "INFO:SDSandBoxSimulator:Waiting for inital obs\n"
     ]
    },
    {
     "name": "stderr",
     "output_type": "stream",
     "text": [
      "2024-01-18 11:33:26,112 INFO     Waiting for inital obs\n"
     ]
    },
    {
     "name": "stdout",
     "output_type": "stream",
     "text": [
      "INFO:SDSandBoxSimulator:Waiting for inital obs\n"
     ]
    },
    {
     "name": "stderr",
     "output_type": "stream",
     "text": [
      "2024-01-18 11:33:26,154 INFO     Waiting for inital obs\n"
     ]
    },
    {
     "name": "stdout",
     "output_type": "stream",
     "text": [
      "INFO:SDSandBoxSimulator:Waiting for inital obs\n"
     ]
    },
    {
     "name": "stderr",
     "output_type": "stream",
     "text": [
      "2024-01-18 11:33:26,196 INFO     Waiting for inital obs\n"
     ]
    },
    {
     "name": "stdout",
     "output_type": "stream",
     "text": [
      "INFO:SDSandBoxSimulator:Waiting for inital obs\n"
     ]
    },
    {
     "name": "stderr",
     "output_type": "stream",
     "text": [
      "2024-01-18 11:33:26,238 INFO     Waiting for inital obs\n"
     ]
    },
    {
     "name": "stdout",
     "output_type": "stream",
     "text": [
      "INFO:SDSandBoxSimulator:Waiting for inital obs\n"
     ]
    },
    {
     "name": "stderr",
     "output_type": "stream",
     "text": [
      "2024-01-18 11:33:26,280 INFO     Waiting for inital obs\n"
     ]
    },
    {
     "name": "stdout",
     "output_type": "stream",
     "text": [
      "INFO:SDSandBoxSimulator:Waiting for inital obs\n"
     ]
    },
    {
     "name": "stderr",
     "output_type": "stream",
     "text": [
      "2024-01-18 11:33:26,322 INFO     Waiting for inital obs\n"
     ]
    },
    {
     "name": "stdout",
     "output_type": "stream",
     "text": [
      "INFO:SDSandBoxSimulator:Waiting for inital obs\n"
     ]
    },
    {
     "name": "stderr",
     "output_type": "stream",
     "text": [
      "2024-01-18 11:33:26,364 INFO     Waiting for inital obs\n"
     ]
    },
    {
     "name": "stdout",
     "output_type": "stream",
     "text": [
      "INFO:SDSandBoxSimulator:Waiting for inital obs\n"
     ]
    },
    {
     "name": "stderr",
     "output_type": "stream",
     "text": [
      "2024-01-18 11:33:26,405 INFO     Waiting for inital obs\n"
     ]
    },
    {
     "name": "stdout",
     "output_type": "stream",
     "text": [
      "INFO:DonkeySimMsgHandler:DonkeySimMsgHandler: ----- Car Created With Data {'msg_type': 'car_loaded'} -----\n"
     ]
    },
    {
     "name": "stderr",
     "output_type": "stream",
     "text": [
      "2024-01-18 11:33:26,441 INFO     DonkeySimMsgHandler: ----- Car Created With Data {'msg_type': 'car_loaded'} -----\n"
     ]
    },
    {
     "name": "stdout",
     "output_type": "stream",
     "text": [
      "INFO:SDSandBoxSimulator:Waiting for inital obs\n"
     ]
    },
    {
     "name": "stderr",
     "output_type": "stream",
     "text": [
      "2024-01-18 11:33:26,447 INFO     Waiting for inital obs\n"
     ]
    },
    {
     "name": "stdout",
     "output_type": "stream",
     "text": [
      "INFO:SDSandBoxSimulator:Waiting for inital obs\n"
     ]
    },
    {
     "name": "stderr",
     "output_type": "stream",
     "text": [
      "2024-01-18 11:33:26,488 INFO     Waiting for inital obs\n"
     ]
    },
    {
     "name": "stdout",
     "output_type": "stream",
     "text": [
      "Segment lengths are None\n",
      "Started Road Generation\n",
      "Road Instance 0, angle: -9, 25: [(47.999939999999995, 24.969459999999998, 0.6074528, 4.0), (47.99994, 49.96946, 0.6074528, 4.0), (52.341144441673265, 74.58965382530519, 0.6074528, 4.0)]\n",
      "Road Instance 1, angle: 14, 25: [(47.999939999999995, 24.969459999999998, 0.6074528, 4.0), (47.99994, 49.96946, 0.6074528, 4.0), (52.341144441673265, 74.58965382530519, 0.6074528, 4.0), (51.032745535599666, 99.55539219416954, 0.6074528, 4.0)]\n",
      "Road Instance 2, angle: 14, 25: [(47.999939999999995, 24.969459999999998, 0.6074528, 4.0), (47.99994, 49.96946, 0.6074528, 4.0), (52.341144441673265, 74.58965382530519, 0.6074528, 4.0), (51.032745535599666, 99.55539219416954, 0.6074528, 4.0), (43.72345291753125, 123.46301109324543, 0.6074528, 4.0)]\n",
      "Road Instance 3, angle: -7, 25: [(47.999939999999995, 24.969459999999998, 0.6074528, 4.0), (47.99994, 49.96946, 0.6074528, 4.0), (52.341144441673265, 74.58965382530519, 0.6074528, 4.0), (51.032745535599666, 99.55539219416954, 0.6074528, 4.0), (43.72345291753125, 123.46301109324543, 0.6074528, 4.0), (39.38224847585799, 148.08320491855062, 0.6074528, 4.0)]\n",
      "Road Instance 4, angle: -8, 25: [(47.999939999999995, 24.969459999999998, 0.6074528, 4.0), (47.99994, 49.96946, 0.6074528, 4.0), (52.341144441673265, 74.58965382530519, 0.6074528, 4.0), (51.032745535599666, 99.55539219416954, 0.6074528, 4.0), (43.72345291753125, 123.46301109324543, 0.6074528, 4.0), (39.38224847585799, 148.08320491855062, 0.6074528, 4.0), (38.50976105829547, 173.067975594028, 0.6074528, 4.0)]\n",
      "Road Instance 5, angle: -18, 25: [(47.999939999999995, 24.969459999999998, 0.6074528, 4.0), (47.99994, 49.96946, 0.6074528, 4.0), (52.341144441673265, 74.58965382530519, 0.6074528, 4.0), (51.032745535599666, 99.55539219416954, 0.6074528, 4.0), (43.72345291753125, 123.46301109324543, 0.6074528, 4.0), (39.38224847585799, 148.08320491855062, 0.6074528, 4.0), (38.50976105829547, 173.067975594028, 0.6074528, 4.0), (45.400694953720446, 197.09951799248597, 0.6074528, 4.0)]\n",
      "finished road generation\n",
      "IndividualToScenario: Function is zigzag_mapping/zigzag_mapping\n",
      "Segment lengths are None\n",
      "Started Road Generation\n",
      "Road Instance 0, angle: -9, 25: [(47.999939999999995, 24.969459999999998, 0.6074528, 4.0), (47.99994, 49.96946, 0.6074528, 4.0), (52.341144441673265, 74.58965382530519, 0.6074528, 4.0)]\n",
      "Road Instance 1, angle: 14, 25: [(47.999939999999995, 24.969459999999998, 0.6074528, 4.0), (47.99994, 49.96946, 0.6074528, 4.0), (52.341144441673265, 74.58965382530519, 0.6074528, 4.0), (51.032745535599666, 99.55539219416954, 0.6074528, 4.0)]\n",
      "Road Instance 2, angle: 14, 25: [(47.999939999999995, 24.969459999999998, 0.6074528, 4.0), (47.99994, 49.96946, 0.6074528, 4.0), (52.341144441673265, 74.58965382530519, 0.6074528, 4.0), (51.032745535599666, 99.55539219416954, 0.6074528, 4.0), (43.72345291753125, 123.46301109324543, 0.6074528, 4.0)]\n",
      "Road Instance 3, angle: 11, 25: [(47.999939999999995, 24.969459999999998, 0.6074528, 4.0), (47.99994, 49.96946, 0.6074528, 4.0), (52.341144441673265, 74.58965382530519, 0.6074528, 4.0), (51.032745535599666, 99.55539219416954, 0.6074528, 4.0), (43.72345291753125, 123.46301109324543, 0.6074528, 4.0), (31.986663847883975, 145.5367009147186, 0.6074528, 4.0)]\n",
      "Road Instance 4, angle: -8, 25: [(47.999939999999995, 24.969459999999998, 0.6074528, 4.0), (47.99994, 49.96946, 0.6074528, 4.0), (52.341144441673265, 74.58965382530519, 0.6074528, 4.0), (51.032745535599666, 99.55539219416954, 0.6074528, 4.0), (43.72345291753125, 123.46301109324543, 0.6074528, 4.0), (31.986663847883975, 145.5367009147186, 0.6074528, 4.0), (23.436160264742256, 169.02901643436633, 0.6074528, 4.0)]\n",
      "Road Instance 5, angle: 10, 25: [(47.999939999999995, 24.969459999999998, 0.6074528, 4.0), (47.99994, 49.96946, 0.6074528, 4.0), (52.341144441673265, 74.58965382530519, 0.6074528, 4.0), (51.032745535599666, 99.55539219416954, 0.6074528, 4.0), (43.72345291753125, 123.46301109324543, 0.6074528, 4.0), (31.986663847883975, 145.5367009147186, 0.6074528, 4.0), (23.436160264742256, 169.02901643436633, 0.6074528, 4.0), (10.93616026474226, 190.6796515289773, 0.6074528, 4.0)]\n",
      "finished road generation\n",
      "IndividualToScenario: Function is zigzag_mapping/zigzag_mapping\n",
      "Segment lengths are None\n",
      "Started Road Generation\n",
      "Road Instance 0, angle: -9, 25: [(47.999939999999995, 24.969459999999998, 0.6074528, 4.0), (47.99994, 49.96946, 0.6074528, 4.0), (52.341144441673265, 74.58965382530519, 0.6074528, 4.0)]\n",
      "Road Instance 1, angle: 14, 25: [(47.999939999999995, 24.969459999999998, 0.6074528, 4.0), (47.99994, 49.96946, 0.6074528, 4.0), (52.341144441673265, 74.58965382530519, 0.6074528, 4.0), (51.032745535599666, 99.55539219416954, 0.6074528, 4.0)]\n",
      "Road Instance 2, angle: 14, 25: [(47.999939999999995, 24.969459999999998, 0.6074528, 4.0), (47.99994, 49.96946, 0.6074528, 4.0), (52.341144441673265, 74.58965382530519, 0.6074528, 4.0), (51.032745535599666, 99.55539219416954, 0.6074528, 4.0), (43.72345291753125, 123.46301109324543, 0.6074528, 4.0)]\n",
      "Road Instance 3, angle: -7, 25: [(47.999939999999995, 24.969459999999998, 0.6074528, 4.0), (47.99994, 49.96946, 0.6074528, 4.0), (52.341144441673265, 74.58965382530519, 0.6074528, 4.0), (51.032745535599666, 99.55539219416954, 0.6074528, 4.0), (43.72345291753125, 123.46301109324543, 0.6074528, 4.0), (39.38224847585799, 148.08320491855062, 0.6074528, 4.0)]\n",
      "Road Instance 4, angle: -8, 25: [(47.999939999999995, 24.969459999999998, 0.6074528, 4.0), (47.99994, 49.96946, 0.6074528, 4.0), (52.341144441673265, 74.58965382530519, 0.6074528, 4.0), (51.032745535599666, 99.55539219416954, 0.6074528, 4.0), (43.72345291753125, 123.46301109324543, 0.6074528, 4.0), (39.38224847585799, 148.08320491855062, 0.6074528, 4.0), (38.50976105829547, 173.067975594028, 0.6074528, 4.0)]\n",
      "Road Instance 5, angle: 9, 25: [(47.999939999999995, 24.969459999999998, 0.6074528, 4.0), (47.99994, 49.96946, 0.6074528, 4.0), (52.341144441673265, 74.58965382530519, 0.6074528, 4.0), (51.032745535599666, 99.55539219416954, 0.6074528, 4.0), (43.72345291753125, 123.46301109324543, 0.6074528, 4.0), (39.38224847585799, 148.08320491855062, 0.6074528, 4.0), (38.50976105829547, 173.067975594028, 0.6074528, 4.0), (33.739536173881845, 197.6086551802196, 0.6074528, 4.0)]\n",
      "finished road generation\n",
      "IndividualToScenario: Function is zigzag_mapping/zigzag_mapping\n",
      "Segment lengths are None\n",
      "Started Road Generation\n",
      "Road Instance 0, angle: -9, 25: [(47.999939999999995, 24.969459999999998, 0.6074528, 4.0), (47.99994, 49.96946, 0.6074528, 4.0), (52.341144441673265, 74.58965382530519, 0.6074528, 4.0)]\n",
      "Road Instance 1, angle: 14, 25: [(47.999939999999995, 24.969459999999998, 0.6074528, 4.0), (47.99994, 49.96946, 0.6074528, 4.0), (52.341144441673265, 74.58965382530519, 0.6074528, 4.0), (51.032745535599666, 99.55539219416954, 0.6074528, 4.0)]\n",
      "Road Instance 2, angle: 14, 25: [(47.999939999999995, 24.969459999999998, 0.6074528, 4.0), (47.99994, 49.96946, 0.6074528, 4.0), (52.341144441673265, 74.58965382530519, 0.6074528, 4.0), (51.032745535599666, 99.55539219416954, 0.6074528, 4.0), (43.72345291753125, 123.46301109324543, 0.6074528, 4.0)]\n",
      "Road Instance 3, angle: 11, 25: [(47.999939999999995, 24.969459999999998, 0.6074528, 4.0), (47.99994, 49.96946, 0.6074528, 4.0), (52.341144441673265, 74.58965382530519, 0.6074528, 4.0), (51.032745535599666, 99.55539219416954, 0.6074528, 4.0), (43.72345291753125, 123.46301109324543, 0.6074528, 4.0), (31.986663847883975, 145.5367009147186, 0.6074528, 4.0)]\n",
      "Road Instance 4, angle: -8, 25: [(47.999939999999995, 24.969459999999998, 0.6074528, 4.0), (47.99994, 49.96946, 0.6074528, 4.0), (52.341144441673265, 74.58965382530519, 0.6074528, 4.0), (51.032745535599666, 99.55539219416954, 0.6074528, 4.0), (43.72345291753125, 123.46301109324543, 0.6074528, 4.0), (31.986663847883975, 145.5367009147186, 0.6074528, 4.0), (23.436160264742256, 169.02901643436633, 0.6074528, 4.0)]\n",
      "Road Instance 5, angle: 10, 25: [(47.999939999999995, 24.969459999999998, 0.6074528, 4.0), (47.99994, 49.96946, 0.6074528, 4.0), (52.341144441673265, 74.58965382530519, 0.6074528, 4.0), (51.032745535599666, 99.55539219416954, 0.6074528, 4.0), (43.72345291753125, 123.46301109324543, 0.6074528, 4.0), (31.986663847883975, 145.5367009147186, 0.6074528, 4.0), (23.436160264742256, 169.02901643436633, 0.6074528, 4.0), (10.93616026474226, 190.6796515289773, 0.6074528, 4.0)]\n",
      "finished road generation\n",
      "IndividualToScenario: Function is zigzag_mapping/zigzag_mapping\n",
      "Segment lengths are None\n",
      "Started Road Generation\n",
      "Road Instance 0, angle: -9, 25: [(47.999939999999995, 24.969459999999998, 0.6074528, 4.0), (47.99994, 49.96946, 0.6074528, 4.0), (52.341144441673265, 74.58965382530519, 0.6074528, 4.0)]\n",
      "Road Instance 1, angle: 14, 25: [(47.999939999999995, 24.969459999999998, 0.6074528, 4.0), (47.99994, 49.96946, 0.6074528, 4.0), (52.341144441673265, 74.58965382530519, 0.6074528, 4.0), (51.032745535599666, 99.55539219416954, 0.6074528, 4.0)]\n",
      "Road Instance 2, angle: 14, 25: [(47.999939999999995, 24.969459999999998, 0.6074528, 4.0), (47.99994, 49.96946, 0.6074528, 4.0), (52.341144441673265, 74.58965382530519, 0.6074528, 4.0), (51.032745535599666, 99.55539219416954, 0.6074528, 4.0), (43.72345291753125, 123.46301109324543, 0.6074528, 4.0)]\n",
      "Road Instance 3, angle: -8, 25: [(47.999939999999995, 24.969459999999998, 0.6074528, 4.0), (47.99994, 49.96946, 0.6074528, 4.0), (52.341144441673265, 74.58965382530519, 0.6074528, 4.0), (51.032745535599666, 99.55539219416954, 0.6074528, 4.0), (43.72345291753125, 123.46301109324543, 0.6074528, 4.0), (39.81259129152548, 148.15521960812387, 0.6074528, 4.0)]\n",
      "Road Instance 4, angle: -8, 25: [(47.999939999999995, 24.969459999999998, 0.6074528, 4.0), (47.99994, 49.96946, 0.6074528, 4.0), (52.341144441673265, 74.58965382530519, 0.6074528, 4.0), (51.032745535599666, 99.55539219416954, 0.6074528, 4.0), (43.72345291753125, 123.46301109324543, 0.6074528, 4.0), (39.81259129152548, 148.15521960812387, 0.6074528, 4.0), (39.37628113059339, 173.15141198703367, 0.6074528, 4.0)]\n",
      "Road Instance 5, angle: 10, 25: [(47.999939999999995, 24.969459999999998, 0.6074528, 4.0), (47.99994, 49.96946, 0.6074528, 4.0), (52.341144441673265, 74.58965382530519, 0.6074528, 4.0), (51.032745535599666, 99.55539219416954, 0.6074528, 4.0), (43.72345291753125, 123.46301109324543, 0.6074528, 4.0), (39.81259129152548, 148.15521960812387, 0.6074528, 4.0), (39.37628113059339, 173.15141198703367, 0.6074528, 4.0), (34.60605624617977, 197.69209157322527, 0.6074528, 4.0)]\n",
      "finished road generation\n",
      "IndividualToScenario: Function is zigzag_mapping/zigzag_mapping\n",
      "Segment lengths are None\n",
      "Started Road Generation\n",
      "Road Instance 0, angle: -9, 25: [(47.999939999999995, 24.969459999999998, 0.6074528, 4.0), (47.99994, 49.96946, 0.6074528, 4.0), (52.341144441673265, 74.58965382530519, 0.6074528, 4.0)]\n",
      "Road Instance 1, angle: 14, 25: [(47.999939999999995, 24.969459999999998, 0.6074528, 4.0), (47.99994, 49.96946, 0.6074528, 4.0), (52.341144441673265, 74.58965382530519, 0.6074528, 4.0), (51.032745535599666, 99.55539219416954, 0.6074528, 4.0)]\n",
      "Road Instance 2, angle: 14, 25: [(47.999939999999995, 24.969459999999998, 0.6074528, 4.0), (47.99994, 49.96946, 0.6074528, 4.0), (52.341144441673265, 74.58965382530519, 0.6074528, 4.0), (51.032745535599666, 99.55539219416954, 0.6074528, 4.0), (43.72345291753125, 123.46301109324543, 0.6074528, 4.0)]\n",
      "Road Instance 3, angle: 12, 25: [(47.999939999999995, 24.969459999999998, 0.6074528, 4.0), (47.99994, 49.96946, 0.6074528, 4.0), (52.341144441673265, 74.58965382530519, 0.6074528, 4.0), (51.032745535599666, 99.55539219416954, 0.6074528, 4.0), (43.72345291753125, 123.46301109324543, 0.6074528, 4.0), (31.603212411372823, 145.3285037717303, 0.6074528, 4.0)]\n",
      "Road Instance 4, angle: -8, 25: [(47.999939999999995, 24.969459999999998, 0.6074528, 4.0), (47.99994, 49.96946, 0.6074528, 4.0), (52.341144441673265, 74.58965382530519, 0.6074528, 4.0), (51.032745535599666, 99.55539219416954, 0.6074528, 4.0), (43.72345291753125, 123.46301109324543, 0.6074528, 4.0), (31.603212411372823, 145.3285037717303, 0.6074528, 4.0), (22.644013672740314, 168.66801443416034, 0.6074528, 4.0)]\n",
      "Road Instance 5, angle: 9, 25: [(47.999939999999995, 24.969459999999998, 0.6074528, 4.0), (47.99994, 49.96946, 0.6074528, 4.0), (52.341144441673265, 74.58965382530519, 0.6074528, 4.0), (51.032745535599666, 99.55539219416954, 0.6074528, 4.0), (43.72345291753125, 123.46301109324543, 0.6074528, 4.0), (31.603212411372823, 145.3285037717303, 0.6074528, 4.0), (22.644013672740314, 168.66801443416034, 0.6074528, 4.0), (10.144013672740318, 190.31864952877132, 0.6074528, 4.0)]\n",
      "finished road generation\n",
      "IndividualToScenario: Function is zigzag_mapping/zigzag_mapping\n",
      "----- Finished Perturbation-Controller set up -----\n",
      "INFO:SDSandBoxSimulator:Reset the scenario\n"
     ]
    },
    {
     "name": "stderr",
     "output_type": "stream",
     "text": [
      "2024-01-18 11:33:26,569 INFO     Reset the scenario\n"
     ]
    },
    {
     "name": "stdout",
     "output_type": "stream",
     "text": [
      "fps 18.58\n",
      "fps 19.71\n",
      "fps 19.72\n",
      "fps 19.73\n",
      "fps 19.71\n",
      "fps 19.72\n",
      "fps 19.72\n",
      "SDSandBox: Finished scenario\n",
      "Exception: [Errno 54] Connection reset by peer\n",
      "CRITICAL:DonkeySimMsgHandler:DonkeySimMsgHandler: +++++ Warning: Donkey Sim Aborted +++++\n"
     ]
    },
    {
     "name": "stderr",
     "output_type": "stream",
     "text": [
      "2024-01-18 11:34:05,756 CRITICAL DonkeySimMsgHandler: +++++ Warning: Donkey Sim Aborted +++++\n"
     ]
    },
    {
     "name": "stdout",
     "output_type": "stream",
     "text": [
      "INFO:DonkeySimMsgHandler:DonkeySimMsgHandler: +++++ Warning: Donkey Sim Message Stoped +++++\n"
     ]
    },
    {
     "name": "stderr",
     "output_type": "stream",
     "text": [
      "2024-01-18 11:34:05,761 INFO     DonkeySimMsgHandler: +++++ Warning: Donkey Sim Message Stoped +++++\n"
     ]
    },
    {
     "name": "stdout",
     "output_type": "stream",
     "text": [
      "fps 19.72\n",
      "INFO:SDSandBoxSimulator:Reset the scenario\n"
     ]
    },
    {
     "name": "stderr",
     "output_type": "stream",
     "text": [
      "2024-01-18 11:34:08,060 INFO     Reset the scenario\n"
     ]
    },
    {
     "name": "stdout",
     "output_type": "stream",
     "text": [
      "fps 19.74\n",
      "fps 19.69\n",
      "fps 19.72\n",
      "fps 19.68\n",
      "fps 19.70\n",
      "fps 19.72\n",
      "SDSandBox: Finished scenario\n",
      "fps 19.67\n",
      "INFO:SDSandBoxSimulator:Reset the scenario\n"
     ]
    },
    {
     "name": "stderr",
     "output_type": "stream",
     "text": [
      "2024-01-18 11:34:43,892 INFO     Reset the scenario\n"
     ]
    },
    {
     "name": "stdout",
     "output_type": "stream",
     "text": [
      "fps 19.73\n",
      "fps 19.70\n",
      "fps 19.69\n",
      "fps 19.70\n",
      "fps 19.70\n",
      "fps 19.70\n",
      "fps 19.70\n",
      "fps 19.70\n",
      "SDSandBox: Finished scenario\n",
      "INFO:SDSandBoxSimulator:Reset the scenario\n"
     ]
    },
    {
     "name": "stderr",
     "output_type": "stream",
     "text": [
      "2024-01-18 11:35:26,215 INFO     Reset the scenario\n"
     ]
    },
    {
     "name": "stdout",
     "output_type": "stream",
     "text": [
      "fps 19.70\n",
      "fps 19.75\n",
      "fps 19.71\n",
      "fps 19.70\n",
      "fps 19.70\n",
      "fps 19.69\n",
      "SDSandBox: Finished scenario\n",
      "INFO:SDSandBoxSimulator:Reset the scenario\n"
     ]
    },
    {
     "name": "stderr",
     "output_type": "stream",
     "text": [
      "2024-01-18 11:35:56,446 INFO     Reset the scenario\n"
     ]
    },
    {
     "name": "stdout",
     "output_type": "stream",
     "text": [
      "fps 19.71\n",
      "fps 19.70\n",
      "fps 19.73\n",
      "fps 19.71\n",
      "fps 18.59\n",
      "fps 19.71\n",
      "SDSandBox: Finished scenario\n",
      "fps 19.72\n",
      "INFO:SDSandBoxSimulator:Reset the scenario\n"
     ]
    },
    {
     "name": "stderr",
     "output_type": "stream",
     "text": [
      "2024-01-18 11:36:29,863 INFO     Reset the scenario\n"
     ]
    },
    {
     "name": "stdout",
     "output_type": "stream",
     "text": [
      "fps 19.72\n",
      "fps 18.46\n",
      "fps 19.73\n",
      "fps 19.70\n",
      "fps 19.70\n",
      "SDSandBox: Finished scenario\n",
      "INFO:DonkeySimMsgHandler:DonkeySimMsgHandler: +++++ Warning: Donkey Sim Disconnected +++++\n"
     ]
    },
    {
     "name": "stderr",
     "output_type": "stream",
     "text": [
      "2024-01-18 11:36:59,266 INFO     DonkeySimMsgHandler: +++++ Warning: Donkey Sim Disconnected +++++\n"
     ]
    },
    {
     "name": "stdout",
     "output_type": "stream",
     "text": [
      "INFO:DonkeyProcess:Closing donkey sim subprocess\n"
     ]
    },
    {
     "name": "stderr",
     "output_type": "stream",
     "text": [
      "2024-01-18 11:36:59,271 INFO     Closing donkey sim subprocess\n",
      "2024-01-18 11:36:59,381 INFO     Running evaluation number 19\n"
     ]
    },
    {
     "name": "stdout",
     "output_type": "stream",
     "text": [
      "    18 |      108 |      2 |  0.000000E+00 |             f\n",
      "INFO:DonkeySimMsgHandler:DonkeySimMsgHandler: +++++ Warning: Donkey Sim Message Closed by SimClient +++++\n"
     ]
    },
    {
     "name": "stderr",
     "output_type": "stream",
     "text": [
      "2024-01-18 11:36:59,669 INFO     DonkeySimMsgHandler: +++++ Warning: Donkey Sim Message Closed by SimClient +++++\n"
     ]
    },
    {
     "name": "stdout",
     "output_type": "stream",
     "text": [
      "INFO:DonkeySimMsgHandler:DonkeySimMsgHandler: +++++ Warning: Donkey Sim Message Stoped +++++\n"
     ]
    },
    {
     "name": "stderr",
     "output_type": "stream",
     "text": [
      "2024-01-18 11:36:59,672 INFO     DonkeySimMsgHandler: +++++ Warning: Donkey Sim Message Stoped +++++\n"
     ]
    },
    {
     "name": "stdout",
     "output_type": "stream",
     "text": [
      "INFO:DonkeySimMsgHandler:DonkeySimMsgHandler: +++++ Warning: Donkey Sim Message Closed by SimClient +++++\n"
     ]
    },
    {
     "name": "stderr",
     "output_type": "stream",
     "text": [
      "2024-01-18 11:36:59,674 INFO     DonkeySimMsgHandler: +++++ Warning: Donkey Sim Message Closed by SimClient +++++\n"
     ]
    },
    {
     "name": "stdout",
     "output_type": "stream",
     "text": [
      "INFO:DonkeySimMsgHandler:DonkeySimMsgHandler: +++++ Warning: Donkey Sim Message Stoped +++++\n"
     ]
    },
    {
     "name": "stderr",
     "output_type": "stream",
     "text": [
      "2024-01-18 11:36:59,676 INFO     DonkeySimMsgHandler: +++++ Warning: Donkey Sim Message Stoped +++++\n"
     ]
    },
    {
     "name": "stdout",
     "output_type": "stream",
     "text": [
      "INFO:DonkeySimMsgHandler:DonkeySimMsgHandler: +++++ Warning: Donkey Sim Message Closed by SimClient +++++\n"
     ]
    },
    {
     "name": "stderr",
     "output_type": "stream",
     "text": [
      "2024-01-18 11:36:59,678 INFO     DonkeySimMsgHandler: +++++ Warning: Donkey Sim Message Closed by SimClient +++++\n"
     ]
    },
    {
     "name": "stdout",
     "output_type": "stream",
     "text": [
      "INFO:DonkeySimMsgHandler:DonkeySimMsgHandler: +++++ Warning: Donkey Sim Message Stoped +++++\n"
     ]
    },
    {
     "name": "stderr",
     "output_type": "stream",
     "text": [
      "2024-01-18 11:36:59,680 INFO     DonkeySimMsgHandler: +++++ Warning: Donkey Sim Message Stoped +++++\n"
     ]
    },
    {
     "name": "stdout",
     "output_type": "stream",
     "text": [
      "INFO:DonkeySimMsgHandler:DonkeySimMsgHandler: +++++ Warning: Donkey Sim Message Closed by SimClient +++++\n"
     ]
    },
    {
     "name": "stderr",
     "output_type": "stream",
     "text": [
      "2024-01-18 11:36:59,682 INFO     DonkeySimMsgHandler: +++++ Warning: Donkey Sim Message Closed by SimClient +++++\n"
     ]
    },
    {
     "name": "stdout",
     "output_type": "stream",
     "text": [
      "INFO:DonkeySimMsgHandler:DonkeySimMsgHandler: +++++ Warning: Donkey Sim Message Stoped +++++\n"
     ]
    },
    {
     "name": "stderr",
     "output_type": "stream",
     "text": [
      "2024-01-18 11:36:59,684 INFO     DonkeySimMsgHandler: +++++ Warning: Donkey Sim Message Stoped +++++\n"
     ]
    },
    {
     "name": "stdout",
     "output_type": "stream",
     "text": [
      "INFO:DonkeySimMsgHandler:DonkeySimMsgHandler: +++++ Warning: Donkey Sim Message Closed by SimClient +++++\n"
     ]
    },
    {
     "name": "stderr",
     "output_type": "stream",
     "text": [
      "2024-01-18 11:36:59,685 INFO     DonkeySimMsgHandler: +++++ Warning: Donkey Sim Message Closed by SimClient +++++\n"
     ]
    },
    {
     "name": "stdout",
     "output_type": "stream",
     "text": [
      "INFO:DonkeySimMsgHandler:DonkeySimMsgHandler: +++++ Warning: Donkey Sim Message Stoped +++++\n"
     ]
    },
    {
     "name": "stderr",
     "output_type": "stream",
     "text": [
      "2024-01-18 11:36:59,687 INFO     DonkeySimMsgHandler: +++++ Warning: Donkey Sim Message Stoped +++++\n"
     ]
    },
    {
     "name": "stdout",
     "output_type": "stream",
     "text": [
      "INFO:DonkeySimMsgHandler:DonkeySimMsgHandler: +++++ Warning: Donkey Sim Message Closed by SimClient +++++\n"
     ]
    },
    {
     "name": "stderr",
     "output_type": "stream",
     "text": [
      "2024-01-18 11:36:59,690 INFO     DonkeySimMsgHandler: +++++ Warning: Donkey Sim Message Closed by SimClient +++++\n"
     ]
    },
    {
     "name": "stdout",
     "output_type": "stream",
     "text": [
      "INFO:DonkeySimMsgHandler:DonkeySimMsgHandler: +++++ Warning: Donkey Sim Message Stoped +++++\n"
     ]
    },
    {
     "name": "stderr",
     "output_type": "stream",
     "text": [
      "2024-01-18 11:36:59,692 INFO     DonkeySimMsgHandler: +++++ Warning: Donkey Sim Message Stoped +++++\n"
     ]
    },
    {
     "name": "stdout",
     "output_type": "stream",
     "text": [
      "INFO:DonkeySimMsgHandler:DonkeySimMsgHandler: +++++ Warning: Donkey Sim Message Closed by SimClient +++++\n"
     ]
    },
    {
     "name": "stderr",
     "output_type": "stream",
     "text": [
      "2024-01-18 11:36:59,696 INFO     DonkeySimMsgHandler: +++++ Warning: Donkey Sim Message Closed by SimClient +++++\n"
     ]
    },
    {
     "name": "stdout",
     "output_type": "stream",
     "text": [
      "INFO:DonkeySimMsgHandler:DonkeySimMsgHandler: +++++ Warning: Donkey Sim Message Stoped +++++\n"
     ]
    },
    {
     "name": "stderr",
     "output_type": "stream",
     "text": [
      "2024-01-18 11:36:59,697 INFO     DonkeySimMsgHandler: +++++ Warning: Donkey Sim Message Stoped +++++\n"
     ]
    },
    {
     "name": "stdout",
     "output_type": "stream",
     "text": [
      "INFO:DonkeySimMsgHandler:DonkeySimMsgHandler: +++++ Warning: Donkey Sim Message Closed by SimClient +++++\n"
     ]
    },
    {
     "name": "stderr",
     "output_type": "stream",
     "text": [
      "2024-01-18 11:36:59,700 INFO     DonkeySimMsgHandler: +++++ Warning: Donkey Sim Message Closed by SimClient +++++\n"
     ]
    },
    {
     "name": "stdout",
     "output_type": "stream",
     "text": [
      "INFO:DonkeySimMsgHandler:DonkeySimMsgHandler: +++++ Warning: Donkey Sim Message Stoped +++++\n"
     ]
    },
    {
     "name": "stderr",
     "output_type": "stream",
     "text": [
      "2024-01-18 11:36:59,701 INFO     DonkeySimMsgHandler: +++++ Warning: Donkey Sim Message Stoped +++++\n"
     ]
    },
    {
     "name": "stdout",
     "output_type": "stream",
     "text": [
      "INFO:DonkeySimMsgHandler:DonkeySimMsgHandler: +++++ Warning: Donkey Sim Message Closed by SimClient +++++\n"
     ]
    },
    {
     "name": "stderr",
     "output_type": "stream",
     "text": [
      "2024-01-18 11:36:59,703 INFO     DonkeySimMsgHandler: +++++ Warning: Donkey Sim Message Closed by SimClient +++++\n"
     ]
    },
    {
     "name": "stdout",
     "output_type": "stream",
     "text": [
      "INFO:DonkeySimMsgHandler:DonkeySimMsgHandler: +++++ Warning: Donkey Sim Message Stoped +++++\n"
     ]
    },
    {
     "name": "stderr",
     "output_type": "stream",
     "text": [
      "2024-01-18 11:36:59,706 INFO     DonkeySimMsgHandler: +++++ Warning: Donkey Sim Message Stoped +++++\n"
     ]
    },
    {
     "name": "stdout",
     "output_type": "stream",
     "text": [
      "INFO:DonkeySimMsgHandler:DonkeySimMsgHandler: +++++ Warning: Donkey Sim Message Closed by SimClient +++++\n"
     ]
    },
    {
     "name": "stderr",
     "output_type": "stream",
     "text": [
      "2024-01-18 11:36:59,708 INFO     DonkeySimMsgHandler: +++++ Warning: Donkey Sim Message Closed by SimClient +++++\n"
     ]
    },
    {
     "name": "stdout",
     "output_type": "stream",
     "text": [
      "INFO:DonkeySimMsgHandler:DonkeySimMsgHandler: +++++ Warning: Donkey Sim Message Stoped +++++\n"
     ]
    },
    {
     "name": "stderr",
     "output_type": "stream",
     "text": [
      "2024-01-18 11:36:59,718 INFO     DonkeySimMsgHandler: +++++ Warning: Donkey Sim Message Stoped +++++\n"
     ]
    },
    {
     "name": "stdout",
     "output_type": "stream",
     "text": [
      "Using model: generated_dave_v5\n",
      "INFO:DonkeyProcess:This is the launch string /Users/hannesleonhard/Documents/BachelorWInfo/Robustness-SDC/PerturbationDrive/./examples/self_driving_sandbox_donkey/sim/donkey-sim.app/Contents/MacOS/Simulator\n"
     ]
    },
    {
     "name": "stderr",
     "output_type": "stream",
     "text": [
      "2024-01-18 11:36:59,881 INFO     This is the launch string /Users/hannesleonhard/Documents/BachelorWInfo/Robustness-SDC/PerturbationDrive/./examples/self_driving_sandbox_donkey/sim/donkey-sim.app/Contents/MacOS/Simulator\n"
     ]
    },
    {
     "name": "stdout",
     "output_type": "stream",
     "text": [
      "[UnityMemory] Configuration Parameters - Can be set up in boot.config\n",
      "    \"memorysetup-bucket-allocator-granularity=16\"\n",
      "    \"memorysetup-bucket-allocator-bucket-count=8\"\n",
      "    \"memorysetup-bucket-allocator-block-size=4194304\"\n",
      "    \"memorysetup-bucket-allocator-block-count=1\"\n",
      "    \"memorysetup-main-allocator-block-size=16777216\"\n",
      "    \"memorysetup-thread-allocator-block-size=16777216\"\n",
      "    \"memorysetup-gfx-main-allocator-block-size=16777216\"\n",
      "    \"memorysetup-gfx-thread-allocator-block-size=16777216\"\n",
      "    \"memorysetup-cache-allocator-block-size=4194304\"\n",
      "    \"memorysetup-typetree-allocator-block-size=2097152\"\n",
      "    \"memorysetup-profiler-bucket-allocator-granularity=16\"\n",
      "    \"memorysetup-profiler-bucket-allocator-bucket-count=8\"\n",
      "    \"memorysetup-profiler-bucket-allocator-block-size=4194304\"\n",
      "    \"memorysetup-profiler-bucket-allocator-block-count=1\"\n",
      "    \"memorysetup-profiler-allocator-block-size=16777216\"\n",
      "    \"memorysetup-profiler-editor-allocator-block-size=1048576\"\n",
      "    \"memorysetup-temp-allocator-size-main=4194304\"\n",
      "    \"memorysetup-job-temp-allocator-block-size=2097152\"\n",
      "    \"memorysetup-job-temp-allocator-block-size-background=1048576\"\n",
      "    \"memorysetup-job-temp-allocator-reduction-small-platforms=262144\"\n",
      "    \"memorysetup-allocator-temp-initial-block-size-main=262144\"\n",
      "    \"memorysetup-allocator-temp-initial-block-size-worker=262144\"\n",
      "    \"memorysetup-temp-allocator-size-background-worker=32768\"\n",
      "    \"memorysetup-temp-allocator-size-job-worker=262144\"\n",
      "    \"memorysetup-temp-allocator-size-preload-manager=262144\"\n",
      "    \"memorysetup-temp-allocator-size-nav-mesh-worker=65536\"\n",
      "    \"memorysetup-temp-allocator-size-audio-worker=65536\"\n",
      "    \"memorysetup-temp-allocator-size-cloud-worker=32768\"\n",
      "    \"memorysetup-temp-allocator-size-gfx=262144\"\n",
      "INFO:DonkeyProcess:donkey subprocess started\n"
     ]
    },
    {
     "name": "stderr",
     "output_type": "stream",
     "text": [
      "2024-01-18 11:37:19,898 INFO     donkey subprocess started\n"
     ]
    },
    {
     "name": "stdout",
     "output_type": "stream",
     "text": [
      "INFO:SDSandBoxSimulator:Waiting for inital obs\n"
     ]
    },
    {
     "name": "stderr",
     "output_type": "stream",
     "text": [
      "2024-01-18 11:37:19,954 INFO     Waiting for inital obs\n"
     ]
    },
    {
     "name": "stdout",
     "output_type": "stream",
     "text": [
      "INFO:SDSandBoxSimulator:Waiting for inital obs\n"
     ]
    },
    {
     "name": "stderr",
     "output_type": "stream",
     "text": [
      "2024-01-18 11:37:19,996 INFO     Waiting for inital obs\n"
     ]
    },
    {
     "name": "stdout",
     "output_type": "stream",
     "text": [
      "INFO:SDSandBoxSimulator:Waiting for inital obs\n"
     ]
    },
    {
     "name": "stderr",
     "output_type": "stream",
     "text": [
      "2024-01-18 11:37:20,038 INFO     Waiting for inital obs\n"
     ]
    },
    {
     "name": "stdout",
     "output_type": "stream",
     "text": [
      "INFO:SDSandBoxSimulator:Waiting for inital obs\n"
     ]
    },
    {
     "name": "stderr",
     "output_type": "stream",
     "text": [
      "2024-01-18 11:37:20,079 INFO     Waiting for inital obs\n"
     ]
    },
    {
     "name": "stdout",
     "output_type": "stream",
     "text": [
      "INFO:SDSandBoxSimulator:Waiting for inital obs\n"
     ]
    },
    {
     "name": "stderr",
     "output_type": "stream",
     "text": [
      "2024-01-18 11:37:20,121 INFO     Waiting for inital obs\n"
     ]
    },
    {
     "name": "stdout",
     "output_type": "stream",
     "text": [
      "INFO:SDSandBoxSimulator:Waiting for inital obs\n"
     ]
    },
    {
     "name": "stderr",
     "output_type": "stream",
     "text": [
      "2024-01-18 11:37:20,162 INFO     Waiting for inital obs\n"
     ]
    },
    {
     "name": "stdout",
     "output_type": "stream",
     "text": [
      "INFO:SDSandBoxSimulator:Waiting for inital obs\n"
     ]
    },
    {
     "name": "stderr",
     "output_type": "stream",
     "text": [
      "2024-01-18 11:37:20,203 INFO     Waiting for inital obs\n"
     ]
    },
    {
     "name": "stdout",
     "output_type": "stream",
     "text": [
      "INFO:SDSandBoxSimulator:Waiting for inital obs\n"
     ]
    },
    {
     "name": "stderr",
     "output_type": "stream",
     "text": [
      "2024-01-18 11:37:20,245 INFO     Waiting for inital obs\n"
     ]
    },
    {
     "name": "stdout",
     "output_type": "stream",
     "text": [
      "INFO:SDSandBoxSimulator:Waiting for inital obs\n"
     ]
    },
    {
     "name": "stderr",
     "output_type": "stream",
     "text": [
      "2024-01-18 11:37:20,287 INFO     Waiting for inital obs\n"
     ]
    },
    {
     "name": "stdout",
     "output_type": "stream",
     "text": [
      "INFO:SDSandBoxSimulator:Waiting for inital obs\n"
     ]
    },
    {
     "name": "stderr",
     "output_type": "stream",
     "text": [
      "2024-01-18 11:37:20,329 INFO     Waiting for inital obs\n"
     ]
    },
    {
     "name": "stdout",
     "output_type": "stream",
     "text": [
      "INFO:SDSandBoxSimulator:Waiting for inital obs\n"
     ]
    },
    {
     "name": "stderr",
     "output_type": "stream",
     "text": [
      "2024-01-18 11:37:20,371 INFO     Waiting for inital obs\n"
     ]
    },
    {
     "name": "stdout",
     "output_type": "stream",
     "text": [
      "INFO:SDSandBoxSimulator:Waiting for inital obs\n"
     ]
    },
    {
     "name": "stderr",
     "output_type": "stream",
     "text": [
      "2024-01-18 11:37:20,413 INFO     Waiting for inital obs\n"
     ]
    },
    {
     "name": "stdout",
     "output_type": "stream",
     "text": [
      "INFO:SDSandBoxSimulator:Waiting for inital obs\n"
     ]
    },
    {
     "name": "stderr",
     "output_type": "stream",
     "text": [
      "2024-01-18 11:37:20,455 INFO     Waiting for inital obs\n"
     ]
    },
    {
     "name": "stdout",
     "output_type": "stream",
     "text": [
      "INFO:SDSandBoxSimulator:Waiting for inital obs\n"
     ]
    },
    {
     "name": "stderr",
     "output_type": "stream",
     "text": [
      "2024-01-18 11:37:20,497 INFO     Waiting for inital obs\n"
     ]
    },
    {
     "name": "stdout",
     "output_type": "stream",
     "text": [
      "INFO:SDSandBoxSimulator:Waiting for inital obs\n"
     ]
    },
    {
     "name": "stderr",
     "output_type": "stream",
     "text": [
      "2024-01-18 11:37:20,538 INFO     Waiting for inital obs\n"
     ]
    },
    {
     "name": "stdout",
     "output_type": "stream",
     "text": [
      "INFO:DonkeySimMsgHandler:DonkeySimMsgHandler: ----- Car Created With Data {'msg_type': 'car_loaded'} -----\n"
     ]
    },
    {
     "name": "stderr",
     "output_type": "stream",
     "text": [
      "2024-01-18 11:37:20,572 INFO     DonkeySimMsgHandler: ----- Car Created With Data {'msg_type': 'car_loaded'} -----\n"
     ]
    },
    {
     "name": "stdout",
     "output_type": "stream",
     "text": [
      "INFO:SDSandBoxSimulator:Waiting for inital obs\n"
     ]
    },
    {
     "name": "stderr",
     "output_type": "stream",
     "text": [
      "2024-01-18 11:37:20,579 INFO     Waiting for inital obs\n"
     ]
    },
    {
     "name": "stdout",
     "output_type": "stream",
     "text": [
      "INFO:SDSandBoxSimulator:Waiting for inital obs\n"
     ]
    },
    {
     "name": "stderr",
     "output_type": "stream",
     "text": [
      "2024-01-18 11:37:20,621 INFO     Waiting for inital obs\n"
     ]
    },
    {
     "name": "stdout",
     "output_type": "stream",
     "text": [
      "INFO:SDSandBoxSimulator:Waiting for inital obs\n"
     ]
    },
    {
     "name": "stderr",
     "output_type": "stream",
     "text": [
      "2024-01-18 11:37:20,664 INFO     Waiting for inital obs\n"
     ]
    },
    {
     "name": "stdout",
     "output_type": "stream",
     "text": [
      "Segment lengths are None\n",
      "Started Road Generation\n",
      "Road Instance 0, angle: -9, 25: [(47.99980999999999, 24.96891, 0.5995989, 4.0), (47.99981, 49.96891, 0.5995989, 4.0), (52.34101444167326, 74.5891038253052, 0.5995989, 4.0)]\n",
      "Road Instance 1, angle: 14, 25: [(47.99980999999999, 24.96891, 0.5995989, 4.0), (47.99981, 49.96891, 0.5995989, 4.0), (52.34101444167326, 74.5891038253052, 0.5995989, 4.0), (50.59710259807012, 99.5282050818008, 0.5995989, 4.0)]\n",
      "Road Instance 2, angle: 14, 25: [(47.99980999999999, 24.96891, 0.5995989, 4.0), (47.99981, 49.96891, 0.5995989, 4.0), (52.34101444167326, 74.5891038253052, 0.5995989, 4.0), (50.59710259807012, 99.5282050818008, 0.5995989, 4.0), (42.87167773869644, 123.30461798917965, 0.5995989, 4.0)]\n",
      "Road Instance 3, angle: -7, 25: [(47.99980999999999, 24.96891, 0.5995989, 4.0), (47.99981, 49.96891, 0.5995989, 4.0), (52.34101444167326, 74.5891038253052, 0.5995989, 4.0), (50.59710259807012, 99.5282050818008, 0.5995989, 4.0), (42.87167773869644, 123.30461798917965, 0.5995989, 4.0), (38.10145285428282, 147.84529757537126, 0.5995989, 4.0)]\n",
      "Road Instance 4, angle: -8, 25: [(47.99980999999999, 24.96891, 0.5995989, 4.0), (47.99981, 49.96891, 0.5995989, 4.0), (52.34101444167326, 74.5891038253052, 0.5995989, 4.0), (50.59710259807012, 99.5282050818008, 0.5995989, 4.0), (42.87167773869644, 123.30461798917965, 0.5995989, 4.0), (38.10145285428282, 147.84529757537126, 0.5995989, 4.0), (36.79305394820922, 172.8110359442356, 0.5995989, 4.0)]\n",
      "Road Instance 5, angle: 9, 25: [(47.99980999999999, 24.96891, 0.5995989, 4.0), (47.99981, 49.96891, 0.5995989, 4.0), (52.34101444167326, 74.5891038253052, 0.5995989, 4.0), (50.59710259807012, 99.5282050818008, 0.5995989, 4.0), (42.87167773869644, 123.30461798917965, 0.5995989, 4.0), (38.10145285428282, 147.84529757537126, 0.5995989, 4.0), (36.79305394820922, 172.8110359442356, 0.5995989, 4.0), (31.595261677765237, 197.26472596258077, 0.5995989, 4.0)]\n",
      "finished road generation\n",
      "IndividualToScenario: Function is zigzag_mapping/zigzag_mapping\n",
      "Segment lengths are None\n",
      "Started Road Generation\n",
      "Road Instance 0, angle: -9, 25: [(47.99980999999999, 24.96891, 0.5995989, 4.0), (47.99981, 49.96891, 0.5995989, 4.0), (52.34101444167326, 74.5891038253052, 0.5995989, 4.0)]\n",
      "Road Instance 1, angle: 14, 25: [(47.99980999999999, 24.96891, 0.5995989, 4.0), (47.99981, 49.96891, 0.5995989, 4.0), (52.34101444167326, 74.5891038253052, 0.5995989, 4.0), (50.59710259807012, 99.5282050818008, 0.5995989, 4.0)]\n",
      "Road Instance 2, angle: 14, 25: [(47.99980999999999, 24.96891, 0.5995989, 4.0), (47.99981, 49.96891, 0.5995989, 4.0), (52.34101444167326, 74.5891038253052, 0.5995989, 4.0), (50.59710259807012, 99.5282050818008, 0.5995989, 4.0), (42.87167773869644, 123.30461798917965, 0.5995989, 4.0)]\n",
      "Road Instance 3, angle: 12, 25: [(47.99980999999999, 24.96891, 0.5995989, 4.0), (47.99981, 49.96891, 0.5995989, 4.0), (52.34101444167326, 74.5891038253052, 0.5995989, 4.0), (50.59710259807012, 99.5282050818008, 0.5995989, 4.0), (42.87167773869644, 123.30461798917965, 0.5995989, 4.0), (30.371677738696444, 144.9552530837906, 0.5995989, 4.0)]\n",
      "Road Instance 4, angle: -8, 25: [(47.99980999999999, 24.96891, 0.5995989, 4.0), (47.99981, 49.96891, 0.5995989, 4.0), (52.34101444167326, 74.5891038253052, 0.5995989, 4.0), (50.59710259807012, 99.5282050818008, 0.5995989, 4.0), (42.87167773869644, 123.30461798917965, 0.5995989, 4.0), (30.371677738696444, 144.9552530837906, 0.5995989, 4.0), (21.41247900006394, 168.29476374622067, 0.5995989, 4.0)]\n",
      "Road Instance 5, angle: 9, 25: [(47.99980999999999, 24.96891, 0.5995989, 4.0), (47.99981, 49.96891, 0.5995989, 4.0), (52.34101444167326, 74.5891038253052, 0.5995989, 4.0), (50.59710259807012, 99.5282050818008, 0.5995989, 4.0), (42.87167773869644, 123.30461798917965, 0.5995989, 4.0), (30.371677738696444, 144.9552530837906, 0.5995989, 4.0), (21.41247900006394, 168.29476374622067, 0.5995989, 4.0), (9.292238493905515, 190.16025642470555, 0.5995989, 4.0)]\n",
      "finished road generation\n",
      "IndividualToScenario: Function is zigzag_mapping/zigzag_mapping\n",
      "Segment lengths are None\n",
      "Started Road Generation\n",
      "Road Instance 0, angle: -9, 25: [(47.99980999999999, 24.96891, 0.5995989, 4.0), (47.99981, 49.96891, 0.5995989, 4.0), (52.34101444167326, 74.5891038253052, 0.5995989, 4.0)]\n",
      "Road Instance 1, angle: 14, 25: [(47.99980999999999, 24.96891, 0.5995989, 4.0), (47.99981, 49.96891, 0.5995989, 4.0), (52.34101444167326, 74.5891038253052, 0.5995989, 4.0), (50.59710259807012, 99.5282050818008, 0.5995989, 4.0)]\n",
      "Road Instance 2, angle: 14, 25: [(47.99980999999999, 24.96891, 0.5995989, 4.0), (47.99981, 49.96891, 0.5995989, 4.0), (52.34101444167326, 74.5891038253052, 0.5995989, 4.0), (50.59710259807012, 99.5282050818008, 0.5995989, 4.0), (42.87167773869644, 123.30461798917965, 0.5995989, 4.0)]\n",
      "Road Instance 3, angle: 12, 25: [(47.99980999999999, 24.96891, 0.5995989, 4.0), (47.99981, 49.96891, 0.5995989, 4.0), (52.34101444167326, 74.5891038253052, 0.5995989, 4.0), (50.59710259807012, 99.5282050818008, 0.5995989, 4.0), (42.87167773869644, 123.30461798917965, 0.5995989, 4.0), (30.371677738696444, 144.9552530837906, 0.5995989, 4.0)]\n",
      "Road Instance 4, angle: -8, 25: [(47.99980999999999, 24.96891, 0.5995989, 4.0), (47.99981, 49.96891, 0.5995989, 4.0), (52.34101444167326, 74.5891038253052, 0.5995989, 4.0), (50.59710259807012, 99.5282050818008, 0.5995989, 4.0), (42.87167773869644, 123.30461798917965, 0.5995989, 4.0), (30.371677738696444, 144.9552530837906, 0.5995989, 4.0), (21.41247900006394, 168.29476374622067, 0.5995989, 4.0)]\n",
      "Road Instance 5, angle: 6, 25: [(47.99980999999999, 24.96891, 0.5995989, 4.0), (47.99981, 49.96891, 0.5995989, 4.0), (52.34101444167326, 74.5891038253052, 0.5995989, 4.0), (50.59710259807012, 99.5282050818008, 0.5995989, 4.0), (42.87167773869644, 123.30461798917965, 0.5995989, 4.0), (30.371677738696444, 144.9552530837906, 0.5995989, 4.0), (21.41247900006394, 168.29476374622067, 0.5995989, 4.0), (10.453200330337001, 190.76461490369985, 0.5995989, 4.0)]\n",
      "finished road generation\n",
      "IndividualToScenario: Function is zigzag_mapping/zigzag_mapping\n",
      "Segment lengths are None\n",
      "Started Road Generation\n",
      "Road Instance 0, angle: -9, 25: [(47.99980999999999, 24.96891, 0.5995989, 4.0), (47.99981, 49.96891, 0.5995989, 4.0), (52.34101444167326, 74.5891038253052, 0.5995989, 4.0)]\n",
      "Road Instance 1, angle: 14, 25: [(47.99980999999999, 24.96891, 0.5995989, 4.0), (47.99981, 49.96891, 0.5995989, 4.0), (52.34101444167326, 74.5891038253052, 0.5995989, 4.0), (50.59710259807012, 99.5282050818008, 0.5995989, 4.0)]\n",
      "Road Instance 2, angle: 14, 25: [(47.99980999999999, 24.96891, 0.5995989, 4.0), (47.99981, 49.96891, 0.5995989, 4.0), (52.34101444167326, 74.5891038253052, 0.5995989, 4.0), (50.59710259807012, 99.5282050818008, 0.5995989, 4.0), (42.87167773869644, 123.30461798917965, 0.5995989, 4.0)]\n",
      "Road Instance 3, angle: 11, 25: [(47.99980999999999, 24.96891, 0.5995989, 4.0), (47.99981, 49.96891, 0.5995989, 4.0), (52.34101444167326, 74.5891038253052, 0.5995989, 4.0), (50.59710259807012, 99.5282050818008, 0.5995989, 4.0), (42.87167773869644, 123.30461798917965, 0.5995989, 4.0), (30.751437232538017, 145.17011066766455, 0.5995989, 4.0)]\n",
      "Road Instance 4, angle: -8, 25: [(47.99980999999999, 24.96891, 0.5995989, 4.0), (47.99981, 49.96891, 0.5995989, 4.0), (52.34101444167326, 74.5891038253052, 0.5995989, 4.0), (50.59710259807012, 99.5282050818008, 0.5995989, 4.0), (42.87167773869644, 123.30461798917965, 0.5995989, 4.0), (30.751437232538017, 145.17011066766455, 0.5995989, 4.0), (21.792238493905508, 168.5096213300946, 0.5995989, 4.0)]\n",
      "Road Instance 5, angle: 10, 25: [(47.99980999999999, 24.96891, 0.5995989, 4.0), (47.99981, 49.96891, 0.5995989, 4.0), (52.34101444167326, 74.5891038253052, 0.5995989, 4.0), (50.59710259807012, 99.5282050818008, 0.5995989, 4.0), (42.87167773869644, 123.30461798917965, 0.5995989, 4.0), (30.751437232538017, 145.17011066766455, 0.5995989, 4.0), (21.792238493905508, 168.5096213300946, 0.5995989, 4.0), (9.292238493905511, 190.16025642470558, 0.5995989, 4.0)]\n",
      "finished road generation\n",
      "IndividualToScenario: Function is zigzag_mapping/zigzag_mapping\n",
      "Segment lengths are None\n",
      "Started Road Generation\n",
      "Road Instance 0, angle: -9, 25: [(47.99980999999999, 24.96891, 0.5995989, 4.0), (47.99981, 49.96891, 0.5995989, 4.0), (52.34101444167326, 74.5891038253052, 0.5995989, 4.0)]\n",
      "Road Instance 1, angle: 14, 25: [(47.99980999999999, 24.96891, 0.5995989, 4.0), (47.99981, 49.96891, 0.5995989, 4.0), (52.34101444167326, 74.5891038253052, 0.5995989, 4.0), (50.59710259807012, 99.5282050818008, 0.5995989, 4.0)]\n",
      "Road Instance 2, angle: 14, 25: [(47.99980999999999, 24.96891, 0.5995989, 4.0), (47.99981, 49.96891, 0.5995989, 4.0), (52.34101444167326, 74.5891038253052, 0.5995989, 4.0), (50.59710259807012, 99.5282050818008, 0.5995989, 4.0), (42.87167773869644, 123.30461798917965, 0.5995989, 4.0)]\n",
      "Road Instance 3, angle: 11, 25: [(47.99980999999999, 24.96891, 0.5995989, 4.0), (47.99981, 49.96891, 0.5995989, 4.0), (52.34101444167326, 74.5891038253052, 0.5995989, 4.0), (50.59710259807012, 99.5282050818008, 0.5995989, 4.0), (42.87167773869644, 123.30461798917965, 0.5995989, 4.0), (30.751437232538017, 145.17011066766455, 0.5995989, 4.0)]\n",
      "Road Instance 4, angle: -8, 25: [(47.99980999999999, 24.96891, 0.5995989, 4.0), (47.99981, 49.96891, 0.5995989, 4.0), (52.34101444167326, 74.5891038253052, 0.5995989, 4.0), (50.59710259807012, 99.5282050818008, 0.5995989, 4.0), (42.87167773869644, 123.30461798917965, 0.5995989, 4.0), (30.751437232538017, 145.17011066766455, 0.5995989, 4.0), (21.792238493905508, 168.5096213300946, 0.5995989, 4.0)]\n",
      "Road Instance 5, angle: 10, 25: [(47.99980999999999, 24.96891, 0.5995989, 4.0), (47.99981, 49.96891, 0.5995989, 4.0), (52.34101444167326, 74.5891038253052, 0.5995989, 4.0), (50.59710259807012, 99.5282050818008, 0.5995989, 4.0), (42.87167773869644, 123.30461798917965, 0.5995989, 4.0), (30.751437232538017, 145.17011066766455, 0.5995989, 4.0), (21.792238493905508, 168.5096213300946, 0.5995989, 4.0), (9.292238493905511, 190.16025642470558, 0.5995989, 4.0)]\n",
      "finished road generation\n",
      "IndividualToScenario: Function is zigzag_mapping/zigzag_mapping\n",
      "Segment lengths are None\n",
      "Started Road Generation\n",
      "Road Instance 0, angle: -9, 25: [(47.99980999999999, 24.96891, 0.5995989, 4.0), (47.99981, 49.96891, 0.5995989, 4.0), (52.34101444167326, 74.5891038253052, 0.5995989, 4.0)]\n",
      "Road Instance 1, angle: 14, 25: [(47.99980999999999, 24.96891, 0.5995989, 4.0), (47.99981, 49.96891, 0.5995989, 4.0), (52.34101444167326, 74.5891038253052, 0.5995989, 4.0), (50.59710259807012, 99.5282050818008, 0.5995989, 4.0)]\n",
      "Road Instance 2, angle: 14, 25: [(47.99980999999999, 24.96891, 0.5995989, 4.0), (47.99981, 49.96891, 0.5995989, 4.0), (52.34101444167326, 74.5891038253052, 0.5995989, 4.0), (50.59710259807012, 99.5282050818008, 0.5995989, 4.0), (42.87167773869644, 123.30461798917965, 0.5995989, 4.0)]\n",
      "Road Instance 3, angle: -7, 25: [(47.99980999999999, 24.96891, 0.5995989, 4.0), (47.99981, 49.96891, 0.5995989, 4.0), (52.34101444167326, 74.5891038253052, 0.5995989, 4.0), (50.59710259807012, 99.5282050818008, 0.5995989, 4.0), (42.87167773869644, 123.30461798917965, 0.5995989, 4.0), (38.10145285428282, 147.84529757537126, 0.5995989, 4.0)]\n",
      "Road Instance 4, angle: -8, 25: [(47.99980999999999, 24.96891, 0.5995989, 4.0), (47.99981, 49.96891, 0.5995989, 4.0), (52.34101444167326, 74.5891038253052, 0.5995989, 4.0), (50.59710259807012, 99.5282050818008, 0.5995989, 4.0), (42.87167773869644, 123.30461798917965, 0.5995989, 4.0), (38.10145285428282, 147.84529757537126, 0.5995989, 4.0), (36.79305394820922, 172.8110359442356, 0.5995989, 4.0)]\n",
      "Road Instance 5, angle: -14, 25: [(47.99980999999999, 24.96891, 0.5995989, 4.0), (47.99981, 49.96891, 0.5995989, 4.0), (52.34101444167326, 74.5891038253052, 0.5995989, 4.0), (50.59710259807012, 99.5282050818008, 0.5995989, 4.0), (42.87167773869644, 123.30461798917965, 0.5995989, 4.0), (38.10145285428282, 147.84529757537126, 0.5995989, 4.0), (36.79305394820922, 172.8110359442356, 0.5995989, 4.0), (41.56327883262284, 197.3517155304272, 0.5995989, 4.0)]\n",
      "finished road generation\n",
      "IndividualToScenario: Function is zigzag_mapping/zigzag_mapping\n",
      "----- Finished Perturbation-Controller set up -----\n",
      "INFO:SDSandBoxSimulator:Reset the scenario\n"
     ]
    },
    {
     "name": "stderr",
     "output_type": "stream",
     "text": [
      "2024-01-18 11:37:20,754 INFO     Reset the scenario\n"
     ]
    },
    {
     "name": "stdout",
     "output_type": "stream",
     "text": [
      "fps 17.62\n",
      "fps 19.74\n",
      "fps 19.73\n",
      "fps 19.73\n",
      "fps 19.67\n",
      "fps 19.71\n",
      "SDSandBox: Finished scenario\n",
      "INFO:SDSandBoxSimulator:Reset the scenario\n"
     ]
    },
    {
     "name": "stderr",
     "output_type": "stream",
     "text": [
      "2024-01-18 11:37:56,042 INFO     Reset the scenario\n"
     ]
    },
    {
     "name": "stdout",
     "output_type": "stream",
     "text": [
      "fps 19.70\n",
      "Exception: [Errno 54] Connection reset by peer\n",
      "CRITICAL:DonkeySimMsgHandler:DonkeySimMsgHandler: +++++ Warning: Donkey Sim Aborted +++++\n"
     ]
    },
    {
     "name": "stderr",
     "output_type": "stream",
     "text": [
      "2024-01-18 11:37:59,336 CRITICAL DonkeySimMsgHandler: +++++ Warning: Donkey Sim Aborted +++++\n"
     ]
    },
    {
     "name": "stdout",
     "output_type": "stream",
     "text": [
      "INFO:DonkeySimMsgHandler:DonkeySimMsgHandler: +++++ Warning: Donkey Sim Message Stoped +++++\n"
     ]
    },
    {
     "name": "stderr",
     "output_type": "stream",
     "text": [
      "2024-01-18 11:37:59,339 INFO     DonkeySimMsgHandler: +++++ Warning: Donkey Sim Message Stoped +++++\n"
     ]
    },
    {
     "name": "stdout",
     "output_type": "stream",
     "text": [
      "fps 19.76\n",
      "fps 19.74\n",
      "fps 19.70\n",
      "fps 19.70\n",
      "fps 19.69\n",
      "SDSandBox: Finished scenario\n",
      "fps 19.71\n",
      "INFO:SDSandBoxSimulator:Reset the scenario\n"
     ]
    },
    {
     "name": "stderr",
     "output_type": "stream",
     "text": [
      "2024-01-18 11:38:28,348 INFO     Reset the scenario\n"
     ]
    },
    {
     "name": "stdout",
     "output_type": "stream",
     "text": [
      "fps 19.69\n",
      "fps 19.73\n",
      "fps 19.71\n",
      "fps 19.70\n",
      "fps 19.71\n",
      "fps 19.72\n",
      "SDSandBox: Finished scenario\n",
      "fps 19.67\n",
      "INFO:SDSandBoxSimulator:Reset the scenario\n"
     ]
    },
    {
     "name": "stderr",
     "output_type": "stream",
     "text": [
      "2024-01-18 11:39:02,996 INFO     Reset the scenario\n"
     ]
    },
    {
     "name": "stdout",
     "output_type": "stream",
     "text": [
      "fps 19.74\n",
      "fps 19.14\n",
      "fps 18.83\n",
      "fps 19.68\n",
      "fps 19.71\n",
      "SDSandBox: Finished scenario\n",
      "INFO:SDSandBoxSimulator:Reset the scenario\n"
     ]
    },
    {
     "name": "stderr",
     "output_type": "stream",
     "text": [
      "2024-01-18 11:39:32,662 INFO     Reset the scenario\n"
     ]
    },
    {
     "name": "stdout",
     "output_type": "stream",
     "text": [
      "fps 19.68\n",
      "fps 15.95\n",
      "fps 19.71\n",
      "fps 19.71\n",
      "fps 19.71\n",
      "fps 19.70\n",
      "fps 19.71\n",
      "SDSandBox: Finished scenario\n",
      "fps 19.70\n",
      "INFO:SDSandBoxSimulator:Reset the scenario\n"
     ]
    },
    {
     "name": "stderr",
     "output_type": "stream",
     "text": [
      "2024-01-18 11:40:09,664 INFO     Reset the scenario\n"
     ]
    },
    {
     "name": "stdout",
     "output_type": "stream",
     "text": [
      "fps 18.10\n",
      "fps 19.73\n",
      "fps 19.72\n",
      "fps 19.73\n",
      "fps 19.72\n",
      "SDSandBox: Finished scenario\n",
      "fps 19.69\n",
      "INFO:DonkeySimMsgHandler:DonkeySimMsgHandler: +++++ Warning: Donkey Sim Disconnected +++++\n"
     ]
    },
    {
     "name": "stderr",
     "output_type": "stream",
     "text": [
      "2024-01-18 11:40:41,349 INFO     DonkeySimMsgHandler: +++++ Warning: Donkey Sim Disconnected +++++\n"
     ]
    },
    {
     "name": "stdout",
     "output_type": "stream",
     "text": [
      "INFO:DonkeyProcess:Closing donkey sim subprocess\n"
     ]
    },
    {
     "name": "stderr",
     "output_type": "stream",
     "text": [
      "2024-01-18 11:40:41,353 INFO     Closing donkey sim subprocess\n",
      "2024-01-18 11:40:41,458 INFO     Running evaluation number 20\n"
     ]
    },
    {
     "name": "stdout",
     "output_type": "stream",
     "text": [
      "    19 |      114 |      2 |  0.000000E+00 |             f\n",
      "Using model: generated_dave_v5\n",
      "INFO:DonkeyProcess:This is the launch string /Users/hannesleonhard/Documents/BachelorWInfo/Robustness-SDC/PerturbationDrive/./examples/self_driving_sandbox_donkey/sim/donkey-sim.app/Contents/MacOS/Simulator\n"
     ]
    },
    {
     "name": "stderr",
     "output_type": "stream",
     "text": [
      "2024-01-18 11:40:41,676 INFO     This is the launch string /Users/hannesleonhard/Documents/BachelorWInfo/Robustness-SDC/PerturbationDrive/./examples/self_driving_sandbox_donkey/sim/donkey-sim.app/Contents/MacOS/Simulator\n"
     ]
    },
    {
     "name": "stdout",
     "output_type": "stream",
     "text": [
      "[UnityMemory] Configuration Parameters - Can be set up in boot.config\n",
      "    \"memorysetup-bucket-allocator-granularity=16\"\n",
      "    \"memorysetup-bucket-allocator-bucket-count=8\"\n",
      "    \"memorysetup-bucket-allocator-block-size=4194304\"\n",
      "    \"memorysetup-bucket-allocator-block-count=1\"\n",
      "    \"memorysetup-main-allocator-block-size=16777216\"\n",
      "    \"memorysetup-thread-allocator-block-size=16777216\"\n",
      "    \"memorysetup-gfx-main-allocator-block-size=16777216\"\n",
      "    \"memorysetup-gfx-thread-allocator-block-size=16777216\"\n",
      "    \"memorysetup-cache-allocator-block-size=4194304\"\n",
      "    \"memorysetup-typetree-allocator-block-size=2097152\"\n",
      "    \"memorysetup-profiler-bucket-allocator-granularity=16\"\n",
      "    \"memorysetup-profiler-bucket-allocator-bucket-count=8\"\n",
      "    \"memorysetup-profiler-bucket-allocator-block-size=4194304\"\n",
      "    \"memorysetup-profiler-bucket-allocator-block-count=1\"\n",
      "    \"memorysetup-profiler-allocator-block-size=16777216\"\n",
      "    \"memorysetup-profiler-editor-allocator-block-size=1048576\"\n",
      "    \"memorysetup-temp-allocator-size-main=4194304\"\n",
      "    \"memorysetup-job-temp-allocator-block-size=2097152\"\n",
      "    \"memorysetup-job-temp-allocator-block-size-background=1048576\"\n",
      "    \"memorysetup-job-temp-allocator-reduction-small-platforms=262144\"\n",
      "    \"memorysetup-allocator-temp-initial-block-size-main=262144\"\n",
      "    \"memorysetup-allocator-temp-initial-block-size-worker=262144\"\n",
      "    \"memorysetup-temp-allocator-size-background-worker=32768\"\n",
      "    \"memorysetup-temp-allocator-size-job-worker=262144\"\n",
      "    \"memorysetup-temp-allocator-size-preload-manager=262144\"\n",
      "    \"memorysetup-temp-allocator-size-nav-mesh-worker=65536\"\n",
      "    \"memorysetup-temp-allocator-size-audio-worker=65536\"\n",
      "    \"memorysetup-temp-allocator-size-cloud-worker=32768\"\n",
      "    \"memorysetup-temp-allocator-size-gfx=262144\"\n",
      "INFO:DonkeyProcess:donkey subprocess started\n"
     ]
    },
    {
     "name": "stderr",
     "output_type": "stream",
     "text": [
      "2024-01-18 11:41:01,697 INFO     donkey subprocess started\n"
     ]
    },
    {
     "name": "stdout",
     "output_type": "stream",
     "text": [
      "INFO:SDSandBoxSimulator:Waiting for inital obs\n"
     ]
    },
    {
     "name": "stderr",
     "output_type": "stream",
     "text": [
      "2024-01-18 11:41:01,759 INFO     Waiting for inital obs\n"
     ]
    },
    {
     "name": "stdout",
     "output_type": "stream",
     "text": [
      "INFO:SDSandBoxSimulator:Waiting for inital obs\n"
     ]
    },
    {
     "name": "stderr",
     "output_type": "stream",
     "text": [
      "2024-01-18 11:41:01,801 INFO     Waiting for inital obs\n"
     ]
    },
    {
     "name": "stdout",
     "output_type": "stream",
     "text": [
      "INFO:SDSandBoxSimulator:Waiting for inital obs\n"
     ]
    },
    {
     "name": "stderr",
     "output_type": "stream",
     "text": [
      "2024-01-18 11:41:01,843 INFO     Waiting for inital obs\n"
     ]
    },
    {
     "name": "stdout",
     "output_type": "stream",
     "text": [
      "INFO:SDSandBoxSimulator:Waiting for inital obs\n"
     ]
    },
    {
     "name": "stderr",
     "output_type": "stream",
     "text": [
      "2024-01-18 11:41:01,885 INFO     Waiting for inital obs\n"
     ]
    },
    {
     "name": "stdout",
     "output_type": "stream",
     "text": [
      "INFO:SDSandBoxSimulator:Waiting for inital obs\n"
     ]
    },
    {
     "name": "stderr",
     "output_type": "stream",
     "text": [
      "2024-01-18 11:41:01,926 INFO     Waiting for inital obs\n"
     ]
    },
    {
     "name": "stdout",
     "output_type": "stream",
     "text": [
      "INFO:SDSandBoxSimulator:Waiting for inital obs\n"
     ]
    },
    {
     "name": "stderr",
     "output_type": "stream",
     "text": [
      "2024-01-18 11:41:01,968 INFO     Waiting for inital obs\n"
     ]
    },
    {
     "name": "stdout",
     "output_type": "stream",
     "text": [
      "INFO:SDSandBoxSimulator:Waiting for inital obs\n"
     ]
    },
    {
     "name": "stderr",
     "output_type": "stream",
     "text": [
      "2024-01-18 11:41:02,010 INFO     Waiting for inital obs\n"
     ]
    },
    {
     "name": "stdout",
     "output_type": "stream",
     "text": [
      "INFO:SDSandBoxSimulator:Waiting for inital obs\n"
     ]
    },
    {
     "name": "stderr",
     "output_type": "stream",
     "text": [
      "2024-01-18 11:41:02,051 INFO     Waiting for inital obs\n"
     ]
    },
    {
     "name": "stdout",
     "output_type": "stream",
     "text": [
      "INFO:SDSandBoxSimulator:Waiting for inital obs\n"
     ]
    },
    {
     "name": "stderr",
     "output_type": "stream",
     "text": [
      "2024-01-18 11:41:02,093 INFO     Waiting for inital obs\n"
     ]
    },
    {
     "name": "stdout",
     "output_type": "stream",
     "text": [
      "INFO:DonkeySimMsgHandler:DonkeySimMsgHandler: ----- Car Created With Data {'msg_type': 'car_loaded'} -----\n"
     ]
    },
    {
     "name": "stderr",
     "output_type": "stream",
     "text": [
      "2024-01-18 11:41:02,109 INFO     DonkeySimMsgHandler: ----- Car Created With Data {'msg_type': 'car_loaded'} -----\n"
     ]
    },
    {
     "name": "stdout",
     "output_type": "stream",
     "text": [
      "INFO:SDSandBoxSimulator:Waiting for inital obs\n"
     ]
    },
    {
     "name": "stderr",
     "output_type": "stream",
     "text": [
      "2024-01-18 11:41:02,136 INFO     Waiting for inital obs\n"
     ]
    },
    {
     "name": "stdout",
     "output_type": "stream",
     "text": [
      "INFO:SDSandBoxSimulator:Waiting for inital obs\n"
     ]
    },
    {
     "name": "stderr",
     "output_type": "stream",
     "text": [
      "2024-01-18 11:41:02,179 INFO     Waiting for inital obs\n"
     ]
    },
    {
     "name": "stdout",
     "output_type": "stream",
     "text": [
      "Segment lengths are None\n",
      "Started Road Generation\n",
      "Road Instance 0, angle: -9, 25: [(47.999939999999995, 24.969459999999998, 0.6074528, 4.0), (47.99994, 49.96946, 0.6074528, 4.0), (52.341144441673265, 74.58965382530519, 0.6074528, 4.0)]\n",
      "Road Instance 1, angle: 14, 25: [(47.999939999999995, 24.969459999999998, 0.6074528, 4.0), (47.99994, 49.96946, 0.6074528, 4.0), (52.341144441673265, 74.58965382530519, 0.6074528, 4.0), (51.032745535599666, 99.55539219416954, 0.6074528, 4.0)]\n",
      "Road Instance 2, angle: 14, 25: [(47.999939999999995, 24.969459999999998, 0.6074528, 4.0), (47.99994, 49.96946, 0.6074528, 4.0), (52.341144441673265, 74.58965382530519, 0.6074528, 4.0), (51.032745535599666, 99.55539219416954, 0.6074528, 4.0), (43.72345291753125, 123.46301109324543, 0.6074528, 4.0)]\n",
      "Road Instance 3, angle: -7, 25: [(47.999939999999995, 24.969459999999998, 0.6074528, 4.0), (47.99994, 49.96946, 0.6074528, 4.0), (52.341144441673265, 74.58965382530519, 0.6074528, 4.0), (51.032745535599666, 99.55539219416954, 0.6074528, 4.0), (43.72345291753125, 123.46301109324543, 0.6074528, 4.0), (39.38224847585799, 148.08320491855062, 0.6074528, 4.0)]\n",
      "Road Instance 4, angle: -8, 25: [(47.999939999999995, 24.969459999999998, 0.6074528, 4.0), (47.99994, 49.96946, 0.6074528, 4.0), (52.341144441673265, 74.58965382530519, 0.6074528, 4.0), (51.032745535599666, 99.55539219416954, 0.6074528, 4.0), (43.72345291753125, 123.46301109324543, 0.6074528, 4.0), (39.38224847585799, 148.08320491855062, 0.6074528, 4.0), (38.50976105829547, 173.067975594028, 0.6074528, 4.0)]\n",
      "Road Instance 5, angle: 9, 25: [(47.999939999999995, 24.969459999999998, 0.6074528, 4.0), (47.99994, 49.96946, 0.6074528, 4.0), (52.341144441673265, 74.58965382530519, 0.6074528, 4.0), (51.032745535599666, 99.55539219416954, 0.6074528, 4.0), (43.72345291753125, 123.46301109324543, 0.6074528, 4.0), (39.38224847585799, 148.08320491855062, 0.6074528, 4.0), (38.50976105829547, 173.067975594028, 0.6074528, 4.0), (33.739536173881845, 197.6086551802196, 0.6074528, 4.0)]\n",
      "finished road generation\n",
      "IndividualToScenario: Function is zigzag_mapping/zigzag_mapping\n",
      "Segment lengths are None\n",
      "Started Road Generation\n",
      "Road Instance 0, angle: -9, 25: [(47.999939999999995, 24.969459999999998, 0.6074528, 4.0), (47.99994, 49.96946, 0.6074528, 4.0), (52.341144441673265, 74.58965382530519, 0.6074528, 4.0)]\n",
      "Road Instance 1, angle: 14, 25: [(47.999939999999995, 24.969459999999998, 0.6074528, 4.0), (47.99994, 49.96946, 0.6074528, 4.0), (52.341144441673265, 74.58965382530519, 0.6074528, 4.0), (51.032745535599666, 99.55539219416954, 0.6074528, 4.0)]\n",
      "Road Instance 2, angle: 14, 25: [(47.999939999999995, 24.969459999999998, 0.6074528, 4.0), (47.99994, 49.96946, 0.6074528, 4.0), (52.341144441673265, 74.58965382530519, 0.6074528, 4.0), (51.032745535599666, 99.55539219416954, 0.6074528, 4.0), (43.72345291753125, 123.46301109324543, 0.6074528, 4.0)]\n",
      "Road Instance 3, angle: 11, 25: [(47.999939999999995, 24.969459999999998, 0.6074528, 4.0), (47.99994, 49.96946, 0.6074528, 4.0), (52.341144441673265, 74.58965382530519, 0.6074528, 4.0), (51.032745535599666, 99.55539219416954, 0.6074528, 4.0), (43.72345291753125, 123.46301109324543, 0.6074528, 4.0), (31.986663847883975, 145.5367009147186, 0.6074528, 4.0)]\n",
      "Road Instance 4, angle: -8, 25: [(47.999939999999995, 24.969459999999998, 0.6074528, 4.0), (47.99994, 49.96946, 0.6074528, 4.0), (52.341144441673265, 74.58965382530519, 0.6074528, 4.0), (51.032745535599666, 99.55539219416954, 0.6074528, 4.0), (43.72345291753125, 123.46301109324543, 0.6074528, 4.0), (31.986663847883975, 145.5367009147186, 0.6074528, 4.0), (23.436160264742256, 169.02901643436633, 0.6074528, 4.0)]\n",
      "Road Instance 5, angle: -17, 25: [(47.999939999999995, 24.969459999999998, 0.6074528, 4.0), (47.99994, 49.96946, 0.6074528, 4.0), (52.341144441673265, 74.58965382530519, 0.6074528, 4.0), (51.032745535599666, 99.55539219416954, 0.6074528, 4.0), (43.72345291753125, 123.46301109324543, 0.6074528, 4.0), (31.986663847883975, 145.5367009147186, 0.6074528, 4.0), (23.436160264742256, 169.02901643436633, 0.6074528, 4.0), (22.12776135866866, 193.99475480323068, 0.6074528, 4.0)]\n",
      "finished road generation\n",
      "IndividualToScenario: Function is zigzag_mapping/zigzag_mapping\n",
      "Segment lengths are None\n",
      "Started Road Generation\n",
      "Road Instance 0, angle: -9, 25: [(47.999939999999995, 24.969459999999998, 0.6074528, 4.0), (47.99994, 49.96946, 0.6074528, 4.0), (52.341144441673265, 74.58965382530519, 0.6074528, 4.0)]\n",
      "Road Instance 1, angle: 14, 25: [(47.999939999999995, 24.969459999999998, 0.6074528, 4.0), (47.99994, 49.96946, 0.6074528, 4.0), (52.341144441673265, 74.58965382530519, 0.6074528, 4.0), (51.032745535599666, 99.55539219416954, 0.6074528, 4.0)]\n",
      "Road Instance 2, angle: 14, 25: [(47.999939999999995, 24.969459999999998, 0.6074528, 4.0), (47.99994, 49.96946, 0.6074528, 4.0), (52.341144441673265, 74.58965382530519, 0.6074528, 4.0), (51.032745535599666, 99.55539219416954, 0.6074528, 4.0), (43.72345291753125, 123.46301109324543, 0.6074528, 4.0)]\n",
      "Road Instance 3, angle: 11, 25: [(47.999939999999995, 24.969459999999998, 0.6074528, 4.0), (47.99994, 49.96946, 0.6074528, 4.0), (52.341144441673265, 74.58965382530519, 0.6074528, 4.0), (51.032745535599666, 99.55539219416954, 0.6074528, 4.0), (43.72345291753125, 123.46301109324543, 0.6074528, 4.0), (31.986663847883975, 145.5367009147186, 0.6074528, 4.0)]\n",
      "Road Instance 4, angle: -8, 25: [(47.999939999999995, 24.969459999999998, 0.6074528, 4.0), (47.99994, 49.96946, 0.6074528, 4.0), (52.341144441673265, 74.58965382530519, 0.6074528, 4.0), (51.032745535599666, 99.55539219416954, 0.6074528, 4.0), (43.72345291753125, 123.46301109324543, 0.6074528, 4.0), (31.986663847883975, 145.5367009147186, 0.6074528, 4.0), (23.436160264742256, 169.02901643436633, 0.6074528, 4.0)]\n",
      "Road Instance 5, angle: 10, 25: [(47.999939999999995, 24.969459999999998, 0.6074528, 4.0), (47.99994, 49.96946, 0.6074528, 4.0), (52.341144441673265, 74.58965382530519, 0.6074528, 4.0), (51.032745535599666, 99.55539219416954, 0.6074528, 4.0), (43.72345291753125, 123.46301109324543, 0.6074528, 4.0), (31.986663847883975, 145.5367009147186, 0.6074528, 4.0), (23.436160264742256, 169.02901643436633, 0.6074528, 4.0), (10.93616026474226, 190.6796515289773, 0.6074528, 4.0)]\n",
      "finished road generation\n",
      "IndividualToScenario: Function is zigzag_mapping/zigzag_mapping\n",
      "Segment lengths are None\n",
      "Started Road Generation\n",
      "Road Instance 0, angle: -9, 25: [(47.999939999999995, 24.969459999999998, 0.6074528, 4.0), (47.99994, 49.96946, 0.6074528, 4.0), (52.341144441673265, 74.58965382530519, 0.6074528, 4.0)]\n",
      "Road Instance 1, angle: 14, 25: [(47.999939999999995, 24.969459999999998, 0.6074528, 4.0), (47.99994, 49.96946, 0.6074528, 4.0), (52.341144441673265, 74.58965382530519, 0.6074528, 4.0), (51.032745535599666, 99.55539219416954, 0.6074528, 4.0)]\n",
      "Road Instance 2, angle: 14, 25: [(47.999939999999995, 24.969459999999998, 0.6074528, 4.0), (47.99994, 49.96946, 0.6074528, 4.0), (52.341144441673265, 74.58965382530519, 0.6074528, 4.0), (51.032745535599666, 99.55539219416954, 0.6074528, 4.0), (43.72345291753125, 123.46301109324543, 0.6074528, 4.0)]\n",
      "Road Instance 3, angle: 12, 25: [(47.999939999999995, 24.969459999999998, 0.6074528, 4.0), (47.99994, 49.96946, 0.6074528, 4.0), (52.341144441673265, 74.58965382530519, 0.6074528, 4.0), (51.032745535599666, 99.55539219416954, 0.6074528, 4.0), (43.72345291753125, 123.46301109324543, 0.6074528, 4.0), (31.603212411372823, 145.3285037717303, 0.6074528, 4.0)]\n",
      "Road Instance 4, angle: -8, 25: [(47.999939999999995, 24.969459999999998, 0.6074528, 4.0), (47.99994, 49.96946, 0.6074528, 4.0), (52.341144441673265, 74.58965382530519, 0.6074528, 4.0), (51.032745535599666, 99.55539219416954, 0.6074528, 4.0), (43.72345291753125, 123.46301109324543, 0.6074528, 4.0), (31.603212411372823, 145.3285037717303, 0.6074528, 4.0), (22.644013672740314, 168.66801443416034, 0.6074528, 4.0)]\n",
      "Road Instance 5, angle: 10, 25: [(47.999939999999995, 24.969459999999998, 0.6074528, 4.0), (47.99994, 49.96946, 0.6074528, 4.0), (52.341144441673265, 74.58965382530519, 0.6074528, 4.0), (51.032745535599666, 99.55539219416954, 0.6074528, 4.0), (43.72345291753125, 123.46301109324543, 0.6074528, 4.0), (31.603212411372823, 145.3285037717303, 0.6074528, 4.0), (22.644013672740314, 168.66801443416034, 0.6074528, 4.0), (9.768061799988958, 190.09719695171316, 0.6074528, 4.0)]\n",
      "finished road generation\n",
      "IndividualToScenario: Function is zigzag_mapping/zigzag_mapping\n",
      "Segment lengths are None\n",
      "Started Road Generation\n",
      "Road Instance 0, angle: -9, 25: [(47.999939999999995, 24.969459999999998, 0.6074528, 4.0), (47.99994, 49.96946, 0.6074528, 4.0), (52.341144441673265, 74.58965382530519, 0.6074528, 4.0)]\n",
      "Road Instance 1, angle: 14, 25: [(47.999939999999995, 24.969459999999998, 0.6074528, 4.0), (47.99994, 49.96946, 0.6074528, 4.0), (52.341144441673265, 74.58965382530519, 0.6074528, 4.0), (51.032745535599666, 99.55539219416954, 0.6074528, 4.0)]\n",
      "Road Instance 2, angle: 14, 25: [(47.999939999999995, 24.969459999999998, 0.6074528, 4.0), (47.99994, 49.96946, 0.6074528, 4.0), (52.341144441673265, 74.58965382530519, 0.6074528, 4.0), (51.032745535599666, 99.55539219416954, 0.6074528, 4.0), (43.72345291753125, 123.46301109324543, 0.6074528, 4.0)]\n",
      "Road Instance 3, angle: -7, 25: [(47.999939999999995, 24.969459999999998, 0.6074528, 4.0), (47.99994, 49.96946, 0.6074528, 4.0), (52.341144441673265, 74.58965382530519, 0.6074528, 4.0), (51.032745535599666, 99.55539219416954, 0.6074528, 4.0), (43.72345291753125, 123.46301109324543, 0.6074528, 4.0), (39.38224847585799, 148.08320491855062, 0.6074528, 4.0)]\n",
      "Road Instance 4, angle: -8, 25: [(47.999939999999995, 24.969459999999998, 0.6074528, 4.0), (47.99994, 49.96946, 0.6074528, 4.0), (52.341144441673265, 74.58965382530519, 0.6074528, 4.0), (51.032745535599666, 99.55539219416954, 0.6074528, 4.0), (43.72345291753125, 123.46301109324543, 0.6074528, 4.0), (39.38224847585799, 148.08320491855062, 0.6074528, 4.0), (38.50976105829547, 173.067975594028, 0.6074528, 4.0)]\n",
      "Road Instance 5, angle: 9, 25: [(47.999939999999995, 24.969459999999998, 0.6074528, 4.0), (47.99994, 49.96946, 0.6074528, 4.0), (52.341144441673265, 74.58965382530519, 0.6074528, 4.0), (51.032745535599666, 99.55539219416954, 0.6074528, 4.0), (43.72345291753125, 123.46301109324543, 0.6074528, 4.0), (39.38224847585799, 148.08320491855062, 0.6074528, 4.0), (38.50976105829547, 173.067975594028, 0.6074528, 4.0), (33.739536173881845, 197.6086551802196, 0.6074528, 4.0)]\n",
      "finished road generation\n",
      "IndividualToScenario: Function is zigzag_mapping/zigzag_mapping\n",
      "Segment lengths are None\n",
      "Started Road Generation\n",
      "Road Instance 0, angle: -9, 25: [(47.999939999999995, 24.969459999999998, 0.6074528, 4.0), (47.99994, 49.96946, 0.6074528, 4.0), (52.341144441673265, 74.58965382530519, 0.6074528, 4.0)]\n",
      "Road Instance 1, angle: 14, 25: [(47.999939999999995, 24.969459999999998, 0.6074528, 4.0), (47.99994, 49.96946, 0.6074528, 4.0), (52.341144441673265, 74.58965382530519, 0.6074528, 4.0), (51.032745535599666, 99.55539219416954, 0.6074528, 4.0)]\n",
      "Road Instance 2, angle: 14, 25: [(47.999939999999995, 24.969459999999998, 0.6074528, 4.0), (47.99994, 49.96946, 0.6074528, 4.0), (52.341144441673265, 74.58965382530519, 0.6074528, 4.0), (51.032745535599666, 99.55539219416954, 0.6074528, 4.0), (43.72345291753125, 123.46301109324543, 0.6074528, 4.0)]\n",
      "Road Instance 3, angle: 11, 25: [(47.999939999999995, 24.969459999999998, 0.6074528, 4.0), (47.99994, 49.96946, 0.6074528, 4.0), (52.341144441673265, 74.58965382530519, 0.6074528, 4.0), (51.032745535599666, 99.55539219416954, 0.6074528, 4.0), (43.72345291753125, 123.46301109324543, 0.6074528, 4.0), (31.986663847883975, 145.5367009147186, 0.6074528, 4.0)]\n",
      "Road Instance 4, angle: -8, 25: [(47.999939999999995, 24.969459999999998, 0.6074528, 4.0), (47.99994, 49.96946, 0.6074528, 4.0), (52.341144441673265, 74.58965382530519, 0.6074528, 4.0), (51.032745535599666, 99.55539219416954, 0.6074528, 4.0), (43.72345291753125, 123.46301109324543, 0.6074528, 4.0), (31.986663847883975, 145.5367009147186, 0.6074528, 4.0), (23.436160264742256, 169.02901643436633, 0.6074528, 4.0)]\n",
      "Road Instance 5, angle: 10, 25: [(47.999939999999995, 24.969459999999998, 0.6074528, 4.0), (47.99994, 49.96946, 0.6074528, 4.0), (52.341144441673265, 74.58965382530519, 0.6074528, 4.0), (51.032745535599666, 99.55539219416954, 0.6074528, 4.0), (43.72345291753125, 123.46301109324543, 0.6074528, 4.0), (31.986663847883975, 145.5367009147186, 0.6074528, 4.0), (23.436160264742256, 169.02901643436633, 0.6074528, 4.0), (10.93616026474226, 190.6796515289773, 0.6074528, 4.0)]\n",
      "finished road generation\n",
      "IndividualToScenario: Function is zigzag_mapping/zigzag_mapping\n",
      "----- Finished Perturbation-Controller set up -----\n",
      "INFO:SDSandBoxSimulator:Reset the scenario\n"
     ]
    },
    {
     "name": "stderr",
     "output_type": "stream",
     "text": [
      "2024-01-18 11:41:02,263 INFO     Reset the scenario\n"
     ]
    },
    {
     "name": "stdout",
     "output_type": "stream",
     "text": [
      "fps 18.44\n",
      "fps 19.74\n",
      "fps 19.73\n",
      "fps 19.73\n",
      "fps 17.25\n",
      "fps 19.75\n",
      "SDSandBox: Finished scenario\n",
      "INFO:SDSandBoxSimulator:Reset the scenario\n"
     ]
    },
    {
     "name": "stderr",
     "output_type": "stream",
     "text": [
      "2024-01-18 11:41:35,722 INFO     Reset the scenario\n"
     ]
    },
    {
     "name": "stdout",
     "output_type": "stream",
     "text": [
      "fps 19.72\n",
      "Exception: [Errno 54] Connection reset by peer\n",
      "CRITICAL:DonkeySimMsgHandler:DonkeySimMsgHandler: +++++ Warning: Donkey Sim Aborted +++++\n"
     ]
    },
    {
     "name": "stderr",
     "output_type": "stream",
     "text": [
      "2024-01-18 11:41:41,364 CRITICAL DonkeySimMsgHandler: +++++ Warning: Donkey Sim Aborted +++++\n"
     ]
    },
    {
     "name": "stdout",
     "output_type": "stream",
     "text": [
      "INFO:DonkeySimMsgHandler:DonkeySimMsgHandler: +++++ Warning: Donkey Sim Message Stoped +++++\n"
     ]
    },
    {
     "name": "stderr",
     "output_type": "stream",
     "text": [
      "2024-01-18 11:41:41,370 INFO     DonkeySimMsgHandler: +++++ Warning: Donkey Sim Message Stoped +++++\n"
     ]
    },
    {
     "name": "stdout",
     "output_type": "stream",
     "text": [
      "fps 17.67\n",
      "fps 19.71\n",
      "fps 19.71\n",
      "fps 19.73\n",
      "SDSandBox: Finished scenario\n",
      "fps 19.72\n",
      "INFO:SDSandBoxSimulator:Reset the scenario\n"
     ]
    },
    {
     "name": "stderr",
     "output_type": "stream",
     "text": [
      "2024-01-18 11:42:06,527 INFO     Reset the scenario\n"
     ]
    },
    {
     "name": "stdout",
     "output_type": "stream",
     "text": [
      "fps 19.68\n",
      "fps 19.73\n",
      "fps 19.71\n",
      "fps 19.71\n",
      "fps 19.71\n",
      "fps 19.72\n",
      "SDSandBox: Finished scenario\n",
      "INFO:SDSandBoxSimulator:Reset the scenario\n"
     ]
    },
    {
     "name": "stderr",
     "output_type": "stream",
     "text": [
      "2024-01-18 11:42:39,523 INFO     Reset the scenario\n"
     ]
    },
    {
     "name": "stdout",
     "output_type": "stream",
     "text": [
      "fps 19.66\n",
      "fps 19.75\n",
      "fps 19.72\n",
      "fps 19.63\n",
      "fps 19.73\n",
      "fps 19.70\n",
      "fps 19.69\n",
      "SDSandBox: Finished scenario\n",
      "fps 19.65\n",
      "INFO:SDSandBoxSimulator:Reset the scenario\n"
     ]
    },
    {
     "name": "stderr",
     "output_type": "stream",
     "text": [
      "2024-01-18 11:43:16,848 INFO     Reset the scenario\n"
     ]
    },
    {
     "name": "stdout",
     "output_type": "stream",
     "text": [
      "fps 19.74\n",
      "fps 19.70\n",
      "fps 19.71\n",
      "fps 19.71\n",
      "fps 19.70\n",
      "fps 19.69\n",
      "SDSandBox: Finished scenario\n",
      "INFO:SDSandBoxSimulator:Reset the scenario\n"
     ]
    },
    {
     "name": "stderr",
     "output_type": "stream",
     "text": [
      "2024-01-18 11:43:48,853 INFO     Reset the scenario\n"
     ]
    },
    {
     "name": "stdout",
     "output_type": "stream",
     "text": [
      "fps 19.66\n",
      "fps 19.76\n",
      "fps 19.69\n",
      "fps 17.44\n",
      "fps 19.77\n",
      "fps 19.72\n",
      "SDSandBox: Finished scenario\n",
      "INFO:DonkeySimMsgHandler:DonkeySimMsgHandler: +++++ Warning: Donkey Sim Disconnected +++++\n"
     ]
    },
    {
     "name": "stderr",
     "output_type": "stream",
     "text": [
      "2024-01-18 11:44:19,554 INFO     DonkeySimMsgHandler: +++++ Warning: Donkey Sim Disconnected +++++\n"
     ]
    },
    {
     "name": "stdout",
     "output_type": "stream",
     "text": [
      "INFO:DonkeyProcess:Closing donkey sim subprocess\n"
     ]
    },
    {
     "name": "stderr",
     "output_type": "stream",
     "text": [
      "2024-01-18 11:44:19,558 INFO     Closing donkey sim subprocess\n",
      "2024-01-18 11:44:19,662 INFO     Running evaluation number 21\n"
     ]
    },
    {
     "name": "stdout",
     "output_type": "stream",
     "text": [
      "    20 |      120 |      2 |  0.000000E+00 |             f\n",
      "Using model: generated_dave_v5\n",
      "INFO:DonkeyProcess:This is the launch string /Users/hannesleonhard/Documents/BachelorWInfo/Robustness-SDC/PerturbationDrive/./examples/self_driving_sandbox_donkey/sim/donkey-sim.app/Contents/MacOS/Simulator\n"
     ]
    },
    {
     "name": "stderr",
     "output_type": "stream",
     "text": [
      "2024-01-18 11:44:19,931 INFO     This is the launch string /Users/hannesleonhard/Documents/BachelorWInfo/Robustness-SDC/PerturbationDrive/./examples/self_driving_sandbox_donkey/sim/donkey-sim.app/Contents/MacOS/Simulator\n"
     ]
    },
    {
     "name": "stdout",
     "output_type": "stream",
     "text": [
      "[UnityMemory] Configuration Parameters - Can be set up in boot.config\n",
      "    \"memorysetup-bucket-allocator-granularity=16\"\n",
      "    \"memorysetup-bucket-allocator-bucket-count=8\"\n",
      "    \"memorysetup-bucket-allocator-block-size=4194304\"\n",
      "    \"memorysetup-bucket-allocator-block-count=1\"\n",
      "    \"memorysetup-main-allocator-block-size=16777216\"\n",
      "    \"memorysetup-thread-allocator-block-size=16777216\"\n",
      "    \"memorysetup-gfx-main-allocator-block-size=16777216\"\n",
      "    \"memorysetup-gfx-thread-allocator-block-size=16777216\"\n",
      "    \"memorysetup-cache-allocator-block-size=4194304\"\n",
      "    \"memorysetup-typetree-allocator-block-size=2097152\"\n",
      "    \"memorysetup-profiler-bucket-allocator-granularity=16\"\n",
      "    \"memorysetup-profiler-bucket-allocator-bucket-count=8\"\n",
      "    \"memorysetup-profiler-bucket-allocator-block-size=4194304\"\n",
      "    \"memorysetup-profiler-bucket-allocator-block-count=1\"\n",
      "    \"memorysetup-profiler-allocator-block-size=16777216\"\n",
      "    \"memorysetup-profiler-editor-allocator-block-size=1048576\"\n",
      "    \"memorysetup-temp-allocator-size-main=4194304\"\n",
      "    \"memorysetup-job-temp-allocator-block-size=2097152\"\n",
      "    \"memorysetup-job-temp-allocator-block-size-background=1048576\"\n",
      "    \"memorysetup-job-temp-allocator-reduction-small-platforms=262144\"\n",
      "    \"memorysetup-allocator-temp-initial-block-size-main=262144\"\n",
      "    \"memorysetup-allocator-temp-initial-block-size-worker=262144\"\n",
      "    \"memorysetup-temp-allocator-size-background-worker=32768\"\n",
      "    \"memorysetup-temp-allocator-size-job-worker=262144\"\n",
      "    \"memorysetup-temp-allocator-size-preload-manager=262144\"\n",
      "    \"memorysetup-temp-allocator-size-nav-mesh-worker=65536\"\n",
      "    \"memorysetup-temp-allocator-size-audio-worker=65536\"\n",
      "    \"memorysetup-temp-allocator-size-cloud-worker=32768\"\n",
      "    \"memorysetup-temp-allocator-size-gfx=262144\"\n",
      "INFO:DonkeyProcess:donkey subprocess started\n"
     ]
    },
    {
     "name": "stderr",
     "output_type": "stream",
     "text": [
      "2024-01-18 11:44:39,954 INFO     donkey subprocess started\n"
     ]
    },
    {
     "name": "stdout",
     "output_type": "stream",
     "text": [
      "INFO:SDSandBoxSimulator:Waiting for inital obs\n"
     ]
    },
    {
     "name": "stderr",
     "output_type": "stream",
     "text": [
      "2024-01-18 11:44:40,011 INFO     Waiting for inital obs\n"
     ]
    },
    {
     "name": "stdout",
     "output_type": "stream",
     "text": [
      "INFO:SDSandBoxSimulator:Waiting for inital obs\n"
     ]
    },
    {
     "name": "stderr",
     "output_type": "stream",
     "text": [
      "2024-01-18 11:44:40,052 INFO     Waiting for inital obs\n"
     ]
    },
    {
     "name": "stdout",
     "output_type": "stream",
     "text": [
      "INFO:SDSandBoxSimulator:Waiting for inital obs\n"
     ]
    },
    {
     "name": "stderr",
     "output_type": "stream",
     "text": [
      "2024-01-18 11:44:40,094 INFO     Waiting for inital obs\n"
     ]
    },
    {
     "name": "stdout",
     "output_type": "stream",
     "text": [
      "INFO:SDSandBoxSimulator:Waiting for inital obs\n"
     ]
    },
    {
     "name": "stderr",
     "output_type": "stream",
     "text": [
      "2024-01-18 11:44:40,136 INFO     Waiting for inital obs\n"
     ]
    },
    {
     "name": "stdout",
     "output_type": "stream",
     "text": [
      "INFO:SDSandBoxSimulator:Waiting for inital obs\n"
     ]
    },
    {
     "name": "stderr",
     "output_type": "stream",
     "text": [
      "2024-01-18 11:44:40,178 INFO     Waiting for inital obs\n"
     ]
    },
    {
     "name": "stdout",
     "output_type": "stream",
     "text": [
      "INFO:SDSandBoxSimulator:Waiting for inital obs\n"
     ]
    },
    {
     "name": "stderr",
     "output_type": "stream",
     "text": [
      "2024-01-18 11:44:40,220 INFO     Waiting for inital obs\n"
     ]
    },
    {
     "name": "stdout",
     "output_type": "stream",
     "text": [
      "INFO:SDSandBoxSimulator:Waiting for inital obs\n"
     ]
    },
    {
     "name": "stderr",
     "output_type": "stream",
     "text": [
      "2024-01-18 11:44:40,261 INFO     Waiting for inital obs\n"
     ]
    },
    {
     "name": "stdout",
     "output_type": "stream",
     "text": [
      "INFO:SDSandBoxSimulator:Waiting for inital obs\n"
     ]
    },
    {
     "name": "stderr",
     "output_type": "stream",
     "text": [
      "2024-01-18 11:44:40,304 INFO     Waiting for inital obs\n"
     ]
    },
    {
     "name": "stdout",
     "output_type": "stream",
     "text": [
      "INFO:SDSandBoxSimulator:Waiting for inital obs\n"
     ]
    },
    {
     "name": "stderr",
     "output_type": "stream",
     "text": [
      "2024-01-18 11:44:40,347 INFO     Waiting for inital obs\n"
     ]
    },
    {
     "name": "stdout",
     "output_type": "stream",
     "text": [
      "INFO:DonkeySimMsgHandler:DonkeySimMsgHandler: ----- Car Created With Data {'msg_type': 'car_loaded'} -----\n"
     ]
    },
    {
     "name": "stderr",
     "output_type": "stream",
     "text": [
      "2024-01-18 11:44:40,351 INFO     DonkeySimMsgHandler: ----- Car Created With Data {'msg_type': 'car_loaded'} -----\n"
     ]
    },
    {
     "name": "stdout",
     "output_type": "stream",
     "text": [
      "INFO:SDSandBoxSimulator:Waiting for inital obs\n"
     ]
    },
    {
     "name": "stderr",
     "output_type": "stream",
     "text": [
      "2024-01-18 11:44:40,389 INFO     Waiting for inital obs\n"
     ]
    },
    {
     "name": "stdout",
     "output_type": "stream",
     "text": [
      "INFO:SDSandBoxSimulator:Waiting for inital obs\n"
     ]
    },
    {
     "name": "stderr",
     "output_type": "stream",
     "text": [
      "2024-01-18 11:44:40,434 INFO     Waiting for inital obs\n"
     ]
    },
    {
     "name": "stdout",
     "output_type": "stream",
     "text": [
      "Segment lengths are None\n",
      "Started Road Generation\n",
      "Road Instance 0, angle: -9, 25: [(47.999939999999995, 24.969459999999998, 0.6074528, 4.0), (47.99994, 49.96946, 0.6074528, 4.0), (52.341144441673265, 74.58965382530519, 0.6074528, 4.0)]\n",
      "Road Instance 1, angle: 14, 25: [(47.999939999999995, 24.969459999999998, 0.6074528, 4.0), (47.99994, 49.96946, 0.6074528, 4.0), (52.341144441673265, 74.58965382530519, 0.6074528, 4.0), (51.032745535599666, 99.55539219416954, 0.6074528, 4.0)]\n",
      "Road Instance 2, angle: 14, 25: [(47.999939999999995, 24.969459999999998, 0.6074528, 4.0), (47.99994, 49.96946, 0.6074528, 4.0), (52.341144441673265, 74.58965382530519, 0.6074528, 4.0), (51.032745535599666, 99.55539219416954, 0.6074528, 4.0), (43.72345291753125, 123.46301109324543, 0.6074528, 4.0)]\n",
      "Road Instance 3, angle: 12, 25: [(47.999939999999995, 24.969459999999998, 0.6074528, 4.0), (47.99994, 49.96946, 0.6074528, 4.0), (52.341144441673265, 74.58965382530519, 0.6074528, 4.0), (51.032745535599666, 99.55539219416954, 0.6074528, 4.0), (43.72345291753125, 123.46301109324543, 0.6074528, 4.0), (31.603212411372823, 145.3285037717303, 0.6074528, 4.0)]\n",
      "Road Instance 4, angle: -8, 25: [(47.999939999999995, 24.969459999999998, 0.6074528, 4.0), (47.99994, 49.96946, 0.6074528, 4.0), (52.341144441673265, 74.58965382530519, 0.6074528, 4.0), (51.032745535599666, 99.55539219416954, 0.6074528, 4.0), (43.72345291753125, 123.46301109324543, 0.6074528, 4.0), (31.603212411372823, 145.3285037717303, 0.6074528, 4.0), (22.644013672740314, 168.66801443416034, 0.6074528, 4.0)]\n",
      "Road Instance 5, angle: 9, 25: [(47.999939999999995, 24.969459999999998, 0.6074528, 4.0), (47.99994, 49.96946, 0.6074528, 4.0), (52.341144441673265, 74.58965382530519, 0.6074528, 4.0), (51.032745535599666, 99.55539219416954, 0.6074528, 4.0), (43.72345291753125, 123.46301109324543, 0.6074528, 4.0), (31.603212411372823, 145.3285037717303, 0.6074528, 4.0), (22.644013672740314, 168.66801443416034, 0.6074528, 4.0), (10.144013672740318, 190.31864952877132, 0.6074528, 4.0)]\n",
      "finished road generation\n",
      "IndividualToScenario: Function is zigzag_mapping/zigzag_mapping\n",
      "Segment lengths are None\n",
      "Started Road Generation\n",
      "Road Instance 0, angle: -9, 25: [(47.999939999999995, 24.969459999999998, 0.6074528, 4.0), (47.99994, 49.96946, 0.6074528, 4.0), (52.341144441673265, 74.58965382530519, 0.6074528, 4.0)]\n",
      "Road Instance 1, angle: 14, 25: [(47.999939999999995, 24.969459999999998, 0.6074528, 4.0), (47.99994, 49.96946, 0.6074528, 4.0), (52.341144441673265, 74.58965382530519, 0.6074528, 4.0), (51.032745535599666, 99.55539219416954, 0.6074528, 4.0)]\n",
      "Road Instance 2, angle: 14, 25: [(47.999939999999995, 24.969459999999998, 0.6074528, 4.0), (47.99994, 49.96946, 0.6074528, 4.0), (52.341144441673265, 74.58965382530519, 0.6074528, 4.0), (51.032745535599666, 99.55539219416954, 0.6074528, 4.0), (43.72345291753125, 123.46301109324543, 0.6074528, 4.0)]\n",
      "Road Instance 3, angle: 12, 25: [(47.999939999999995, 24.969459999999998, 0.6074528, 4.0), (47.99994, 49.96946, 0.6074528, 4.0), (52.341144441673265, 74.58965382530519, 0.6074528, 4.0), (51.032745535599666, 99.55539219416954, 0.6074528, 4.0), (43.72345291753125, 123.46301109324543, 0.6074528, 4.0), (31.603212411372823, 145.3285037717303, 0.6074528, 4.0)]\n",
      "Road Instance 4, angle: -8, 25: [(47.999939999999995, 24.969459999999998, 0.6074528, 4.0), (47.99994, 49.96946, 0.6074528, 4.0), (52.341144441673265, 74.58965382530519, 0.6074528, 4.0), (51.032745535599666, 99.55539219416954, 0.6074528, 4.0), (43.72345291753125, 123.46301109324543, 0.6074528, 4.0), (31.603212411372823, 145.3285037717303, 0.6074528, 4.0), (22.644013672740314, 168.66801443416034, 0.6074528, 4.0)]\n",
      "Road Instance 5, angle: 9, 25: [(47.999939999999995, 24.969459999999998, 0.6074528, 4.0), (47.99994, 49.96946, 0.6074528, 4.0), (52.341144441673265, 74.58965382530519, 0.6074528, 4.0), (51.032745535599666, 99.55539219416954, 0.6074528, 4.0), (43.72345291753125, 123.46301109324543, 0.6074528, 4.0), (31.603212411372823, 145.3285037717303, 0.6074528, 4.0), (22.644013672740314, 168.66801443416034, 0.6074528, 4.0), (10.144013672740318, 190.31864952877132, 0.6074528, 4.0)]\n",
      "finished road generation\n",
      "IndividualToScenario: Function is zigzag_mapping/zigzag_mapping\n",
      "Segment lengths are None\n",
      "Started Road Generation\n",
      "Road Instance 0, angle: -9, 25: [(47.999939999999995, 24.969459999999998, 0.6074528, 4.0), (47.99994, 49.96946, 0.6074528, 4.0), (52.341144441673265, 74.58965382530519, 0.6074528, 4.0)]\n",
      "Road Instance 1, angle: 14, 25: [(47.999939999999995, 24.969459999999998, 0.6074528, 4.0), (47.99994, 49.96946, 0.6074528, 4.0), (52.341144441673265, 74.58965382530519, 0.6074528, 4.0), (51.032745535599666, 99.55539219416954, 0.6074528, 4.0)]\n",
      "Road Instance 2, angle: 14, 25: [(47.999939999999995, 24.969459999999998, 0.6074528, 4.0), (47.99994, 49.96946, 0.6074528, 4.0), (52.341144441673265, 74.58965382530519, 0.6074528, 4.0), (51.032745535599666, 99.55539219416954, 0.6074528, 4.0), (43.72345291753125, 123.46301109324543, 0.6074528, 4.0)]\n",
      "Road Instance 3, angle: 12, 25: [(47.999939999999995, 24.969459999999998, 0.6074528, 4.0), (47.99994, 49.96946, 0.6074528, 4.0), (52.341144441673265, 74.58965382530519, 0.6074528, 4.0), (51.032745535599666, 99.55539219416954, 0.6074528, 4.0), (43.72345291753125, 123.46301109324543, 0.6074528, 4.0), (31.603212411372823, 145.3285037717303, 0.6074528, 4.0)]\n",
      "Road Instance 4, angle: -8, 25: [(47.999939999999995, 24.969459999999998, 0.6074528, 4.0), (47.99994, 49.96946, 0.6074528, 4.0), (52.341144441673265, 74.58965382530519, 0.6074528, 4.0), (51.032745535599666, 99.55539219416954, 0.6074528, 4.0), (43.72345291753125, 123.46301109324543, 0.6074528, 4.0), (31.603212411372823, 145.3285037717303, 0.6074528, 4.0), (22.644013672740314, 168.66801443416034, 0.6074528, 4.0)]\n",
      "Road Instance 5, angle: 10, 25: [(47.999939999999995, 24.969459999999998, 0.6074528, 4.0), (47.99994, 49.96946, 0.6074528, 4.0), (52.341144441673265, 74.58965382530519, 0.6074528, 4.0), (51.032745535599666, 99.55539219416954, 0.6074528, 4.0), (43.72345291753125, 123.46301109324543, 0.6074528, 4.0), (31.603212411372823, 145.3285037717303, 0.6074528, 4.0), (22.644013672740314, 168.66801443416034, 0.6074528, 4.0), (9.768061799988958, 190.09719695171316, 0.6074528, 4.0)]\n",
      "finished road generation\n",
      "IndividualToScenario: Function is zigzag_mapping/zigzag_mapping\n",
      "Segment lengths are None\n",
      "Started Road Generation\n",
      "Road Instance 0, angle: -9, 25: [(47.999939999999995, 24.969459999999998, 0.6074528, 4.0), (47.99994, 49.96946, 0.6074528, 4.0), (52.341144441673265, 74.58965382530519, 0.6074528, 4.0)]\n",
      "Road Instance 1, angle: 14, 25: [(47.999939999999995, 24.969459999999998, 0.6074528, 4.0), (47.99994, 49.96946, 0.6074528, 4.0), (52.341144441673265, 74.58965382530519, 0.6074528, 4.0), (51.032745535599666, 99.55539219416954, 0.6074528, 4.0)]\n",
      "Road Instance 2, angle: 14, 25: [(47.999939999999995, 24.969459999999998, 0.6074528, 4.0), (47.99994, 49.96946, 0.6074528, 4.0), (52.341144441673265, 74.58965382530519, 0.6074528, 4.0), (51.032745535599666, 99.55539219416954, 0.6074528, 4.0), (43.72345291753125, 123.46301109324543, 0.6074528, 4.0)]\n",
      "Road Instance 3, angle: 11, 25: [(47.999939999999995, 24.969459999999998, 0.6074528, 4.0), (47.99994, 49.96946, 0.6074528, 4.0), (52.341144441673265, 74.58965382530519, 0.6074528, 4.0), (51.032745535599666, 99.55539219416954, 0.6074528, 4.0), (43.72345291753125, 123.46301109324543, 0.6074528, 4.0), (31.986663847883975, 145.5367009147186, 0.6074528, 4.0)]\n",
      "Road Instance 4, angle: -8, 25: [(47.999939999999995, 24.969459999999998, 0.6074528, 4.0), (47.99994, 49.96946, 0.6074528, 4.0), (52.341144441673265, 74.58965382530519, 0.6074528, 4.0), (51.032745535599666, 99.55539219416954, 0.6074528, 4.0), (43.72345291753125, 123.46301109324543, 0.6074528, 4.0), (31.986663847883975, 145.5367009147186, 0.6074528, 4.0), (23.436160264742256, 169.02901643436633, 0.6074528, 4.0)]\n",
      "Road Instance 5, angle: 11, 25: [(47.999939999999995, 24.969459999999998, 0.6074528, 4.0), (47.99994, 49.96946, 0.6074528, 4.0), (52.341144441673265, 74.58965382530519, 0.6074528, 4.0), (51.032745535599666, 99.55539219416954, 0.6074528, 4.0), (43.72345291753125, 123.46301109324543, 0.6074528, 4.0), (31.986663847883975, 145.5367009147186, 0.6074528, 4.0), (23.436160264742256, 169.02901643436633, 0.6074528, 4.0), (10.5602083919909, 190.45819895191914, 0.6074528, 4.0)]\n",
      "finished road generation\n",
      "IndividualToScenario: Function is zigzag_mapping/zigzag_mapping\n",
      "Segment lengths are None\n",
      "Started Road Generation\n",
      "Road Instance 0, angle: -9, 25: [(47.999939999999995, 24.969459999999998, 0.6074528, 4.0), (47.99994, 49.96946, 0.6074528, 4.0), (52.341144441673265, 74.58965382530519, 0.6074528, 4.0)]\n",
      "Road Instance 1, angle: 14, 25: [(47.999939999999995, 24.969459999999998, 0.6074528, 4.0), (47.99994, 49.96946, 0.6074528, 4.0), (52.341144441673265, 74.58965382530519, 0.6074528, 4.0), (51.032745535599666, 99.55539219416954, 0.6074528, 4.0)]\n",
      "Road Instance 2, angle: 14, 25: [(47.999939999999995, 24.969459999999998, 0.6074528, 4.0), (47.99994, 49.96946, 0.6074528, 4.0), (52.341144441673265, 74.58965382530519, 0.6074528, 4.0), (51.032745535599666, 99.55539219416954, 0.6074528, 4.0), (43.72345291753125, 123.46301109324543, 0.6074528, 4.0)]\n",
      "Road Instance 3, angle: 12, 25: [(47.999939999999995, 24.969459999999998, 0.6074528, 4.0), (47.99994, 49.96946, 0.6074528, 4.0), (52.341144441673265, 74.58965382530519, 0.6074528, 4.0), (51.032745535599666, 99.55539219416954, 0.6074528, 4.0), (43.72345291753125, 123.46301109324543, 0.6074528, 4.0), (31.603212411372823, 145.3285037717303, 0.6074528, 4.0)]\n",
      "Road Instance 4, angle: -8, 25: [(47.999939999999995, 24.969459999999998, 0.6074528, 4.0), (47.99994, 49.96946, 0.6074528, 4.0), (52.341144441673265, 74.58965382530519, 0.6074528, 4.0), (51.032745535599666, 99.55539219416954, 0.6074528, 4.0), (43.72345291753125, 123.46301109324543, 0.6074528, 4.0), (31.603212411372823, 145.3285037717303, 0.6074528, 4.0), (22.644013672740314, 168.66801443416034, 0.6074528, 4.0)]\n",
      "Road Instance 5, angle: 9, 25: [(47.999939999999995, 24.969459999999998, 0.6074528, 4.0), (47.99994, 49.96946, 0.6074528, 4.0), (52.341144441673265, 74.58965382530519, 0.6074528, 4.0), (51.032745535599666, 99.55539219416954, 0.6074528, 4.0), (43.72345291753125, 123.46301109324543, 0.6074528, 4.0), (31.603212411372823, 145.3285037717303, 0.6074528, 4.0), (22.644013672740314, 168.66801443416034, 0.6074528, 4.0), (10.144013672740318, 190.31864952877132, 0.6074528, 4.0)]\n",
      "finished road generation\n",
      "IndividualToScenario: Function is zigzag_mapping/zigzag_mapping\n",
      "Segment lengths are None\n",
      "Started Road Generation\n",
      "Road Instance 0, angle: -9, 25: [(47.999939999999995, 24.969459999999998, 0.6074528, 4.0), (47.99994, 49.96946, 0.6074528, 4.0), (52.341144441673265, 74.58965382530519, 0.6074528, 4.0)]\n",
      "Road Instance 1, angle: 14, 25: [(47.999939999999995, 24.969459999999998, 0.6074528, 4.0), (47.99994, 49.96946, 0.6074528, 4.0), (52.341144441673265, 74.58965382530519, 0.6074528, 4.0), (51.032745535599666, 99.55539219416954, 0.6074528, 4.0)]\n",
      "Road Instance 2, angle: 14, 25: [(47.999939999999995, 24.969459999999998, 0.6074528, 4.0), (47.99994, 49.96946, 0.6074528, 4.0), (52.341144441673265, 74.58965382530519, 0.6074528, 4.0), (51.032745535599666, 99.55539219416954, 0.6074528, 4.0), (43.72345291753125, 123.46301109324543, 0.6074528, 4.0)]\n",
      "Road Instance 3, angle: -7, 25: [(47.999939999999995, 24.969459999999998, 0.6074528, 4.0), (47.99994, 49.96946, 0.6074528, 4.0), (52.341144441673265, 74.58965382530519, 0.6074528, 4.0), (51.032745535599666, 99.55539219416954, 0.6074528, 4.0), (43.72345291753125, 123.46301109324543, 0.6074528, 4.0), (39.38224847585799, 148.08320491855062, 0.6074528, 4.0)]\n",
      "Road Instance 4, angle: -8, 25: [(47.999939999999995, 24.969459999999998, 0.6074528, 4.0), (47.99994, 49.96946, 0.6074528, 4.0), (52.341144441673265, 74.58965382530519, 0.6074528, 4.0), (51.032745535599666, 99.55539219416954, 0.6074528, 4.0), (43.72345291753125, 123.46301109324543, 0.6074528, 4.0), (39.38224847585799, 148.08320491855062, 0.6074528, 4.0), (38.50976105829547, 173.067975594028, 0.6074528, 4.0)]\n",
      "Road Instance 5, angle: 9, 25: [(47.999939999999995, 24.969459999999998, 0.6074528, 4.0), (47.99994, 49.96946, 0.6074528, 4.0), (52.341144441673265, 74.58965382530519, 0.6074528, 4.0), (51.032745535599666, 99.55539219416954, 0.6074528, 4.0), (43.72345291753125, 123.46301109324543, 0.6074528, 4.0), (39.38224847585799, 148.08320491855062, 0.6074528, 4.0), (38.50976105829547, 173.067975594028, 0.6074528, 4.0), (33.739536173881845, 197.6086551802196, 0.6074528, 4.0)]\n",
      "finished road generation\n",
      "IndividualToScenario: Function is zigzag_mapping/zigzag_mapping\n",
      "----- Finished Perturbation-Controller set up -----\n",
      "INFO:SDSandBoxSimulator:Reset the scenario\n"
     ]
    },
    {
     "name": "stderr",
     "output_type": "stream",
     "text": [
      "2024-01-18 11:44:40,522 INFO     Reset the scenario\n"
     ]
    },
    {
     "name": "stdout",
     "output_type": "stream",
     "text": [
      "fps 18.56\n",
      "fps 19.74\n",
      "fps 17.95\n",
      "fps 19.52\n",
      "fps 19.74\n",
      "SDSandBox: Finished scenario\n",
      "fps 19.61\n",
      "INFO:SDSandBoxSimulator:Reset the scenario\n"
     ]
    },
    {
     "name": "stderr",
     "output_type": "stream",
     "text": [
      "2024-01-18 11:45:11,712 INFO     Reset the scenario\n"
     ]
    },
    {
     "name": "stdout",
     "output_type": "stream",
     "text": [
      "fps 19.72\n",
      "Exception: [Errno 54] Connection reset by peer\n",
      "CRITICAL:DonkeySimMsgHandler:DonkeySimMsgHandler: +++++ Warning: Donkey Sim Aborted +++++\n"
     ]
    },
    {
     "name": "stderr",
     "output_type": "stream",
     "text": [
      "2024-01-18 11:45:19,652 CRITICAL DonkeySimMsgHandler: +++++ Warning: Donkey Sim Aborted +++++\n"
     ]
    },
    {
     "name": "stdout",
     "output_type": "stream",
     "text": [
      "INFO:DonkeySimMsgHandler:DonkeySimMsgHandler: +++++ Warning: Donkey Sim Message Stoped +++++\n"
     ]
    },
    {
     "name": "stderr",
     "output_type": "stream",
     "text": [
      "2024-01-18 11:45:19,655 INFO     DonkeySimMsgHandler: +++++ Warning: Donkey Sim Message Stoped +++++\n"
     ]
    },
    {
     "name": "stdout",
     "output_type": "stream",
     "text": [
      "fps 19.75\n",
      "fps 19.70\n",
      "fps 19.71\n",
      "fps 19.72\n",
      "SDSandBox: Finished scenario\n",
      "fps 19.67\n",
      "INFO:SDSandBoxSimulator:Reset the scenario\n"
     ]
    },
    {
     "name": "stderr",
     "output_type": "stream",
     "text": [
      "2024-01-18 11:45:42,720 INFO     Reset the scenario\n"
     ]
    },
    {
     "name": "stdout",
     "output_type": "stream",
     "text": [
      "fps 19.75\n",
      "fps 19.72\n",
      "fps 17.03\n",
      "fps 19.71\n",
      "fps 19.72\n",
      "SDSandBox: Finished scenario\n",
      "fps 19.69\n",
      "INFO:SDSandBoxSimulator:Reset the scenario\n"
     ]
    },
    {
     "name": "stderr",
     "output_type": "stream",
     "text": [
      "2024-01-18 11:46:13,748 INFO     Reset the scenario\n"
     ]
    },
    {
     "name": "stdout",
     "output_type": "stream",
     "text": [
      "fps 19.73\n",
      "fps 19.69\n",
      "fps 19.71\n",
      "fps 19.71\n",
      "fps 19.71\n",
      "fps 19.70\n",
      "SDSandBox: Finished scenario\n",
      "fps 19.71\n",
      "INFO:SDSandBoxSimulator:Reset the scenario\n"
     ]
    },
    {
     "name": "stderr",
     "output_type": "stream",
     "text": [
      "2024-01-18 11:46:49,269 INFO     Reset the scenario\n"
     ]
    },
    {
     "name": "stdout",
     "output_type": "stream",
     "text": [
      "fps 19.66\n",
      "fps 19.71\n",
      "fps 19.71\n",
      "fps 19.70\n",
      "fps 19.71\n",
      "SDSandBox: Finished scenario\n",
      "fps 19.67\n",
      "INFO:SDSandBoxSimulator:Reset the scenario\n"
     ]
    },
    {
     "name": "stderr",
     "output_type": "stream",
     "text": [
      "2024-01-18 11:47:19,476 INFO     Reset the scenario\n"
     ]
    },
    {
     "name": "stdout",
     "output_type": "stream",
     "text": [
      "fps 19.73\n",
      "fps 19.71\n",
      "fps 19.69\n",
      "fps 19.68\n",
      "fps 19.71\n",
      "SDSandBox: Finished scenario\n",
      "fps 19.66\n",
      "INFO:DonkeySimMsgHandler:DonkeySimMsgHandler: +++++ Warning: Donkey Sim Disconnected +++++\n"
     ]
    },
    {
     "name": "stderr",
     "output_type": "stream",
     "text": [
      "2024-01-18 11:47:50,469 INFO     DonkeySimMsgHandler: +++++ Warning: Donkey Sim Disconnected +++++\n"
     ]
    },
    {
     "name": "stdout",
     "output_type": "stream",
     "text": [
      "INFO:DonkeyProcess:Closing donkey sim subprocess\n"
     ]
    },
    {
     "name": "stderr",
     "output_type": "stream",
     "text": [
      "2024-01-18 11:47:50,472 INFO     Closing donkey sim subprocess\n",
      "2024-01-18 11:47:50,566 INFO     Running evaluation number 22\n"
     ]
    },
    {
     "name": "stdout",
     "output_type": "stream",
     "text": [
      "    21 |      126 |      2 |  0.000000E+00 |             f\n",
      "Using model: generated_dave_v5\n",
      "INFO:DonkeyProcess:This is the launch string /Users/hannesleonhard/Documents/BachelorWInfo/Robustness-SDC/PerturbationDrive/./examples/self_driving_sandbox_donkey/sim/donkey-sim.app/Contents/MacOS/Simulator\n"
     ]
    },
    {
     "name": "stderr",
     "output_type": "stream",
     "text": [
      "2024-01-18 11:47:50,739 INFO     This is the launch string /Users/hannesleonhard/Documents/BachelorWInfo/Robustness-SDC/PerturbationDrive/./examples/self_driving_sandbox_donkey/sim/donkey-sim.app/Contents/MacOS/Simulator\n"
     ]
    },
    {
     "name": "stdout",
     "output_type": "stream",
     "text": [
      "[UnityMemory] Configuration Parameters - Can be set up in boot.config\n",
      "    \"memorysetup-bucket-allocator-granularity=16\"\n",
      "    \"memorysetup-bucket-allocator-bucket-count=8\"\n",
      "    \"memorysetup-bucket-allocator-block-size=4194304\"\n",
      "    \"memorysetup-bucket-allocator-block-count=1\"\n",
      "    \"memorysetup-main-allocator-block-size=16777216\"\n",
      "    \"memorysetup-thread-allocator-block-size=16777216\"\n",
      "    \"memorysetup-gfx-main-allocator-block-size=16777216\"\n",
      "    \"memorysetup-gfx-thread-allocator-block-size=16777216\"\n",
      "    \"memorysetup-cache-allocator-block-size=4194304\"\n",
      "    \"memorysetup-typetree-allocator-block-size=2097152\"\n",
      "    \"memorysetup-profiler-bucket-allocator-granularity=16\"\n",
      "    \"memorysetup-profiler-bucket-allocator-bucket-count=8\"\n",
      "    \"memorysetup-profiler-bucket-allocator-block-size=4194304\"\n",
      "    \"memorysetup-profiler-bucket-allocator-block-count=1\"\n",
      "    \"memorysetup-profiler-allocator-block-size=16777216\"\n",
      "    \"memorysetup-profiler-editor-allocator-block-size=1048576\"\n",
      "    \"memorysetup-temp-allocator-size-main=4194304\"\n",
      "    \"memorysetup-job-temp-allocator-block-size=2097152\"\n",
      "    \"memorysetup-job-temp-allocator-block-size-background=1048576\"\n",
      "    \"memorysetup-job-temp-allocator-reduction-small-platforms=262144\"\n",
      "    \"memorysetup-allocator-temp-initial-block-size-main=262144\"\n",
      "    \"memorysetup-allocator-temp-initial-block-size-worker=262144\"\n",
      "    \"memorysetup-temp-allocator-size-background-worker=32768\"\n",
      "    \"memorysetup-temp-allocator-size-job-worker=262144\"\n",
      "    \"memorysetup-temp-allocator-size-preload-manager=262144\"\n",
      "    \"memorysetup-temp-allocator-size-nav-mesh-worker=65536\"\n",
      "    \"memorysetup-temp-allocator-size-audio-worker=65536\"\n",
      "    \"memorysetup-temp-allocator-size-cloud-worker=32768\"\n",
      "    \"memorysetup-temp-allocator-size-gfx=262144\"\n",
      "INFO:DonkeyProcess:donkey subprocess started\n"
     ]
    },
    {
     "name": "stderr",
     "output_type": "stream",
     "text": [
      "2024-01-18 11:48:10,755 INFO     donkey subprocess started\n"
     ]
    },
    {
     "name": "stdout",
     "output_type": "stream",
     "text": [
      "INFO:SDSandBoxSimulator:Waiting for inital obs\n"
     ]
    },
    {
     "name": "stderr",
     "output_type": "stream",
     "text": [
      "2024-01-18 11:48:10,828 INFO     Waiting for inital obs\n"
     ]
    },
    {
     "name": "stdout",
     "output_type": "stream",
     "text": [
      "INFO:SDSandBoxSimulator:Waiting for inital obs\n"
     ]
    },
    {
     "name": "stderr",
     "output_type": "stream",
     "text": [
      "2024-01-18 11:48:10,870 INFO     Waiting for inital obs\n"
     ]
    },
    {
     "name": "stdout",
     "output_type": "stream",
     "text": [
      "INFO:SDSandBoxSimulator:Waiting for inital obs\n"
     ]
    },
    {
     "name": "stderr",
     "output_type": "stream",
     "text": [
      "2024-01-18 11:48:10,911 INFO     Waiting for inital obs\n"
     ]
    },
    {
     "name": "stdout",
     "output_type": "stream",
     "text": [
      "INFO:SDSandBoxSimulator:Waiting for inital obs\n"
     ]
    },
    {
     "name": "stderr",
     "output_type": "stream",
     "text": [
      "2024-01-18 11:48:10,954 INFO     Waiting for inital obs\n"
     ]
    },
    {
     "name": "stdout",
     "output_type": "stream",
     "text": [
      "INFO:SDSandBoxSimulator:Waiting for inital obs\n"
     ]
    },
    {
     "name": "stderr",
     "output_type": "stream",
     "text": [
      "2024-01-18 11:48:10,998 INFO     Waiting for inital obs\n"
     ]
    },
    {
     "name": "stdout",
     "output_type": "stream",
     "text": [
      "INFO:SDSandBoxSimulator:Waiting for inital obs\n"
     ]
    },
    {
     "name": "stderr",
     "output_type": "stream",
     "text": [
      "2024-01-18 11:48:11,041 INFO     Waiting for inital obs\n"
     ]
    },
    {
     "name": "stdout",
     "output_type": "stream",
     "text": [
      "INFO:SDSandBoxSimulator:Waiting for inital obs\n"
     ]
    },
    {
     "name": "stderr",
     "output_type": "stream",
     "text": [
      "2024-01-18 11:48:11,083 INFO     Waiting for inital obs\n"
     ]
    },
    {
     "name": "stdout",
     "output_type": "stream",
     "text": [
      "INFO:SDSandBoxSimulator:Waiting for inital obs\n"
     ]
    },
    {
     "name": "stderr",
     "output_type": "stream",
     "text": [
      "2024-01-18 11:48:11,128 INFO     Waiting for inital obs\n"
     ]
    },
    {
     "name": "stdout",
     "output_type": "stream",
     "text": [
      "INFO:SDSandBoxSimulator:Waiting for inital obs\n"
     ]
    },
    {
     "name": "stderr",
     "output_type": "stream",
     "text": [
      "2024-01-18 11:48:11,171 INFO     Waiting for inital obs\n"
     ]
    },
    {
     "name": "stdout",
     "output_type": "stream",
     "text": [
      "INFO:SDSandBoxSimulator:Waiting for inital obs\n"
     ]
    },
    {
     "name": "stderr",
     "output_type": "stream",
     "text": [
      "2024-01-18 11:48:11,215 INFO     Waiting for inital obs\n"
     ]
    },
    {
     "name": "stdout",
     "output_type": "stream",
     "text": [
      "INFO:SDSandBoxSimulator:Waiting for inital obs\n"
     ]
    },
    {
     "name": "stderr",
     "output_type": "stream",
     "text": [
      "2024-01-18 11:48:11,258 INFO     Waiting for inital obs\n"
     ]
    },
    {
     "name": "stdout",
     "output_type": "stream",
     "text": [
      "INFO:SDSandBoxSimulator:Waiting for inital obs\n"
     ]
    },
    {
     "name": "stderr",
     "output_type": "stream",
     "text": [
      "2024-01-18 11:48:11,301 INFO     Waiting for inital obs\n"
     ]
    },
    {
     "name": "stdout",
     "output_type": "stream",
     "text": [
      "INFO:DonkeySimMsgHandler:DonkeySimMsgHandler: ----- Car Created With Data {'msg_type': 'car_loaded'} -----\n"
     ]
    },
    {
     "name": "stderr",
     "output_type": "stream",
     "text": [
      "2024-01-18 11:48:11,329 INFO     DonkeySimMsgHandler: ----- Car Created With Data {'msg_type': 'car_loaded'} -----\n"
     ]
    },
    {
     "name": "stdout",
     "output_type": "stream",
     "text": [
      "INFO:SDSandBoxSimulator:Waiting for inital obs\n"
     ]
    },
    {
     "name": "stderr",
     "output_type": "stream",
     "text": [
      "2024-01-18 11:48:11,344 INFO     Waiting for inital obs\n"
     ]
    },
    {
     "name": "stdout",
     "output_type": "stream",
     "text": [
      "INFO:SDSandBoxSimulator:Waiting for inital obs\n"
     ]
    },
    {
     "name": "stderr",
     "output_type": "stream",
     "text": [
      "2024-01-18 11:48:11,386 INFO     Waiting for inital obs\n"
     ]
    },
    {
     "name": "stdout",
     "output_type": "stream",
     "text": [
      "INFO:SDSandBoxSimulator:Waiting for inital obs\n"
     ]
    },
    {
     "name": "stderr",
     "output_type": "stream",
     "text": [
      "2024-01-18 11:48:11,428 INFO     Waiting for inital obs\n"
     ]
    },
    {
     "name": "stdout",
     "output_type": "stream",
     "text": [
      "Segment lengths are None\n",
      "Started Road Generation\n",
      "Road Instance 0, angle: -9, 25: [(47.999939999999995, 24.969459999999998, 0.6074528, 4.0), (47.99994, 49.96946, 0.6074528, 4.0), (52.341144441673265, 74.58965382530519, 0.6074528, 4.0)]\n",
      "Road Instance 1, angle: 14, 25: [(47.999939999999995, 24.969459999999998, 0.6074528, 4.0), (47.99994, 49.96946, 0.6074528, 4.0), (52.341144441673265, 74.58965382530519, 0.6074528, 4.0), (51.032745535599666, 99.55539219416954, 0.6074528, 4.0)]\n",
      "Road Instance 2, angle: 14, 25: [(47.999939999999995, 24.969459999999998, 0.6074528, 4.0), (47.99994, 49.96946, 0.6074528, 4.0), (52.341144441673265, 74.58965382530519, 0.6074528, 4.0), (51.032745535599666, 99.55539219416954, 0.6074528, 4.0), (43.72345291753125, 123.46301109324543, 0.6074528, 4.0)]\n",
      "Road Instance 3, angle: 12, 25: [(47.999939999999995, 24.969459999999998, 0.6074528, 4.0), (47.99994, 49.96946, 0.6074528, 4.0), (52.341144441673265, 74.58965382530519, 0.6074528, 4.0), (51.032745535599666, 99.55539219416954, 0.6074528, 4.0), (43.72345291753125, 123.46301109324543, 0.6074528, 4.0), (31.603212411372823, 145.3285037717303, 0.6074528, 4.0)]\n",
      "Road Instance 4, angle: -8, 25: [(47.999939999999995, 24.969459999999998, 0.6074528, 4.0), (47.99994, 49.96946, 0.6074528, 4.0), (52.341144441673265, 74.58965382530519, 0.6074528, 4.0), (51.032745535599666, 99.55539219416954, 0.6074528, 4.0), (43.72345291753125, 123.46301109324543, 0.6074528, 4.0), (31.603212411372823, 145.3285037717303, 0.6074528, 4.0), (22.644013672740314, 168.66801443416034, 0.6074528, 4.0)]\n",
      "Road Instance 5, angle: -16, 25: [(47.999939999999995, 24.969459999999998, 0.6074528, 4.0), (47.99994, 49.96946, 0.6074528, 4.0), (52.341144441673265, 74.58965382530519, 0.6074528, 4.0), (51.032745535599666, 99.55539219416954, 0.6074528, 4.0), (43.72345291753125, 123.46301109324543, 0.6074528, 4.0), (31.603212411372823, 145.3285037717303, 0.6074528, 4.0), (22.644013672740314, 168.66801443416034, 0.6074528, 4.0), (20.465120104048857, 193.57288188645398, 0.6074528, 4.0)]\n",
      "finished road generation\n",
      "IndividualToScenario: Function is zigzag_mapping/zigzag_mapping\n",
      "Segment lengths are None\n",
      "Started Road Generation\n",
      "Road Instance 0, angle: -9, 25: [(47.999939999999995, 24.969459999999998, 0.6074528, 4.0), (47.99994, 49.96946, 0.6074528, 4.0), (52.341144441673265, 74.58965382530519, 0.6074528, 4.0)]\n",
      "Road Instance 1, angle: 14, 25: [(47.999939999999995, 24.969459999999998, 0.6074528, 4.0), (47.99994, 49.96946, 0.6074528, 4.0), (52.341144441673265, 74.58965382530519, 0.6074528, 4.0), (51.032745535599666, 99.55539219416954, 0.6074528, 4.0)]\n",
      "Road Instance 2, angle: 14, 25: [(47.999939999999995, 24.969459999999998, 0.6074528, 4.0), (47.99994, 49.96946, 0.6074528, 4.0), (52.341144441673265, 74.58965382530519, 0.6074528, 4.0), (51.032745535599666, 99.55539219416954, 0.6074528, 4.0), (43.72345291753125, 123.46301109324543, 0.6074528, 4.0)]\n",
      "Road Instance 3, angle: 12, 25: [(47.999939999999995, 24.969459999999998, 0.6074528, 4.0), (47.99994, 49.96946, 0.6074528, 4.0), (52.341144441673265, 74.58965382530519, 0.6074528, 4.0), (51.032745535599666, 99.55539219416954, 0.6074528, 4.0), (43.72345291753125, 123.46301109324543, 0.6074528, 4.0), (31.603212411372823, 145.3285037717303, 0.6074528, 4.0)]\n",
      "Road Instance 4, angle: -8, 25: [(47.999939999999995, 24.969459999999998, 0.6074528, 4.0), (47.99994, 49.96946, 0.6074528, 4.0), (52.341144441673265, 74.58965382530519, 0.6074528, 4.0), (51.032745535599666, 99.55539219416954, 0.6074528, 4.0), (43.72345291753125, 123.46301109324543, 0.6074528, 4.0), (31.603212411372823, 145.3285037717303, 0.6074528, 4.0), (22.644013672740314, 168.66801443416034, 0.6074528, 4.0)]\n",
      "Road Instance 5, angle: 9, 25: [(47.999939999999995, 24.969459999999998, 0.6074528, 4.0), (47.99994, 49.96946, 0.6074528, 4.0), (52.341144441673265, 74.58965382530519, 0.6074528, 4.0), (51.032745535599666, 99.55539219416954, 0.6074528, 4.0), (43.72345291753125, 123.46301109324543, 0.6074528, 4.0), (31.603212411372823, 145.3285037717303, 0.6074528, 4.0), (22.644013672740314, 168.66801443416034, 0.6074528, 4.0), (10.144013672740318, 190.31864952877132, 0.6074528, 4.0)]\n",
      "finished road generation\n",
      "IndividualToScenario: Function is zigzag_mapping/zigzag_mapping\n",
      "Segment lengths are None\n",
      "Started Road Generation\n",
      "Road Instance 0, angle: -9, 25: [(47.999939999999995, 24.969459999999998, 0.6074528, 4.0), (47.99994, 49.96946, 0.6074528, 4.0), (52.341144441673265, 74.58965382530519, 0.6074528, 4.0)]\n",
      "Road Instance 1, angle: 14, 25: [(47.999939999999995, 24.969459999999998, 0.6074528, 4.0), (47.99994, 49.96946, 0.6074528, 4.0), (52.341144441673265, 74.58965382530519, 0.6074528, 4.0), (51.032745535599666, 99.55539219416954, 0.6074528, 4.0)]\n",
      "Road Instance 2, angle: 14, 25: [(47.999939999999995, 24.969459999999998, 0.6074528, 4.0), (47.99994, 49.96946, 0.6074528, 4.0), (52.341144441673265, 74.58965382530519, 0.6074528, 4.0), (51.032745535599666, 99.55539219416954, 0.6074528, 4.0), (43.72345291753125, 123.46301109324543, 0.6074528, 4.0)]\n",
      "Road Instance 3, angle: 12, 25: [(47.999939999999995, 24.969459999999998, 0.6074528, 4.0), (47.99994, 49.96946, 0.6074528, 4.0), (52.341144441673265, 74.58965382530519, 0.6074528, 4.0), (51.032745535599666, 99.55539219416954, 0.6074528, 4.0), (43.72345291753125, 123.46301109324543, 0.6074528, 4.0), (31.603212411372823, 145.3285037717303, 0.6074528, 4.0)]\n",
      "Road Instance 4, angle: -8, 25: [(47.999939999999995, 24.969459999999998, 0.6074528, 4.0), (47.99994, 49.96946, 0.6074528, 4.0), (52.341144441673265, 74.58965382530519, 0.6074528, 4.0), (51.032745535599666, 99.55539219416954, 0.6074528, 4.0), (43.72345291753125, 123.46301109324543, 0.6074528, 4.0), (31.603212411372823, 145.3285037717303, 0.6074528, 4.0), (22.644013672740314, 168.66801443416034, 0.6074528, 4.0)]\n",
      "Road Instance 5, angle: 9, 25: [(47.999939999999995, 24.969459999999998, 0.6074528, 4.0), (47.99994, 49.96946, 0.6074528, 4.0), (52.341144441673265, 74.58965382530519, 0.6074528, 4.0), (51.032745535599666, 99.55539219416954, 0.6074528, 4.0), (43.72345291753125, 123.46301109324543, 0.6074528, 4.0), (31.603212411372823, 145.3285037717303, 0.6074528, 4.0), (22.644013672740314, 168.66801443416034, 0.6074528, 4.0), (10.144013672740318, 190.31864952877132, 0.6074528, 4.0)]\n",
      "finished road generation\n",
      "IndividualToScenario: Function is zigzag_mapping/zigzag_mapping\n",
      "Segment lengths are None\n",
      "Started Road Generation\n",
      "Road Instance 0, angle: -9, 25: [(47.999939999999995, 24.969459999999998, 0.6074528, 4.0), (47.99994, 49.96946, 0.6074528, 4.0), (52.341144441673265, 74.58965382530519, 0.6074528, 4.0)]\n",
      "Road Instance 1, angle: 14, 25: [(47.999939999999995, 24.969459999999998, 0.6074528, 4.0), (47.99994, 49.96946, 0.6074528, 4.0), (52.341144441673265, 74.58965382530519, 0.6074528, 4.0), (51.032745535599666, 99.55539219416954, 0.6074528, 4.0)]\n",
      "Road Instance 2, angle: 14, 25: [(47.999939999999995, 24.969459999999998, 0.6074528, 4.0), (47.99994, 49.96946, 0.6074528, 4.0), (52.341144441673265, 74.58965382530519, 0.6074528, 4.0), (51.032745535599666, 99.55539219416954, 0.6074528, 4.0), (43.72345291753125, 123.46301109324543, 0.6074528, 4.0)]\n",
      "Road Instance 3, angle: -7, 25: [(47.999939999999995, 24.969459999999998, 0.6074528, 4.0), (47.99994, 49.96946, 0.6074528, 4.0), (52.341144441673265, 74.58965382530519, 0.6074528, 4.0), (51.032745535599666, 99.55539219416954, 0.6074528, 4.0), (43.72345291753125, 123.46301109324543, 0.6074528, 4.0), (39.38224847585799, 148.08320491855062, 0.6074528, 4.0)]\n",
      "Road Instance 4, angle: -8, 25: [(47.999939999999995, 24.969459999999998, 0.6074528, 4.0), (47.99994, 49.96946, 0.6074528, 4.0), (52.341144441673265, 74.58965382530519, 0.6074528, 4.0), (51.032745535599666, 99.55539219416954, 0.6074528, 4.0), (43.72345291753125, 123.46301109324543, 0.6074528, 4.0), (39.38224847585799, 148.08320491855062, 0.6074528, 4.0), (38.50976105829547, 173.067975594028, 0.6074528, 4.0)]\n",
      "Road Instance 5, angle: -17, 25: [(47.999939999999995, 24.969459999999998, 0.6074528, 4.0), (47.99994, 49.96946, 0.6074528, 4.0), (52.341144441673265, 74.58965382530519, 0.6074528, 4.0), (51.032745535599666, 99.55539219416954, 0.6074528, 4.0), (43.72345291753125, 123.46301109324543, 0.6074528, 4.0), (39.38224847585799, 148.08320491855062, 0.6074528, 4.0), (38.50976105829547, 173.067975594028, 0.6074528, 4.0), (44.980237185858485, 197.21612125125472, 0.6074528, 4.0)]\n",
      "finished road generation\n",
      "IndividualToScenario: Function is zigzag_mapping/zigzag_mapping\n",
      "Segment lengths are None\n",
      "Started Road Generation\n",
      "Road Instance 0, angle: -9, 25: [(47.999939999999995, 24.969459999999998, 0.6074528, 4.0), (47.99994, 49.96946, 0.6074528, 4.0), (52.341144441673265, 74.58965382530519, 0.6074528, 4.0)]\n",
      "Road Instance 1, angle: 14, 25: [(47.999939999999995, 24.969459999999998, 0.6074528, 4.0), (47.99994, 49.96946, 0.6074528, 4.0), (52.341144441673265, 74.58965382530519, 0.6074528, 4.0), (51.032745535599666, 99.55539219416954, 0.6074528, 4.0)]\n",
      "Road Instance 2, angle: 14, 25: [(47.999939999999995, 24.969459999999998, 0.6074528, 4.0), (47.99994, 49.96946, 0.6074528, 4.0), (52.341144441673265, 74.58965382530519, 0.6074528, 4.0), (51.032745535599666, 99.55539219416954, 0.6074528, 4.0), (43.72345291753125, 123.46301109324543, 0.6074528, 4.0)]\n",
      "Road Instance 3, angle: 11, 25: [(47.999939999999995, 24.969459999999998, 0.6074528, 4.0), (47.99994, 49.96946, 0.6074528, 4.0), (52.341144441673265, 74.58965382530519, 0.6074528, 4.0), (51.032745535599666, 99.55539219416954, 0.6074528, 4.0), (43.72345291753125, 123.46301109324543, 0.6074528, 4.0), (31.986663847883975, 145.5367009147186, 0.6074528, 4.0)]\n",
      "Road Instance 4, angle: -8, 25: [(47.999939999999995, 24.969459999999998, 0.6074528, 4.0), (47.99994, 49.96946, 0.6074528, 4.0), (52.341144441673265, 74.58965382530519, 0.6074528, 4.0), (51.032745535599666, 99.55539219416954, 0.6074528, 4.0), (43.72345291753125, 123.46301109324543, 0.6074528, 4.0), (31.986663847883975, 145.5367009147186, 0.6074528, 4.0), (23.436160264742256, 169.02901643436633, 0.6074528, 4.0)]\n",
      "Road Instance 5, angle: 10, 25: [(47.999939999999995, 24.969459999999998, 0.6074528, 4.0), (47.99994, 49.96946, 0.6074528, 4.0), (52.341144441673265, 74.58965382530519, 0.6074528, 4.0), (51.032745535599666, 99.55539219416954, 0.6074528, 4.0), (43.72345291753125, 123.46301109324543, 0.6074528, 4.0), (31.986663847883975, 145.5367009147186, 0.6074528, 4.0), (23.436160264742256, 169.02901643436633, 0.6074528, 4.0), (10.93616026474226, 190.6796515289773, 0.6074528, 4.0)]\n",
      "finished road generation\n",
      "IndividualToScenario: Function is zigzag_mapping/zigzag_mapping\n",
      "Segment lengths are None\n",
      "Started Road Generation\n",
      "Road Instance 0, angle: -9, 25: [(47.999939999999995, 24.969459999999998, 0.6074528, 4.0), (47.99994, 49.96946, 0.6074528, 4.0), (52.341144441673265, 74.58965382530519, 0.6074528, 4.0)]\n",
      "Road Instance 1, angle: 14, 25: [(47.999939999999995, 24.969459999999998, 0.6074528, 4.0), (47.99994, 49.96946, 0.6074528, 4.0), (52.341144441673265, 74.58965382530519, 0.6074528, 4.0), (51.032745535599666, 99.55539219416954, 0.6074528, 4.0)]\n",
      "Road Instance 2, angle: 14, 25: [(47.999939999999995, 24.969459999999998, 0.6074528, 4.0), (47.99994, 49.96946, 0.6074528, 4.0), (52.341144441673265, 74.58965382530519, 0.6074528, 4.0), (51.032745535599666, 99.55539219416954, 0.6074528, 4.0), (43.72345291753125, 123.46301109324543, 0.6074528, 4.0)]\n",
      "Road Instance 3, angle: 12, 25: [(47.999939999999995, 24.969459999999998, 0.6074528, 4.0), (47.99994, 49.96946, 0.6074528, 4.0), (52.341144441673265, 74.58965382530519, 0.6074528, 4.0), (51.032745535599666, 99.55539219416954, 0.6074528, 4.0), (43.72345291753125, 123.46301109324543, 0.6074528, 4.0), (31.603212411372823, 145.3285037717303, 0.6074528, 4.0)]\n",
      "Road Instance 4, angle: -8, 25: [(47.999939999999995, 24.969459999999998, 0.6074528, 4.0), (47.99994, 49.96946, 0.6074528, 4.0), (52.341144441673265, 74.58965382530519, 0.6074528, 4.0), (51.032745535599666, 99.55539219416954, 0.6074528, 4.0), (43.72345291753125, 123.46301109324543, 0.6074528, 4.0), (31.603212411372823, 145.3285037717303, 0.6074528, 4.0), (22.644013672740314, 168.66801443416034, 0.6074528, 4.0)]\n",
      "Road Instance 5, angle: 6, 25: [(47.999939999999995, 24.969459999999998, 0.6074528, 4.0), (47.99994, 49.96946, 0.6074528, 4.0), (52.341144441673265, 74.58965382530519, 0.6074528, 4.0), (51.032745535599666, 99.55539219416954, 0.6074528, 4.0), (43.72345291753125, 123.46301109324543, 0.6074528, 4.0), (31.603212411372823, 145.3285037717303, 0.6074528, 4.0), (22.644013672740314, 168.66801443416034, 0.6074528, 4.0), (11.294251179251646, 190.94317753886955, 0.6074528, 4.0)]\n",
      "finished road generation\n",
      "IndividualToScenario: Function is zigzag_mapping/zigzag_mapping\n",
      "----- Finished Perturbation-Controller set up -----\n",
      "INFO:SDSandBoxSimulator:Reset the scenario\n"
     ]
    },
    {
     "name": "stderr",
     "output_type": "stream",
     "text": [
      "2024-01-18 11:48:11,519 INFO     Reset the scenario\n"
     ]
    },
    {
     "name": "stdout",
     "output_type": "stream",
     "text": [
      "fps 17.98\n",
      "fps 19.72\n",
      "fps 19.72\n",
      "fps 19.73\n",
      "fps 19.61\n",
      "SDSandBox: Finished scenario\n",
      "INFO:SDSandBoxSimulator:Reset the scenario\n"
     ]
    },
    {
     "name": "stderr",
     "output_type": "stream",
     "text": [
      "2024-01-18 11:48:41,729 INFO     Reset the scenario\n"
     ]
    },
    {
     "name": "stdout",
     "output_type": "stream",
     "text": [
      "fps 19.69\n",
      "fps 19.73\n",
      "Exception: [Errno 54] Connection reset by peer\n",
      "CRITICAL:DonkeySimMsgHandler:DonkeySimMsgHandler: +++++ Warning: Donkey Sim Aborted +++++\n"
     ]
    },
    {
     "name": "stderr",
     "output_type": "stream",
     "text": [
      "2024-01-18 11:48:50,595 CRITICAL DonkeySimMsgHandler: +++++ Warning: Donkey Sim Aborted +++++\n"
     ]
    },
    {
     "name": "stdout",
     "output_type": "stream",
     "text": [
      "INFO:DonkeySimMsgHandler:DonkeySimMsgHandler: +++++ Warning: Donkey Sim Message Stoped +++++\n"
     ]
    },
    {
     "name": "stderr",
     "output_type": "stream",
     "text": [
      "2024-01-18 11:48:50,598 INFO     DonkeySimMsgHandler: +++++ Warning: Donkey Sim Message Stoped +++++\n"
     ]
    },
    {
     "name": "stdout",
     "output_type": "stream",
     "text": [
      "fps 19.72\n",
      "fps 19.70\n",
      "fps 19.71\n",
      "fps 19.71\n",
      "SDSandBox: Finished scenario\n",
      "fps 19.70\n",
      "INFO:SDSandBoxSimulator:Reset the scenario\n"
     ]
    },
    {
     "name": "stderr",
     "output_type": "stream",
     "text": [
      "2024-01-18 11:49:12,652 INFO     Reset the scenario\n"
     ]
    },
    {
     "name": "stdout",
     "output_type": "stream",
     "text": [
      "fps 19.72\n",
      "fps 19.70\n",
      "fps 19.69\n",
      "fps 19.68\n",
      "fps 19.73\n",
      "fps 19.69\n",
      "SDSandBox: Finished scenario\n",
      "INFO:SDSandBoxSimulator:Reset the scenario\n"
     ]
    },
    {
     "name": "stderr",
     "output_type": "stream",
     "text": [
      "2024-01-18 11:49:46,826 INFO     Reset the scenario\n"
     ]
    },
    {
     "name": "stdout",
     "output_type": "stream",
     "text": [
      "fps 19.69\n",
      "fps 19.78\n",
      "fps 19.72\n",
      "fps 19.73\n",
      "fps 19.70\n",
      "fps 19.71\n",
      "fps 19.70\n",
      "SDSandBox: Finished scenario\n",
      "fps 19.70\n",
      "INFO:SDSandBoxSimulator:Reset the scenario\n"
     ]
    },
    {
     "name": "stderr",
     "output_type": "stream",
     "text": [
      "2024-01-18 11:50:23,989 INFO     Reset the scenario\n"
     ]
    },
    {
     "name": "stdout",
     "output_type": "stream",
     "text": [
      "fps 19.71\n",
      "fps 19.69\n",
      "fps 19.69\n",
      "fps 19.69\n",
      "fps 19.71\n",
      "fps 19.72\n",
      "SDSandBox: Finished scenario\n",
      "fps 19.72\n",
      "INFO:SDSandBoxSimulator:Reset the scenario\n"
     ]
    },
    {
     "name": "stderr",
     "output_type": "stream",
     "text": [
      "2024-01-18 11:50:58,810 INFO     Reset the scenario\n"
     ]
    },
    {
     "name": "stdout",
     "output_type": "stream",
     "text": [
      "fps 19.72\n",
      "fps 17.93\n",
      "fps 19.48\n",
      "fps 19.46\n",
      "fps 19.44\n",
      "fps 19.50\n",
      "SDSandBox: Finished scenario\n",
      "fps 19.43\n",
      "INFO:DonkeySimMsgHandler:DonkeySimMsgHandler: +++++ Warning: Donkey Sim Disconnected +++++\n"
     ]
    },
    {
     "name": "stderr",
     "output_type": "stream",
     "text": [
      "2024-01-18 11:51:35,286 INFO     DonkeySimMsgHandler: +++++ Warning: Donkey Sim Disconnected +++++\n"
     ]
    },
    {
     "name": "stdout",
     "output_type": "stream",
     "text": [
      "INFO:DonkeyProcess:Closing donkey sim subprocess\n"
     ]
    },
    {
     "name": "stderr",
     "output_type": "stream",
     "text": [
      "2024-01-18 11:51:35,289 INFO     Closing donkey sim subprocess\n",
      "2024-01-18 11:51:35,387 INFO     Running evaluation number 23\n"
     ]
    },
    {
     "name": "stdout",
     "output_type": "stream",
     "text": [
      "    22 |      132 |      2 |  0.000000E+00 |             f\n",
      "Using model: generated_dave_v5\n",
      "INFO:DonkeyProcess:This is the launch string /Users/hannesleonhard/Documents/BachelorWInfo/Robustness-SDC/PerturbationDrive/./examples/self_driving_sandbox_donkey/sim/donkey-sim.app/Contents/MacOS/Simulator\n"
     ]
    },
    {
     "name": "stderr",
     "output_type": "stream",
     "text": [
      "2024-01-18 11:51:35,555 INFO     This is the launch string /Users/hannesleonhard/Documents/BachelorWInfo/Robustness-SDC/PerturbationDrive/./examples/self_driving_sandbox_donkey/sim/donkey-sim.app/Contents/MacOS/Simulator\n"
     ]
    },
    {
     "name": "stdout",
     "output_type": "stream",
     "text": [
      "[UnityMemory] Configuration Parameters - Can be set up in boot.config\n",
      "    \"memorysetup-bucket-allocator-granularity=16\"\n",
      "    \"memorysetup-bucket-allocator-bucket-count=8\"\n",
      "    \"memorysetup-bucket-allocator-block-size=4194304\"\n",
      "    \"memorysetup-bucket-allocator-block-count=1\"\n",
      "    \"memorysetup-main-allocator-block-size=16777216\"\n",
      "    \"memorysetup-thread-allocator-block-size=16777216\"\n",
      "    \"memorysetup-gfx-main-allocator-block-size=16777216\"\n",
      "    \"memorysetup-gfx-thread-allocator-block-size=16777216\"\n",
      "    \"memorysetup-cache-allocator-block-size=4194304\"\n",
      "    \"memorysetup-typetree-allocator-block-size=2097152\"\n",
      "    \"memorysetup-profiler-bucket-allocator-granularity=16\"\n",
      "    \"memorysetup-profiler-bucket-allocator-bucket-count=8\"\n",
      "    \"memorysetup-profiler-bucket-allocator-block-size=4194304\"\n",
      "    \"memorysetup-profiler-bucket-allocator-block-count=1\"\n",
      "    \"memorysetup-profiler-allocator-block-size=16777216\"\n",
      "    \"memorysetup-profiler-editor-allocator-block-size=1048576\"\n",
      "    \"memorysetup-temp-allocator-size-main=4194304\"\n",
      "    \"memorysetup-job-temp-allocator-block-size=2097152\"\n",
      "    \"memorysetup-job-temp-allocator-block-size-background=1048576\"\n",
      "    \"memorysetup-job-temp-allocator-reduction-small-platforms=262144\"\n",
      "    \"memorysetup-allocator-temp-initial-block-size-main=262144\"\n",
      "    \"memorysetup-allocator-temp-initial-block-size-worker=262144\"\n",
      "    \"memorysetup-temp-allocator-size-background-worker=32768\"\n",
      "    \"memorysetup-temp-allocator-size-job-worker=262144\"\n",
      "    \"memorysetup-temp-allocator-size-preload-manager=262144\"\n",
      "    \"memorysetup-temp-allocator-size-nav-mesh-worker=65536\"\n",
      "    \"memorysetup-temp-allocator-size-audio-worker=65536\"\n",
      "    \"memorysetup-temp-allocator-size-cloud-worker=32768\"\n",
      "    \"memorysetup-temp-allocator-size-gfx=262144\"\n"
     ]
    }
   ],
   "source": [
    "# set up fitness and criticality functions\n",
    "fitness_function = FitnessFunction(max_xte=2.0)\n",
    "critical_function = Criticality(max_xte=2.0)\n",
    "\n",
    "# use all perturbations for this experiment\n",
    "problem = ADASProblem(\n",
    "    problem_name=\"SDSandbox_Variant1\",\n",
    "    scenario_path=\"\",\n",
    "    xl=[-20, -20, -20, -20, -20, -20, 15, 15, 15, 15, 15, 15, 0, 1],\n",
    "    xu=[20, 20, 20, 20, 20, 20, 35, 35, 35, 35, 35, 35, 4, 49],\n",
    "    simulation_variables=[\n",
    "        \"angle1\",\n",
    "        \"angle2\",\n",
    "        \"angle3\",\n",
    "        \"angle4\",\n",
    "        \"angle5\",\n",
    "        \"angle6\",\n",
    "        \"seg_length1\",\n",
    "        \"seg_length2\",\n",
    "        \"seg_length3\",\n",
    "        \"seg_length4\",\n",
    "        \"seg_length5\",\n",
    "        \"seg_length6\",\n",
    "        \"perturbation_scale\",\n",
    "        \"perturbation_function\",\n",
    "    ],\n",
    "    fitness_function=fitness_function,\n",
    "    critical_function=critical_function,\n",
    "    simulate_function=SDSandBox_OpenSBTWrapper.simulate,\n",
    "    simulation_time=30,\n",
    "    sampling_time=0.25,\n",
    ")\n",
    "log_utils.setup_logging(\"./log.txt\")\n",
    "# Set search configuration\n",
    "config = DefaultSearchConfiguration()\n",
    "config.n_generations = 30\n",
    "config.population_size = 6\n",
    "# Instantiate search algorithm\n",
    "optimizer = NsgaIIOptimizer(problem=problem, config=config)\n",
    "# Run search\n",
    "res = optimizer.run()"
   ]
  },
  {
   "cell_type": "code",
   "execution_count": null,
   "metadata": {},
   "outputs": [],
   "source": []
  }
 ],
 "metadata": {
  "kernelspec": {
   "display_name": "Python 3",
   "language": "python",
   "name": "python3"
  },
  "language_info": {
   "codemirror_mode": {
    "name": "ipython",
    "version": 3
   },
   "file_extension": ".py",
   "mimetype": "text/x-python",
   "name": "python",
   "nbconvert_exporter": "python",
   "pygments_lexer": "ipython3",
   "version": "3.9.18"
  }
 },
 "nbformat": 4,
 "nbformat_minor": 2
}
